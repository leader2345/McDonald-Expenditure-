{
 "cells": [
  {
   "cell_type": "markdown",
   "metadata": {},
   "source": [
    "# The purpose of this project is to obtain insights on my Food expenditure on MacDonald"
   ]
  },
  {
   "cell_type": "code",
   "execution_count": 2,
   "metadata": {},
   "outputs": [],
   "source": [
    "# Common imports\n",
    "import numpy as np\n",
    "import os \n",
    "\n",
    "# To plot pretty figures\n",
    "%matplotlib inline\n",
    "import matplotlib as mpl\n",
    "import matplotlib.pyplot as plt\n",
    "mpl.rc('axes', labelsize=14)\n",
    "mpl.rc('xtick', labelsize=12)\n",
    "mpl.rc('ytick', labelsize=12)\n",
    "\n",
    "# Where to save figures\n",
    "PROJECT_ROOT_DIR = \".\"\n",
    "IMAGES_PATH = os.path.join(\".\", \"images\")\n",
    "\n",
    "def save_fig(fig_id, tight_layout=True, fig_extension=\"png\", resolution=300):\n",
    "    path = os.path.join(IMAGES_PATH, fig_id + \".\" + fig_extension)\n",
    "    print(\"Saving figure\", fig_id)\n",
    "    if tight_layout:\n",
    "        plt.tight_layout()\n",
    "    plt.savefig(path, format=fig_extension, dpi=resolution)\n",
    "    \n",
    "# Ignore useless warnings\n",
    "import warnings\n",
    "warnings.filterwarnings(action=\"ignore\", message=\"^internal gelsd\")"
   ]
  },
  {
   "cell_type": "markdown",
   "metadata": {},
   "source": [
    "# Loading the data"
   ]
  },
  {
   "cell_type": "code",
   "execution_count": 3,
   "metadata": {},
   "outputs": [],
   "source": [
    "# Import libraries\n",
    "import pandas as pd\n",
    "import os"
   ]
  },
  {
   "cell_type": "code",
   "execution_count": 4,
   "metadata": {},
   "outputs": [
    {
     "data": {
      "text/plain": [
       "'D:\\\\TV Shows\\\\Machine Learning and Deep Learning\\\\ML_Projects\\\\My Expenditure'"
      ]
     },
     "execution_count": 4,
     "metadata": {},
     "output_type": "execute_result"
    }
   ],
   "source": [
    "pwd # My Notes: gets the current working directory"
   ]
  },
  {
   "cell_type": "markdown",
   "metadata": {},
   "source": [
    "Load the data"
   ]
  },
  {
   "cell_type": "code",
   "execution_count": 5,
   "metadata": {
    "scrolled": false
   },
   "outputs": [
    {
     "data": {
      "text/html": [
       "<div>\n",
       "<style scoped>\n",
       "    .dataframe tbody tr th:only-of-type {\n",
       "        vertical-align: middle;\n",
       "    }\n",
       "\n",
       "    .dataframe tbody tr th {\n",
       "        vertical-align: top;\n",
       "    }\n",
       "\n",
       "    .dataframe thead th {\n",
       "        text-align: right;\n",
       "    }\n",
       "</style>\n",
       "<table border=\"1\" class=\"dataframe\">\n",
       "  <thead>\n",
       "    <tr style=\"text-align: right;\">\n",
       "      <th></th>\n",
       "      <th>Notes</th>\n",
       "      <th>Amount</th>\n",
       "      <th>Category</th>\n",
       "      <th>Account</th>\n",
       "      <th>Currency</th>\n",
       "      <th>Date</th>\n",
       "      <th>Event</th>\n",
       "      <th>Exclude Report</th>\n",
       "    </tr>\n",
       "    <tr>\n",
       "      <th>ID</th>\n",
       "      <th></th>\n",
       "      <th></th>\n",
       "      <th></th>\n",
       "      <th></th>\n",
       "      <th></th>\n",
       "      <th></th>\n",
       "      <th></th>\n",
       "      <th></th>\n",
       "    </tr>\n",
       "  </thead>\n",
       "  <tbody>\n",
       "    <tr>\n",
       "      <th>4996</th>\n",
       "      <td>Marigold yogurt savings</td>\n",
       "      <td>1.45</td>\n",
       "      <td>Gifts</td>\n",
       "      <td>Main Wallet</td>\n",
       "      <td>SGD</td>\n",
       "      <td>16/05/2020</td>\n",
       "      <td>No</td>\n",
       "      <td>NaN</td>\n",
       "    </tr>\n",
       "    <tr>\n",
       "      <th>4995</th>\n",
       "      <td>Marigold Na Ta Deco yogurt</td>\n",
       "      <td>-2.20</td>\n",
       "      <td>Food &amp; Beverage</td>\n",
       "      <td>Main Wallet</td>\n",
       "      <td>SGD</td>\n",
       "      <td>16/05/2020</td>\n",
       "      <td>No</td>\n",
       "      <td>NaN</td>\n",
       "    </tr>\n",
       "    <tr>\n",
       "      <th>4994</th>\n",
       "      <td>Marigold Mixed Berry yogurt</td>\n",
       "      <td>-2.20</td>\n",
       "      <td>Food &amp; Beverage</td>\n",
       "      <td>Main Wallet</td>\n",
       "      <td>SGD</td>\n",
       "      <td>16/05/2020</td>\n",
       "      <td>No</td>\n",
       "      <td>NaN</td>\n",
       "    </tr>\n",
       "    <tr>\n",
       "      <th>4993</th>\n",
       "      <td>Tong Garden Almond with Banana chip 140g</td>\n",
       "      <td>-4.90</td>\n",
       "      <td>Food &amp; Beverage</td>\n",
       "      <td>Main Wallet</td>\n",
       "      <td>SGD</td>\n",
       "      <td>16/05/2020</td>\n",
       "      <td>No</td>\n",
       "      <td>NaN</td>\n",
       "    </tr>\n",
       "    <tr>\n",
       "      <th>4992</th>\n",
       "      <td>Sunshine White Bread 400g</td>\n",
       "      <td>-2.00</td>\n",
       "      <td>Food &amp; Beverage</td>\n",
       "      <td>Main Wallet</td>\n",
       "      <td>SGD</td>\n",
       "      <td>16/05/2020</td>\n",
       "      <td>No</td>\n",
       "      <td>NaN</td>\n",
       "    </tr>\n",
       "  </tbody>\n",
       "</table>\n",
       "</div>"
      ],
      "text/plain": [
       "                                         Notes  Amount         Category  \\\n",
       "ID                                                                        \n",
       "4996                   Marigold yogurt savings    1.45            Gifts   \n",
       "4995                Marigold Na Ta Deco yogurt   -2.20  Food & Beverage   \n",
       "4994               Marigold Mixed Berry yogurt   -2.20  Food & Beverage   \n",
       "4993  Tong Garden Almond with Banana chip 140g   -4.90  Food & Beverage   \n",
       "4992                 Sunshine White Bread 400g   -2.00  Food & Beverage   \n",
       "\n",
       "          Account Currency        Date Event  Exclude Report  \n",
       "ID                                                            \n",
       "4996  Main Wallet      SGD  16/05/2020    No             NaN  \n",
       "4995  Main Wallet      SGD  16/05/2020    No             NaN  \n",
       "4994  Main Wallet      SGD  16/05/2020    No             NaN  \n",
       "4993  Main Wallet      SGD  16/05/2020    No             NaN  \n",
       "4992  Main Wallet      SGD  16/05/2020    No             NaN  "
      ]
     },
     "execution_count": 5,
     "metadata": {},
     "output_type": "execute_result"
    }
   ],
   "source": [
    "exp_dataset = pd.read_csv(r\"D:\\TV Shows\\Machine Learning and Deep Learning\\ML_Projects\\My Expenditure\\Dataset\\MoneyLover-2020-05-17.csv\", \n",
    "                           sep = \";\",\n",
    "                           names = ['ID', 'Notes', 'Amount', 'Category', 'Account', 'Currency', 'Date', 'Event', 'Exclude Report'],\n",
    "                           index_col='ID',\n",
    "                           header=0)\n",
    "exp_dataset.head()\n",
    "\n",
    "# Laptop: r\"C:\\Users\\Trogg\\Documents\\Python Scripts\\ML_Projects\\My Expenditure\\Dataset\\MoneyLover-2020-05-17.csv\"\n",
    "# Home Computer: D:\\TV Shows\\Machine Learning and Deep Learning\\ML_Projects\\My Expenditure\\Dataset"
   ]
  },
  {
   "cell_type": "markdown",
   "metadata": {},
   "source": [
    "My Notes: Realize that there was loaded incorrectly and had 100+ missing values, had to use the `sep` function to seperate the values in the csv file"
   ]
  },
  {
   "cell_type": "markdown",
   "metadata": {},
   "source": [
    "Extra: Using the `del` function to delete the unnecessary columns"
   ]
  },
  {
   "cell_type": "code",
   "execution_count": 6,
   "metadata": {},
   "outputs": [],
   "source": [
    "# exp_dataset_example_1 = exp_dataset.copy()\n",
    "# del exp_dataset_example_1[\"Account\"]\n",
    "# exp_dataset_example_1.head()"
   ]
  },
  {
   "cell_type": "code",
   "execution_count": 7,
   "metadata": {},
   "outputs": [
    {
     "name": "stdout",
     "output_type": "stream",
     "text": [
      "<class 'pandas.core.frame.DataFrame'>\n",
      "Int64Index: 4985 entries, 4996 to 3551\n",
      "Data columns (total 8 columns):\n",
      " #   Column          Non-Null Count  Dtype  \n",
      "---  ------          --------------  -----  \n",
      " 0   Notes           4983 non-null   object \n",
      " 1   Amount          4985 non-null   float64\n",
      " 2   Category        4985 non-null   object \n",
      " 3   Account         4985 non-null   object \n",
      " 4   Currency        4985 non-null   object \n",
      " 5   Date            4985 non-null   object \n",
      " 6   Event           4985 non-null   object \n",
      " 7   Exclude Report  0 non-null      float64\n",
      "dtypes: float64(2), object(6)\n",
      "memory usage: 350.5+ KB\n"
     ]
    }
   ],
   "source": [
    "exp_dataset.info()"
   ]
  },
  {
   "cell_type": "markdown",
   "metadata": {},
   "source": [
    "Checking for null values"
   ]
  },
  {
   "cell_type": "code",
   "execution_count": 8,
   "metadata": {},
   "outputs": [
    {
     "name": "stdout",
     "output_type": "stream",
     "text": [
      "Number of null values for each column\n"
     ]
    },
    {
     "data": {
      "text/html": [
       "<div>\n",
       "<style scoped>\n",
       "    .dataframe tbody tr th:only-of-type {\n",
       "        vertical-align: middle;\n",
       "    }\n",
       "\n",
       "    .dataframe tbody tr th {\n",
       "        vertical-align: top;\n",
       "    }\n",
       "\n",
       "    .dataframe thead th {\n",
       "        text-align: right;\n",
       "    }\n",
       "</style>\n",
       "<table border=\"1\" class=\"dataframe\">\n",
       "  <thead>\n",
       "    <tr style=\"text-align: right;\">\n",
       "      <th></th>\n",
       "      <th>Null values</th>\n",
       "    </tr>\n",
       "  </thead>\n",
       "  <tbody>\n",
       "    <tr>\n",
       "      <th>Notes</th>\n",
       "      <td>2</td>\n",
       "    </tr>\n",
       "    <tr>\n",
       "      <th>Amount</th>\n",
       "      <td>0</td>\n",
       "    </tr>\n",
       "    <tr>\n",
       "      <th>Category</th>\n",
       "      <td>0</td>\n",
       "    </tr>\n",
       "    <tr>\n",
       "      <th>Account</th>\n",
       "      <td>0</td>\n",
       "    </tr>\n",
       "    <tr>\n",
       "      <th>Currency</th>\n",
       "      <td>0</td>\n",
       "    </tr>\n",
       "    <tr>\n",
       "      <th>Date</th>\n",
       "      <td>0</td>\n",
       "    </tr>\n",
       "    <tr>\n",
       "      <th>Event</th>\n",
       "      <td>0</td>\n",
       "    </tr>\n",
       "    <tr>\n",
       "      <th>Exclude Report</th>\n",
       "      <td>4985</td>\n",
       "    </tr>\n",
       "  </tbody>\n",
       "</table>\n",
       "</div>"
      ],
      "text/plain": [
       "                Null values\n",
       "Notes                     2\n",
       "Amount                    0\n",
       "Category                  0\n",
       "Account                   0\n",
       "Currency                  0\n",
       "Date                      0\n",
       "Event                     0\n",
       "Exclude Report         4985"
      ]
     },
     "execution_count": 8,
     "metadata": {},
     "output_type": "execute_result"
    }
   ],
   "source": [
    "print(\"Number of null values for each column\")\n",
    "pd.DataFrame(exp_dataset.isnull().sum(), columns=[\"Null values\"])"
   ]
  },
  {
   "cell_type": "markdown",
   "metadata": {},
   "source": [
    "# Extra, unnecessary columns, Start"
   ]
  },
  {
   "cell_type": "code",
   "execution_count": 9,
   "metadata": {},
   "outputs": [],
   "source": [
    "# My Notes: Fills missing values with \"Main Wallet\"\n",
    "# exp_dataset[[\"Account\"]].fillna(value=\"Main Wallet\")"
   ]
  },
  {
   "cell_type": "code",
   "execution_count": 10,
   "metadata": {},
   "outputs": [],
   "source": [
    "# My Notes: Checking the missing values of the Account\n",
    "# exp_dataset[[\"Account\"]].isnull().any(axis=1)"
   ]
  },
  {
   "cell_type": "code",
   "execution_count": 11,
   "metadata": {},
   "outputs": [],
   "source": [
    "# exp_dataset[[\"Account\"]]"
   ]
  },
  {
   "cell_type": "markdown",
   "metadata": {},
   "source": [
    "# Extra for now, unnecessary columns, Stop"
   ]
  },
  {
   "cell_type": "markdown",
   "metadata": {},
   "source": [
    "# Getting the most important columns"
   ]
  },
  {
   "cell_type": "code",
   "execution_count": 12,
   "metadata": {},
   "outputs": [
    {
     "data": {
      "text/html": [
       "<div>\n",
       "<style scoped>\n",
       "    .dataframe tbody tr th:only-of-type {\n",
       "        vertical-align: middle;\n",
       "    }\n",
       "\n",
       "    .dataframe tbody tr th {\n",
       "        vertical-align: top;\n",
       "    }\n",
       "\n",
       "    .dataframe thead th {\n",
       "        text-align: right;\n",
       "    }\n",
       "</style>\n",
       "<table border=\"1\" class=\"dataframe\">\n",
       "  <thead>\n",
       "    <tr style=\"text-align: right;\">\n",
       "      <th></th>\n",
       "      <th>Notes</th>\n",
       "      <th>Amount</th>\n",
       "      <th>Category</th>\n",
       "      <th>Date</th>\n",
       "    </tr>\n",
       "    <tr>\n",
       "      <th>ID</th>\n",
       "      <th></th>\n",
       "      <th></th>\n",
       "      <th></th>\n",
       "      <th></th>\n",
       "    </tr>\n",
       "  </thead>\n",
       "  <tbody>\n",
       "    <tr>\n",
       "      <th>4996</th>\n",
       "      <td>Marigold yogurt savings</td>\n",
       "      <td>1.45</td>\n",
       "      <td>Gifts</td>\n",
       "      <td>16/05/2020</td>\n",
       "    </tr>\n",
       "    <tr>\n",
       "      <th>4995</th>\n",
       "      <td>Marigold Na Ta Deco yogurt</td>\n",
       "      <td>-2.20</td>\n",
       "      <td>Food &amp; Beverage</td>\n",
       "      <td>16/05/2020</td>\n",
       "    </tr>\n",
       "    <tr>\n",
       "      <th>4994</th>\n",
       "      <td>Marigold Mixed Berry yogurt</td>\n",
       "      <td>-2.20</td>\n",
       "      <td>Food &amp; Beverage</td>\n",
       "      <td>16/05/2020</td>\n",
       "    </tr>\n",
       "    <tr>\n",
       "      <th>4993</th>\n",
       "      <td>Tong Garden Almond with Banana chip 140g</td>\n",
       "      <td>-4.90</td>\n",
       "      <td>Food &amp; Beverage</td>\n",
       "      <td>16/05/2020</td>\n",
       "    </tr>\n",
       "    <tr>\n",
       "      <th>4992</th>\n",
       "      <td>Sunshine White Bread 400g</td>\n",
       "      <td>-2.00</td>\n",
       "      <td>Food &amp; Beverage</td>\n",
       "      <td>16/05/2020</td>\n",
       "    </tr>\n",
       "  </tbody>\n",
       "</table>\n",
       "</div>"
      ],
      "text/plain": [
       "                                         Notes  Amount         Category  \\\n",
       "ID                                                                        \n",
       "4996                   Marigold yogurt savings    1.45            Gifts   \n",
       "4995                Marigold Na Ta Deco yogurt   -2.20  Food & Beverage   \n",
       "4994               Marigold Mixed Berry yogurt   -2.20  Food & Beverage   \n",
       "4993  Tong Garden Almond with Banana chip 140g   -4.90  Food & Beverage   \n",
       "4992                 Sunshine White Bread 400g   -2.00  Food & Beverage   \n",
       "\n",
       "            Date  \n",
       "ID                \n",
       "4996  16/05/2020  \n",
       "4995  16/05/2020  \n",
       "4994  16/05/2020  \n",
       "4993  16/05/2020  \n",
       "4992  16/05/2020  "
      ]
     },
     "execution_count": 12,
     "metadata": {},
     "output_type": "execute_result"
    }
   ],
   "source": [
    "# new_exp_data = exp_dataset[[\"Food\", \"Amount\", \"Category\", \"Date\"]]\n",
    "exp_data_1 = pd.DataFrame(exp_dataset, columns=[\"Notes\", \"Amount\", \"Category\", \"Date\"])\n",
    "exp_data_1.head()"
   ]
  },
  {
   "cell_type": "code",
   "execution_count": 13,
   "metadata": {},
   "outputs": [
    {
     "name": "stdout",
     "output_type": "stream",
     "text": [
      "<class 'pandas.core.frame.DataFrame'>\n",
      "Int64Index: 4985 entries, 4996 to 3551\n",
      "Data columns (total 4 columns):\n",
      " #   Column    Non-Null Count  Dtype  \n",
      "---  ------    --------------  -----  \n",
      " 0   Notes     4983 non-null   object \n",
      " 1   Amount    4985 non-null   float64\n",
      " 2   Category  4985 non-null   object \n",
      " 3   Date      4985 non-null   object \n",
      "dtypes: float64(1), object(3)\n",
      "memory usage: 194.7+ KB\n"
     ]
    }
   ],
   "source": [
    "exp_data_1.info()"
   ]
  },
  {
   "cell_type": "markdown",
   "metadata": {},
   "source": [
    "Counts the number of rows in each `Category` and shows the top 5"
   ]
  },
  {
   "cell_type": "code",
   "execution_count": 14,
   "metadata": {},
   "outputs": [
    {
     "data": {
      "text/plain": [
       "Food & Beverage    3631\n",
       "Investment          529\n",
       "Gifts               199\n",
       "Transportation       95\n",
       "Entertainment        87\n",
       "Name: Category, dtype: int64"
      ]
     },
     "execution_count": 14,
     "metadata": {},
     "output_type": "execute_result"
    }
   ],
   "source": [
    "exp_data_1[\"Category\"].value_counts()[:5]"
   ]
  },
  {
   "cell_type": "markdown",
   "metadata": {},
   "source": [
    "Checking for empty values"
   ]
  },
  {
   "cell_type": "code",
   "execution_count": 15,
   "metadata": {},
   "outputs": [
    {
     "data": {
      "text/plain": [
       "Notes       2\n",
       "Amount      0\n",
       "Category    0\n",
       "Date        0\n",
       "dtype: int64"
      ]
     },
     "execution_count": 15,
     "metadata": {},
     "output_type": "execute_result"
    }
   ],
   "source": [
    "exp_data_1.isnull().sum()"
   ]
  },
  {
   "cell_type": "markdown",
   "metadata": {},
   "source": [
    "Getting the rows of the empty values in *Notes* category"
   ]
  },
  {
   "cell_type": "code",
   "execution_count": 16,
   "metadata": {},
   "outputs": [
    {
     "data": {
      "text/plain": [
       "array([[False, False, False, False],\n",
       "       [False, False, False, False],\n",
       "       [False, False, False, False],\n",
       "       ...,\n",
       "       [False, False, False, False],\n",
       "       [False, False, False, False],\n",
       "       [False, False, False, False]])"
      ]
     },
     "execution_count": 16,
     "metadata": {},
     "output_type": "execute_result"
    }
   ],
   "source": [
    "exp_data_1.isnull().values"
   ]
  },
  {
   "cell_type": "code",
   "execution_count": 17,
   "metadata": {},
   "outputs": [
    {
     "data": {
      "text/html": [
       "<div>\n",
       "<style scoped>\n",
       "    .dataframe tbody tr th:only-of-type {\n",
       "        vertical-align: middle;\n",
       "    }\n",
       "\n",
       "    .dataframe tbody tr th {\n",
       "        vertical-align: top;\n",
       "    }\n",
       "\n",
       "    .dataframe thead th {\n",
       "        text-align: right;\n",
       "    }\n",
       "</style>\n",
       "<table border=\"1\" class=\"dataframe\">\n",
       "  <thead>\n",
       "    <tr style=\"text-align: right;\">\n",
       "      <th></th>\n",
       "      <th>Notes</th>\n",
       "      <th>Amount</th>\n",
       "      <th>Category</th>\n",
       "      <th>Date</th>\n",
       "    </tr>\n",
       "    <tr>\n",
       "      <th>ID</th>\n",
       "      <th></th>\n",
       "      <th></th>\n",
       "      <th></th>\n",
       "      <th></th>\n",
       "    </tr>\n",
       "  </thead>\n",
       "  <tbody>\n",
       "    <tr>\n",
       "      <th>2891</th>\n",
       "      <td>NaN</td>\n",
       "      <td>-45.00</td>\n",
       "      <td>Driving Lessons</td>\n",
       "      <td>23/03/2015</td>\n",
       "    </tr>\n",
       "    <tr>\n",
       "      <th>3077</th>\n",
       "      <td>NaN</td>\n",
       "      <td>268.21</td>\n",
       "      <td>Salary</td>\n",
       "      <td>10/12/2014</td>\n",
       "    </tr>\n",
       "  </tbody>\n",
       "</table>\n",
       "</div>"
      ],
      "text/plain": [
       "     Notes  Amount         Category        Date\n",
       "ID                                             \n",
       "2891   NaN  -45.00  Driving Lessons  23/03/2015\n",
       "3077   NaN  268.21           Salary  10/12/2014"
      ]
     },
     "execution_count": 17,
     "metadata": {},
     "output_type": "execute_result"
    }
   ],
   "source": [
    "exp_data_1[exp_data_1.isnull().values.any(axis=1)]\n",
    "# Alternative\n",
    "# sample_incomplete_rows = exp_data_1[exp_data_1.isnull().any(axis=1)].head()"
   ]
  },
  {
   "cell_type": "markdown",
   "metadata": {},
   "source": [
    "My Notes: It's not related to Food & Beverage so I'll ignore it.\n",
    "\n",
    ".values turns the **DataFrame into an array**"
   ]
  },
  {
   "cell_type": "markdown",
   "metadata": {},
   "source": [
    "Need to get the **Food & Beverage Category only**"
   ]
  },
  {
   "cell_type": "code",
   "execution_count": 18,
   "metadata": {},
   "outputs": [
    {
     "data": {
      "text/html": [
       "<div>\n",
       "<style scoped>\n",
       "    .dataframe tbody tr th:only-of-type {\n",
       "        vertical-align: middle;\n",
       "    }\n",
       "\n",
       "    .dataframe tbody tr th {\n",
       "        vertical-align: top;\n",
       "    }\n",
       "\n",
       "    .dataframe thead th {\n",
       "        text-align: right;\n",
       "    }\n",
       "</style>\n",
       "<table border=\"1\" class=\"dataframe\">\n",
       "  <thead>\n",
       "    <tr style=\"text-align: right;\">\n",
       "      <th></th>\n",
       "      <th>Notes</th>\n",
       "      <th>Amount</th>\n",
       "      <th>Category</th>\n",
       "      <th>Date</th>\n",
       "    </tr>\n",
       "    <tr>\n",
       "      <th>ID</th>\n",
       "      <th></th>\n",
       "      <th></th>\n",
       "      <th></th>\n",
       "      <th></th>\n",
       "    </tr>\n",
       "  </thead>\n",
       "  <tbody>\n",
       "    <tr>\n",
       "      <th>4995</th>\n",
       "      <td>Marigold Na Ta Deco yogurt</td>\n",
       "      <td>-2.20</td>\n",
       "      <td>Food &amp; Beverage</td>\n",
       "      <td>16/05/2020</td>\n",
       "    </tr>\n",
       "    <tr>\n",
       "      <th>4994</th>\n",
       "      <td>Marigold Mixed Berry yogurt</td>\n",
       "      <td>-2.20</td>\n",
       "      <td>Food &amp; Beverage</td>\n",
       "      <td>16/05/2020</td>\n",
       "    </tr>\n",
       "    <tr>\n",
       "      <th>4993</th>\n",
       "      <td>Tong Garden Almond with Banana chip 140g</td>\n",
       "      <td>-4.90</td>\n",
       "      <td>Food &amp; Beverage</td>\n",
       "      <td>16/05/2020</td>\n",
       "    </tr>\n",
       "    <tr>\n",
       "      <th>4992</th>\n",
       "      <td>Sunshine White Bread 400g</td>\n",
       "      <td>-2.00</td>\n",
       "      <td>Food &amp; Beverage</td>\n",
       "      <td>16/05/2020</td>\n",
       "    </tr>\n",
       "    <tr>\n",
       "      <th>4991</th>\n",
       "      <td>Stadia chicken patty 320g</td>\n",
       "      <td>-4.85</td>\n",
       "      <td>Food &amp; Beverage</td>\n",
       "      <td>16/05/2020</td>\n",
       "    </tr>\n",
       "    <tr>\n",
       "      <th>4990</th>\n",
       "      <td>Nscafe Hazelnut Coffee</td>\n",
       "      <td>-6.95</td>\n",
       "      <td>Food &amp; Beverage</td>\n",
       "      <td>16/05/2020</td>\n",
       "    </tr>\n",
       "    <tr>\n",
       "      <th>4989</th>\n",
       "      <td>D-plus Hokkaido bun</td>\n",
       "      <td>-1.30</td>\n",
       "      <td>Food &amp; Beverage</td>\n",
       "      <td>16/05/2020</td>\n",
       "    </tr>\n",
       "    <tr>\n",
       "      <th>4988</th>\n",
       "      <td>D-plus Hokkaido bun</td>\n",
       "      <td>-1.30</td>\n",
       "      <td>Food &amp; Beverage</td>\n",
       "      <td>16/05/2020</td>\n",
       "    </tr>\n",
       "    <tr>\n",
       "      <th>4987</th>\n",
       "      <td>Crunchy first baby butterhead lettuce 160g</td>\n",
       "      <td>-2.85</td>\n",
       "      <td>Food &amp; Beverage</td>\n",
       "      <td>16/05/2020</td>\n",
       "    </tr>\n",
       "    <tr>\n",
       "      <th>4986</th>\n",
       "      <td>Yew tee square kopitiam Malay Food rice with b...</td>\n",
       "      <td>-5.50</td>\n",
       "      <td>Food &amp; Beverage</td>\n",
       "      <td>15/05/2020</td>\n",
       "    </tr>\n",
       "  </tbody>\n",
       "</table>\n",
       "</div>"
      ],
      "text/plain": [
       "                                                  Notes  Amount  \\\n",
       "ID                                                                \n",
       "4995                         Marigold Na Ta Deco yogurt   -2.20   \n",
       "4994                        Marigold Mixed Berry yogurt   -2.20   \n",
       "4993           Tong Garden Almond with Banana chip 140g   -4.90   \n",
       "4992                          Sunshine White Bread 400g   -2.00   \n",
       "4991                          Stadia chicken patty 320g   -4.85   \n",
       "4990                             Nscafe Hazelnut Coffee   -6.95   \n",
       "4989                                D-plus Hokkaido bun   -1.30   \n",
       "4988                                D-plus Hokkaido bun   -1.30   \n",
       "4987         Crunchy first baby butterhead lettuce 160g   -2.85   \n",
       "4986  Yew tee square kopitiam Malay Food rice with b...   -5.50   \n",
       "\n",
       "             Category        Date  \n",
       "ID                                 \n",
       "4995  Food & Beverage  16/05/2020  \n",
       "4994  Food & Beverage  16/05/2020  \n",
       "4993  Food & Beverage  16/05/2020  \n",
       "4992  Food & Beverage  16/05/2020  \n",
       "4991  Food & Beverage  16/05/2020  \n",
       "4990  Food & Beverage  16/05/2020  \n",
       "4989  Food & Beverage  16/05/2020  \n",
       "4988  Food & Beverage  16/05/2020  \n",
       "4987  Food & Beverage  16/05/2020  \n",
       "4986  Food & Beverage  15/05/2020  "
      ]
     },
     "execution_count": 18,
     "metadata": {},
     "output_type": "execute_result"
    }
   ],
   "source": [
    "F_and_B = exp_data_1[\"Category\"] == \"Food & Beverage\"\n",
    "exp_data_1 = exp_data_1[F_and_B]\n",
    "exp_data_1.head(10)"
   ]
  },
  {
   "cell_type": "markdown",
   "metadata": {},
   "source": [
    "Alternative Method"
   ]
  },
  {
   "cell_type": "code",
   "execution_count": 19,
   "metadata": {},
   "outputs": [],
   "source": [
    "# F_and_B = \"Food & Beverage\"\n",
    "# exp_data_1.query(\"Category == @F_and_B\")"
   ]
  },
  {
   "cell_type": "markdown",
   "metadata": {},
   "source": [
    "Checking for empty values"
   ]
  },
  {
   "cell_type": "code",
   "execution_count": 20,
   "metadata": {},
   "outputs": [
    {
     "name": "stdout",
     "output_type": "stream",
     "text": [
      "<class 'pandas.core.frame.DataFrame'>\n",
      "Int64Index: 3631 entries, 4995 to 3546\n",
      "Data columns (total 4 columns):\n",
      " #   Column    Non-Null Count  Dtype  \n",
      "---  ------    --------------  -----  \n",
      " 0   Notes     3631 non-null   object \n",
      " 1   Amount    3631 non-null   float64\n",
      " 2   Category  3631 non-null   object \n",
      " 3   Date      3631 non-null   object \n",
      "dtypes: float64(1), object(3)\n",
      "memory usage: 141.8+ KB\n"
     ]
    }
   ],
   "source": [
    "# My Notes:\n",
    "# pd.DataFrame(exp_data_1.stack(), columns=[\"Info\"]).head(n=20)\n",
    "exp_data_1.info()"
   ]
  },
  {
   "cell_type": "code",
   "execution_count": 21,
   "metadata": {},
   "outputs": [
    {
     "data": {
      "text/plain": [
       "Notes       0\n",
       "Amount      0\n",
       "Category    0\n",
       "Date        0\n",
       "dtype: int64"
      ]
     },
     "execution_count": 21,
     "metadata": {},
     "output_type": "execute_result"
    }
   ],
   "source": [
    "exp_data_1.isnull().sum()\n",
    "\n",
    "# My Notes: No empty values found"
   ]
  },
  {
   "cell_type": "code",
   "execution_count": 22,
   "metadata": {},
   "outputs": [
    {
     "data": {
      "text/plain": [
       "count                           3631\n",
       "unique                          1152\n",
       "top       Marigold Na Ta Deco yogurt\n",
       "freq                             128\n",
       "Name: Notes, dtype: object"
      ]
     },
     "execution_count": 22,
     "metadata": {},
     "output_type": "execute_result"
    }
   ],
   "source": [
    "exp_data_1[\"Notes\"].describe()"
   ]
  },
  {
   "cell_type": "markdown",
   "metadata": {},
   "source": [
    "Convet the negative values in Amount Category to positive using `abs` function"
   ]
  },
  {
   "cell_type": "code",
   "execution_count": 23,
   "metadata": {},
   "outputs": [
    {
     "data": {
      "text/html": [
       "<div>\n",
       "<style scoped>\n",
       "    .dataframe tbody tr th:only-of-type {\n",
       "        vertical-align: middle;\n",
       "    }\n",
       "\n",
       "    .dataframe tbody tr th {\n",
       "        vertical-align: top;\n",
       "    }\n",
       "\n",
       "    .dataframe thead th {\n",
       "        text-align: right;\n",
       "    }\n",
       "</style>\n",
       "<table border=\"1\" class=\"dataframe\">\n",
       "  <thead>\n",
       "    <tr style=\"text-align: right;\">\n",
       "      <th></th>\n",
       "      <th>Notes</th>\n",
       "      <th>Amount</th>\n",
       "      <th>Category</th>\n",
       "      <th>Date</th>\n",
       "    </tr>\n",
       "    <tr>\n",
       "      <th>ID</th>\n",
       "      <th></th>\n",
       "      <th></th>\n",
       "      <th></th>\n",
       "      <th></th>\n",
       "    </tr>\n",
       "  </thead>\n",
       "  <tbody>\n",
       "    <tr>\n",
       "      <th>4995</th>\n",
       "      <td>Marigold Na Ta Deco yogurt</td>\n",
       "      <td>2.20</td>\n",
       "      <td>Food &amp; Beverage</td>\n",
       "      <td>16/05/2020</td>\n",
       "    </tr>\n",
       "    <tr>\n",
       "      <th>4994</th>\n",
       "      <td>Marigold Mixed Berry yogurt</td>\n",
       "      <td>2.20</td>\n",
       "      <td>Food &amp; Beverage</td>\n",
       "      <td>16/05/2020</td>\n",
       "    </tr>\n",
       "    <tr>\n",
       "      <th>4993</th>\n",
       "      <td>Tong Garden Almond with Banana chip 140g</td>\n",
       "      <td>4.90</td>\n",
       "      <td>Food &amp; Beverage</td>\n",
       "      <td>16/05/2020</td>\n",
       "    </tr>\n",
       "    <tr>\n",
       "      <th>4992</th>\n",
       "      <td>Sunshine White Bread 400g</td>\n",
       "      <td>2.00</td>\n",
       "      <td>Food &amp; Beverage</td>\n",
       "      <td>16/05/2020</td>\n",
       "    </tr>\n",
       "    <tr>\n",
       "      <th>4991</th>\n",
       "      <td>Stadia chicken patty 320g</td>\n",
       "      <td>4.85</td>\n",
       "      <td>Food &amp; Beverage</td>\n",
       "      <td>16/05/2020</td>\n",
       "    </tr>\n",
       "    <tr>\n",
       "      <th>...</th>\n",
       "      <td>...</td>\n",
       "      <td>...</td>\n",
       "      <td>...</td>\n",
       "      <td>...</td>\n",
       "    </tr>\n",
       "    <tr>\n",
       "      <th>3540</th>\n",
       "      <td>Kinder Buneo</td>\n",
       "      <td>3.60</td>\n",
       "      <td>Food &amp; Beverage</td>\n",
       "      <td>12/04/2014</td>\n",
       "    </tr>\n",
       "    <tr>\n",
       "      <th>3550</th>\n",
       "      <td>Yogurt drink</td>\n",
       "      <td>1.35</td>\n",
       "      <td>Food &amp; Beverage</td>\n",
       "      <td>10/04/2014</td>\n",
       "    </tr>\n",
       "    <tr>\n",
       "      <th>3549</th>\n",
       "      <td>Baked Almond</td>\n",
       "      <td>2.50</td>\n",
       "      <td>Food &amp; Beverage</td>\n",
       "      <td>10/04/2014</td>\n",
       "    </tr>\n",
       "    <tr>\n",
       "      <th>3548</th>\n",
       "      <td>Yogurt</td>\n",
       "      <td>1.75</td>\n",
       "      <td>Food &amp; Beverage</td>\n",
       "      <td>10/04/2014</td>\n",
       "    </tr>\n",
       "    <tr>\n",
       "      <th>3546</th>\n",
       "      <td>Chicken rice</td>\n",
       "      <td>3.50</td>\n",
       "      <td>Food &amp; Beverage</td>\n",
       "      <td>10/04/2014</td>\n",
       "    </tr>\n",
       "  </tbody>\n",
       "</table>\n",
       "<p>3631 rows × 4 columns</p>\n",
       "</div>"
      ],
      "text/plain": [
       "                                         Notes  Amount         Category  \\\n",
       "ID                                                                        \n",
       "4995                Marigold Na Ta Deco yogurt    2.20  Food & Beverage   \n",
       "4994               Marigold Mixed Berry yogurt    2.20  Food & Beverage   \n",
       "4993  Tong Garden Almond with Banana chip 140g    4.90  Food & Beverage   \n",
       "4992                 Sunshine White Bread 400g    2.00  Food & Beverage   \n",
       "4991                 Stadia chicken patty 320g    4.85  Food & Beverage   \n",
       "...                                        ...     ...              ...   \n",
       "3540                              Kinder Buneo    3.60  Food & Beverage   \n",
       "3550                              Yogurt drink    1.35  Food & Beverage   \n",
       "3549                              Baked Almond    2.50  Food & Beverage   \n",
       "3548                                    Yogurt    1.75  Food & Beverage   \n",
       "3546                              Chicken rice    3.50  Food & Beverage   \n",
       "\n",
       "            Date  \n",
       "ID                \n",
       "4995  16/05/2020  \n",
       "4994  16/05/2020  \n",
       "4993  16/05/2020  \n",
       "4992  16/05/2020  \n",
       "4991  16/05/2020  \n",
       "...          ...  \n",
       "3540  12/04/2014  \n",
       "3550  10/04/2014  \n",
       "3549  10/04/2014  \n",
       "3548  10/04/2014  \n",
       "3546  10/04/2014  \n",
       "\n",
       "[3631 rows x 4 columns]"
      ]
     },
     "execution_count": 23,
     "metadata": {},
     "output_type": "execute_result"
    }
   ],
   "source": [
    "exp_data_1[\"Amount\"] = exp_data_1[\"Amount\"].abs()\n",
    "exp_data_1"
   ]
  },
  {
   "cell_type": "markdown",
   "metadata": {},
   "source": [
    "# Getting the Date time"
   ]
  },
  {
   "cell_type": "markdown",
   "metadata": {},
   "source": [
    "Getting only the column of category `date`. Note that the `dtype` is an object not **`datetime64[ns]`**"
   ]
  },
  {
   "cell_type": "code",
   "execution_count": 24,
   "metadata": {},
   "outputs": [
    {
     "data": {
      "text/plain": [
       "ID\n",
       "4995    16/05/2020\n",
       "4994    16/05/2020\n",
       "4993    16/05/2020\n",
       "4992    16/05/2020\n",
       "4991    16/05/2020\n",
       "           ...    \n",
       "3540    12/04/2014\n",
       "3550    10/04/2014\n",
       "3549    10/04/2014\n",
       "3548    10/04/2014\n",
       "3546    10/04/2014\n",
       "Name: Date, Length: 3631, dtype: object"
      ]
     },
     "execution_count": 24,
     "metadata": {},
     "output_type": "execute_result"
    }
   ],
   "source": [
    "exp_data_1[\"Date\"]"
   ]
  },
  {
   "cell_type": "markdown",
   "metadata": {},
   "source": [
    "Getting the first and last dates and converting it to `datetime64[ns]` format"
   ]
  },
  {
   "cell_type": "markdown",
   "metadata": {},
   "source": [
    "**Please Note**: The reason the length is showing 2229 instead of 3631 is because the duplicate values are not shown compared to `exp_data_1[\"Date\"]`\n",
    "\n",
    "You are specifying the *date range* not adding the values to the column [\"Date\"] in `exp_data_1`"
   ]
  },
  {
   "cell_type": "code",
   "execution_count": 25,
   "metadata": {},
   "outputs": [
    {
     "name": "stdout",
     "output_type": "stream",
     "text": [
      "First Date: 2014-04-10 00:00:00\n",
      "Last Date: 2020-05-16 00:00:00\n"
     ]
    }
   ],
   "source": [
    "# First_Date = pd.to_datetime(exp_data_1[\"Date\"].iloc[-1], format=\"%d/%m/%Y\") #Alternative\n",
    "First_Date = pd.to_datetime(exp_data_1[\"Date\"], dayfirst=True).iloc[-1]\n",
    "Last_Date = pd.to_datetime(exp_data_1[\"Date\"], dayfirst=True).iloc[0]\n",
    "print(\"First Date:\",First_Date)\n",
    "print(\"Last Date:\", Last_Date)\n",
    "\n",
    "# print(\"Length of rows:\",len(pd.date_range(start=First_Date, end=Last_Date, freq=\"D\")))\n",
    "# print(\"First date:\", First_Date_Eg)\n",
    "# print(\"Last date:\", Last_Date_Eg)"
   ]
  },
  {
   "cell_type": "markdown",
   "metadata": {},
   "source": [
    "## Creating the Quarterly Periods column"
   ]
  },
  {
   "cell_type": "markdown",
   "metadata": {},
   "source": [
    "## Alternative Start"
   ]
  },
  {
   "cell_type": "code",
   "execution_count": 26,
   "metadata": {},
   "outputs": [],
   "source": [
    "# Exp_Quarterly = pd.date_range(start=First_Date, end=Last_Date, freq=\"Q\")\n",
    "# Exp_Q = pd.DataFrame(Exp_Quarterly, columns=[\"Period\"])\n",
    "# Exp_Q.head()"
   ]
  },
  {
   "cell_type": "code",
   "execution_count": 27,
   "metadata": {},
   "outputs": [],
   "source": [
    "# Exp_Q.loc[0]"
   ]
  },
  {
   "cell_type": "code",
   "execution_count": 28,
   "metadata": {},
   "outputs": [],
   "source": [
    "# Total_Rows = Exp_Q[\"Period\"].value_counts().sum()\n",
    "# Total_Rows"
   ]
  },
  {
   "cell_type": "code",
   "execution_count": 29,
   "metadata": {},
   "outputs": [],
   "source": [
    "# Exp_Q.loc[0] < Exp_Q.loc[1]"
   ]
  },
  {
   "cell_type": "markdown",
   "metadata": {},
   "source": [
    "## Alternative End"
   ]
  },
  {
   "cell_type": "markdown",
   "metadata": {},
   "source": [
    "Converting the date category in exp_data_1 from **Object to DateTime** "
   ]
  },
  {
   "cell_type": "code",
   "execution_count": 30,
   "metadata": {},
   "outputs": [
    {
     "data": {
      "text/plain": [
       "ID\n",
       "4995   2020-05-16\n",
       "4994   2020-05-16\n",
       "4993   2020-05-16\n",
       "4992   2020-05-16\n",
       "4991   2020-05-16\n",
       "          ...    \n",
       "3540   2014-04-12\n",
       "3550   2014-04-10\n",
       "3549   2014-04-10\n",
       "3548   2014-04-10\n",
       "3546   2014-04-10\n",
       "Name: Date, Length: 3631, dtype: datetime64[ns]"
      ]
     },
     "execution_count": 30,
     "metadata": {},
     "output_type": "execute_result"
    }
   ],
   "source": [
    "All_Date = pd.to_datetime(exp_data_1[\"Date\"], dayfirst=True)\n",
    "All_Date"
   ]
  },
  {
   "cell_type": "markdown",
   "metadata": {},
   "source": [
    "Add the converted All_Date to Date column in exp_data_1"
   ]
  },
  {
   "cell_type": "code",
   "execution_count": 31,
   "metadata": {},
   "outputs": [
    {
     "data": {
      "text/html": [
       "<div>\n",
       "<style scoped>\n",
       "    .dataframe tbody tr th:only-of-type {\n",
       "        vertical-align: middle;\n",
       "    }\n",
       "\n",
       "    .dataframe tbody tr th {\n",
       "        vertical-align: top;\n",
       "    }\n",
       "\n",
       "    .dataframe thead th {\n",
       "        text-align: right;\n",
       "    }\n",
       "</style>\n",
       "<table border=\"1\" class=\"dataframe\">\n",
       "  <thead>\n",
       "    <tr style=\"text-align: right;\">\n",
       "      <th></th>\n",
       "      <th>Notes</th>\n",
       "      <th>Amount</th>\n",
       "      <th>Category</th>\n",
       "      <th>Date</th>\n",
       "    </tr>\n",
       "    <tr>\n",
       "      <th>ID</th>\n",
       "      <th></th>\n",
       "      <th></th>\n",
       "      <th></th>\n",
       "      <th></th>\n",
       "    </tr>\n",
       "  </thead>\n",
       "  <tbody>\n",
       "    <tr>\n",
       "      <th>4995</th>\n",
       "      <td>Marigold Na Ta Deco yogurt</td>\n",
       "      <td>2.20</td>\n",
       "      <td>Food &amp; Beverage</td>\n",
       "      <td>2020-05-16</td>\n",
       "    </tr>\n",
       "    <tr>\n",
       "      <th>4994</th>\n",
       "      <td>Marigold Mixed Berry yogurt</td>\n",
       "      <td>2.20</td>\n",
       "      <td>Food &amp; Beverage</td>\n",
       "      <td>2020-05-16</td>\n",
       "    </tr>\n",
       "    <tr>\n",
       "      <th>4993</th>\n",
       "      <td>Tong Garden Almond with Banana chip 140g</td>\n",
       "      <td>4.90</td>\n",
       "      <td>Food &amp; Beverage</td>\n",
       "      <td>2020-05-16</td>\n",
       "    </tr>\n",
       "    <tr>\n",
       "      <th>4992</th>\n",
       "      <td>Sunshine White Bread 400g</td>\n",
       "      <td>2.00</td>\n",
       "      <td>Food &amp; Beverage</td>\n",
       "      <td>2020-05-16</td>\n",
       "    </tr>\n",
       "    <tr>\n",
       "      <th>4991</th>\n",
       "      <td>Stadia chicken patty 320g</td>\n",
       "      <td>4.85</td>\n",
       "      <td>Food &amp; Beverage</td>\n",
       "      <td>2020-05-16</td>\n",
       "    </tr>\n",
       "    <tr>\n",
       "      <th>...</th>\n",
       "      <td>...</td>\n",
       "      <td>...</td>\n",
       "      <td>...</td>\n",
       "      <td>...</td>\n",
       "    </tr>\n",
       "    <tr>\n",
       "      <th>3540</th>\n",
       "      <td>Kinder Buneo</td>\n",
       "      <td>3.60</td>\n",
       "      <td>Food &amp; Beverage</td>\n",
       "      <td>2014-04-12</td>\n",
       "    </tr>\n",
       "    <tr>\n",
       "      <th>3550</th>\n",
       "      <td>Yogurt drink</td>\n",
       "      <td>1.35</td>\n",
       "      <td>Food &amp; Beverage</td>\n",
       "      <td>2014-04-10</td>\n",
       "    </tr>\n",
       "    <tr>\n",
       "      <th>3549</th>\n",
       "      <td>Baked Almond</td>\n",
       "      <td>2.50</td>\n",
       "      <td>Food &amp; Beverage</td>\n",
       "      <td>2014-04-10</td>\n",
       "    </tr>\n",
       "    <tr>\n",
       "      <th>3548</th>\n",
       "      <td>Yogurt</td>\n",
       "      <td>1.75</td>\n",
       "      <td>Food &amp; Beverage</td>\n",
       "      <td>2014-04-10</td>\n",
       "    </tr>\n",
       "    <tr>\n",
       "      <th>3546</th>\n",
       "      <td>Chicken rice</td>\n",
       "      <td>3.50</td>\n",
       "      <td>Food &amp; Beverage</td>\n",
       "      <td>2014-04-10</td>\n",
       "    </tr>\n",
       "  </tbody>\n",
       "</table>\n",
       "<p>3631 rows × 4 columns</p>\n",
       "</div>"
      ],
      "text/plain": [
       "                                         Notes  Amount         Category  \\\n",
       "ID                                                                        \n",
       "4995                Marigold Na Ta Deco yogurt    2.20  Food & Beverage   \n",
       "4994               Marigold Mixed Berry yogurt    2.20  Food & Beverage   \n",
       "4993  Tong Garden Almond with Banana chip 140g    4.90  Food & Beverage   \n",
       "4992                 Sunshine White Bread 400g    2.00  Food & Beverage   \n",
       "4991                 Stadia chicken patty 320g    4.85  Food & Beverage   \n",
       "...                                        ...     ...              ...   \n",
       "3540                              Kinder Buneo    3.60  Food & Beverage   \n",
       "3550                              Yogurt drink    1.35  Food & Beverage   \n",
       "3549                              Baked Almond    2.50  Food & Beverage   \n",
       "3548                                    Yogurt    1.75  Food & Beverage   \n",
       "3546                              Chicken rice    3.50  Food & Beverage   \n",
       "\n",
       "           Date  \n",
       "ID               \n",
       "4995 2020-05-16  \n",
       "4994 2020-05-16  \n",
       "4993 2020-05-16  \n",
       "4992 2020-05-16  \n",
       "4991 2020-05-16  \n",
       "...         ...  \n",
       "3540 2014-04-12  \n",
       "3550 2014-04-10  \n",
       "3549 2014-04-10  \n",
       "3548 2014-04-10  \n",
       "3546 2014-04-10  \n",
       "\n",
       "[3631 rows x 4 columns]"
      ]
     },
     "execution_count": 31,
     "metadata": {},
     "output_type": "execute_result"
    }
   ],
   "source": [
    "exp_data_1[\"Date\"] = All_Date\n",
    "exp_data_1"
   ]
  },
  {
   "cell_type": "markdown",
   "metadata": {},
   "source": [
    "## Creating the Quarterly, Monthly and Daily period columns"
   ]
  },
  {
   "cell_type": "markdown",
   "metadata": {},
   "source": [
    "## For Quarterly"
   ]
  },
  {
   "cell_type": "code",
   "execution_count": 32,
   "metadata": {},
   "outputs": [
    {
     "data": {
      "text/plain": [
       "ID\n",
       "4995    2020Q2\n",
       "4994    2020Q2\n",
       "4993    2020Q2\n",
       "4992    2020Q2\n",
       "4991    2020Q2\n",
       "         ...  \n",
       "3540    2014Q2\n",
       "3550    2014Q2\n",
       "3549    2014Q2\n",
       "3548    2014Q2\n",
       "3546    2014Q2\n",
       "Name: Date, Length: 3631, dtype: period[Q-DEC]"
      ]
     },
     "execution_count": 32,
     "metadata": {},
     "output_type": "execute_result"
    }
   ],
   "source": [
    "exp_data_1_date = exp_data_1.copy()\n",
    "exp_date_quarterly = exp_data_1_date[\"Date\"].dt.to_period(\"Q\")\n",
    "exp_date_quarterly"
   ]
  },
  {
   "cell_type": "code",
   "execution_count": 33,
   "metadata": {},
   "outputs": [
    {
     "data": {
      "text/plain": [
       "<PeriodArray>\n",
       "['2020Q2', '2020Q1', '2019Q4', '2019Q3', '2019Q2', '2019Q1', '2018Q4',\n",
       " '2018Q3', '2018Q2', '2018Q1', '2017Q4', '2017Q3', '2017Q2', '2017Q1',\n",
       " '2016Q4', '2016Q3', '2016Q2', '2016Q1', '2015Q4', '2015Q3', '2015Q2',\n",
       " '2015Q1', '2014Q4', '2014Q3', '2014Q2']\n",
       "Length: 25, dtype: period[Q-DEC]"
      ]
     },
     "execution_count": 33,
     "metadata": {},
     "output_type": "execute_result"
    }
   ],
   "source": [
    "exp_date_quarterly.unique()"
   ]
  },
  {
   "cell_type": "markdown",
   "metadata": {},
   "source": [
    "## For monthly"
   ]
  },
  {
   "cell_type": "code",
   "execution_count": 34,
   "metadata": {},
   "outputs": [
    {
     "data": {
      "text/plain": [
       "array([ 1,  2,  3,  4,  5,  6,  7,  8,  9, 10, 11, 12], dtype=int64)"
      ]
     },
     "execution_count": 34,
     "metadata": {},
     "output_type": "execute_result"
    }
   ],
   "source": [
    "exp_date_monthly = exp_data_1_date[\"Date\"].dt.month\n",
    "np.sort(pd.unique(exp_date_monthly))"
   ]
  },
  {
   "cell_type": "code",
   "execution_count": 35,
   "metadata": {},
   "outputs": [
    {
     "data": {
      "text/plain": [
       "ID\n",
       "4995    5\n",
       "4994    5\n",
       "4993    5\n",
       "4992    5\n",
       "4991    5\n",
       "       ..\n",
       "3540    4\n",
       "3550    4\n",
       "3549    4\n",
       "3548    4\n",
       "3546    4\n",
       "Name: Date, Length: 3631, dtype: int64"
      ]
     },
     "execution_count": 35,
     "metadata": {},
     "output_type": "execute_result"
    }
   ],
   "source": [
    "exp_date_monthly"
   ]
  },
  {
   "cell_type": "markdown",
   "metadata": {},
   "source": [
    "Check for duplicate values"
   ]
  },
  {
   "cell_type": "code",
   "execution_count": 36,
   "metadata": {},
   "outputs": [
    {
     "data": {
      "text/plain": [
       "ID\n",
       "4995    5\n",
       "4994    5\n",
       "4993    5\n",
       "4992    5\n",
       "4991    5\n",
       "       ..\n",
       "3540    4\n",
       "3550    4\n",
       "3549    4\n",
       "3548    4\n",
       "3546    4\n",
       "Name: Date, Length: 3631, dtype: int64"
      ]
     },
     "execution_count": 36,
     "metadata": {},
     "output_type": "execute_result"
    }
   ],
   "source": [
    "exp_date_monthly[exp_date_monthly.duplicated(keep=False)]"
   ]
  },
  {
   "cell_type": "markdown",
   "metadata": {},
   "source": [
    "Converting the int to their month names"
   ]
  },
  {
   "cell_type": "code",
   "execution_count": 37,
   "metadata": {},
   "outputs": [
    {
     "data": {
      "text/plain": [
       "array(['May', 'May', 'May', ..., 'April', 'April', 'April'], dtype=object)"
      ]
     },
     "execution_count": 37,
     "metadata": {},
     "output_type": "execute_result"
    }
   ],
   "source": [
    "month_names = All_Date.dt.month_name().values\n",
    "month_names"
   ]
  },
  {
   "cell_type": "markdown",
   "metadata": {},
   "source": [
    "## For each day"
   ]
  },
  {
   "cell_type": "markdown",
   "metadata": {},
   "source": [
    "Converting the `array` to `series` and getting the `day of the week`"
   ]
  },
  {
   "cell_type": "code",
   "execution_count": 38,
   "metadata": {},
   "outputs": [
    {
     "data": {
      "text/plain": [
       "ID\n",
       "4995    6\n",
       "4994    6\n",
       "4993    6\n",
       "4992    6\n",
       "4991    6\n",
       "       ..\n",
       "3540    6\n",
       "3550    4\n",
       "3549    4\n",
       "3548    4\n",
       "3546    4\n",
       "Name: Date, Length: 3631, dtype: int64"
      ]
     },
     "execution_count": 38,
     "metadata": {},
     "output_type": "execute_result"
    }
   ],
   "source": [
    "exp_date_days_1 = exp_data_1_date[\"Date\"].dt.dayofweek + 1\n",
    "exp_date_days_1\n",
    "# print(\"Number of days:\",len(exp_date_days_1))"
   ]
  },
  {
   "cell_type": "code",
   "execution_count": 39,
   "metadata": {},
   "outputs": [
    {
     "data": {
      "text/plain": [
       "array([1, 2, 3, 4, 5, 6, 7], dtype=int64)"
      ]
     },
     "execution_count": 39,
     "metadata": {},
     "output_type": "execute_result"
    }
   ],
   "source": [
    "np.sort(pd.unique(exp_date_days_1))"
   ]
  },
  {
   "cell_type": "markdown",
   "metadata": {},
   "source": [
    "Mon: 1\n",
    "\n",
    "Tue: 2\n",
    "\n",
    "Wed: 3\n",
    "\n",
    "Thu: 4\n",
    "\n",
    "Fri: 5\n",
    "\n",
    "Sat: 6\n",
    "\n",
    "Sun: 7"
   ]
  },
  {
   "cell_type": "markdown",
   "metadata": {},
   "source": [
    "## Creating the Yearly Column"
   ]
  },
  {
   "cell_type": "code",
   "execution_count": 40,
   "metadata": {},
   "outputs": [
    {
     "data": {
      "text/plain": [
       "ID\n",
       "4995    2020\n",
       "4994    2020\n",
       "4993    2020\n",
       "4992    2020\n",
       "4991    2020\n",
       "        ... \n",
       "3540    2014\n",
       "3550    2014\n",
       "3549    2014\n",
       "3548    2014\n",
       "3546    2014\n",
       "Name: Date, Length: 3631, dtype: int64"
      ]
     },
     "execution_count": 40,
     "metadata": {},
     "output_type": "execute_result"
    }
   ],
   "source": [
    "exp_date_yearly = exp_data_1_date[\"Date\"].dt.year\n",
    "exp_date_yearly"
   ]
  },
  {
   "cell_type": "code",
   "execution_count": 41,
   "metadata": {},
   "outputs": [],
   "source": [
    "# My Notes: Gets the months name\n",
    "# exp_date_test_monthly = exp_data_1_date_test[\"Date\"].dt.month_name()"
   ]
  },
  {
   "cell_type": "code",
   "execution_count": 42,
   "metadata": {},
   "outputs": [],
   "source": [
    "# My Notes: Delete the incorrectly named column\n",
    "# del exp_data_1[\"Quartery Period\"]"
   ]
  },
  {
   "cell_type": "markdown",
   "metadata": {},
   "source": [
    "## Alternative Start"
   ]
  },
  {
   "cell_type": "markdown",
   "metadata": {},
   "source": [
    "Converting `exp_date_monthly` column to String"
   ]
  },
  {
   "cell_type": "code",
   "execution_count": 43,
   "metadata": {},
   "outputs": [],
   "source": [
    "# Q_Period_Str = pd.DataFrame(data=exp_date_quarterly, dtype=np.str)\n",
    "# Q_Period_Str[\"Date\"]"
   ]
  },
  {
   "cell_type": "markdown",
   "metadata": {},
   "source": [
    "Adding exp_date_test back into exp_data_1 date columns as Quarterly Period"
   ]
  },
  {
   "cell_type": "code",
   "execution_count": 44,
   "metadata": {
    "scrolled": false
   },
   "outputs": [],
   "source": [
    "# exp_data_1[\"Quarterly Period\"] = Q_Period_Str[\"Date\"]\n",
    "# exp_data_1"
   ]
  },
  {
   "cell_type": "markdown",
   "metadata": {},
   "source": [
    "## Alternative End"
   ]
  },
  {
   "cell_type": "markdown",
   "metadata": {},
   "source": [
    "## Insert the Days and the month column"
   ]
  },
  {
   "cell_type": "markdown",
   "metadata": {},
   "source": [
    "Delete the columns if necessary"
   ]
  },
  {
   "cell_type": "code",
   "execution_count": 45,
   "metadata": {},
   "outputs": [],
   "source": [
    "# del exp_data_1[\"Month\"]\n",
    "# del exp_data_1[\"Day\"]"
   ]
  },
  {
   "cell_type": "code",
   "execution_count": 46,
   "metadata": {},
   "outputs": [],
   "source": [
    "exp_data_1.insert(3, \"Day\", exp_date_days_1)"
   ]
  },
  {
   "cell_type": "code",
   "execution_count": 47,
   "metadata": {},
   "outputs": [],
   "source": [
    "exp_data_1.insert(4, \"Month\", exp_date_monthly)"
   ]
  },
  {
   "cell_type": "code",
   "execution_count": 48,
   "metadata": {},
   "outputs": [],
   "source": [
    "exp_data_1.insert(5, \"Quarterly Period\", exp_date_quarterly)"
   ]
  },
  {
   "cell_type": "code",
   "execution_count": 49,
   "metadata": {},
   "outputs": [],
   "source": [
    "exp_data_1.insert(6, \"Year\", exp_date_yearly)"
   ]
  },
  {
   "cell_type": "code",
   "execution_count": 50,
   "metadata": {
    "scrolled": false
   },
   "outputs": [
    {
     "data": {
      "text/html": [
       "<div>\n",
       "<style scoped>\n",
       "    .dataframe tbody tr th:only-of-type {\n",
       "        vertical-align: middle;\n",
       "    }\n",
       "\n",
       "    .dataframe tbody tr th {\n",
       "        vertical-align: top;\n",
       "    }\n",
       "\n",
       "    .dataframe thead th {\n",
       "        text-align: right;\n",
       "    }\n",
       "</style>\n",
       "<table border=\"1\" class=\"dataframe\">\n",
       "  <thead>\n",
       "    <tr style=\"text-align: right;\">\n",
       "      <th></th>\n",
       "      <th>Notes</th>\n",
       "      <th>Amount</th>\n",
       "      <th>Category</th>\n",
       "      <th>Day</th>\n",
       "      <th>Month</th>\n",
       "      <th>Quarterly Period</th>\n",
       "      <th>Year</th>\n",
       "      <th>Date</th>\n",
       "    </tr>\n",
       "    <tr>\n",
       "      <th>ID</th>\n",
       "      <th></th>\n",
       "      <th></th>\n",
       "      <th></th>\n",
       "      <th></th>\n",
       "      <th></th>\n",
       "      <th></th>\n",
       "      <th></th>\n",
       "      <th></th>\n",
       "    </tr>\n",
       "  </thead>\n",
       "  <tbody>\n",
       "    <tr>\n",
       "      <th>4995</th>\n",
       "      <td>Marigold Na Ta Deco yogurt</td>\n",
       "      <td>2.20</td>\n",
       "      <td>Food &amp; Beverage</td>\n",
       "      <td>6</td>\n",
       "      <td>5</td>\n",
       "      <td>2020Q2</td>\n",
       "      <td>2020</td>\n",
       "      <td>2020-05-16</td>\n",
       "    </tr>\n",
       "    <tr>\n",
       "      <th>4994</th>\n",
       "      <td>Marigold Mixed Berry yogurt</td>\n",
       "      <td>2.20</td>\n",
       "      <td>Food &amp; Beverage</td>\n",
       "      <td>6</td>\n",
       "      <td>5</td>\n",
       "      <td>2020Q2</td>\n",
       "      <td>2020</td>\n",
       "      <td>2020-05-16</td>\n",
       "    </tr>\n",
       "    <tr>\n",
       "      <th>4993</th>\n",
       "      <td>Tong Garden Almond with Banana chip 140g</td>\n",
       "      <td>4.90</td>\n",
       "      <td>Food &amp; Beverage</td>\n",
       "      <td>6</td>\n",
       "      <td>5</td>\n",
       "      <td>2020Q2</td>\n",
       "      <td>2020</td>\n",
       "      <td>2020-05-16</td>\n",
       "    </tr>\n",
       "    <tr>\n",
       "      <th>4992</th>\n",
       "      <td>Sunshine White Bread 400g</td>\n",
       "      <td>2.00</td>\n",
       "      <td>Food &amp; Beverage</td>\n",
       "      <td>6</td>\n",
       "      <td>5</td>\n",
       "      <td>2020Q2</td>\n",
       "      <td>2020</td>\n",
       "      <td>2020-05-16</td>\n",
       "    </tr>\n",
       "    <tr>\n",
       "      <th>4991</th>\n",
       "      <td>Stadia chicken patty 320g</td>\n",
       "      <td>4.85</td>\n",
       "      <td>Food &amp; Beverage</td>\n",
       "      <td>6</td>\n",
       "      <td>5</td>\n",
       "      <td>2020Q2</td>\n",
       "      <td>2020</td>\n",
       "      <td>2020-05-16</td>\n",
       "    </tr>\n",
       "    <tr>\n",
       "      <th>...</th>\n",
       "      <td>...</td>\n",
       "      <td>...</td>\n",
       "      <td>...</td>\n",
       "      <td>...</td>\n",
       "      <td>...</td>\n",
       "      <td>...</td>\n",
       "      <td>...</td>\n",
       "      <td>...</td>\n",
       "    </tr>\n",
       "    <tr>\n",
       "      <th>3540</th>\n",
       "      <td>Kinder Buneo</td>\n",
       "      <td>3.60</td>\n",
       "      <td>Food &amp; Beverage</td>\n",
       "      <td>6</td>\n",
       "      <td>4</td>\n",
       "      <td>2014Q2</td>\n",
       "      <td>2014</td>\n",
       "      <td>2014-04-12</td>\n",
       "    </tr>\n",
       "    <tr>\n",
       "      <th>3550</th>\n",
       "      <td>Yogurt drink</td>\n",
       "      <td>1.35</td>\n",
       "      <td>Food &amp; Beverage</td>\n",
       "      <td>4</td>\n",
       "      <td>4</td>\n",
       "      <td>2014Q2</td>\n",
       "      <td>2014</td>\n",
       "      <td>2014-04-10</td>\n",
       "    </tr>\n",
       "    <tr>\n",
       "      <th>3549</th>\n",
       "      <td>Baked Almond</td>\n",
       "      <td>2.50</td>\n",
       "      <td>Food &amp; Beverage</td>\n",
       "      <td>4</td>\n",
       "      <td>4</td>\n",
       "      <td>2014Q2</td>\n",
       "      <td>2014</td>\n",
       "      <td>2014-04-10</td>\n",
       "    </tr>\n",
       "    <tr>\n",
       "      <th>3548</th>\n",
       "      <td>Yogurt</td>\n",
       "      <td>1.75</td>\n",
       "      <td>Food &amp; Beverage</td>\n",
       "      <td>4</td>\n",
       "      <td>4</td>\n",
       "      <td>2014Q2</td>\n",
       "      <td>2014</td>\n",
       "      <td>2014-04-10</td>\n",
       "    </tr>\n",
       "    <tr>\n",
       "      <th>3546</th>\n",
       "      <td>Chicken rice</td>\n",
       "      <td>3.50</td>\n",
       "      <td>Food &amp; Beverage</td>\n",
       "      <td>4</td>\n",
       "      <td>4</td>\n",
       "      <td>2014Q2</td>\n",
       "      <td>2014</td>\n",
       "      <td>2014-04-10</td>\n",
       "    </tr>\n",
       "  </tbody>\n",
       "</table>\n",
       "<p>3631 rows × 8 columns</p>\n",
       "</div>"
      ],
      "text/plain": [
       "                                         Notes  Amount         Category  Day  \\\n",
       "ID                                                                             \n",
       "4995                Marigold Na Ta Deco yogurt    2.20  Food & Beverage    6   \n",
       "4994               Marigold Mixed Berry yogurt    2.20  Food & Beverage    6   \n",
       "4993  Tong Garden Almond with Banana chip 140g    4.90  Food & Beverage    6   \n",
       "4992                 Sunshine White Bread 400g    2.00  Food & Beverage    6   \n",
       "4991                 Stadia chicken patty 320g    4.85  Food & Beverage    6   \n",
       "...                                        ...     ...              ...  ...   \n",
       "3540                              Kinder Buneo    3.60  Food & Beverage    6   \n",
       "3550                              Yogurt drink    1.35  Food & Beverage    4   \n",
       "3549                              Baked Almond    2.50  Food & Beverage    4   \n",
       "3548                                    Yogurt    1.75  Food & Beverage    4   \n",
       "3546                              Chicken rice    3.50  Food & Beverage    4   \n",
       "\n",
       "      Month Quarterly Period  Year       Date  \n",
       "ID                                             \n",
       "4995      5           2020Q2  2020 2020-05-16  \n",
       "4994      5           2020Q2  2020 2020-05-16  \n",
       "4993      5           2020Q2  2020 2020-05-16  \n",
       "4992      5           2020Q2  2020 2020-05-16  \n",
       "4991      5           2020Q2  2020 2020-05-16  \n",
       "...     ...              ...   ...        ...  \n",
       "3540      4           2014Q2  2014 2014-04-12  \n",
       "3550      4           2014Q2  2014 2014-04-10  \n",
       "3549      4           2014Q2  2014 2014-04-10  \n",
       "3548      4           2014Q2  2014 2014-04-10  \n",
       "3546      4           2014Q2  2014 2014-04-10  \n",
       "\n",
       "[3631 rows x 8 columns]"
      ]
     },
     "execution_count": 50,
     "metadata": {},
     "output_type": "execute_result"
    }
   ],
   "source": [
    "exp_data_1"
   ]
  },
  {
   "cell_type": "markdown",
   "metadata": {},
   "source": [
    "Deleting `Category`, will create a new category"
   ]
  },
  {
   "cell_type": "code",
   "execution_count": 51,
   "metadata": {},
   "outputs": [],
   "source": [
    "# del exp_data_1[\"Category\"]"
   ]
  },
  {
   "cell_type": "code",
   "execution_count": 52,
   "metadata": {},
   "outputs": [
    {
     "data": {
      "text/html": [
       "<div>\n",
       "<style scoped>\n",
       "    .dataframe tbody tr th:only-of-type {\n",
       "        vertical-align: middle;\n",
       "    }\n",
       "\n",
       "    .dataframe tbody tr th {\n",
       "        vertical-align: top;\n",
       "    }\n",
       "\n",
       "    .dataframe thead th {\n",
       "        text-align: right;\n",
       "    }\n",
       "</style>\n",
       "<table border=\"1\" class=\"dataframe\">\n",
       "  <thead>\n",
       "    <tr style=\"text-align: right;\">\n",
       "      <th></th>\n",
       "      <th>Notes</th>\n",
       "      <th>Amount</th>\n",
       "      <th>Category</th>\n",
       "      <th>Day</th>\n",
       "      <th>Month</th>\n",
       "      <th>Quarterly Period</th>\n",
       "      <th>Year</th>\n",
       "      <th>Date</th>\n",
       "    </tr>\n",
       "    <tr>\n",
       "      <th>ID</th>\n",
       "      <th></th>\n",
       "      <th></th>\n",
       "      <th></th>\n",
       "      <th></th>\n",
       "      <th></th>\n",
       "      <th></th>\n",
       "      <th></th>\n",
       "      <th></th>\n",
       "    </tr>\n",
       "  </thead>\n",
       "  <tbody>\n",
       "    <tr>\n",
       "      <th>4995</th>\n",
       "      <td>Marigold Na Ta Deco yogurt</td>\n",
       "      <td>2.20</td>\n",
       "      <td>Food &amp; Beverage</td>\n",
       "      <td>6</td>\n",
       "      <td>5</td>\n",
       "      <td>2020Q2</td>\n",
       "      <td>2020</td>\n",
       "      <td>2020-05-16</td>\n",
       "    </tr>\n",
       "    <tr>\n",
       "      <th>4994</th>\n",
       "      <td>Marigold Mixed Berry yogurt</td>\n",
       "      <td>2.20</td>\n",
       "      <td>Food &amp; Beverage</td>\n",
       "      <td>6</td>\n",
       "      <td>5</td>\n",
       "      <td>2020Q2</td>\n",
       "      <td>2020</td>\n",
       "      <td>2020-05-16</td>\n",
       "    </tr>\n",
       "    <tr>\n",
       "      <th>4993</th>\n",
       "      <td>Tong Garden Almond with Banana chip 140g</td>\n",
       "      <td>4.90</td>\n",
       "      <td>Food &amp; Beverage</td>\n",
       "      <td>6</td>\n",
       "      <td>5</td>\n",
       "      <td>2020Q2</td>\n",
       "      <td>2020</td>\n",
       "      <td>2020-05-16</td>\n",
       "    </tr>\n",
       "    <tr>\n",
       "      <th>4992</th>\n",
       "      <td>Sunshine White Bread 400g</td>\n",
       "      <td>2.00</td>\n",
       "      <td>Food &amp; Beverage</td>\n",
       "      <td>6</td>\n",
       "      <td>5</td>\n",
       "      <td>2020Q2</td>\n",
       "      <td>2020</td>\n",
       "      <td>2020-05-16</td>\n",
       "    </tr>\n",
       "    <tr>\n",
       "      <th>4991</th>\n",
       "      <td>Stadia chicken patty 320g</td>\n",
       "      <td>4.85</td>\n",
       "      <td>Food &amp; Beverage</td>\n",
       "      <td>6</td>\n",
       "      <td>5</td>\n",
       "      <td>2020Q2</td>\n",
       "      <td>2020</td>\n",
       "      <td>2020-05-16</td>\n",
       "    </tr>\n",
       "  </tbody>\n",
       "</table>\n",
       "</div>"
      ],
      "text/plain": [
       "                                         Notes  Amount         Category  Day  \\\n",
       "ID                                                                             \n",
       "4995                Marigold Na Ta Deco yogurt    2.20  Food & Beverage    6   \n",
       "4994               Marigold Mixed Berry yogurt    2.20  Food & Beverage    6   \n",
       "4993  Tong Garden Almond with Banana chip 140g    4.90  Food & Beverage    6   \n",
       "4992                 Sunshine White Bread 400g    2.00  Food & Beverage    6   \n",
       "4991                 Stadia chicken patty 320g    4.85  Food & Beverage    6   \n",
       "\n",
       "      Month Quarterly Period  Year       Date  \n",
       "ID                                             \n",
       "4995      5           2020Q2  2020 2020-05-16  \n",
       "4994      5           2020Q2  2020 2020-05-16  \n",
       "4993      5           2020Q2  2020 2020-05-16  \n",
       "4992      5           2020Q2  2020 2020-05-16  \n",
       "4991      5           2020Q2  2020 2020-05-16  "
      ]
     },
     "execution_count": 52,
     "metadata": {},
     "output_type": "execute_result"
    }
   ],
   "source": [
    "exp_data_1.head()"
   ]
  },
  {
   "cell_type": "markdown",
   "metadata": {},
   "source": [
    "## (Extra) Moving the Quarterly Period column "
   ]
  },
  {
   "cell_type": "code",
   "execution_count": 53,
   "metadata": {},
   "outputs": [],
   "source": [
    "# Q_Period_col = exp_data_1.pop(\"Quarterly Period\")\n",
    "# Q_Period_col"
   ]
  },
  {
   "cell_type": "code",
   "execution_count": 54,
   "metadata": {},
   "outputs": [],
   "source": [
    "# exp_data_1.insert(5, \"Quarterly Period\", Q_Period_col)\n",
    "# exp_data_1"
   ]
  },
  {
   "cell_type": "markdown",
   "metadata": {},
   "source": [
    "Rename the column name"
   ]
  },
  {
   "cell_type": "code",
   "execution_count": 55,
   "metadata": {},
   "outputs": [],
   "source": [
    "# exp_data_1.rename(columns={\"Month\":\"Monthly\"}, inplace=True)"
   ]
  },
  {
   "cell_type": "code",
   "execution_count": 56,
   "metadata": {},
   "outputs": [],
   "source": [
    "# exp_data_1"
   ]
  },
  {
   "cell_type": "code",
   "execution_count": null,
   "metadata": {},
   "outputs": [],
   "source": []
  },
  {
   "cell_type": "markdown",
   "metadata": {},
   "source": [
    "# Getting the McDonald's Food"
   ]
  },
  {
   "cell_type": "markdown",
   "metadata": {},
   "source": [
    "Objective: Predict the `Month` amount you'll spend in the future"
   ]
  },
  {
   "cell_type": "code",
   "execution_count": 57,
   "metadata": {
    "scrolled": false
   },
   "outputs": [
    {
     "data": {
      "text/html": [
       "<div>\n",
       "<style scoped>\n",
       "    .dataframe tbody tr th:only-of-type {\n",
       "        vertical-align: middle;\n",
       "    }\n",
       "\n",
       "    .dataframe tbody tr th {\n",
       "        vertical-align: top;\n",
       "    }\n",
       "\n",
       "    .dataframe thead th {\n",
       "        text-align: right;\n",
       "    }\n",
       "</style>\n",
       "<table border=\"1\" class=\"dataframe\">\n",
       "  <thead>\n",
       "    <tr style=\"text-align: right;\">\n",
       "      <th></th>\n",
       "      <th>Notes</th>\n",
       "      <th>Amount</th>\n",
       "      <th>Category</th>\n",
       "      <th>Day</th>\n",
       "      <th>Month</th>\n",
       "      <th>Quarterly Period</th>\n",
       "      <th>Year</th>\n",
       "      <th>Date</th>\n",
       "    </tr>\n",
       "    <tr>\n",
       "      <th>ID</th>\n",
       "      <th></th>\n",
       "      <th></th>\n",
       "      <th></th>\n",
       "      <th></th>\n",
       "      <th></th>\n",
       "      <th></th>\n",
       "      <th></th>\n",
       "      <th></th>\n",
       "    </tr>\n",
       "  </thead>\n",
       "  <tbody>\n",
       "    <tr>\n",
       "      <th>19</th>\n",
       "      <td>McDonald's Filet O Fish Burger</td>\n",
       "      <td>2.80</td>\n",
       "      <td>Food &amp; Beverage</td>\n",
       "      <td>5</td>\n",
       "      <td>4</td>\n",
       "      <td>2019Q2</td>\n",
       "      <td>2019</td>\n",
       "      <td>2019-04-12</td>\n",
       "    </tr>\n",
       "    <tr>\n",
       "      <th>21</th>\n",
       "      <td>McDonald's McChicken Burger</td>\n",
       "      <td>2.00</td>\n",
       "      <td>Food &amp; Beverage</td>\n",
       "      <td>4</td>\n",
       "      <td>4</td>\n",
       "      <td>2019Q2</td>\n",
       "      <td>2019</td>\n",
       "      <td>2019-04-11</td>\n",
       "    </tr>\n",
       "    <tr>\n",
       "      <th>34</th>\n",
       "      <td>McDonald's cheese burger</td>\n",
       "      <td>2.30</td>\n",
       "      <td>Food &amp; Beverage</td>\n",
       "      <td>1</td>\n",
       "      <td>4</td>\n",
       "      <td>2019Q2</td>\n",
       "      <td>2019</td>\n",
       "      <td>2019-04-08</td>\n",
       "    </tr>\n",
       "    <tr>\n",
       "      <th>51</th>\n",
       "      <td>McDonald's sweet chili fish burger</td>\n",
       "      <td>6.00</td>\n",
       "      <td>Food &amp; Beverage</td>\n",
       "      <td>5</td>\n",
       "      <td>4</td>\n",
       "      <td>2019Q2</td>\n",
       "      <td>2019</td>\n",
       "      <td>2019-04-05</td>\n",
       "    </tr>\n",
       "    <tr>\n",
       "      <th>52</th>\n",
       "      <td>McDonald's small fries</td>\n",
       "      <td>1.50</td>\n",
       "      <td>Food &amp; Beverage</td>\n",
       "      <td>5</td>\n",
       "      <td>4</td>\n",
       "      <td>2019Q2</td>\n",
       "      <td>2019</td>\n",
       "      <td>2019-04-05</td>\n",
       "    </tr>\n",
       "    <tr>\n",
       "      <th>...</th>\n",
       "      <td>...</td>\n",
       "      <td>...</td>\n",
       "      <td>...</td>\n",
       "      <td>...</td>\n",
       "      <td>...</td>\n",
       "      <td>...</td>\n",
       "      <td>...</td>\n",
       "      <td>...</td>\n",
       "    </tr>\n",
       "    <tr>\n",
       "      <th>4806</th>\n",
       "      <td>McDonald's double cheese Burger</td>\n",
       "      <td>3.90</td>\n",
       "      <td>Food &amp; Beverage</td>\n",
       "      <td>3</td>\n",
       "      <td>3</td>\n",
       "      <td>2020Q1</td>\n",
       "      <td>2020</td>\n",
       "      <td>2020-03-25</td>\n",
       "    </tr>\n",
       "    <tr>\n",
       "      <th>4828</th>\n",
       "      <td>McDonald's sausage egg McGriddle</td>\n",
       "      <td>3.50</td>\n",
       "      <td>Food &amp; Beverage</td>\n",
       "      <td>2</td>\n",
       "      <td>3</td>\n",
       "      <td>2020Q1</td>\n",
       "      <td>2020</td>\n",
       "      <td>2020-03-31</td>\n",
       "    </tr>\n",
       "    <tr>\n",
       "      <th>4844</th>\n",
       "      <td>McDonald's Filet O Fish Burger</td>\n",
       "      <td>2.00</td>\n",
       "      <td>Food &amp; Beverage</td>\n",
       "      <td>7</td>\n",
       "      <td>4</td>\n",
       "      <td>2020Q2</td>\n",
       "      <td>2020</td>\n",
       "      <td>2020-04-05</td>\n",
       "    </tr>\n",
       "    <tr>\n",
       "      <th>4868</th>\n",
       "      <td>McDonald's sausage egg McGriddle</td>\n",
       "      <td>3.50</td>\n",
       "      <td>Food &amp; Beverage</td>\n",
       "      <td>1</td>\n",
       "      <td>4</td>\n",
       "      <td>2020Q2</td>\n",
       "      <td>2020</td>\n",
       "      <td>2020-04-13</td>\n",
       "    </tr>\n",
       "    <tr>\n",
       "      <th>4972</th>\n",
       "      <td>McDonald's breakfast wrap sausage</td>\n",
       "      <td>4.65</td>\n",
       "      <td>Food &amp; Beverage</td>\n",
       "      <td>2</td>\n",
       "      <td>5</td>\n",
       "      <td>2020Q2</td>\n",
       "      <td>2020</td>\n",
       "      <td>2020-05-12</td>\n",
       "    </tr>\n",
       "  </tbody>\n",
       "</table>\n",
       "<p>223 rows × 8 columns</p>\n",
       "</div>"
      ],
      "text/plain": [
       "                                   Notes  Amount         Category  Day  Month  \\\n",
       "ID                                                                              \n",
       "19        McDonald's Filet O Fish Burger    2.80  Food & Beverage    5      4   \n",
       "21           McDonald's McChicken Burger    2.00  Food & Beverage    4      4   \n",
       "34              McDonald's cheese burger    2.30  Food & Beverage    1      4   \n",
       "51    McDonald's sweet chili fish burger    6.00  Food & Beverage    5      4   \n",
       "52                McDonald's small fries    1.50  Food & Beverage    5      4   \n",
       "...                                  ...     ...              ...  ...    ...   \n",
       "4806     McDonald's double cheese Burger    3.90  Food & Beverage    3      3   \n",
       "4828    McDonald's sausage egg McGriddle    3.50  Food & Beverage    2      3   \n",
       "4844      McDonald's Filet O Fish Burger    2.00  Food & Beverage    7      4   \n",
       "4868    McDonald's sausage egg McGriddle    3.50  Food & Beverage    1      4   \n",
       "4972   McDonald's breakfast wrap sausage    4.65  Food & Beverage    2      5   \n",
       "\n",
       "     Quarterly Period  Year       Date  \n",
       "ID                                      \n",
       "19             2019Q2  2019 2019-04-12  \n",
       "21             2019Q2  2019 2019-04-11  \n",
       "34             2019Q2  2019 2019-04-08  \n",
       "51             2019Q2  2019 2019-04-05  \n",
       "52             2019Q2  2019 2019-04-05  \n",
       "...               ...   ...        ...  \n",
       "4806           2020Q1  2020 2020-03-25  \n",
       "4828           2020Q1  2020 2020-03-31  \n",
       "4844           2020Q2  2020 2020-04-05  \n",
       "4868           2020Q2  2020 2020-04-13  \n",
       "4972           2020Q2  2020 2020-05-12  \n",
       "\n",
       "[223 rows x 8 columns]"
      ]
     },
     "execution_count": 57,
     "metadata": {},
     "output_type": "execute_result"
    }
   ],
   "source": [
    "McDonald_Exp = exp_data_1[exp_data_1[\"Notes\"].str.contains(\"McDonald\", case=False, regex=False)]\n",
    "McDonald_Exp.sort_index()"
   ]
  },
  {
   "cell_type": "code",
   "execution_count": 58,
   "metadata": {},
   "outputs": [
    {
     "name": "stdout",
     "output_type": "stream",
     "text": [
      "Number of rows in McDonald_Exp: 223\n"
     ]
    }
   ],
   "source": [
    "print(\"Number of rows in McDonald_Exp:\", len(McDonald_Exp))"
   ]
  },
  {
   "cell_type": "markdown",
   "metadata": {},
   "source": [
    "Checking for duplicate values in `MacDonald_Exp`"
   ]
  },
  {
   "cell_type": "code",
   "execution_count": 59,
   "metadata": {},
   "outputs": [
    {
     "data": {
      "text/html": [
       "<div>\n",
       "<style scoped>\n",
       "    .dataframe tbody tr th:only-of-type {\n",
       "        vertical-align: middle;\n",
       "    }\n",
       "\n",
       "    .dataframe tbody tr th {\n",
       "        vertical-align: top;\n",
       "    }\n",
       "\n",
       "    .dataframe thead th {\n",
       "        text-align: right;\n",
       "    }\n",
       "</style>\n",
       "<table border=\"1\" class=\"dataframe\">\n",
       "  <thead>\n",
       "    <tr style=\"text-align: right;\">\n",
       "      <th></th>\n",
       "      <th>Notes</th>\n",
       "      <th>Amount</th>\n",
       "      <th>Category</th>\n",
       "      <th>Day</th>\n",
       "      <th>Month</th>\n",
       "      <th>Quarterly Period</th>\n",
       "      <th>Year</th>\n",
       "      <th>Date</th>\n",
       "    </tr>\n",
       "    <tr>\n",
       "      <th>ID</th>\n",
       "      <th></th>\n",
       "      <th></th>\n",
       "      <th></th>\n",
       "      <th></th>\n",
       "      <th></th>\n",
       "      <th></th>\n",
       "      <th></th>\n",
       "      <th></th>\n",
       "    </tr>\n",
       "  </thead>\n",
       "  <tbody>\n",
       "  </tbody>\n",
       "</table>\n",
       "</div>"
      ],
      "text/plain": [
       "Empty DataFrame\n",
       "Columns: [Notes, Amount, Category, Day, Month, Quarterly Period, Year, Date]\n",
       "Index: []"
      ]
     },
     "execution_count": 59,
     "metadata": {},
     "output_type": "execute_result"
    }
   ],
   "source": [
    "McDonald_Exp[McDonald_Exp.duplicated(keep=False).values]"
   ]
  },
  {
   "cell_type": "markdown",
   "metadata": {},
   "source": [
    "Checking for **null values** in `McDonald_Exp`"
   ]
  },
  {
   "cell_type": "code",
   "execution_count": 60,
   "metadata": {},
   "outputs": [
    {
     "data": {
      "text/html": [
       "<div>\n",
       "<style scoped>\n",
       "    .dataframe tbody tr th:only-of-type {\n",
       "        vertical-align: middle;\n",
       "    }\n",
       "\n",
       "    .dataframe tbody tr th {\n",
       "        vertical-align: top;\n",
       "    }\n",
       "\n",
       "    .dataframe thead th {\n",
       "        text-align: right;\n",
       "    }\n",
       "</style>\n",
       "<table border=\"1\" class=\"dataframe\">\n",
       "  <thead>\n",
       "    <tr style=\"text-align: right;\">\n",
       "      <th></th>\n",
       "      <th>Notes</th>\n",
       "      <th>Amount</th>\n",
       "      <th>Category</th>\n",
       "      <th>Day</th>\n",
       "      <th>Month</th>\n",
       "      <th>Quarterly Period</th>\n",
       "      <th>Year</th>\n",
       "      <th>Date</th>\n",
       "    </tr>\n",
       "    <tr>\n",
       "      <th>ID</th>\n",
       "      <th></th>\n",
       "      <th></th>\n",
       "      <th></th>\n",
       "      <th></th>\n",
       "      <th></th>\n",
       "      <th></th>\n",
       "      <th></th>\n",
       "      <th></th>\n",
       "    </tr>\n",
       "  </thead>\n",
       "  <tbody>\n",
       "  </tbody>\n",
       "</table>\n",
       "</div>"
      ],
      "text/plain": [
       "Empty DataFrame\n",
       "Columns: [Notes, Amount, Category, Day, Month, Quarterly Period, Year, Date]\n",
       "Index: []"
      ]
     },
     "execution_count": 60,
     "metadata": {},
     "output_type": "execute_result"
    }
   ],
   "source": [
    "McDonald_Exp[McDonald_Exp.isnull().values.any(axis=1)]"
   ]
  },
  {
   "cell_type": "code",
   "execution_count": null,
   "metadata": {},
   "outputs": [],
   "source": []
  },
  {
   "cell_type": "code",
   "execution_count": null,
   "metadata": {},
   "outputs": [],
   "source": []
  },
  {
   "cell_type": "markdown",
   "metadata": {},
   "source": [
    "# Adding the different categories"
   ]
  },
  {
   "cell_type": "markdown",
   "metadata": {},
   "source": [
    "Adding the different food categories: Fish burger, Chicken Burger, Sausages, Beef, Dessert"
   ]
  },
  {
   "cell_type": "markdown",
   "metadata": {},
   "source": [
    "## Fish Burgers"
   ]
  },
  {
   "cell_type": "code",
   "execution_count": 61,
   "metadata": {
    "scrolled": false
   },
   "outputs": [],
   "source": [
    "McDonald_FishBurger = McDonald_Exp[McDonald_Exp[\"Notes\"].str.contains(\"Fish\", case=False)]\n",
    "# McDonald_FishBurger.reset_index(inplace=True)"
   ]
  },
  {
   "cell_type": "code",
   "execution_count": 62,
   "metadata": {},
   "outputs": [],
   "source": [
    "# McDonald_FishBurger = McDonald_FishBurger.copy()"
   ]
  },
  {
   "cell_type": "code",
   "execution_count": 63,
   "metadata": {
    "scrolled": true
   },
   "outputs": [
    {
     "data": {
      "text/html": [
       "<div>\n",
       "<style scoped>\n",
       "    .dataframe tbody tr th:only-of-type {\n",
       "        vertical-align: middle;\n",
       "    }\n",
       "\n",
       "    .dataframe tbody tr th {\n",
       "        vertical-align: top;\n",
       "    }\n",
       "\n",
       "    .dataframe thead th {\n",
       "        text-align: right;\n",
       "    }\n",
       "</style>\n",
       "<table border=\"1\" class=\"dataframe\">\n",
       "  <thead>\n",
       "    <tr style=\"text-align: right;\">\n",
       "      <th></th>\n",
       "      <th>Notes</th>\n",
       "      <th>Amount</th>\n",
       "      <th>Category</th>\n",
       "      <th>Day</th>\n",
       "      <th>Month</th>\n",
       "      <th>Quarterly Period</th>\n",
       "      <th>Year</th>\n",
       "      <th>Date</th>\n",
       "    </tr>\n",
       "    <tr>\n",
       "      <th>ID</th>\n",
       "      <th></th>\n",
       "      <th></th>\n",
       "      <th></th>\n",
       "      <th></th>\n",
       "      <th></th>\n",
       "      <th></th>\n",
       "      <th></th>\n",
       "      <th></th>\n",
       "    </tr>\n",
       "  </thead>\n",
       "  <tbody>\n",
       "    <tr>\n",
       "      <th>4844</th>\n",
       "      <td>McDonald's Filet O Fish Burger</td>\n",
       "      <td>2.00</td>\n",
       "      <td>Food &amp; Beverage</td>\n",
       "      <td>7</td>\n",
       "      <td>4</td>\n",
       "      <td>2020Q2</td>\n",
       "      <td>2020</td>\n",
       "      <td>2020-04-05</td>\n",
       "    </tr>\n",
       "    <tr>\n",
       "      <th>4617</th>\n",
       "      <td>McDonald's Filet O Fish Burger</td>\n",
       "      <td>2.95</td>\n",
       "      <td>Food &amp; Beverage</td>\n",
       "      <td>5</td>\n",
       "      <td>2</td>\n",
       "      <td>2020Q1</td>\n",
       "      <td>2020</td>\n",
       "      <td>2020-02-07</td>\n",
       "    </tr>\n",
       "    <tr>\n",
       "      <th>4584</th>\n",
       "      <td>McDonald's Filet O Fish Burger</td>\n",
       "      <td>2.80</td>\n",
       "      <td>Food &amp; Beverage</td>\n",
       "      <td>2</td>\n",
       "      <td>1</td>\n",
       "      <td>2020Q1</td>\n",
       "      <td>2020</td>\n",
       "      <td>2020-01-28</td>\n",
       "    </tr>\n",
       "    <tr>\n",
       "      <th>4551</th>\n",
       "      <td>McDonald's Filet O Fish Burger</td>\n",
       "      <td>2.80</td>\n",
       "      <td>Food &amp; Beverage</td>\n",
       "      <td>5</td>\n",
       "      <td>1</td>\n",
       "      <td>2020Q1</td>\n",
       "      <td>2020</td>\n",
       "      <td>2020-01-17</td>\n",
       "    </tr>\n",
       "    <tr>\n",
       "      <th>4497</th>\n",
       "      <td>McDonald's Filet O Fish Burger</td>\n",
       "      <td>2.80</td>\n",
       "      <td>Food &amp; Beverage</td>\n",
       "      <td>5</td>\n",
       "      <td>1</td>\n",
       "      <td>2020Q1</td>\n",
       "      <td>2020</td>\n",
       "      <td>2020-01-03</td>\n",
       "    </tr>\n",
       "  </tbody>\n",
       "</table>\n",
       "</div>"
      ],
      "text/plain": [
       "                               Notes  Amount         Category  Day  Month  \\\n",
       "ID                                                                          \n",
       "4844  McDonald's Filet O Fish Burger    2.00  Food & Beverage    7      4   \n",
       "4617  McDonald's Filet O Fish Burger    2.95  Food & Beverage    5      2   \n",
       "4584  McDonald's Filet O Fish Burger    2.80  Food & Beverage    2      1   \n",
       "4551  McDonald's Filet O Fish Burger    2.80  Food & Beverage    5      1   \n",
       "4497  McDonald's Filet O Fish Burger    2.80  Food & Beverage    5      1   \n",
       "\n",
       "     Quarterly Period  Year       Date  \n",
       "ID                                      \n",
       "4844           2020Q2  2020 2020-04-05  \n",
       "4617           2020Q1  2020 2020-02-07  \n",
       "4584           2020Q1  2020 2020-01-28  \n",
       "4551           2020Q1  2020 2020-01-17  \n",
       "4497           2020Q1  2020 2020-01-03  "
      ]
     },
     "execution_count": 63,
     "metadata": {},
     "output_type": "execute_result"
    }
   ],
   "source": [
    "McDonald_FishBurger.head()"
   ]
  },
  {
   "cell_type": "markdown",
   "metadata": {},
   "source": [
    "Adding `Fish` into `Category`"
   ]
  },
  {
   "cell_type": "code",
   "execution_count": 64,
   "metadata": {},
   "outputs": [
    {
     "name": "stderr",
     "output_type": "stream",
     "text": [
      "C:\\Users\\Trogg\\anaconda3\\envs\\mlbook\\lib\\site-packages\\pandas\\core\\indexing.py:966: SettingWithCopyWarning: \n",
      "A value is trying to be set on a copy of a slice from a DataFrame.\n",
      "Try using .loc[row_indexer,col_indexer] = value instead\n",
      "\n",
      "See the caveats in the documentation: https://pandas.pydata.org/pandas-docs/stable/user_guide/indexing.html#returning-a-view-versus-a-copy\n",
      "  self.obj[item] = s\n"
     ]
    },
    {
     "data": {
      "text/html": [
       "<div>\n",
       "<style scoped>\n",
       "    .dataframe tbody tr th:only-of-type {\n",
       "        vertical-align: middle;\n",
       "    }\n",
       "\n",
       "    .dataframe tbody tr th {\n",
       "        vertical-align: top;\n",
       "    }\n",
       "\n",
       "    .dataframe thead th {\n",
       "        text-align: right;\n",
       "    }\n",
       "</style>\n",
       "<table border=\"1\" class=\"dataframe\">\n",
       "  <thead>\n",
       "    <tr style=\"text-align: right;\">\n",
       "      <th></th>\n",
       "      <th>Notes</th>\n",
       "      <th>Amount</th>\n",
       "      <th>Category</th>\n",
       "      <th>Day</th>\n",
       "      <th>Month</th>\n",
       "      <th>Quarterly Period</th>\n",
       "      <th>Year</th>\n",
       "      <th>Date</th>\n",
       "    </tr>\n",
       "    <tr>\n",
       "      <th>ID</th>\n",
       "      <th></th>\n",
       "      <th></th>\n",
       "      <th></th>\n",
       "      <th></th>\n",
       "      <th></th>\n",
       "      <th></th>\n",
       "      <th></th>\n",
       "      <th></th>\n",
       "    </tr>\n",
       "  </thead>\n",
       "  <tbody>\n",
       "    <tr>\n",
       "      <th>4844</th>\n",
       "      <td>McDonald's Filet O Fish Burger</td>\n",
       "      <td>2.00</td>\n",
       "      <td>Fish</td>\n",
       "      <td>7</td>\n",
       "      <td>4</td>\n",
       "      <td>2020Q2</td>\n",
       "      <td>2020</td>\n",
       "      <td>2020-04-05</td>\n",
       "    </tr>\n",
       "    <tr>\n",
       "      <th>4617</th>\n",
       "      <td>McDonald's Filet O Fish Burger</td>\n",
       "      <td>2.95</td>\n",
       "      <td>Fish</td>\n",
       "      <td>5</td>\n",
       "      <td>2</td>\n",
       "      <td>2020Q1</td>\n",
       "      <td>2020</td>\n",
       "      <td>2020-02-07</td>\n",
       "    </tr>\n",
       "    <tr>\n",
       "      <th>4584</th>\n",
       "      <td>McDonald's Filet O Fish Burger</td>\n",
       "      <td>2.80</td>\n",
       "      <td>Fish</td>\n",
       "      <td>2</td>\n",
       "      <td>1</td>\n",
       "      <td>2020Q1</td>\n",
       "      <td>2020</td>\n",
       "      <td>2020-01-28</td>\n",
       "    </tr>\n",
       "    <tr>\n",
       "      <th>4551</th>\n",
       "      <td>McDonald's Filet O Fish Burger</td>\n",
       "      <td>2.80</td>\n",
       "      <td>Fish</td>\n",
       "      <td>5</td>\n",
       "      <td>1</td>\n",
       "      <td>2020Q1</td>\n",
       "      <td>2020</td>\n",
       "      <td>2020-01-17</td>\n",
       "    </tr>\n",
       "    <tr>\n",
       "      <th>4497</th>\n",
       "      <td>McDonald's Filet O Fish Burger</td>\n",
       "      <td>2.80</td>\n",
       "      <td>Fish</td>\n",
       "      <td>5</td>\n",
       "      <td>1</td>\n",
       "      <td>2020Q1</td>\n",
       "      <td>2020</td>\n",
       "      <td>2020-01-03</td>\n",
       "    </tr>\n",
       "  </tbody>\n",
       "</table>\n",
       "</div>"
      ],
      "text/plain": [
       "                               Notes  Amount Category  Day  Month  \\\n",
       "ID                                                                  \n",
       "4844  McDonald's Filet O Fish Burger    2.00     Fish    7      4   \n",
       "4617  McDonald's Filet O Fish Burger    2.95     Fish    5      2   \n",
       "4584  McDonald's Filet O Fish Burger    2.80     Fish    2      1   \n",
       "4551  McDonald's Filet O Fish Burger    2.80     Fish    5      1   \n",
       "4497  McDonald's Filet O Fish Burger    2.80     Fish    5      1   \n",
       "\n",
       "     Quarterly Period  Year       Date  \n",
       "ID                                      \n",
       "4844           2020Q2  2020 2020-04-05  \n",
       "4617           2020Q1  2020 2020-02-07  \n",
       "4584           2020Q1  2020 2020-01-28  \n",
       "4551           2020Q1  2020 2020-01-17  \n",
       "4497           2020Q1  2020 2020-01-03  "
      ]
     },
     "execution_count": 64,
     "metadata": {},
     "output_type": "execute_result"
    }
   ],
   "source": [
    "McDonald_FishBurger.loc[:, \"Category\"] = \"Fish\"\n",
    "McDonald_FishBurger.head()"
   ]
  },
  {
   "cell_type": "code",
   "execution_count": 65,
   "metadata": {},
   "outputs": [],
   "source": [
    "# del McDonald_FishBurger[\"New_Cat\"]\n",
    "# McDonald_FishBurger.head()"
   ]
  },
  {
   "cell_type": "code",
   "execution_count": null,
   "metadata": {},
   "outputs": [],
   "source": []
  },
  {
   "cell_type": "code",
   "execution_count": 66,
   "metadata": {},
   "outputs": [
    {
     "data": {
      "text/plain": [
       "McDonald's Filet O Fish Burger                          28\n",
       "McDonald's Double Filet O Fish                          10\n",
       "McDonald's Double Filet O Fish meal                      3\n",
       "McDonald's Double Filet O Fish meal with curly fries     1\n",
       "McDonald's Filet O Fish meal                             1\n",
       "Mcdonald double fillet o fish meal                       1\n",
       "Sentosa McDonald's double file o fish                    1\n",
       "Mcdonald filet fish Burger                               1\n",
       "McDonald's Chili Lime Fish Burger                        1\n",
       "McDonald's double Nacho fillet fish                      1\n",
       "McDonald's sweet chili fish burger                       1\n",
       "McDonald's nacho fillet fish                             1\n",
       "McDonald's Filet O Fish meal with criss cut fries        1\n",
       "Name: Notes, dtype: int64"
      ]
     },
     "execution_count": 66,
     "metadata": {},
     "output_type": "execute_result"
    }
   ],
   "source": [
    "McDonald_FishBurger[\"Notes\"].value_counts()"
   ]
  },
  {
   "cell_type": "code",
   "execution_count": 67,
   "metadata": {},
   "outputs": [],
   "source": [
    "unique_fish = pd.unique(McDonald_FishBurger[\"Notes\"])"
   ]
  },
  {
   "cell_type": "code",
   "execution_count": 68,
   "metadata": {},
   "outputs": [],
   "source": [
    "no_fish = len(McDonald_FishBurger)"
   ]
  },
  {
   "cell_type": "code",
   "execution_count": 69,
   "metadata": {},
   "outputs": [
    {
     "name": "stdout",
     "output_type": "stream",
     "text": [
      "Number of fish burger meals: 51\n"
     ]
    }
   ],
   "source": [
    "print(\"Number of fish burger meals:\", no_fish)"
   ]
  },
  {
   "cell_type": "markdown",
   "metadata": {},
   "source": [
    "## Chicken Burgers"
   ]
  },
  {
   "cell_type": "code",
   "execution_count": 70,
   "metadata": {},
   "outputs": [],
   "source": [
    "McDonald_ChickenBurger = McDonald_Exp[McDonald_Exp[\"Notes\"].str.contains(\"Chicken|nuggets|Mcnugget|mcwings|mcspicy|nasi lemak|Ha Ha\", case=False, regex=True)]\n",
    "# McDonald_ChickenBurger.reset_index(inplace=True)"
   ]
  },
  {
   "cell_type": "code",
   "execution_count": 71,
   "metadata": {},
   "outputs": [],
   "source": [
    "# McDonald_ChickenBurger = McDonald_ChickenBurger.copy()"
   ]
  },
  {
   "cell_type": "code",
   "execution_count": 72,
   "metadata": {},
   "outputs": [
    {
     "data": {
      "text/html": [
       "<div>\n",
       "<style scoped>\n",
       "    .dataframe tbody tr th:only-of-type {\n",
       "        vertical-align: middle;\n",
       "    }\n",
       "\n",
       "    .dataframe tbody tr th {\n",
       "        vertical-align: top;\n",
       "    }\n",
       "\n",
       "    .dataframe thead th {\n",
       "        text-align: right;\n",
       "    }\n",
       "</style>\n",
       "<table border=\"1\" class=\"dataframe\">\n",
       "  <thead>\n",
       "    <tr style=\"text-align: right;\">\n",
       "      <th></th>\n",
       "      <th>Notes</th>\n",
       "      <th>Amount</th>\n",
       "      <th>Category</th>\n",
       "      <th>Day</th>\n",
       "      <th>Month</th>\n",
       "      <th>Quarterly Period</th>\n",
       "      <th>Year</th>\n",
       "      <th>Date</th>\n",
       "    </tr>\n",
       "    <tr>\n",
       "      <th>ID</th>\n",
       "      <th></th>\n",
       "      <th></th>\n",
       "      <th></th>\n",
       "      <th></th>\n",
       "      <th></th>\n",
       "      <th></th>\n",
       "      <th></th>\n",
       "      <th></th>\n",
       "    </tr>\n",
       "  </thead>\n",
       "  <tbody>\n",
       "    <tr>\n",
       "      <th>4698</th>\n",
       "      <td>McDonald's 4pc nuggets app offer</td>\n",
       "      <td>1.0</td>\n",
       "      <td>Food &amp; Beverage</td>\n",
       "      <td>1</td>\n",
       "      <td>2</td>\n",
       "      <td>2020Q1</td>\n",
       "      <td>2020</td>\n",
       "      <td>2020-02-24</td>\n",
       "    </tr>\n",
       "    <tr>\n",
       "      <th>4697</th>\n",
       "      <td>McDonald's McChicken Burger</td>\n",
       "      <td>2.0</td>\n",
       "      <td>Food &amp; Beverage</td>\n",
       "      <td>1</td>\n",
       "      <td>2</td>\n",
       "      <td>2020Q1</td>\n",
       "      <td>2020</td>\n",
       "      <td>2020-02-24</td>\n",
       "    </tr>\n",
       "    <tr>\n",
       "      <th>4290</th>\n",
       "      <td>McDonald's 4pc nuggets app offer</td>\n",
       "      <td>1.0</td>\n",
       "      <td>Food &amp; Beverage</td>\n",
       "      <td>1</td>\n",
       "      <td>11</td>\n",
       "      <td>2019Q4</td>\n",
       "      <td>2019</td>\n",
       "      <td>2019-11-04</td>\n",
       "    </tr>\n",
       "    <tr>\n",
       "      <th>4195</th>\n",
       "      <td>McDonald's McChicken Burger</td>\n",
       "      <td>2.0</td>\n",
       "      <td>Food &amp; Beverage</td>\n",
       "      <td>2</td>\n",
       "      <td>10</td>\n",
       "      <td>2019Q4</td>\n",
       "      <td>2019</td>\n",
       "      <td>2019-10-08</td>\n",
       "    </tr>\n",
       "    <tr>\n",
       "      <th>4070</th>\n",
       "      <td>McDonald's 4pc nuggets app offer</td>\n",
       "      <td>1.0</td>\n",
       "      <td>Food &amp; Beverage</td>\n",
       "      <td>1</td>\n",
       "      <td>9</td>\n",
       "      <td>2019Q3</td>\n",
       "      <td>2019</td>\n",
       "      <td>2019-09-02</td>\n",
       "    </tr>\n",
       "  </tbody>\n",
       "</table>\n",
       "</div>"
      ],
      "text/plain": [
       "                                 Notes  Amount         Category  Day  Month  \\\n",
       "ID                                                                            \n",
       "4698  McDonald's 4pc nuggets app offer     1.0  Food & Beverage    1      2   \n",
       "4697       McDonald's McChicken Burger     2.0  Food & Beverage    1      2   \n",
       "4290  McDonald's 4pc nuggets app offer     1.0  Food & Beverage    1     11   \n",
       "4195       McDonald's McChicken Burger     2.0  Food & Beverage    2     10   \n",
       "4070  McDonald's 4pc nuggets app offer     1.0  Food & Beverage    1      9   \n",
       "\n",
       "     Quarterly Period  Year       Date  \n",
       "ID                                      \n",
       "4698           2020Q1  2020 2020-02-24  \n",
       "4697           2020Q1  2020 2020-02-24  \n",
       "4290           2019Q4  2019 2019-11-04  \n",
       "4195           2019Q4  2019 2019-10-08  \n",
       "4070           2019Q3  2019 2019-09-02  "
      ]
     },
     "execution_count": 72,
     "metadata": {},
     "output_type": "execute_result"
    }
   ],
   "source": [
    "McDonald_ChickenBurger.head()"
   ]
  },
  {
   "cell_type": "markdown",
   "metadata": {},
   "source": [
    "Adding the `Chicken` into `Category`"
   ]
  },
  {
   "cell_type": "code",
   "execution_count": 73,
   "metadata": {},
   "outputs": [
    {
     "name": "stderr",
     "output_type": "stream",
     "text": [
      "C:\\Users\\Trogg\\anaconda3\\envs\\mlbook\\lib\\site-packages\\pandas\\core\\indexing.py:966: SettingWithCopyWarning: \n",
      "A value is trying to be set on a copy of a slice from a DataFrame.\n",
      "Try using .loc[row_indexer,col_indexer] = value instead\n",
      "\n",
      "See the caveats in the documentation: https://pandas.pydata.org/pandas-docs/stable/user_guide/indexing.html#returning-a-view-versus-a-copy\n",
      "  self.obj[item] = s\n"
     ]
    },
    {
     "data": {
      "text/html": [
       "<div>\n",
       "<style scoped>\n",
       "    .dataframe tbody tr th:only-of-type {\n",
       "        vertical-align: middle;\n",
       "    }\n",
       "\n",
       "    .dataframe tbody tr th {\n",
       "        vertical-align: top;\n",
       "    }\n",
       "\n",
       "    .dataframe thead th {\n",
       "        text-align: right;\n",
       "    }\n",
       "</style>\n",
       "<table border=\"1\" class=\"dataframe\">\n",
       "  <thead>\n",
       "    <tr style=\"text-align: right;\">\n",
       "      <th></th>\n",
       "      <th>Notes</th>\n",
       "      <th>Amount</th>\n",
       "      <th>Category</th>\n",
       "      <th>Day</th>\n",
       "      <th>Month</th>\n",
       "      <th>Quarterly Period</th>\n",
       "      <th>Year</th>\n",
       "      <th>Date</th>\n",
       "    </tr>\n",
       "    <tr>\n",
       "      <th>ID</th>\n",
       "      <th></th>\n",
       "      <th></th>\n",
       "      <th></th>\n",
       "      <th></th>\n",
       "      <th></th>\n",
       "      <th></th>\n",
       "      <th></th>\n",
       "      <th></th>\n",
       "    </tr>\n",
       "  </thead>\n",
       "  <tbody>\n",
       "    <tr>\n",
       "      <th>4698</th>\n",
       "      <td>McDonald's 4pc nuggets app offer</td>\n",
       "      <td>1.0</td>\n",
       "      <td>Chicken</td>\n",
       "      <td>1</td>\n",
       "      <td>2</td>\n",
       "      <td>2020Q1</td>\n",
       "      <td>2020</td>\n",
       "      <td>2020-02-24</td>\n",
       "    </tr>\n",
       "    <tr>\n",
       "      <th>4697</th>\n",
       "      <td>McDonald's McChicken Burger</td>\n",
       "      <td>2.0</td>\n",
       "      <td>Chicken</td>\n",
       "      <td>1</td>\n",
       "      <td>2</td>\n",
       "      <td>2020Q1</td>\n",
       "      <td>2020</td>\n",
       "      <td>2020-02-24</td>\n",
       "    </tr>\n",
       "    <tr>\n",
       "      <th>4290</th>\n",
       "      <td>McDonald's 4pc nuggets app offer</td>\n",
       "      <td>1.0</td>\n",
       "      <td>Chicken</td>\n",
       "      <td>1</td>\n",
       "      <td>11</td>\n",
       "      <td>2019Q4</td>\n",
       "      <td>2019</td>\n",
       "      <td>2019-11-04</td>\n",
       "    </tr>\n",
       "    <tr>\n",
       "      <th>4195</th>\n",
       "      <td>McDonald's McChicken Burger</td>\n",
       "      <td>2.0</td>\n",
       "      <td>Chicken</td>\n",
       "      <td>2</td>\n",
       "      <td>10</td>\n",
       "      <td>2019Q4</td>\n",
       "      <td>2019</td>\n",
       "      <td>2019-10-08</td>\n",
       "    </tr>\n",
       "    <tr>\n",
       "      <th>4070</th>\n",
       "      <td>McDonald's 4pc nuggets app offer</td>\n",
       "      <td>1.0</td>\n",
       "      <td>Chicken</td>\n",
       "      <td>1</td>\n",
       "      <td>9</td>\n",
       "      <td>2019Q3</td>\n",
       "      <td>2019</td>\n",
       "      <td>2019-09-02</td>\n",
       "    </tr>\n",
       "  </tbody>\n",
       "</table>\n",
       "</div>"
      ],
      "text/plain": [
       "                                 Notes  Amount Category  Day  Month  \\\n",
       "ID                                                                    \n",
       "4698  McDonald's 4pc nuggets app offer     1.0  Chicken    1      2   \n",
       "4697       McDonald's McChicken Burger     2.0  Chicken    1      2   \n",
       "4290  McDonald's 4pc nuggets app offer     1.0  Chicken    1     11   \n",
       "4195       McDonald's McChicken Burger     2.0  Chicken    2     10   \n",
       "4070  McDonald's 4pc nuggets app offer     1.0  Chicken    1      9   \n",
       "\n",
       "     Quarterly Period  Year       Date  \n",
       "ID                                      \n",
       "4698           2020Q1  2020 2020-02-24  \n",
       "4697           2020Q1  2020 2020-02-24  \n",
       "4290           2019Q4  2019 2019-11-04  \n",
       "4195           2019Q4  2019 2019-10-08  \n",
       "4070           2019Q3  2019 2019-09-02  "
      ]
     },
     "execution_count": 73,
     "metadata": {},
     "output_type": "execute_result"
    }
   ],
   "source": [
    "McDonald_ChickenBurger.loc[:, \"Category\"] = \"Chicken\"\n",
    "McDonald_ChickenBurger.head()"
   ]
  },
  {
   "cell_type": "code",
   "execution_count": null,
   "metadata": {},
   "outputs": [],
   "source": []
  },
  {
   "cell_type": "code",
   "execution_count": 74,
   "metadata": {},
   "outputs": [
    {
     "data": {
      "text/plain": [
       "105"
      ]
     },
     "execution_count": 74,
     "metadata": {},
     "output_type": "execute_result"
    }
   ],
   "source": [
    "McDonald_ChickenBurger[\"Notes\"].value_counts().sum()"
   ]
  },
  {
   "cell_type": "markdown",
   "metadata": {},
   "source": [
    "Drop `herb chicken pie`"
   ]
  },
  {
   "cell_type": "code",
   "execution_count": 75,
   "metadata": {},
   "outputs": [
    {
     "data": {
      "text/html": [
       "<div>\n",
       "<style scoped>\n",
       "    .dataframe tbody tr th:only-of-type {\n",
       "        vertical-align: middle;\n",
       "    }\n",
       "\n",
       "    .dataframe tbody tr th {\n",
       "        vertical-align: top;\n",
       "    }\n",
       "\n",
       "    .dataframe thead th {\n",
       "        text-align: right;\n",
       "    }\n",
       "</style>\n",
       "<table border=\"1\" class=\"dataframe\">\n",
       "  <thead>\n",
       "    <tr style=\"text-align: right;\">\n",
       "      <th></th>\n",
       "      <th>Notes</th>\n",
       "      <th>Amount</th>\n",
       "      <th>Category</th>\n",
       "      <th>Day</th>\n",
       "      <th>Month</th>\n",
       "      <th>Quarterly Period</th>\n",
       "      <th>Year</th>\n",
       "      <th>Date</th>\n",
       "    </tr>\n",
       "    <tr>\n",
       "      <th>ID</th>\n",
       "      <th></th>\n",
       "      <th></th>\n",
       "      <th></th>\n",
       "      <th></th>\n",
       "      <th></th>\n",
       "      <th></th>\n",
       "      <th></th>\n",
       "      <th></th>\n",
       "    </tr>\n",
       "  </thead>\n",
       "  <tbody>\n",
       "    <tr>\n",
       "      <th>674</th>\n",
       "      <td>McDonald's herb chicken pie</td>\n",
       "      <td>1.8</td>\n",
       "      <td>Chicken</td>\n",
       "      <td>5</td>\n",
       "      <td>10</td>\n",
       "      <td>2018Q4</td>\n",
       "      <td>2018</td>\n",
       "      <td>2018-10-12</td>\n",
       "    </tr>\n",
       "  </tbody>\n",
       "</table>\n",
       "</div>"
      ],
      "text/plain": [
       "                           Notes  Amount Category  Day  Month  \\\n",
       "ID                                                              \n",
       "674  McDonald's herb chicken pie     1.8  Chicken    5     10   \n",
       "\n",
       "    Quarterly Period  Year       Date  \n",
       "ID                                     \n",
       "674           2018Q4  2018 2018-10-12  "
      ]
     },
     "execution_count": 75,
     "metadata": {},
     "output_type": "execute_result"
    }
   ],
   "source": [
    "herb_chicken_pie = McDonald_ChickenBurger[McDonald_ChickenBurger[\"Notes\"].str.contains(\"herb chicken\", case=False)]\n",
    "herb_chicken_pie"
   ]
  },
  {
   "cell_type": "code",
   "execution_count": 76,
   "metadata": {},
   "outputs": [],
   "source": [
    "McDonald_ChickenBurger = McDonald_ChickenBurger.drop(herb_chicken_pie.index)"
   ]
  },
  {
   "cell_type": "code",
   "execution_count": 77,
   "metadata": {},
   "outputs": [
    {
     "data": {
      "text/plain": [
       "104"
      ]
     },
     "execution_count": 77,
     "metadata": {},
     "output_type": "execute_result"
    }
   ],
   "source": [
    "McDonald_ChickenBurger[\"Notes\"].value_counts().sum()"
   ]
  },
  {
   "cell_type": "code",
   "execution_count": 78,
   "metadata": {},
   "outputs": [],
   "source": [
    "unique_chicken = pd.unique(McDonald_ChickenBurger[\"Notes\"])"
   ]
  },
  {
   "cell_type": "code",
   "execution_count": 79,
   "metadata": {},
   "outputs": [],
   "source": [
    "no_chicken= len(McDonald_ChickenBurger)"
   ]
  },
  {
   "cell_type": "code",
   "execution_count": 80,
   "metadata": {},
   "outputs": [
    {
     "name": "stdout",
     "output_type": "stream",
     "text": [
      "Number of chicken burger meals: 104\n"
     ]
    }
   ],
   "source": [
    "print(\"Number of chicken burger meals:\",no_chicken)"
   ]
  },
  {
   "cell_type": "markdown",
   "metadata": {},
   "source": [
    "## For Sausages"
   ]
  },
  {
   "cell_type": "code",
   "execution_count": 81,
   "metadata": {},
   "outputs": [],
   "source": [
    "McDonald_Sausage = McDonald_Exp[McDonald_Exp[\"Notes\"].str.contains(\"sausage| Mcmuffin stack|Egg Muffin\", case=False)]\n",
    "# McDonald_Sausage.reset_index(inplace=True)"
   ]
  },
  {
   "cell_type": "code",
   "execution_count": 82,
   "metadata": {
    "scrolled": true
   },
   "outputs": [
    {
     "data": {
      "text/html": [
       "<div>\n",
       "<style scoped>\n",
       "    .dataframe tbody tr th:only-of-type {\n",
       "        vertical-align: middle;\n",
       "    }\n",
       "\n",
       "    .dataframe tbody tr th {\n",
       "        vertical-align: top;\n",
       "    }\n",
       "\n",
       "    .dataframe thead th {\n",
       "        text-align: right;\n",
       "    }\n",
       "</style>\n",
       "<table border=\"1\" class=\"dataframe\">\n",
       "  <thead>\n",
       "    <tr style=\"text-align: right;\">\n",
       "      <th></th>\n",
       "      <th>Notes</th>\n",
       "      <th>Amount</th>\n",
       "      <th>Category</th>\n",
       "      <th>Day</th>\n",
       "      <th>Month</th>\n",
       "      <th>Quarterly Period</th>\n",
       "      <th>Year</th>\n",
       "      <th>Date</th>\n",
       "    </tr>\n",
       "    <tr>\n",
       "      <th>ID</th>\n",
       "      <th></th>\n",
       "      <th></th>\n",
       "      <th></th>\n",
       "      <th></th>\n",
       "      <th></th>\n",
       "      <th></th>\n",
       "      <th></th>\n",
       "      <th></th>\n",
       "    </tr>\n",
       "  </thead>\n",
       "  <tbody>\n",
       "    <tr>\n",
       "      <th>4972</th>\n",
       "      <td>McDonald's breakfast wrap sausage</td>\n",
       "      <td>4.65</td>\n",
       "      <td>Food &amp; Beverage</td>\n",
       "      <td>2</td>\n",
       "      <td>5</td>\n",
       "      <td>2020Q2</td>\n",
       "      <td>2020</td>\n",
       "      <td>2020-05-12</td>\n",
       "    </tr>\n",
       "    <tr>\n",
       "      <th>4868</th>\n",
       "      <td>McDonald's sausage egg McGriddle</td>\n",
       "      <td>3.50</td>\n",
       "      <td>Food &amp; Beverage</td>\n",
       "      <td>1</td>\n",
       "      <td>4</td>\n",
       "      <td>2020Q2</td>\n",
       "      <td>2020</td>\n",
       "      <td>2020-04-13</td>\n",
       "    </tr>\n",
       "    <tr>\n",
       "      <th>4828</th>\n",
       "      <td>McDonald's sausage egg McGriddle</td>\n",
       "      <td>3.50</td>\n",
       "      <td>Food &amp; Beverage</td>\n",
       "      <td>2</td>\n",
       "      <td>3</td>\n",
       "      <td>2020Q1</td>\n",
       "      <td>2020</td>\n",
       "      <td>2020-03-31</td>\n",
       "    </tr>\n",
       "    <tr>\n",
       "      <th>4786</th>\n",
       "      <td>McDonald's sausage egg McGriddle</td>\n",
       "      <td>3.50</td>\n",
       "      <td>Food &amp; Beverage</td>\n",
       "      <td>5</td>\n",
       "      <td>3</td>\n",
       "      <td>2020Q1</td>\n",
       "      <td>2020</td>\n",
       "      <td>2020-03-20</td>\n",
       "    </tr>\n",
       "    <tr>\n",
       "      <th>4702</th>\n",
       "      <td>McDonald's sausage egg mcmuffin</td>\n",
       "      <td>3.90</td>\n",
       "      <td>Food &amp; Beverage</td>\n",
       "      <td>5</td>\n",
       "      <td>2</td>\n",
       "      <td>2020Q1</td>\n",
       "      <td>2020</td>\n",
       "      <td>2020-02-28</td>\n",
       "    </tr>\n",
       "  </tbody>\n",
       "</table>\n",
       "</div>"
      ],
      "text/plain": [
       "                                  Notes  Amount         Category  Day  Month  \\\n",
       "ID                                                                             \n",
       "4972  McDonald's breakfast wrap sausage    4.65  Food & Beverage    2      5   \n",
       "4868   McDonald's sausage egg McGriddle    3.50  Food & Beverage    1      4   \n",
       "4828   McDonald's sausage egg McGriddle    3.50  Food & Beverage    2      3   \n",
       "4786   McDonald's sausage egg McGriddle    3.50  Food & Beverage    5      3   \n",
       "4702    McDonald's sausage egg mcmuffin    3.90  Food & Beverage    5      2   \n",
       "\n",
       "     Quarterly Period  Year       Date  \n",
       "ID                                      \n",
       "4972           2020Q2  2020 2020-05-12  \n",
       "4868           2020Q2  2020 2020-04-13  \n",
       "4828           2020Q1  2020 2020-03-31  \n",
       "4786           2020Q1  2020 2020-03-20  \n",
       "4702           2020Q1  2020 2020-02-28  "
      ]
     },
     "execution_count": 82,
     "metadata": {},
     "output_type": "execute_result"
    }
   ],
   "source": [
    "McDonald_Sausage.head()"
   ]
  },
  {
   "cell_type": "code",
   "execution_count": 83,
   "metadata": {},
   "outputs": [
    {
     "data": {
      "text/plain": [
       "McDonald's sausage mcmuffin                                         5\n",
       "McDonald's sausage egg McGriddle                                    4\n",
       "McDonald's sausage Breakfast wrap                                   3\n",
       "McDonald's sausage egg mcmuffin                                     2\n",
       "McDonald's breakfast wrap sausage                                   2\n",
       "McDonald's sausage with egg muffin and medium sized orange juice    2\n",
       "McDonald's Mcmuffin stack meal                                      1\n",
       "McDonald's sausage mcmuffin meal                                    1\n",
       "McDonald's Egg Muffin                                               1\n",
       "McDonald's sausage mcmuffin with egg                                1\n",
       "McDonald's sausage with egg muffin and small sized orange juice     1\n",
       "Name: Notes, dtype: int64"
      ]
     },
     "execution_count": 83,
     "metadata": {},
     "output_type": "execute_result"
    }
   ],
   "source": [
    "McDonald_Sausage[\"Notes\"].value_counts()"
   ]
  },
  {
   "cell_type": "markdown",
   "metadata": {},
   "source": [
    "Adding the `sausage` into `category`"
   ]
  },
  {
   "cell_type": "code",
   "execution_count": 84,
   "metadata": {},
   "outputs": [
    {
     "name": "stderr",
     "output_type": "stream",
     "text": [
      "C:\\Users\\Trogg\\anaconda3\\envs\\mlbook\\lib\\site-packages\\pandas\\core\\indexing.py:966: SettingWithCopyWarning: \n",
      "A value is trying to be set on a copy of a slice from a DataFrame.\n",
      "Try using .loc[row_indexer,col_indexer] = value instead\n",
      "\n",
      "See the caveats in the documentation: https://pandas.pydata.org/pandas-docs/stable/user_guide/indexing.html#returning-a-view-versus-a-copy\n",
      "  self.obj[item] = s\n"
     ]
    },
    {
     "data": {
      "text/html": [
       "<div>\n",
       "<style scoped>\n",
       "    .dataframe tbody tr th:only-of-type {\n",
       "        vertical-align: middle;\n",
       "    }\n",
       "\n",
       "    .dataframe tbody tr th {\n",
       "        vertical-align: top;\n",
       "    }\n",
       "\n",
       "    .dataframe thead th {\n",
       "        text-align: right;\n",
       "    }\n",
       "</style>\n",
       "<table border=\"1\" class=\"dataframe\">\n",
       "  <thead>\n",
       "    <tr style=\"text-align: right;\">\n",
       "      <th></th>\n",
       "      <th>Notes</th>\n",
       "      <th>Amount</th>\n",
       "      <th>Category</th>\n",
       "      <th>Day</th>\n",
       "      <th>Month</th>\n",
       "      <th>Quarterly Period</th>\n",
       "      <th>Year</th>\n",
       "      <th>Date</th>\n",
       "    </tr>\n",
       "    <tr>\n",
       "      <th>ID</th>\n",
       "      <th></th>\n",
       "      <th></th>\n",
       "      <th></th>\n",
       "      <th></th>\n",
       "      <th></th>\n",
       "      <th></th>\n",
       "      <th></th>\n",
       "      <th></th>\n",
       "    </tr>\n",
       "  </thead>\n",
       "  <tbody>\n",
       "    <tr>\n",
       "      <th>4972</th>\n",
       "      <td>McDonald's breakfast wrap sausage</td>\n",
       "      <td>4.65</td>\n",
       "      <td>Sausage</td>\n",
       "      <td>2</td>\n",
       "      <td>5</td>\n",
       "      <td>2020Q2</td>\n",
       "      <td>2020</td>\n",
       "      <td>2020-05-12</td>\n",
       "    </tr>\n",
       "    <tr>\n",
       "      <th>4868</th>\n",
       "      <td>McDonald's sausage egg McGriddle</td>\n",
       "      <td>3.50</td>\n",
       "      <td>Sausage</td>\n",
       "      <td>1</td>\n",
       "      <td>4</td>\n",
       "      <td>2020Q2</td>\n",
       "      <td>2020</td>\n",
       "      <td>2020-04-13</td>\n",
       "    </tr>\n",
       "    <tr>\n",
       "      <th>4828</th>\n",
       "      <td>McDonald's sausage egg McGriddle</td>\n",
       "      <td>3.50</td>\n",
       "      <td>Sausage</td>\n",
       "      <td>2</td>\n",
       "      <td>3</td>\n",
       "      <td>2020Q1</td>\n",
       "      <td>2020</td>\n",
       "      <td>2020-03-31</td>\n",
       "    </tr>\n",
       "    <tr>\n",
       "      <th>4786</th>\n",
       "      <td>McDonald's sausage egg McGriddle</td>\n",
       "      <td>3.50</td>\n",
       "      <td>Sausage</td>\n",
       "      <td>5</td>\n",
       "      <td>3</td>\n",
       "      <td>2020Q1</td>\n",
       "      <td>2020</td>\n",
       "      <td>2020-03-20</td>\n",
       "    </tr>\n",
       "    <tr>\n",
       "      <th>4702</th>\n",
       "      <td>McDonald's sausage egg mcmuffin</td>\n",
       "      <td>3.90</td>\n",
       "      <td>Sausage</td>\n",
       "      <td>5</td>\n",
       "      <td>2</td>\n",
       "      <td>2020Q1</td>\n",
       "      <td>2020</td>\n",
       "      <td>2020-02-28</td>\n",
       "    </tr>\n",
       "  </tbody>\n",
       "</table>\n",
       "</div>"
      ],
      "text/plain": [
       "                                  Notes  Amount Category  Day  Month  \\\n",
       "ID                                                                     \n",
       "4972  McDonald's breakfast wrap sausage    4.65  Sausage    2      5   \n",
       "4868   McDonald's sausage egg McGriddle    3.50  Sausage    1      4   \n",
       "4828   McDonald's sausage egg McGriddle    3.50  Sausage    2      3   \n",
       "4786   McDonald's sausage egg McGriddle    3.50  Sausage    5      3   \n",
       "4702    McDonald's sausage egg mcmuffin    3.90  Sausage    5      2   \n",
       "\n",
       "     Quarterly Period  Year       Date  \n",
       "ID                                      \n",
       "4972           2020Q2  2020 2020-05-12  \n",
       "4868           2020Q2  2020 2020-04-13  \n",
       "4828           2020Q1  2020 2020-03-31  \n",
       "4786           2020Q1  2020 2020-03-20  \n",
       "4702           2020Q1  2020 2020-02-28  "
      ]
     },
     "execution_count": 84,
     "metadata": {},
     "output_type": "execute_result"
    }
   ],
   "source": [
    "McDonald_Sausage.loc[:, \"Category\"] = \"Sausage\"\n",
    "McDonald_Sausage.head()"
   ]
  },
  {
   "cell_type": "code",
   "execution_count": null,
   "metadata": {},
   "outputs": [],
   "source": []
  },
  {
   "cell_type": "code",
   "execution_count": null,
   "metadata": {},
   "outputs": [],
   "source": []
  },
  {
   "cell_type": "code",
   "execution_count": 85,
   "metadata": {},
   "outputs": [],
   "source": [
    "unique_sausage = pd.unique(McDonald_Sausage[\"Notes\"])"
   ]
  },
  {
   "cell_type": "code",
   "execution_count": 86,
   "metadata": {},
   "outputs": [],
   "source": [
    "no_sausage = len(McDonald_Sausage)"
   ]
  },
  {
   "cell_type": "code",
   "execution_count": 87,
   "metadata": {},
   "outputs": [
    {
     "name": "stdout",
     "output_type": "stream",
     "text": [
      "Number of sausage meals: 23\n"
     ]
    }
   ],
   "source": [
    "print(\"Number of sausage meals:\", no_sausage)"
   ]
  },
  {
   "cell_type": "markdown",
   "metadata": {},
   "source": [
    "## For Beef Burgers"
   ]
  },
  {
   "cell_type": "code",
   "execution_count": 88,
   "metadata": {},
   "outputs": [],
   "source": [
    "McDonald_Beef = McDonald_Exp[McDonald_Exp[\"Notes\"].str.contains(\"double cheese|quarter|cheese burger|big mac|mcdouble|sausage muffin\", case=False)]\n",
    "# McDonald_Beef.reset_index(inplace=True)"
   ]
  },
  {
   "cell_type": "code",
   "execution_count": 89,
   "metadata": {},
   "outputs": [
    {
     "data": {
      "text/html": [
       "<div>\n",
       "<style scoped>\n",
       "    .dataframe tbody tr th:only-of-type {\n",
       "        vertical-align: middle;\n",
       "    }\n",
       "\n",
       "    .dataframe tbody tr th {\n",
       "        vertical-align: top;\n",
       "    }\n",
       "\n",
       "    .dataframe thead th {\n",
       "        text-align: right;\n",
       "    }\n",
       "</style>\n",
       "<table border=\"1\" class=\"dataframe\">\n",
       "  <thead>\n",
       "    <tr style=\"text-align: right;\">\n",
       "      <th></th>\n",
       "      <th>Notes</th>\n",
       "      <th>Amount</th>\n",
       "      <th>Category</th>\n",
       "      <th>Day</th>\n",
       "      <th>Month</th>\n",
       "      <th>Quarterly Period</th>\n",
       "      <th>Year</th>\n",
       "      <th>Date</th>\n",
       "    </tr>\n",
       "    <tr>\n",
       "      <th>ID</th>\n",
       "      <th></th>\n",
       "      <th></th>\n",
       "      <th></th>\n",
       "      <th></th>\n",
       "      <th></th>\n",
       "      <th></th>\n",
       "      <th></th>\n",
       "      <th></th>\n",
       "    </tr>\n",
       "  </thead>\n",
       "  <tbody>\n",
       "    <tr>\n",
       "      <th>4806</th>\n",
       "      <td>McDonald's double cheese Burger</td>\n",
       "      <td>3.9</td>\n",
       "      <td>Food &amp; Beverage</td>\n",
       "      <td>3</td>\n",
       "      <td>3</td>\n",
       "      <td>2020Q1</td>\n",
       "      <td>2020</td>\n",
       "      <td>2020-03-25</td>\n",
       "    </tr>\n",
       "    <tr>\n",
       "      <th>4509</th>\n",
       "      <td>McDonald's double cheese Burger</td>\n",
       "      <td>3.9</td>\n",
       "      <td>Food &amp; Beverage</td>\n",
       "      <td>2</td>\n",
       "      <td>1</td>\n",
       "      <td>2020Q1</td>\n",
       "      <td>2020</td>\n",
       "      <td>2020-01-07</td>\n",
       "    </tr>\n",
       "    <tr>\n",
       "      <th>3589</th>\n",
       "      <td>McDonald's cheese burger</td>\n",
       "      <td>2.3</td>\n",
       "      <td>Food &amp; Beverage</td>\n",
       "      <td>2</td>\n",
       "      <td>4</td>\n",
       "      <td>2019Q2</td>\n",
       "      <td>2019</td>\n",
       "      <td>2019-04-23</td>\n",
       "    </tr>\n",
       "    <tr>\n",
       "      <th>34</th>\n",
       "      <td>McDonald's cheese burger</td>\n",
       "      <td>2.3</td>\n",
       "      <td>Food &amp; Beverage</td>\n",
       "      <td>1</td>\n",
       "      <td>4</td>\n",
       "      <td>2019Q2</td>\n",
       "      <td>2019</td>\n",
       "      <td>2019-04-08</td>\n",
       "    </tr>\n",
       "    <tr>\n",
       "      <th>149</th>\n",
       "      <td>McDonald's double cheese Burger</td>\n",
       "      <td>3.5</td>\n",
       "      <td>Food &amp; Beverage</td>\n",
       "      <td>5</td>\n",
       "      <td>3</td>\n",
       "      <td>2019Q1</td>\n",
       "      <td>2019</td>\n",
       "      <td>2019-03-08</td>\n",
       "    </tr>\n",
       "  </tbody>\n",
       "</table>\n",
       "</div>"
      ],
      "text/plain": [
       "                                Notes  Amount         Category  Day  Month  \\\n",
       "ID                                                                           \n",
       "4806  McDonald's double cheese Burger     3.9  Food & Beverage    3      3   \n",
       "4509  McDonald's double cheese Burger     3.9  Food & Beverage    2      1   \n",
       "3589         McDonald's cheese burger     2.3  Food & Beverage    2      4   \n",
       "34           McDonald's cheese burger     2.3  Food & Beverage    1      4   \n",
       "149   McDonald's double cheese Burger     3.5  Food & Beverage    5      3   \n",
       "\n",
       "     Quarterly Period  Year       Date  \n",
       "ID                                      \n",
       "4806           2020Q1  2020 2020-03-25  \n",
       "4509           2020Q1  2020 2020-01-07  \n",
       "3589           2019Q2  2019 2019-04-23  \n",
       "34             2019Q2  2019 2019-04-08  \n",
       "149            2019Q1  2019 2019-03-08  "
      ]
     },
     "execution_count": 89,
     "metadata": {},
     "output_type": "execute_result"
    }
   ],
   "source": [
    "McDonald_Beef.head()"
   ]
  },
  {
   "cell_type": "markdown",
   "metadata": {},
   "source": [
    "Adding the `beef` into `category `"
   ]
  },
  {
   "cell_type": "code",
   "execution_count": 90,
   "metadata": {},
   "outputs": [
    {
     "name": "stderr",
     "output_type": "stream",
     "text": [
      "C:\\Users\\Trogg\\anaconda3\\envs\\mlbook\\lib\\site-packages\\pandas\\core\\indexing.py:966: SettingWithCopyWarning: \n",
      "A value is trying to be set on a copy of a slice from a DataFrame.\n",
      "Try using .loc[row_indexer,col_indexer] = value instead\n",
      "\n",
      "See the caveats in the documentation: https://pandas.pydata.org/pandas-docs/stable/user_guide/indexing.html#returning-a-view-versus-a-copy\n",
      "  self.obj[item] = s\n"
     ]
    },
    {
     "data": {
      "text/html": [
       "<div>\n",
       "<style scoped>\n",
       "    .dataframe tbody tr th:only-of-type {\n",
       "        vertical-align: middle;\n",
       "    }\n",
       "\n",
       "    .dataframe tbody tr th {\n",
       "        vertical-align: top;\n",
       "    }\n",
       "\n",
       "    .dataframe thead th {\n",
       "        text-align: right;\n",
       "    }\n",
       "</style>\n",
       "<table border=\"1\" class=\"dataframe\">\n",
       "  <thead>\n",
       "    <tr style=\"text-align: right;\">\n",
       "      <th></th>\n",
       "      <th>Notes</th>\n",
       "      <th>Amount</th>\n",
       "      <th>Category</th>\n",
       "      <th>Day</th>\n",
       "      <th>Month</th>\n",
       "      <th>Quarterly Period</th>\n",
       "      <th>Year</th>\n",
       "      <th>Date</th>\n",
       "    </tr>\n",
       "    <tr>\n",
       "      <th>ID</th>\n",
       "      <th></th>\n",
       "      <th></th>\n",
       "      <th></th>\n",
       "      <th></th>\n",
       "      <th></th>\n",
       "      <th></th>\n",
       "      <th></th>\n",
       "      <th></th>\n",
       "    </tr>\n",
       "  </thead>\n",
       "  <tbody>\n",
       "    <tr>\n",
       "      <th>4806</th>\n",
       "      <td>McDonald's double cheese Burger</td>\n",
       "      <td>3.9</td>\n",
       "      <td>Beef</td>\n",
       "      <td>3</td>\n",
       "      <td>3</td>\n",
       "      <td>2020Q1</td>\n",
       "      <td>2020</td>\n",
       "      <td>2020-03-25</td>\n",
       "    </tr>\n",
       "    <tr>\n",
       "      <th>4509</th>\n",
       "      <td>McDonald's double cheese Burger</td>\n",
       "      <td>3.9</td>\n",
       "      <td>Beef</td>\n",
       "      <td>2</td>\n",
       "      <td>1</td>\n",
       "      <td>2020Q1</td>\n",
       "      <td>2020</td>\n",
       "      <td>2020-01-07</td>\n",
       "    </tr>\n",
       "    <tr>\n",
       "      <th>3589</th>\n",
       "      <td>McDonald's cheese burger</td>\n",
       "      <td>2.3</td>\n",
       "      <td>Beef</td>\n",
       "      <td>2</td>\n",
       "      <td>4</td>\n",
       "      <td>2019Q2</td>\n",
       "      <td>2019</td>\n",
       "      <td>2019-04-23</td>\n",
       "    </tr>\n",
       "    <tr>\n",
       "      <th>34</th>\n",
       "      <td>McDonald's cheese burger</td>\n",
       "      <td>2.3</td>\n",
       "      <td>Beef</td>\n",
       "      <td>1</td>\n",
       "      <td>4</td>\n",
       "      <td>2019Q2</td>\n",
       "      <td>2019</td>\n",
       "      <td>2019-04-08</td>\n",
       "    </tr>\n",
       "    <tr>\n",
       "      <th>149</th>\n",
       "      <td>McDonald's double cheese Burger</td>\n",
       "      <td>3.5</td>\n",
       "      <td>Beef</td>\n",
       "      <td>5</td>\n",
       "      <td>3</td>\n",
       "      <td>2019Q1</td>\n",
       "      <td>2019</td>\n",
       "      <td>2019-03-08</td>\n",
       "    </tr>\n",
       "  </tbody>\n",
       "</table>\n",
       "</div>"
      ],
      "text/plain": [
       "                                Notes  Amount Category  Day  Month  \\\n",
       "ID                                                                   \n",
       "4806  McDonald's double cheese Burger     3.9     Beef    3      3   \n",
       "4509  McDonald's double cheese Burger     3.9     Beef    2      1   \n",
       "3589         McDonald's cheese burger     2.3     Beef    2      4   \n",
       "34           McDonald's cheese burger     2.3     Beef    1      4   \n",
       "149   McDonald's double cheese Burger     3.5     Beef    5      3   \n",
       "\n",
       "     Quarterly Period  Year       Date  \n",
       "ID                                      \n",
       "4806           2020Q1  2020 2020-03-25  \n",
       "4509           2020Q1  2020 2020-01-07  \n",
       "3589           2019Q2  2019 2019-04-23  \n",
       "34             2019Q2  2019 2019-04-08  \n",
       "149            2019Q1  2019 2019-03-08  "
      ]
     },
     "execution_count": 90,
     "metadata": {},
     "output_type": "execute_result"
    }
   ],
   "source": [
    "McDonald_Beef.loc[:, \"Category\"] = \"Beef\"\n",
    "McDonald_Beef.head()"
   ]
  },
  {
   "cell_type": "code",
   "execution_count": null,
   "metadata": {},
   "outputs": [],
   "source": []
  },
  {
   "cell_type": "code",
   "execution_count": 91,
   "metadata": {},
   "outputs": [
    {
     "data": {
      "text/plain": [
       "McDonald's double cheese Burger                     13\n",
       "McDonald's cheese burger                             6\n",
       "McDonald's double cheese Burger meal                 3\n",
       "McDonald Double Cheese Burger meal                   2\n",
       "McDonald's Big mac meal                              2\n",
       "McDonald's Big Mac Meal                              1\n",
       "Mcdonald double quarter pounder with cheese meal     1\n",
       "McDonald's McChicken with cheese burger              1\n",
       "McDonald's Big mac                                   1\n",
       "Mcdonald double cheese Burger                        1\n",
       "McDonald's mcdouble burger                           1\n",
       "Name: Notes, dtype: int64"
      ]
     },
     "execution_count": 91,
     "metadata": {},
     "output_type": "execute_result"
    }
   ],
   "source": [
    "McDonald_Beef[\"Notes\"].value_counts()"
   ]
  },
  {
   "cell_type": "code",
   "execution_count": 92,
   "metadata": {},
   "outputs": [],
   "source": [
    "unique_beef = pd.unique(McDonald_Beef[\"Notes\"])"
   ]
  },
  {
   "cell_type": "code",
   "execution_count": 93,
   "metadata": {},
   "outputs": [],
   "source": [
    "no_beef = len(McDonald_Beef) "
   ]
  },
  {
   "cell_type": "code",
   "execution_count": 94,
   "metadata": {},
   "outputs": [
    {
     "name": "stdout",
     "output_type": "stream",
     "text": [
      "Number of beef burgers: 32\n"
     ]
    }
   ],
   "source": [
    "print(\"Number of beef burgers:\", no_beef)"
   ]
  },
  {
   "cell_type": "markdown",
   "metadata": {},
   "source": [
    "## For Desserts"
   ]
  },
  {
   "cell_type": "code",
   "execution_count": 95,
   "metadata": {},
   "outputs": [],
   "source": [
    "McDonald_Desserts = McDonald_Exp[McDonald_Exp[\"Notes\"].str.contains(\"apple|peach|strawberry|mango|chicken pie|fries|sundae|hashbrown|ice cream\",case=False)]\n",
    "# McDonald_Desserts.reset_index(inplace=True)"
   ]
  },
  {
   "cell_type": "code",
   "execution_count": 96,
   "metadata": {},
   "outputs": [
    {
     "data": {
      "text/html": [
       "<div>\n",
       "<style scoped>\n",
       "    .dataframe tbody tr th:only-of-type {\n",
       "        vertical-align: middle;\n",
       "    }\n",
       "\n",
       "    .dataframe tbody tr th {\n",
       "        vertical-align: top;\n",
       "    }\n",
       "\n",
       "    .dataframe thead th {\n",
       "        text-align: right;\n",
       "    }\n",
       "</style>\n",
       "<table border=\"1\" class=\"dataframe\">\n",
       "  <thead>\n",
       "    <tr style=\"text-align: right;\">\n",
       "      <th></th>\n",
       "      <th>Notes</th>\n",
       "      <th>Amount</th>\n",
       "      <th>Category</th>\n",
       "      <th>Day</th>\n",
       "      <th>Month</th>\n",
       "      <th>Quarterly Period</th>\n",
       "      <th>Year</th>\n",
       "      <th>Date</th>\n",
       "    </tr>\n",
       "    <tr>\n",
       "      <th>ID</th>\n",
       "      <th></th>\n",
       "      <th></th>\n",
       "      <th></th>\n",
       "      <th></th>\n",
       "      <th></th>\n",
       "      <th></th>\n",
       "      <th></th>\n",
       "      <th></th>\n",
       "    </tr>\n",
       "  </thead>\n",
       "  <tbody>\n",
       "    <tr>\n",
       "      <th>4677</th>\n",
       "      <td>McDonald's hashbrown</td>\n",
       "      <td>1.9</td>\n",
       "      <td>Food &amp; Beverage</td>\n",
       "      <td>4</td>\n",
       "      <td>2</td>\n",
       "      <td>2020Q1</td>\n",
       "      <td>2020</td>\n",
       "      <td>2020-02-20</td>\n",
       "    </tr>\n",
       "    <tr>\n",
       "      <th>4498</th>\n",
       "      <td>McDonald's mango passion pie</td>\n",
       "      <td>1.5</td>\n",
       "      <td>Food &amp; Beverage</td>\n",
       "      <td>5</td>\n",
       "      <td>1</td>\n",
       "      <td>2020Q1</td>\n",
       "      <td>2020</td>\n",
       "      <td>2020-01-03</td>\n",
       "    </tr>\n",
       "    <tr>\n",
       "      <th>4196</th>\n",
       "      <td>McDonald's strawberry cream pie</td>\n",
       "      <td>1.5</td>\n",
       "      <td>Food &amp; Beverage</td>\n",
       "      <td>2</td>\n",
       "      <td>10</td>\n",
       "      <td>2019Q4</td>\n",
       "      <td>2019</td>\n",
       "      <td>2019-10-08</td>\n",
       "    </tr>\n",
       "    <tr>\n",
       "      <th>4069</th>\n",
       "      <td>McDonald's vanilla ice cream</td>\n",
       "      <td>0.8</td>\n",
       "      <td>Food &amp; Beverage</td>\n",
       "      <td>1</td>\n",
       "      <td>9</td>\n",
       "      <td>2019Q3</td>\n",
       "      <td>2019</td>\n",
       "      <td>2019-09-02</td>\n",
       "    </tr>\n",
       "    <tr>\n",
       "      <th>4051</th>\n",
       "      <td>McDonald's apple pie</td>\n",
       "      <td>1.2</td>\n",
       "      <td>Food &amp; Beverage</td>\n",
       "      <td>2</td>\n",
       "      <td>8</td>\n",
       "      <td>2019Q3</td>\n",
       "      <td>2019</td>\n",
       "      <td>2019-08-27</td>\n",
       "    </tr>\n",
       "  </tbody>\n",
       "</table>\n",
       "</div>"
      ],
      "text/plain": [
       "                                Notes  Amount         Category  Day  Month  \\\n",
       "ID                                                                           \n",
       "4677             McDonald's hashbrown     1.9  Food & Beverage    4      2   \n",
       "4498     McDonald's mango passion pie     1.5  Food & Beverage    5      1   \n",
       "4196  McDonald's strawberry cream pie     1.5  Food & Beverage    2     10   \n",
       "4069     McDonald's vanilla ice cream     0.8  Food & Beverage    1      9   \n",
       "4051             McDonald's apple pie     1.2  Food & Beverage    2      8   \n",
       "\n",
       "     Quarterly Period  Year       Date  \n",
       "ID                                      \n",
       "4677           2020Q1  2020 2020-02-20  \n",
       "4498           2020Q1  2020 2020-01-03  \n",
       "4196           2019Q4  2019 2019-10-08  \n",
       "4069           2019Q3  2019 2019-09-02  \n",
       "4051           2019Q3  2019 2019-08-27  "
      ]
     },
     "execution_count": 96,
     "metadata": {},
     "output_type": "execute_result"
    }
   ],
   "source": [
    "McDonald_Desserts.head()"
   ]
  },
  {
   "cell_type": "markdown",
   "metadata": {},
   "source": [
    "Adding `Desserts` into `Category`"
   ]
  },
  {
   "cell_type": "code",
   "execution_count": 97,
   "metadata": {},
   "outputs": [
    {
     "name": "stderr",
     "output_type": "stream",
     "text": [
      "C:\\Users\\Trogg\\anaconda3\\envs\\mlbook\\lib\\site-packages\\pandas\\core\\indexing.py:966: SettingWithCopyWarning: \n",
      "A value is trying to be set on a copy of a slice from a DataFrame.\n",
      "Try using .loc[row_indexer,col_indexer] = value instead\n",
      "\n",
      "See the caveats in the documentation: https://pandas.pydata.org/pandas-docs/stable/user_guide/indexing.html#returning-a-view-versus-a-copy\n",
      "  self.obj[item] = s\n"
     ]
    },
    {
     "data": {
      "text/html": [
       "<div>\n",
       "<style scoped>\n",
       "    .dataframe tbody tr th:only-of-type {\n",
       "        vertical-align: middle;\n",
       "    }\n",
       "\n",
       "    .dataframe tbody tr th {\n",
       "        vertical-align: top;\n",
       "    }\n",
       "\n",
       "    .dataframe thead th {\n",
       "        text-align: right;\n",
       "    }\n",
       "</style>\n",
       "<table border=\"1\" class=\"dataframe\">\n",
       "  <thead>\n",
       "    <tr style=\"text-align: right;\">\n",
       "      <th></th>\n",
       "      <th>Notes</th>\n",
       "      <th>Amount</th>\n",
       "      <th>Category</th>\n",
       "      <th>Day</th>\n",
       "      <th>Month</th>\n",
       "      <th>Quarterly Period</th>\n",
       "      <th>Year</th>\n",
       "      <th>Date</th>\n",
       "    </tr>\n",
       "    <tr>\n",
       "      <th>ID</th>\n",
       "      <th></th>\n",
       "      <th></th>\n",
       "      <th></th>\n",
       "      <th></th>\n",
       "      <th></th>\n",
       "      <th></th>\n",
       "      <th></th>\n",
       "      <th></th>\n",
       "    </tr>\n",
       "  </thead>\n",
       "  <tbody>\n",
       "    <tr>\n",
       "      <th>4677</th>\n",
       "      <td>McDonald's hashbrown</td>\n",
       "      <td>1.9</td>\n",
       "      <td>Desserts</td>\n",
       "      <td>4</td>\n",
       "      <td>2</td>\n",
       "      <td>2020Q1</td>\n",
       "      <td>2020</td>\n",
       "      <td>2020-02-20</td>\n",
       "    </tr>\n",
       "    <tr>\n",
       "      <th>4498</th>\n",
       "      <td>McDonald's mango passion pie</td>\n",
       "      <td>1.5</td>\n",
       "      <td>Desserts</td>\n",
       "      <td>5</td>\n",
       "      <td>1</td>\n",
       "      <td>2020Q1</td>\n",
       "      <td>2020</td>\n",
       "      <td>2020-01-03</td>\n",
       "    </tr>\n",
       "    <tr>\n",
       "      <th>4196</th>\n",
       "      <td>McDonald's strawberry cream pie</td>\n",
       "      <td>1.5</td>\n",
       "      <td>Desserts</td>\n",
       "      <td>2</td>\n",
       "      <td>10</td>\n",
       "      <td>2019Q4</td>\n",
       "      <td>2019</td>\n",
       "      <td>2019-10-08</td>\n",
       "    </tr>\n",
       "    <tr>\n",
       "      <th>4069</th>\n",
       "      <td>McDonald's vanilla ice cream</td>\n",
       "      <td>0.8</td>\n",
       "      <td>Desserts</td>\n",
       "      <td>1</td>\n",
       "      <td>9</td>\n",
       "      <td>2019Q3</td>\n",
       "      <td>2019</td>\n",
       "      <td>2019-09-02</td>\n",
       "    </tr>\n",
       "    <tr>\n",
       "      <th>4051</th>\n",
       "      <td>McDonald's apple pie</td>\n",
       "      <td>1.2</td>\n",
       "      <td>Desserts</td>\n",
       "      <td>2</td>\n",
       "      <td>8</td>\n",
       "      <td>2019Q3</td>\n",
       "      <td>2019</td>\n",
       "      <td>2019-08-27</td>\n",
       "    </tr>\n",
       "  </tbody>\n",
       "</table>\n",
       "</div>"
      ],
      "text/plain": [
       "                                Notes  Amount  Category  Day  Month  \\\n",
       "ID                                                                    \n",
       "4677             McDonald's hashbrown     1.9  Desserts    4      2   \n",
       "4498     McDonald's mango passion pie     1.5  Desserts    5      1   \n",
       "4196  McDonald's strawberry cream pie     1.5  Desserts    2     10   \n",
       "4069     McDonald's vanilla ice cream     0.8  Desserts    1      9   \n",
       "4051             McDonald's apple pie     1.2  Desserts    2      8   \n",
       "\n",
       "     Quarterly Period  Year       Date  \n",
       "ID                                      \n",
       "4677           2020Q1  2020 2020-02-20  \n",
       "4498           2020Q1  2020 2020-01-03  \n",
       "4196           2019Q4  2019 2019-10-08  \n",
       "4069           2019Q3  2019 2019-09-02  \n",
       "4051           2019Q3  2019 2019-08-27  "
      ]
     },
     "execution_count": 97,
     "metadata": {},
     "output_type": "execute_result"
    }
   ],
   "source": [
    "McDonald_Desserts.loc[:, \"Category\"] = \"Desserts\"\n",
    "McDonald_Desserts.head()"
   ]
  },
  {
   "cell_type": "code",
   "execution_count": null,
   "metadata": {},
   "outputs": [],
   "source": []
  },
  {
   "cell_type": "code",
   "execution_count": null,
   "metadata": {},
   "outputs": [],
   "source": []
  },
  {
   "cell_type": "code",
   "execution_count": 98,
   "metadata": {},
   "outputs": [
    {
     "data": {
      "text/plain": [
       "McDonald's apple pie                                    5\n",
       "McDonald's small fries                                  2\n",
       "McDonald's chicken muffin and hashbrown.                2\n",
       "McDonald's strawberry sundae                            1\n",
       "McDonald's Double Filet O Fish meal with curly fries    1\n",
       "McDonald's peach pie                                    1\n",
       "McDonald's strawberry cream pie                         1\n",
       "McDonald's McChicken Burger and apple pie               1\n",
       "McDonald's herb chicken pie                             1\n",
       "McDonald's mango passion pie                            1\n",
       "McDonald's McChicken Burger meal with twister fries     1\n",
       "McDonald's vanilla ice cream                            1\n",
       "McDonald's Filet O Fish meal with criss cut fries       1\n",
       "McDonald's hashbrown                                    1\n",
       "Name: Notes, dtype: int64"
      ]
     },
     "execution_count": 98,
     "metadata": {},
     "output_type": "execute_result"
    }
   ],
   "source": [
    "McDonald_Exp[McDonald_Exp[\"Notes\"].str.contains(\"apple|peach|strawberry|mango|chicken pie|fries|sundae|hashbrown|ice cream\", \n",
    "                                                case=False)][\"Notes\"].value_counts()"
   ]
  },
  {
   "cell_type": "code",
   "execution_count": 99,
   "metadata": {},
   "outputs": [],
   "source": [
    "unique_dessert= pd.unique(McDonald_Desserts[\"Notes\"])"
   ]
  },
  {
   "cell_type": "code",
   "execution_count": 100,
   "metadata": {},
   "outputs": [],
   "source": [
    "no_desserts = len(McDonald_Desserts)"
   ]
  },
  {
   "cell_type": "code",
   "execution_count": 101,
   "metadata": {},
   "outputs": [
    {
     "name": "stdout",
     "output_type": "stream",
     "text": [
      "Total number of McDonald_Desserts: 20\n"
     ]
    }
   ],
   "source": [
    "print(\"Total number of McDonald_Desserts:\",no_desserts)"
   ]
  },
  {
   "cell_type": "code",
   "execution_count": null,
   "metadata": {},
   "outputs": [],
   "source": []
  },
  {
   "cell_type": "code",
   "execution_count": null,
   "metadata": {},
   "outputs": [],
   "source": []
  },
  {
   "cell_type": "code",
   "execution_count": 102,
   "metadata": {},
   "outputs": [],
   "source": [
    "Frames = [McDonald_FishBurger, McDonald_ChickenBurger, McDonald_Sausage, McDonald_Beef, McDonald_Desserts]"
   ]
  },
  {
   "cell_type": "code",
   "execution_count": 103,
   "metadata": {},
   "outputs": [
    {
     "data": {
      "text/html": [
       "<div>\n",
       "<style scoped>\n",
       "    .dataframe tbody tr th:only-of-type {\n",
       "        vertical-align: middle;\n",
       "    }\n",
       "\n",
       "    .dataframe tbody tr th {\n",
       "        vertical-align: top;\n",
       "    }\n",
       "\n",
       "    .dataframe thead th {\n",
       "        text-align: right;\n",
       "    }\n",
       "</style>\n",
       "<table border=\"1\" class=\"dataframe\">\n",
       "  <thead>\n",
       "    <tr style=\"text-align: right;\">\n",
       "      <th></th>\n",
       "      <th>Notes</th>\n",
       "      <th>Amount</th>\n",
       "      <th>Category</th>\n",
       "      <th>Day</th>\n",
       "      <th>Month</th>\n",
       "      <th>Quarterly Period</th>\n",
       "      <th>Year</th>\n",
       "      <th>Date</th>\n",
       "    </tr>\n",
       "    <tr>\n",
       "      <th>ID</th>\n",
       "      <th></th>\n",
       "      <th></th>\n",
       "      <th></th>\n",
       "      <th></th>\n",
       "      <th></th>\n",
       "      <th></th>\n",
       "      <th></th>\n",
       "      <th></th>\n",
       "    </tr>\n",
       "  </thead>\n",
       "  <tbody>\n",
       "    <tr>\n",
       "      <th>4972</th>\n",
       "      <td>McDonald's breakfast wrap sausage</td>\n",
       "      <td>4.65</td>\n",
       "      <td>Sausage</td>\n",
       "      <td>2</td>\n",
       "      <td>5</td>\n",
       "      <td>2020Q2</td>\n",
       "      <td>2020</td>\n",
       "      <td>2020-05-12</td>\n",
       "    </tr>\n",
       "    <tr>\n",
       "      <th>4868</th>\n",
       "      <td>McDonald's sausage egg McGriddle</td>\n",
       "      <td>3.50</td>\n",
       "      <td>Sausage</td>\n",
       "      <td>1</td>\n",
       "      <td>4</td>\n",
       "      <td>2020Q2</td>\n",
       "      <td>2020</td>\n",
       "      <td>2020-04-13</td>\n",
       "    </tr>\n",
       "    <tr>\n",
       "      <th>4844</th>\n",
       "      <td>McDonald's Filet O Fish Burger</td>\n",
       "      <td>2.00</td>\n",
       "      <td>Fish</td>\n",
       "      <td>7</td>\n",
       "      <td>4</td>\n",
       "      <td>2020Q2</td>\n",
       "      <td>2020</td>\n",
       "      <td>2020-04-05</td>\n",
       "    </tr>\n",
       "    <tr>\n",
       "      <th>4828</th>\n",
       "      <td>McDonald's sausage egg McGriddle</td>\n",
       "      <td>3.50</td>\n",
       "      <td>Sausage</td>\n",
       "      <td>2</td>\n",
       "      <td>3</td>\n",
       "      <td>2020Q1</td>\n",
       "      <td>2020</td>\n",
       "      <td>2020-03-31</td>\n",
       "    </tr>\n",
       "    <tr>\n",
       "      <th>4806</th>\n",
       "      <td>McDonald's double cheese Burger</td>\n",
       "      <td>3.90</td>\n",
       "      <td>Beef</td>\n",
       "      <td>3</td>\n",
       "      <td>3</td>\n",
       "      <td>2020Q1</td>\n",
       "      <td>2020</td>\n",
       "      <td>2020-03-25</td>\n",
       "    </tr>\n",
       "    <tr>\n",
       "      <th>...</th>\n",
       "      <td>...</td>\n",
       "      <td>...</td>\n",
       "      <td>...</td>\n",
       "      <td>...</td>\n",
       "      <td>...</td>\n",
       "      <td>...</td>\n",
       "      <td>...</td>\n",
       "      <td>...</td>\n",
       "    </tr>\n",
       "    <tr>\n",
       "      <th>52</th>\n",
       "      <td>McDonald's small fries</td>\n",
       "      <td>1.50</td>\n",
       "      <td>Desserts</td>\n",
       "      <td>5</td>\n",
       "      <td>4</td>\n",
       "      <td>2019Q2</td>\n",
       "      <td>2019</td>\n",
       "      <td>2019-04-05</td>\n",
       "    </tr>\n",
       "    <tr>\n",
       "      <th>51</th>\n",
       "      <td>McDonald's sweet chili fish burger</td>\n",
       "      <td>6.00</td>\n",
       "      <td>Fish</td>\n",
       "      <td>5</td>\n",
       "      <td>4</td>\n",
       "      <td>2019Q2</td>\n",
       "      <td>2019</td>\n",
       "      <td>2019-04-05</td>\n",
       "    </tr>\n",
       "    <tr>\n",
       "      <th>34</th>\n",
       "      <td>McDonald's cheese burger</td>\n",
       "      <td>2.30</td>\n",
       "      <td>Beef</td>\n",
       "      <td>1</td>\n",
       "      <td>4</td>\n",
       "      <td>2019Q2</td>\n",
       "      <td>2019</td>\n",
       "      <td>2019-04-08</td>\n",
       "    </tr>\n",
       "    <tr>\n",
       "      <th>21</th>\n",
       "      <td>McDonald's McChicken Burger</td>\n",
       "      <td>2.00</td>\n",
       "      <td>Chicken</td>\n",
       "      <td>4</td>\n",
       "      <td>4</td>\n",
       "      <td>2019Q2</td>\n",
       "      <td>2019</td>\n",
       "      <td>2019-04-11</td>\n",
       "    </tr>\n",
       "    <tr>\n",
       "      <th>19</th>\n",
       "      <td>McDonald's Filet O Fish Burger</td>\n",
       "      <td>2.80</td>\n",
       "      <td>Fish</td>\n",
       "      <td>5</td>\n",
       "      <td>4</td>\n",
       "      <td>2019Q2</td>\n",
       "      <td>2019</td>\n",
       "      <td>2019-04-12</td>\n",
       "    </tr>\n",
       "  </tbody>\n",
       "</table>\n",
       "<p>230 rows × 8 columns</p>\n",
       "</div>"
      ],
      "text/plain": [
       "                                   Notes  Amount  Category  Day  Month  \\\n",
       "ID                                                                       \n",
       "4972   McDonald's breakfast wrap sausage    4.65   Sausage    2      5   \n",
       "4868    McDonald's sausage egg McGriddle    3.50   Sausage    1      4   \n",
       "4844      McDonald's Filet O Fish Burger    2.00      Fish    7      4   \n",
       "4828    McDonald's sausage egg McGriddle    3.50   Sausage    2      3   \n",
       "4806     McDonald's double cheese Burger    3.90      Beef    3      3   \n",
       "...                                  ...     ...       ...  ...    ...   \n",
       "52                McDonald's small fries    1.50  Desserts    5      4   \n",
       "51    McDonald's sweet chili fish burger    6.00      Fish    5      4   \n",
       "34              McDonald's cheese burger    2.30      Beef    1      4   \n",
       "21           McDonald's McChicken Burger    2.00   Chicken    4      4   \n",
       "19        McDonald's Filet O Fish Burger    2.80      Fish    5      4   \n",
       "\n",
       "     Quarterly Period  Year       Date  \n",
       "ID                                      \n",
       "4972           2020Q2  2020 2020-05-12  \n",
       "4868           2020Q2  2020 2020-04-13  \n",
       "4844           2020Q2  2020 2020-04-05  \n",
       "4828           2020Q1  2020 2020-03-31  \n",
       "4806           2020Q1  2020 2020-03-25  \n",
       "...               ...   ...        ...  \n",
       "52             2019Q2  2019 2019-04-05  \n",
       "51             2019Q2  2019 2019-04-05  \n",
       "34             2019Q2  2019 2019-04-08  \n",
       "21             2019Q2  2019 2019-04-11  \n",
       "19             2019Q2  2019 2019-04-12  \n",
       "\n",
       "[230 rows x 8 columns]"
      ]
     },
     "execution_count": 103,
     "metadata": {},
     "output_type": "execute_result"
    }
   ],
   "source": [
    "Combined_Food_Cat = pd.concat(Frames, join='outer')\n",
    "Combined_Food_Cat.sort_values(by=\"ID\",ascending=False)"
   ]
  },
  {
   "cell_type": "code",
   "execution_count": 104,
   "metadata": {},
   "outputs": [
    {
     "data": {
      "text/plain": [
       "Chicken     104\n",
       "Fish         51\n",
       "Beef         32\n",
       "Sausage      23\n",
       "Desserts     20\n",
       "Name: Category, dtype: int64"
      ]
     },
     "execution_count": 104,
     "metadata": {},
     "output_type": "execute_result"
    }
   ],
   "source": [
    "Combined_Food_Cat[\"Category\"].value_counts()"
   ]
  },
  {
   "cell_type": "markdown",
   "metadata": {},
   "source": [
    "## Extra"
   ]
  },
  {
   "cell_type": "markdown",
   "metadata": {},
   "source": [
    "Outputting `Combined_Food_Cat` into csv. Have to try to use excel to see where are the duplicate values"
   ]
  },
  {
   "cell_type": "code",
   "execution_count": 105,
   "metadata": {},
   "outputs": [],
   "source": [
    "# Combined_Food_Cat.to_csv(path_or_buf=r\"D:\\TV Shows\\Machine Learning and Deep Learning\\ML_Projects\\My Expenditure\\Dataset\\Combined_Food_Cat.csv\",\n",
    "#          columns=[\"Notes\" , \"Amount\", \"Day\", \"Month\", \"Quarterly Period\", \"Year\", \"Date\", \"Category\"])"
   ]
  },
  {
   "cell_type": "code",
   "execution_count": null,
   "metadata": {},
   "outputs": [],
   "source": []
  },
  {
   "cell_type": "markdown",
   "metadata": {},
   "source": [
    "**In the data frames there are some food that repeat themselves which is why there are duplicates.**\n",
    "\n",
    "Overlapping keywords for each category:\n",
    "\n",
    "Fish:\n",
    "\n",
    "Chicken: McChicken, fries, chicken pie\n",
    "\n",
    "Sausage: \n",
    "\n",
    "Beef:\n",
    "\n",
    "Desserts: fries, pie\n",
    "\n",
    "**First**,\n",
    "\n",
    "Resolve the strings with `herb chicken pie`. It'll be classsified under *deserts*.\n",
    "\n",
    "**Second**,\n",
    "\n",
    "Add the following strings with `apple`, `peach`, `strawberry`, `mango` to *dessert* categories\n",
    "\n",
    "**Third**,\n",
    "\n",
    "1) Need to get rid of the duplicate values in *duplicate values*.\n",
    "\n",
    "\n"
   ]
  },
  {
   "cell_type": "code",
   "execution_count": 106,
   "metadata": {},
   "outputs": [
    {
     "name": "stdout",
     "output_type": "stream",
     "text": [
      "Total number of meals in Combine_Food_Cat: 230\n"
     ]
    }
   ],
   "source": [
    "print(\"Total number of meals in Combine_Food_Cat:\",len(Combined_Food_Cat))"
   ]
  },
  {
   "cell_type": "code",
   "execution_count": 107,
   "metadata": {},
   "outputs": [
    {
     "name": "stdout",
     "output_type": "stream",
     "text": [
      "Total number of meals in all categories: 230\n"
     ]
    }
   ],
   "source": [
    "print(\"Total number of meals in all categories:\", no_fish + no_chicken + no_sausage + no_beef + no_desserts)"
   ]
  },
  {
   "cell_type": "code",
   "execution_count": 108,
   "metadata": {},
   "outputs": [
    {
     "name": "stdout",
     "output_type": "stream",
     "text": [
      "Total number of rows in McDonald_Exp: 223\n"
     ]
    }
   ],
   "source": [
    "print(\"Total number of rows in McDonald_Exp:\", len(McDonald_Exp))"
   ]
  },
  {
   "cell_type": "code",
   "execution_count": null,
   "metadata": {},
   "outputs": [],
   "source": []
  },
  {
   "cell_type": "markdown",
   "metadata": {},
   "source": [
    "Checking `Food & Beverage` in `Combined_Food_Cat`"
   ]
  },
  {
   "cell_type": "code",
   "execution_count": 109,
   "metadata": {},
   "outputs": [
    {
     "data": {
      "text/html": [
       "<div>\n",
       "<style scoped>\n",
       "    .dataframe tbody tr th:only-of-type {\n",
       "        vertical-align: middle;\n",
       "    }\n",
       "\n",
       "    .dataframe tbody tr th {\n",
       "        vertical-align: top;\n",
       "    }\n",
       "\n",
       "    .dataframe thead th {\n",
       "        text-align: right;\n",
       "    }\n",
       "</style>\n",
       "<table border=\"1\" class=\"dataframe\">\n",
       "  <thead>\n",
       "    <tr style=\"text-align: right;\">\n",
       "      <th></th>\n",
       "      <th>Notes</th>\n",
       "      <th>Amount</th>\n",
       "      <th>Category</th>\n",
       "      <th>Day</th>\n",
       "      <th>Month</th>\n",
       "      <th>Quarterly Period</th>\n",
       "      <th>Year</th>\n",
       "      <th>Date</th>\n",
       "    </tr>\n",
       "    <tr>\n",
       "      <th>ID</th>\n",
       "      <th></th>\n",
       "      <th></th>\n",
       "      <th></th>\n",
       "      <th></th>\n",
       "      <th></th>\n",
       "      <th></th>\n",
       "      <th></th>\n",
       "      <th></th>\n",
       "    </tr>\n",
       "  </thead>\n",
       "  <tbody>\n",
       "  </tbody>\n",
       "</table>\n",
       "</div>"
      ],
      "text/plain": [
       "Empty DataFrame\n",
       "Columns: [Notes, Amount, Category, Day, Month, Quarterly Period, Year, Date]\n",
       "Index: []"
      ]
     },
     "execution_count": 109,
     "metadata": {},
     "output_type": "execute_result"
    }
   ],
   "source": [
    "Combined_Food_Cat[Combined_Food_Cat[\"Category\"] == \"Food & Beverage\"]"
   ]
  },
  {
   "cell_type": "markdown",
   "metadata": {},
   "source": [
    "Checking for **duplicate values** in `Combined_Food_Cat`"
   ]
  },
  {
   "cell_type": "code",
   "execution_count": 110,
   "metadata": {},
   "outputs": [
    {
     "data": {
      "text/html": [
       "<div>\n",
       "<style scoped>\n",
       "    .dataframe tbody tr th:only-of-type {\n",
       "        vertical-align: middle;\n",
       "    }\n",
       "\n",
       "    .dataframe tbody tr th {\n",
       "        vertical-align: top;\n",
       "    }\n",
       "\n",
       "    .dataframe thead th {\n",
       "        text-align: right;\n",
       "    }\n",
       "</style>\n",
       "<table border=\"1\" class=\"dataframe\">\n",
       "  <thead>\n",
       "    <tr style=\"text-align: right;\">\n",
       "      <th></th>\n",
       "      <th>Notes</th>\n",
       "      <th>Amount</th>\n",
       "      <th>Category</th>\n",
       "      <th>Day</th>\n",
       "      <th>Month</th>\n",
       "      <th>Quarterly Period</th>\n",
       "      <th>Year</th>\n",
       "      <th>Date</th>\n",
       "    </tr>\n",
       "    <tr>\n",
       "      <th>ID</th>\n",
       "      <th></th>\n",
       "      <th></th>\n",
       "      <th></th>\n",
       "      <th></th>\n",
       "      <th></th>\n",
       "      <th></th>\n",
       "      <th></th>\n",
       "      <th></th>\n",
       "    </tr>\n",
       "  </thead>\n",
       "  <tbody>\n",
       "    <tr>\n",
       "      <th>307</th>\n",
       "      <td>McDonald's McChicken Burger meal with twister ...</td>\n",
       "      <td>5.7</td>\n",
       "      <td>Chicken</td>\n",
       "      <td>2</td>\n",
       "      <td>1</td>\n",
       "      <td>2019Q1</td>\n",
       "      <td>2019</td>\n",
       "      <td>2019-01-29</td>\n",
       "    </tr>\n",
       "    <tr>\n",
       "      <th>307</th>\n",
       "      <td>McDonald's McChicken Burger meal with twister ...</td>\n",
       "      <td>5.7</td>\n",
       "      <td>Desserts</td>\n",
       "      <td>2</td>\n",
       "      <td>1</td>\n",
       "      <td>2019Q1</td>\n",
       "      <td>2019</td>\n",
       "      <td>2019-01-29</td>\n",
       "    </tr>\n",
       "    <tr>\n",
       "      <th>783</th>\n",
       "      <td>McDonald's McChicken Burger and apple pie</td>\n",
       "      <td>3.0</td>\n",
       "      <td>Chicken</td>\n",
       "      <td>1</td>\n",
       "      <td>9</td>\n",
       "      <td>2018Q3</td>\n",
       "      <td>2018</td>\n",
       "      <td>2018-09-10</td>\n",
       "    </tr>\n",
       "    <tr>\n",
       "      <th>783</th>\n",
       "      <td>McDonald's McChicken Burger and apple pie</td>\n",
       "      <td>3.0</td>\n",
       "      <td>Desserts</td>\n",
       "      <td>1</td>\n",
       "      <td>9</td>\n",
       "      <td>2018Q3</td>\n",
       "      <td>2018</td>\n",
       "      <td>2018-09-10</td>\n",
       "    </tr>\n",
       "    <tr>\n",
       "      <th>841</th>\n",
       "      <td>McDonald's Filet O Fish meal with criss cut fries</td>\n",
       "      <td>5.7</td>\n",
       "      <td>Fish</td>\n",
       "      <td>6</td>\n",
       "      <td>8</td>\n",
       "      <td>2018Q3</td>\n",
       "      <td>2018</td>\n",
       "      <td>2018-08-25</td>\n",
       "    </tr>\n",
       "    <tr>\n",
       "      <th>841</th>\n",
       "      <td>McDonald's Filet O Fish meal with criss cut fries</td>\n",
       "      <td>5.7</td>\n",
       "      <td>Desserts</td>\n",
       "      <td>6</td>\n",
       "      <td>8</td>\n",
       "      <td>2018Q3</td>\n",
       "      <td>2018</td>\n",
       "      <td>2018-08-25</td>\n",
       "    </tr>\n",
       "    <tr>\n",
       "      <th>2113</th>\n",
       "      <td>McDonald's McChicken with cheese burger</td>\n",
       "      <td>2.6</td>\n",
       "      <td>Chicken</td>\n",
       "      <td>3</td>\n",
       "      <td>2</td>\n",
       "      <td>2017Q1</td>\n",
       "      <td>2017</td>\n",
       "      <td>2017-02-08</td>\n",
       "    </tr>\n",
       "    <tr>\n",
       "      <th>2113</th>\n",
       "      <td>McDonald's McChicken with cheese burger</td>\n",
       "      <td>2.6</td>\n",
       "      <td>Beef</td>\n",
       "      <td>3</td>\n",
       "      <td>2</td>\n",
       "      <td>2017Q1</td>\n",
       "      <td>2017</td>\n",
       "      <td>2017-02-08</td>\n",
       "    </tr>\n",
       "    <tr>\n",
       "      <th>2676</th>\n",
       "      <td>McDonald's Double Filet O Fish meal with curly...</td>\n",
       "      <td>7.4</td>\n",
       "      <td>Fish</td>\n",
       "      <td>4</td>\n",
       "      <td>8</td>\n",
       "      <td>2015Q3</td>\n",
       "      <td>2015</td>\n",
       "      <td>2015-08-06</td>\n",
       "    </tr>\n",
       "    <tr>\n",
       "      <th>2676</th>\n",
       "      <td>McDonald's Double Filet O Fish meal with curly...</td>\n",
       "      <td>7.4</td>\n",
       "      <td>Desserts</td>\n",
       "      <td>4</td>\n",
       "      <td>8</td>\n",
       "      <td>2015Q3</td>\n",
       "      <td>2015</td>\n",
       "      <td>2015-08-06</td>\n",
       "    </tr>\n",
       "    <tr>\n",
       "      <th>3384</th>\n",
       "      <td>McDonald's chicken muffin and hashbrown.</td>\n",
       "      <td>3.9</td>\n",
       "      <td>Chicken</td>\n",
       "      <td>2</td>\n",
       "      <td>7</td>\n",
       "      <td>2014Q3</td>\n",
       "      <td>2014</td>\n",
       "      <td>2014-07-08</td>\n",
       "    </tr>\n",
       "    <tr>\n",
       "      <th>3384</th>\n",
       "      <td>McDonald's chicken muffin and hashbrown.</td>\n",
       "      <td>3.9</td>\n",
       "      <td>Desserts</td>\n",
       "      <td>2</td>\n",
       "      <td>7</td>\n",
       "      <td>2014Q3</td>\n",
       "      <td>2014</td>\n",
       "      <td>2014-07-08</td>\n",
       "    </tr>\n",
       "    <tr>\n",
       "      <th>3394</th>\n",
       "      <td>McDonald's chicken muffin and hashbrown.</td>\n",
       "      <td>3.9</td>\n",
       "      <td>Chicken</td>\n",
       "      <td>5</td>\n",
       "      <td>7</td>\n",
       "      <td>2014Q3</td>\n",
       "      <td>2014</td>\n",
       "      <td>2014-07-04</td>\n",
       "    </tr>\n",
       "    <tr>\n",
       "      <th>3394</th>\n",
       "      <td>McDonald's chicken muffin and hashbrown.</td>\n",
       "      <td>3.9</td>\n",
       "      <td>Desserts</td>\n",
       "      <td>5</td>\n",
       "      <td>7</td>\n",
       "      <td>2014Q3</td>\n",
       "      <td>2014</td>\n",
       "      <td>2014-07-04</td>\n",
       "    </tr>\n",
       "  </tbody>\n",
       "</table>\n",
       "</div>"
      ],
      "text/plain": [
       "                                                  Notes  Amount  Category  \\\n",
       "ID                                                                          \n",
       "307   McDonald's McChicken Burger meal with twister ...     5.7   Chicken   \n",
       "307   McDonald's McChicken Burger meal with twister ...     5.7  Desserts   \n",
       "783           McDonald's McChicken Burger and apple pie     3.0   Chicken   \n",
       "783           McDonald's McChicken Burger and apple pie     3.0  Desserts   \n",
       "841   McDonald's Filet O Fish meal with criss cut fries     5.7      Fish   \n",
       "841   McDonald's Filet O Fish meal with criss cut fries     5.7  Desserts   \n",
       "2113            McDonald's McChicken with cheese burger     2.6   Chicken   \n",
       "2113            McDonald's McChicken with cheese burger     2.6      Beef   \n",
       "2676  McDonald's Double Filet O Fish meal with curly...     7.4      Fish   \n",
       "2676  McDonald's Double Filet O Fish meal with curly...     7.4  Desserts   \n",
       "3384           McDonald's chicken muffin and hashbrown.     3.9   Chicken   \n",
       "3384           McDonald's chicken muffin and hashbrown.     3.9  Desserts   \n",
       "3394           McDonald's chicken muffin and hashbrown.     3.9   Chicken   \n",
       "3394           McDonald's chicken muffin and hashbrown.     3.9  Desserts   \n",
       "\n",
       "      Day  Month Quarterly Period  Year       Date  \n",
       "ID                                                  \n",
       "307     2      1           2019Q1  2019 2019-01-29  \n",
       "307     2      1           2019Q1  2019 2019-01-29  \n",
       "783     1      9           2018Q3  2018 2018-09-10  \n",
       "783     1      9           2018Q3  2018 2018-09-10  \n",
       "841     6      8           2018Q3  2018 2018-08-25  \n",
       "841     6      8           2018Q3  2018 2018-08-25  \n",
       "2113    3      2           2017Q1  2017 2017-02-08  \n",
       "2113    3      2           2017Q1  2017 2017-02-08  \n",
       "2676    4      8           2015Q3  2015 2015-08-06  \n",
       "2676    4      8           2015Q3  2015 2015-08-06  \n",
       "3384    2      7           2014Q3  2014 2014-07-08  \n",
       "3384    2      7           2014Q3  2014 2014-07-08  \n",
       "3394    5      7           2014Q3  2014 2014-07-04  \n",
       "3394    5      7           2014Q3  2014 2014-07-04  "
      ]
     },
     "execution_count": 110,
     "metadata": {},
     "output_type": "execute_result"
    }
   ],
   "source": [
    "Combined_Food_Cat[Combined_Food_Cat.index.duplicated(keep=False)].sort_index()"
   ]
  },
  {
   "cell_type": "markdown",
   "metadata": {},
   "source": [
    "There are 7 duplicates found in `Combined_Cat_Food`. Need to remove them."
   ]
  },
  {
   "cell_type": "markdown",
   "metadata": {},
   "source": [
    "Checking for **missing values** in `Combined_Food_Cat`"
   ]
  },
  {
   "cell_type": "code",
   "execution_count": 111,
   "metadata": {},
   "outputs": [
    {
     "data": {
      "text/html": [
       "<div>\n",
       "<style scoped>\n",
       "    .dataframe tbody tr th:only-of-type {\n",
       "        vertical-align: middle;\n",
       "    }\n",
       "\n",
       "    .dataframe tbody tr th {\n",
       "        vertical-align: top;\n",
       "    }\n",
       "\n",
       "    .dataframe thead th {\n",
       "        text-align: right;\n",
       "    }\n",
       "</style>\n",
       "<table border=\"1\" class=\"dataframe\">\n",
       "  <thead>\n",
       "    <tr style=\"text-align: right;\">\n",
       "      <th></th>\n",
       "      <th>Notes</th>\n",
       "      <th>Amount</th>\n",
       "      <th>Category</th>\n",
       "      <th>Day</th>\n",
       "      <th>Month</th>\n",
       "      <th>Quarterly Period</th>\n",
       "      <th>Year</th>\n",
       "      <th>Date</th>\n",
       "    </tr>\n",
       "    <tr>\n",
       "      <th>ID</th>\n",
       "      <th></th>\n",
       "      <th></th>\n",
       "      <th></th>\n",
       "      <th></th>\n",
       "      <th></th>\n",
       "      <th></th>\n",
       "      <th></th>\n",
       "      <th></th>\n",
       "    </tr>\n",
       "  </thead>\n",
       "  <tbody>\n",
       "  </tbody>\n",
       "</table>\n",
       "</div>"
      ],
      "text/plain": [
       "Empty DataFrame\n",
       "Columns: [Notes, Amount, Category, Day, Month, Quarterly Period, Year, Date]\n",
       "Index: []"
      ]
     },
     "execution_count": 111,
     "metadata": {},
     "output_type": "execute_result"
    }
   ],
   "source": [
    "Combined_Food_Cat[Combined_Food_Cat.isnull().values.any(axis=1)]"
   ]
  },
  {
   "cell_type": "markdown",
   "metadata": {},
   "source": [
    "Checking if all the categories add up"
   ]
  },
  {
   "cell_type": "code",
   "execution_count": 112,
   "metadata": {},
   "outputs": [
    {
     "data": {
      "text/plain": [
       "Chicken     104\n",
       "Fish         51\n",
       "Beef         32\n",
       "Sausage      23\n",
       "Desserts     20\n",
       "Name: Category, dtype: int64"
      ]
     },
     "execution_count": 112,
     "metadata": {},
     "output_type": "execute_result"
    }
   ],
   "source": [
    "Combined_Food_Cat[\"Category\"].value_counts()"
   ]
  },
  {
   "cell_type": "code",
   "execution_count": 113,
   "metadata": {},
   "outputs": [
    {
     "data": {
      "text/plain": [
       "104"
      ]
     },
     "execution_count": 113,
     "metadata": {},
     "output_type": "execute_result"
    }
   ],
   "source": [
    "no_chicken"
   ]
  },
  {
   "cell_type": "code",
   "execution_count": 114,
   "metadata": {},
   "outputs": [
    {
     "data": {
      "text/plain": [
       "51"
      ]
     },
     "execution_count": 114,
     "metadata": {},
     "output_type": "execute_result"
    }
   ],
   "source": [
    "no_fish"
   ]
  },
  {
   "cell_type": "code",
   "execution_count": 115,
   "metadata": {},
   "outputs": [
    {
     "data": {
      "text/plain": [
       "32"
      ]
     },
     "execution_count": 115,
     "metadata": {},
     "output_type": "execute_result"
    }
   ],
   "source": [
    "no_beef"
   ]
  },
  {
   "cell_type": "code",
   "execution_count": 116,
   "metadata": {},
   "outputs": [
    {
     "data": {
      "text/plain": [
       "23"
      ]
     },
     "execution_count": 116,
     "metadata": {},
     "output_type": "execute_result"
    }
   ],
   "source": [
    "no_sausage"
   ]
  },
  {
   "cell_type": "code",
   "execution_count": 117,
   "metadata": {},
   "outputs": [
    {
     "data": {
      "text/plain": [
       "20"
      ]
     },
     "execution_count": 117,
     "metadata": {},
     "output_type": "execute_result"
    }
   ],
   "source": [
    "no_desserts"
   ]
  },
  {
   "cell_type": "markdown",
   "metadata": {},
   "source": [
    "Checking if the amount for `Combined_Food_Cat` and `McDonald_Exp` are the same"
   ]
  },
  {
   "cell_type": "code",
   "execution_count": 118,
   "metadata": {},
   "outputs": [
    {
     "name": "stdout",
     "output_type": "stream",
     "text": [
      "Total amount spent for Combined_Food_Cat: 801.3\n"
     ]
    }
   ],
   "source": [
    "print(\"Total amount spent for Combined_Food_Cat:\",Combined_Food_Cat[\"Amount\"].sum())"
   ]
  },
  {
   "cell_type": "code",
   "execution_count": 119,
   "metadata": {},
   "outputs": [
    {
     "name": "stdout",
     "output_type": "stream",
     "text": [
      "Total amount spent for McDonald_Exp: 769.0999999999999\n"
     ]
    }
   ],
   "source": [
    "print(\"Total amount spent for McDonald_Exp:\",McDonald_Exp[\"Amount\"].sum())"
   ]
  },
  {
   "cell_type": "code",
   "execution_count": null,
   "metadata": {},
   "outputs": [],
   "source": []
  },
  {
   "cell_type": "code",
   "execution_count": null,
   "metadata": {},
   "outputs": [],
   "source": []
  },
  {
   "cell_type": "markdown",
   "metadata": {},
   "source": [
    "## Removing duplicate values in `Combined_Food_Cat`"
   ]
  },
  {
   "cell_type": "code",
   "execution_count": 120,
   "metadata": {},
   "outputs": [],
   "source": [
    "duplicate_values = Combined_Food_Cat[Combined_Food_Cat.index.duplicated(keep=False)].sort_index()\n",
    "# Extra\n",
    "# Combined_Food_Cat[Combined_Food_Cat.index.duplicated(keep=False)].sort_index()\n",
    "non_duplicate_values = duplicate_values.iloc[::2, :]"
   ]
  },
  {
   "cell_type": "markdown",
   "metadata": {},
   "source": [
    "**Important**: Need to add `sort_index()` if not it'll skip the duplicates ID"
   ]
  },
  {
   "cell_type": "code",
   "execution_count": 121,
   "metadata": {
    "scrolled": false
   },
   "outputs": [
    {
     "data": {
      "text/html": [
       "<div>\n",
       "<style scoped>\n",
       "    .dataframe tbody tr th:only-of-type {\n",
       "        vertical-align: middle;\n",
       "    }\n",
       "\n",
       "    .dataframe tbody tr th {\n",
       "        vertical-align: top;\n",
       "    }\n",
       "\n",
       "    .dataframe thead th {\n",
       "        text-align: right;\n",
       "    }\n",
       "</style>\n",
       "<table border=\"1\" class=\"dataframe\">\n",
       "  <thead>\n",
       "    <tr style=\"text-align: right;\">\n",
       "      <th></th>\n",
       "      <th>Notes</th>\n",
       "      <th>Amount</th>\n",
       "      <th>Category</th>\n",
       "      <th>Day</th>\n",
       "      <th>Month</th>\n",
       "      <th>Quarterly Period</th>\n",
       "      <th>Year</th>\n",
       "      <th>Date</th>\n",
       "    </tr>\n",
       "    <tr>\n",
       "      <th>ID</th>\n",
       "      <th></th>\n",
       "      <th></th>\n",
       "      <th></th>\n",
       "      <th></th>\n",
       "      <th></th>\n",
       "      <th></th>\n",
       "      <th></th>\n",
       "      <th></th>\n",
       "    </tr>\n",
       "  </thead>\n",
       "  <tbody>\n",
       "    <tr>\n",
       "      <th>307</th>\n",
       "      <td>McDonald's McChicken Burger meal with twister ...</td>\n",
       "      <td>5.7</td>\n",
       "      <td>Chicken</td>\n",
       "      <td>2</td>\n",
       "      <td>1</td>\n",
       "      <td>2019Q1</td>\n",
       "      <td>2019</td>\n",
       "      <td>2019-01-29</td>\n",
       "    </tr>\n",
       "    <tr>\n",
       "      <th>307</th>\n",
       "      <td>McDonald's McChicken Burger meal with twister ...</td>\n",
       "      <td>5.7</td>\n",
       "      <td>Desserts</td>\n",
       "      <td>2</td>\n",
       "      <td>1</td>\n",
       "      <td>2019Q1</td>\n",
       "      <td>2019</td>\n",
       "      <td>2019-01-29</td>\n",
       "    </tr>\n",
       "    <tr>\n",
       "      <th>783</th>\n",
       "      <td>McDonald's McChicken Burger and apple pie</td>\n",
       "      <td>3.0</td>\n",
       "      <td>Chicken</td>\n",
       "      <td>1</td>\n",
       "      <td>9</td>\n",
       "      <td>2018Q3</td>\n",
       "      <td>2018</td>\n",
       "      <td>2018-09-10</td>\n",
       "    </tr>\n",
       "    <tr>\n",
       "      <th>783</th>\n",
       "      <td>McDonald's McChicken Burger and apple pie</td>\n",
       "      <td>3.0</td>\n",
       "      <td>Desserts</td>\n",
       "      <td>1</td>\n",
       "      <td>9</td>\n",
       "      <td>2018Q3</td>\n",
       "      <td>2018</td>\n",
       "      <td>2018-09-10</td>\n",
       "    </tr>\n",
       "    <tr>\n",
       "      <th>841</th>\n",
       "      <td>McDonald's Filet O Fish meal with criss cut fries</td>\n",
       "      <td>5.7</td>\n",
       "      <td>Fish</td>\n",
       "      <td>6</td>\n",
       "      <td>8</td>\n",
       "      <td>2018Q3</td>\n",
       "      <td>2018</td>\n",
       "      <td>2018-08-25</td>\n",
       "    </tr>\n",
       "    <tr>\n",
       "      <th>841</th>\n",
       "      <td>McDonald's Filet O Fish meal with criss cut fries</td>\n",
       "      <td>5.7</td>\n",
       "      <td>Desserts</td>\n",
       "      <td>6</td>\n",
       "      <td>8</td>\n",
       "      <td>2018Q3</td>\n",
       "      <td>2018</td>\n",
       "      <td>2018-08-25</td>\n",
       "    </tr>\n",
       "    <tr>\n",
       "      <th>2113</th>\n",
       "      <td>McDonald's McChicken with cheese burger</td>\n",
       "      <td>2.6</td>\n",
       "      <td>Chicken</td>\n",
       "      <td>3</td>\n",
       "      <td>2</td>\n",
       "      <td>2017Q1</td>\n",
       "      <td>2017</td>\n",
       "      <td>2017-02-08</td>\n",
       "    </tr>\n",
       "    <tr>\n",
       "      <th>2113</th>\n",
       "      <td>McDonald's McChicken with cheese burger</td>\n",
       "      <td>2.6</td>\n",
       "      <td>Beef</td>\n",
       "      <td>3</td>\n",
       "      <td>2</td>\n",
       "      <td>2017Q1</td>\n",
       "      <td>2017</td>\n",
       "      <td>2017-02-08</td>\n",
       "    </tr>\n",
       "    <tr>\n",
       "      <th>2676</th>\n",
       "      <td>McDonald's Double Filet O Fish meal with curly...</td>\n",
       "      <td>7.4</td>\n",
       "      <td>Fish</td>\n",
       "      <td>4</td>\n",
       "      <td>8</td>\n",
       "      <td>2015Q3</td>\n",
       "      <td>2015</td>\n",
       "      <td>2015-08-06</td>\n",
       "    </tr>\n",
       "    <tr>\n",
       "      <th>2676</th>\n",
       "      <td>McDonald's Double Filet O Fish meal with curly...</td>\n",
       "      <td>7.4</td>\n",
       "      <td>Desserts</td>\n",
       "      <td>4</td>\n",
       "      <td>8</td>\n",
       "      <td>2015Q3</td>\n",
       "      <td>2015</td>\n",
       "      <td>2015-08-06</td>\n",
       "    </tr>\n",
       "    <tr>\n",
       "      <th>3384</th>\n",
       "      <td>McDonald's chicken muffin and hashbrown.</td>\n",
       "      <td>3.9</td>\n",
       "      <td>Chicken</td>\n",
       "      <td>2</td>\n",
       "      <td>7</td>\n",
       "      <td>2014Q3</td>\n",
       "      <td>2014</td>\n",
       "      <td>2014-07-08</td>\n",
       "    </tr>\n",
       "    <tr>\n",
       "      <th>3384</th>\n",
       "      <td>McDonald's chicken muffin and hashbrown.</td>\n",
       "      <td>3.9</td>\n",
       "      <td>Desserts</td>\n",
       "      <td>2</td>\n",
       "      <td>7</td>\n",
       "      <td>2014Q3</td>\n",
       "      <td>2014</td>\n",
       "      <td>2014-07-08</td>\n",
       "    </tr>\n",
       "    <tr>\n",
       "      <th>3394</th>\n",
       "      <td>McDonald's chicken muffin and hashbrown.</td>\n",
       "      <td>3.9</td>\n",
       "      <td>Chicken</td>\n",
       "      <td>5</td>\n",
       "      <td>7</td>\n",
       "      <td>2014Q3</td>\n",
       "      <td>2014</td>\n",
       "      <td>2014-07-04</td>\n",
       "    </tr>\n",
       "    <tr>\n",
       "      <th>3394</th>\n",
       "      <td>McDonald's chicken muffin and hashbrown.</td>\n",
       "      <td>3.9</td>\n",
       "      <td>Desserts</td>\n",
       "      <td>5</td>\n",
       "      <td>7</td>\n",
       "      <td>2014Q3</td>\n",
       "      <td>2014</td>\n",
       "      <td>2014-07-04</td>\n",
       "    </tr>\n",
       "  </tbody>\n",
       "</table>\n",
       "</div>"
      ],
      "text/plain": [
       "                                                  Notes  Amount  Category  \\\n",
       "ID                                                                          \n",
       "307   McDonald's McChicken Burger meal with twister ...     5.7   Chicken   \n",
       "307   McDonald's McChicken Burger meal with twister ...     5.7  Desserts   \n",
       "783           McDonald's McChicken Burger and apple pie     3.0   Chicken   \n",
       "783           McDonald's McChicken Burger and apple pie     3.0  Desserts   \n",
       "841   McDonald's Filet O Fish meal with criss cut fries     5.7      Fish   \n",
       "841   McDonald's Filet O Fish meal with criss cut fries     5.7  Desserts   \n",
       "2113            McDonald's McChicken with cheese burger     2.6   Chicken   \n",
       "2113            McDonald's McChicken with cheese burger     2.6      Beef   \n",
       "2676  McDonald's Double Filet O Fish meal with curly...     7.4      Fish   \n",
       "2676  McDonald's Double Filet O Fish meal with curly...     7.4  Desserts   \n",
       "3384           McDonald's chicken muffin and hashbrown.     3.9   Chicken   \n",
       "3384           McDonald's chicken muffin and hashbrown.     3.9  Desserts   \n",
       "3394           McDonald's chicken muffin and hashbrown.     3.9   Chicken   \n",
       "3394           McDonald's chicken muffin and hashbrown.     3.9  Desserts   \n",
       "\n",
       "      Day  Month Quarterly Period  Year       Date  \n",
       "ID                                                  \n",
       "307     2      1           2019Q1  2019 2019-01-29  \n",
       "307     2      1           2019Q1  2019 2019-01-29  \n",
       "783     1      9           2018Q3  2018 2018-09-10  \n",
       "783     1      9           2018Q3  2018 2018-09-10  \n",
       "841     6      8           2018Q3  2018 2018-08-25  \n",
       "841     6      8           2018Q3  2018 2018-08-25  \n",
       "2113    3      2           2017Q1  2017 2017-02-08  \n",
       "2113    3      2           2017Q1  2017 2017-02-08  \n",
       "2676    4      8           2015Q3  2015 2015-08-06  \n",
       "2676    4      8           2015Q3  2015 2015-08-06  \n",
       "3384    2      7           2014Q3  2014 2014-07-08  \n",
       "3384    2      7           2014Q3  2014 2014-07-08  \n",
       "3394    5      7           2014Q3  2014 2014-07-04  \n",
       "3394    5      7           2014Q3  2014 2014-07-04  "
      ]
     },
     "execution_count": 121,
     "metadata": {},
     "output_type": "execute_result"
    }
   ],
   "source": [
    "duplicate_values"
   ]
  },
  {
   "cell_type": "markdown",
   "metadata": {},
   "source": [
    "An example of an duplicate"
   ]
  },
  {
   "cell_type": "code",
   "execution_count": 122,
   "metadata": {},
   "outputs": [
    {
     "data": {
      "text/html": [
       "<div>\n",
       "<style scoped>\n",
       "    .dataframe tbody tr th:only-of-type {\n",
       "        vertical-align: middle;\n",
       "    }\n",
       "\n",
       "    .dataframe tbody tr th {\n",
       "        vertical-align: top;\n",
       "    }\n",
       "\n",
       "    .dataframe thead th {\n",
       "        text-align: right;\n",
       "    }\n",
       "</style>\n",
       "<table border=\"1\" class=\"dataframe\">\n",
       "  <thead>\n",
       "    <tr style=\"text-align: right;\">\n",
       "      <th></th>\n",
       "      <th>Notes</th>\n",
       "      <th>Amount</th>\n",
       "      <th>Category</th>\n",
       "      <th>Day</th>\n",
       "      <th>Month</th>\n",
       "      <th>Quarterly Period</th>\n",
       "      <th>Year</th>\n",
       "      <th>Date</th>\n",
       "    </tr>\n",
       "    <tr>\n",
       "      <th>ID</th>\n",
       "      <th></th>\n",
       "      <th></th>\n",
       "      <th></th>\n",
       "      <th></th>\n",
       "      <th></th>\n",
       "      <th></th>\n",
       "      <th></th>\n",
       "      <th></th>\n",
       "    </tr>\n",
       "  </thead>\n",
       "  <tbody>\n",
       "    <tr>\n",
       "      <th>307</th>\n",
       "      <td>McDonald's McChicken Burger meal with twister ...</td>\n",
       "      <td>5.7</td>\n",
       "      <td>Chicken</td>\n",
       "      <td>2</td>\n",
       "      <td>1</td>\n",
       "      <td>2019Q1</td>\n",
       "      <td>2019</td>\n",
       "      <td>2019-01-29</td>\n",
       "    </tr>\n",
       "    <tr>\n",
       "      <th>307</th>\n",
       "      <td>McDonald's McChicken Burger meal with twister ...</td>\n",
       "      <td>5.7</td>\n",
       "      <td>Desserts</td>\n",
       "      <td>2</td>\n",
       "      <td>1</td>\n",
       "      <td>2019Q1</td>\n",
       "      <td>2019</td>\n",
       "      <td>2019-01-29</td>\n",
       "    </tr>\n",
       "  </tbody>\n",
       "</table>\n",
       "</div>"
      ],
      "text/plain": [
       "                                                 Notes  Amount  Category  Day  \\\n",
       "ID                                                                              \n",
       "307  McDonald's McChicken Burger meal with twister ...     5.7   Chicken    2   \n",
       "307  McDonald's McChicken Burger meal with twister ...     5.7  Desserts    2   \n",
       "\n",
       "     Month Quarterly Period  Year       Date  \n",
       "ID                                            \n",
       "307      1           2019Q1  2019 2019-01-29  \n",
       "307      1           2019Q1  2019 2019-01-29  "
      ]
     },
     "execution_count": 122,
     "metadata": {},
     "output_type": "execute_result"
    }
   ],
   "source": [
    "Combined_Food_Cat.loc[307]"
   ]
  },
  {
   "cell_type": "code",
   "execution_count": null,
   "metadata": {},
   "outputs": [],
   "source": []
  },
  {
   "cell_type": "code",
   "execution_count": null,
   "metadata": {},
   "outputs": [],
   "source": []
  },
  {
   "cell_type": "code",
   "execution_count": 123,
   "metadata": {},
   "outputs": [
    {
     "data": {
      "text/html": [
       "<div>\n",
       "<style scoped>\n",
       "    .dataframe tbody tr th:only-of-type {\n",
       "        vertical-align: middle;\n",
       "    }\n",
       "\n",
       "    .dataframe tbody tr th {\n",
       "        vertical-align: top;\n",
       "    }\n",
       "\n",
       "    .dataframe thead th {\n",
       "        text-align: right;\n",
       "    }\n",
       "</style>\n",
       "<table border=\"1\" class=\"dataframe\">\n",
       "  <thead>\n",
       "    <tr style=\"text-align: right;\">\n",
       "      <th></th>\n",
       "      <th>Notes</th>\n",
       "      <th>Amount</th>\n",
       "      <th>Category</th>\n",
       "      <th>Day</th>\n",
       "      <th>Month</th>\n",
       "      <th>Quarterly Period</th>\n",
       "      <th>Year</th>\n",
       "      <th>Date</th>\n",
       "    </tr>\n",
       "    <tr>\n",
       "      <th>ID</th>\n",
       "      <th></th>\n",
       "      <th></th>\n",
       "      <th></th>\n",
       "      <th></th>\n",
       "      <th></th>\n",
       "      <th></th>\n",
       "      <th></th>\n",
       "      <th></th>\n",
       "    </tr>\n",
       "  </thead>\n",
       "  <tbody>\n",
       "    <tr>\n",
       "      <th>307</th>\n",
       "      <td>McDonald's McChicken Burger meal with twister ...</td>\n",
       "      <td>5.7</td>\n",
       "      <td>Chicken</td>\n",
       "      <td>2</td>\n",
       "      <td>1</td>\n",
       "      <td>2019Q1</td>\n",
       "      <td>2019</td>\n",
       "      <td>2019-01-29</td>\n",
       "    </tr>\n",
       "    <tr>\n",
       "      <th>783</th>\n",
       "      <td>McDonald's McChicken Burger and apple pie</td>\n",
       "      <td>3.0</td>\n",
       "      <td>Chicken</td>\n",
       "      <td>1</td>\n",
       "      <td>9</td>\n",
       "      <td>2018Q3</td>\n",
       "      <td>2018</td>\n",
       "      <td>2018-09-10</td>\n",
       "    </tr>\n",
       "    <tr>\n",
       "      <th>841</th>\n",
       "      <td>McDonald's Filet O Fish meal with criss cut fries</td>\n",
       "      <td>5.7</td>\n",
       "      <td>Fish</td>\n",
       "      <td>6</td>\n",
       "      <td>8</td>\n",
       "      <td>2018Q3</td>\n",
       "      <td>2018</td>\n",
       "      <td>2018-08-25</td>\n",
       "    </tr>\n",
       "    <tr>\n",
       "      <th>2113</th>\n",
       "      <td>McDonald's McChicken with cheese burger</td>\n",
       "      <td>2.6</td>\n",
       "      <td>Chicken</td>\n",
       "      <td>3</td>\n",
       "      <td>2</td>\n",
       "      <td>2017Q1</td>\n",
       "      <td>2017</td>\n",
       "      <td>2017-02-08</td>\n",
       "    </tr>\n",
       "    <tr>\n",
       "      <th>2676</th>\n",
       "      <td>McDonald's Double Filet O Fish meal with curly...</td>\n",
       "      <td>7.4</td>\n",
       "      <td>Fish</td>\n",
       "      <td>4</td>\n",
       "      <td>8</td>\n",
       "      <td>2015Q3</td>\n",
       "      <td>2015</td>\n",
       "      <td>2015-08-06</td>\n",
       "    </tr>\n",
       "    <tr>\n",
       "      <th>3384</th>\n",
       "      <td>McDonald's chicken muffin and hashbrown.</td>\n",
       "      <td>3.9</td>\n",
       "      <td>Chicken</td>\n",
       "      <td>2</td>\n",
       "      <td>7</td>\n",
       "      <td>2014Q3</td>\n",
       "      <td>2014</td>\n",
       "      <td>2014-07-08</td>\n",
       "    </tr>\n",
       "    <tr>\n",
       "      <th>3394</th>\n",
       "      <td>McDonald's chicken muffin and hashbrown.</td>\n",
       "      <td>3.9</td>\n",
       "      <td>Chicken</td>\n",
       "      <td>5</td>\n",
       "      <td>7</td>\n",
       "      <td>2014Q3</td>\n",
       "      <td>2014</td>\n",
       "      <td>2014-07-04</td>\n",
       "    </tr>\n",
       "  </tbody>\n",
       "</table>\n",
       "</div>"
      ],
      "text/plain": [
       "                                                  Notes  Amount Category  Day  \\\n",
       "ID                                                                              \n",
       "307   McDonald's McChicken Burger meal with twister ...     5.7  Chicken    2   \n",
       "783           McDonald's McChicken Burger and apple pie     3.0  Chicken    1   \n",
       "841   McDonald's Filet O Fish meal with criss cut fries     5.7     Fish    6   \n",
       "2113            McDonald's McChicken with cheese burger     2.6  Chicken    3   \n",
       "2676  McDonald's Double Filet O Fish meal with curly...     7.4     Fish    4   \n",
       "3384           McDonald's chicken muffin and hashbrown.     3.9  Chicken    2   \n",
       "3394           McDonald's chicken muffin and hashbrown.     3.9  Chicken    5   \n",
       "\n",
       "      Month Quarterly Period  Year       Date  \n",
       "ID                                             \n",
       "307       1           2019Q1  2019 2019-01-29  \n",
       "783       9           2018Q3  2018 2018-09-10  \n",
       "841       8           2018Q3  2018 2018-08-25  \n",
       "2113      2           2017Q1  2017 2017-02-08  \n",
       "2676      8           2015Q3  2015 2015-08-06  \n",
       "3384      7           2014Q3  2014 2014-07-08  \n",
       "3394      7           2014Q3  2014 2014-07-04  "
      ]
     },
     "execution_count": 123,
     "metadata": {},
     "output_type": "execute_result"
    }
   ],
   "source": [
    "# non_duplicate_values = non_duplicate_values.drop(index=[219,223])\n",
    "non_duplicate_values"
   ]
  },
  {
   "cell_type": "code",
   "execution_count": 124,
   "metadata": {},
   "outputs": [
    {
     "name": "stdout",
     "output_type": "stream",
     "text": [
      "Total number of duplicate values: 7.0\n"
     ]
    }
   ],
   "source": [
    "print(\"Total number of duplicate values:\", len(duplicate_values[\"Notes\"])/2)"
   ]
  },
  {
   "cell_type": "code",
   "execution_count": 125,
   "metadata": {},
   "outputs": [
    {
     "data": {
      "text/plain": [
       "Int64Index([307, 307, 783, 783, 841, 841, 2113, 2113, 2676, 2676, 3384, 3384,\n",
       "            3394, 3394],\n",
       "           dtype='int64', name='ID')"
      ]
     },
     "execution_count": 125,
     "metadata": {},
     "output_type": "execute_result"
    }
   ],
   "source": [
    "duplicate_values.index"
   ]
  },
  {
   "cell_type": "code",
   "execution_count": 126,
   "metadata": {},
   "outputs": [],
   "source": [
    "# Combined_Food_Cat.reset_index(inplace=True)"
   ]
  },
  {
   "cell_type": "code",
   "execution_count": 127,
   "metadata": {},
   "outputs": [
    {
     "data": {
      "text/html": [
       "<div>\n",
       "<style scoped>\n",
       "    .dataframe tbody tr th:only-of-type {\n",
       "        vertical-align: middle;\n",
       "    }\n",
       "\n",
       "    .dataframe tbody tr th {\n",
       "        vertical-align: top;\n",
       "    }\n",
       "\n",
       "    .dataframe thead th {\n",
       "        text-align: right;\n",
       "    }\n",
       "</style>\n",
       "<table border=\"1\" class=\"dataframe\">\n",
       "  <thead>\n",
       "    <tr style=\"text-align: right;\">\n",
       "      <th></th>\n",
       "      <th>Notes</th>\n",
       "      <th>Amount</th>\n",
       "      <th>Category</th>\n",
       "      <th>Day</th>\n",
       "      <th>Month</th>\n",
       "      <th>Quarterly Period</th>\n",
       "      <th>Year</th>\n",
       "      <th>Date</th>\n",
       "    </tr>\n",
       "    <tr>\n",
       "      <th>ID</th>\n",
       "      <th></th>\n",
       "      <th></th>\n",
       "      <th></th>\n",
       "      <th></th>\n",
       "      <th></th>\n",
       "      <th></th>\n",
       "      <th></th>\n",
       "      <th></th>\n",
       "    </tr>\n",
       "  </thead>\n",
       "  <tbody>\n",
       "    <tr>\n",
       "      <th>4844</th>\n",
       "      <td>McDonald's Filet O Fish Burger</td>\n",
       "      <td>2.00</td>\n",
       "      <td>Fish</td>\n",
       "      <td>7</td>\n",
       "      <td>4</td>\n",
       "      <td>2020Q2</td>\n",
       "      <td>2020</td>\n",
       "      <td>2020-04-05</td>\n",
       "    </tr>\n",
       "    <tr>\n",
       "      <th>4617</th>\n",
       "      <td>McDonald's Filet O Fish Burger</td>\n",
       "      <td>2.95</td>\n",
       "      <td>Fish</td>\n",
       "      <td>5</td>\n",
       "      <td>2</td>\n",
       "      <td>2020Q1</td>\n",
       "      <td>2020</td>\n",
       "      <td>2020-02-07</td>\n",
       "    </tr>\n",
       "    <tr>\n",
       "      <th>4584</th>\n",
       "      <td>McDonald's Filet O Fish Burger</td>\n",
       "      <td>2.80</td>\n",
       "      <td>Fish</td>\n",
       "      <td>2</td>\n",
       "      <td>1</td>\n",
       "      <td>2020Q1</td>\n",
       "      <td>2020</td>\n",
       "      <td>2020-01-28</td>\n",
       "    </tr>\n",
       "    <tr>\n",
       "      <th>4551</th>\n",
       "      <td>McDonald's Filet O Fish Burger</td>\n",
       "      <td>2.80</td>\n",
       "      <td>Fish</td>\n",
       "      <td>5</td>\n",
       "      <td>1</td>\n",
       "      <td>2020Q1</td>\n",
       "      <td>2020</td>\n",
       "      <td>2020-01-17</td>\n",
       "    </tr>\n",
       "    <tr>\n",
       "      <th>4497</th>\n",
       "      <td>McDonald's Filet O Fish Burger</td>\n",
       "      <td>2.80</td>\n",
       "      <td>Fish</td>\n",
       "      <td>5</td>\n",
       "      <td>1</td>\n",
       "      <td>2020Q1</td>\n",
       "      <td>2020</td>\n",
       "      <td>2020-01-03</td>\n",
       "    </tr>\n",
       "    <tr>\n",
       "      <th>...</th>\n",
       "      <td>...</td>\n",
       "      <td>...</td>\n",
       "      <td>...</td>\n",
       "      <td>...</td>\n",
       "      <td>...</td>\n",
       "      <td>...</td>\n",
       "      <td>...</td>\n",
       "      <td>...</td>\n",
       "    </tr>\n",
       "    <tr>\n",
       "      <th>1932</th>\n",
       "      <td>McDonald's apple pie</td>\n",
       "      <td>1.00</td>\n",
       "      <td>Desserts</td>\n",
       "      <td>4</td>\n",
       "      <td>8</td>\n",
       "      <td>2017Q3</td>\n",
       "      <td>2017</td>\n",
       "      <td>2017-08-03</td>\n",
       "    </tr>\n",
       "    <tr>\n",
       "      <th>2016</th>\n",
       "      <td>McDonald's apple pie</td>\n",
       "      <td>1.00</td>\n",
       "      <td>Desserts</td>\n",
       "      <td>5</td>\n",
       "      <td>5</td>\n",
       "      <td>2017Q2</td>\n",
       "      <td>2017</td>\n",
       "      <td>2017-05-19</td>\n",
       "    </tr>\n",
       "    <tr>\n",
       "      <th>2676</th>\n",
       "      <td>McDonald's Double Filet O Fish meal with curly...</td>\n",
       "      <td>7.40</td>\n",
       "      <td>Desserts</td>\n",
       "      <td>4</td>\n",
       "      <td>8</td>\n",
       "      <td>2015Q3</td>\n",
       "      <td>2015</td>\n",
       "      <td>2015-08-06</td>\n",
       "    </tr>\n",
       "    <tr>\n",
       "      <th>3384</th>\n",
       "      <td>McDonald's chicken muffin and hashbrown.</td>\n",
       "      <td>3.90</td>\n",
       "      <td>Desserts</td>\n",
       "      <td>2</td>\n",
       "      <td>7</td>\n",
       "      <td>2014Q3</td>\n",
       "      <td>2014</td>\n",
       "      <td>2014-07-08</td>\n",
       "    </tr>\n",
       "    <tr>\n",
       "      <th>3394</th>\n",
       "      <td>McDonald's chicken muffin and hashbrown.</td>\n",
       "      <td>3.90</td>\n",
       "      <td>Desserts</td>\n",
       "      <td>5</td>\n",
       "      <td>7</td>\n",
       "      <td>2014Q3</td>\n",
       "      <td>2014</td>\n",
       "      <td>2014-07-04</td>\n",
       "    </tr>\n",
       "  </tbody>\n",
       "</table>\n",
       "<p>230 rows × 8 columns</p>\n",
       "</div>"
      ],
      "text/plain": [
       "                                                  Notes  Amount  Category  \\\n",
       "ID                                                                          \n",
       "4844                     McDonald's Filet O Fish Burger    2.00      Fish   \n",
       "4617                     McDonald's Filet O Fish Burger    2.95      Fish   \n",
       "4584                     McDonald's Filet O Fish Burger    2.80      Fish   \n",
       "4551                     McDonald's Filet O Fish Burger    2.80      Fish   \n",
       "4497                     McDonald's Filet O Fish Burger    2.80      Fish   \n",
       "...                                                 ...     ...       ...   \n",
       "1932                               McDonald's apple pie    1.00  Desserts   \n",
       "2016                               McDonald's apple pie    1.00  Desserts   \n",
       "2676  McDonald's Double Filet O Fish meal with curly...    7.40  Desserts   \n",
       "3384           McDonald's chicken muffin and hashbrown.    3.90  Desserts   \n",
       "3394           McDonald's chicken muffin and hashbrown.    3.90  Desserts   \n",
       "\n",
       "      Day  Month Quarterly Period  Year       Date  \n",
       "ID                                                  \n",
       "4844    7      4           2020Q2  2020 2020-04-05  \n",
       "4617    5      2           2020Q1  2020 2020-02-07  \n",
       "4584    2      1           2020Q1  2020 2020-01-28  \n",
       "4551    5      1           2020Q1  2020 2020-01-17  \n",
       "4497    5      1           2020Q1  2020 2020-01-03  \n",
       "...   ...    ...              ...   ...        ...  \n",
       "1932    4      8           2017Q3  2017 2017-08-03  \n",
       "2016    5      5           2017Q2  2017 2017-05-19  \n",
       "2676    4      8           2015Q3  2015 2015-08-06  \n",
       "3384    2      7           2014Q3  2014 2014-07-08  \n",
       "3394    5      7           2014Q3  2014 2014-07-04  \n",
       "\n",
       "[230 rows x 8 columns]"
      ]
     },
     "execution_count": 127,
     "metadata": {},
     "output_type": "execute_result"
    }
   ],
   "source": [
    "Combined_Food_Cat"
   ]
  },
  {
   "cell_type": "markdown",
   "metadata": {},
   "source": [
    "Extra"
   ]
  },
  {
   "cell_type": "code",
   "execution_count": 128,
   "metadata": {
    "scrolled": true
   },
   "outputs": [],
   "source": [
    "# new_duplicate_values= []\n",
    "# for x in range(0,len(duplicate_values),2):\n",
    "#     new_duplicate_values.append(duplicate_values.iloc[x])\n",
    "    \n",
    "# new_duplicate_values = pd.DataFrame(new_duplicate_values)\n",
    "# new_duplicate_values"
   ]
  },
  {
   "cell_type": "markdown",
   "metadata": {},
   "source": [
    "Dropping the duplicate values"
   ]
  },
  {
   "cell_type": "code",
   "execution_count": 129,
   "metadata": {},
   "outputs": [
    {
     "data": {
      "text/plain": [
       "216"
      ]
     },
     "execution_count": 129,
     "metadata": {},
     "output_type": "execute_result"
    }
   ],
   "source": [
    "Combined_Food_Cat_test = Combined_Food_Cat.drop(index=duplicate_values.index)\n",
    "len(Combined_Food_Cat_test)"
   ]
  },
  {
   "cell_type": "code",
   "execution_count": 130,
   "metadata": {},
   "outputs": [
    {
     "data": {
      "text/html": [
       "<div>\n",
       "<style scoped>\n",
       "    .dataframe tbody tr th:only-of-type {\n",
       "        vertical-align: middle;\n",
       "    }\n",
       "\n",
       "    .dataframe tbody tr th {\n",
       "        vertical-align: top;\n",
       "    }\n",
       "\n",
       "    .dataframe thead th {\n",
       "        text-align: right;\n",
       "    }\n",
       "</style>\n",
       "<table border=\"1\" class=\"dataframe\">\n",
       "  <thead>\n",
       "    <tr style=\"text-align: right;\">\n",
       "      <th></th>\n",
       "      <th>Notes</th>\n",
       "      <th>Amount</th>\n",
       "      <th>Category</th>\n",
       "      <th>Day</th>\n",
       "      <th>Month</th>\n",
       "      <th>Quarterly Period</th>\n",
       "      <th>Year</th>\n",
       "      <th>Date</th>\n",
       "    </tr>\n",
       "    <tr>\n",
       "      <th>ID</th>\n",
       "      <th></th>\n",
       "      <th></th>\n",
       "      <th></th>\n",
       "      <th></th>\n",
       "      <th></th>\n",
       "      <th></th>\n",
       "      <th></th>\n",
       "      <th></th>\n",
       "    </tr>\n",
       "  </thead>\n",
       "  <tbody>\n",
       "    <tr>\n",
       "      <th>4844</th>\n",
       "      <td>McDonald's Filet O Fish Burger</td>\n",
       "      <td>2.00</td>\n",
       "      <td>Fish</td>\n",
       "      <td>7</td>\n",
       "      <td>4</td>\n",
       "      <td>2020Q2</td>\n",
       "      <td>2020</td>\n",
       "      <td>2020-04-05</td>\n",
       "    </tr>\n",
       "    <tr>\n",
       "      <th>4617</th>\n",
       "      <td>McDonald's Filet O Fish Burger</td>\n",
       "      <td>2.95</td>\n",
       "      <td>Fish</td>\n",
       "      <td>5</td>\n",
       "      <td>2</td>\n",
       "      <td>2020Q1</td>\n",
       "      <td>2020</td>\n",
       "      <td>2020-02-07</td>\n",
       "    </tr>\n",
       "    <tr>\n",
       "      <th>4584</th>\n",
       "      <td>McDonald's Filet O Fish Burger</td>\n",
       "      <td>2.80</td>\n",
       "      <td>Fish</td>\n",
       "      <td>2</td>\n",
       "      <td>1</td>\n",
       "      <td>2020Q1</td>\n",
       "      <td>2020</td>\n",
       "      <td>2020-01-28</td>\n",
       "    </tr>\n",
       "    <tr>\n",
       "      <th>4551</th>\n",
       "      <td>McDonald's Filet O Fish Burger</td>\n",
       "      <td>2.80</td>\n",
       "      <td>Fish</td>\n",
       "      <td>5</td>\n",
       "      <td>1</td>\n",
       "      <td>2020Q1</td>\n",
       "      <td>2020</td>\n",
       "      <td>2020-01-17</td>\n",
       "    </tr>\n",
       "    <tr>\n",
       "      <th>4497</th>\n",
       "      <td>McDonald's Filet O Fish Burger</td>\n",
       "      <td>2.80</td>\n",
       "      <td>Fish</td>\n",
       "      <td>5</td>\n",
       "      <td>1</td>\n",
       "      <td>2020Q1</td>\n",
       "      <td>2020</td>\n",
       "      <td>2020-01-03</td>\n",
       "    </tr>\n",
       "    <tr>\n",
       "      <th>...</th>\n",
       "      <td>...</td>\n",
       "      <td>...</td>\n",
       "      <td>...</td>\n",
       "      <td>...</td>\n",
       "      <td>...</td>\n",
       "      <td>...</td>\n",
       "      <td>...</td>\n",
       "      <td>...</td>\n",
       "    </tr>\n",
       "    <tr>\n",
       "      <th>330</th>\n",
       "      <td>McDonald's peach pie</td>\n",
       "      <td>1.40</td>\n",
       "      <td>Desserts</td>\n",
       "      <td>2</td>\n",
       "      <td>1</td>\n",
       "      <td>2019Q1</td>\n",
       "      <td>2019</td>\n",
       "      <td>2019-01-22</td>\n",
       "    </tr>\n",
       "    <tr>\n",
       "      <th>674</th>\n",
       "      <td>McDonald's herb chicken pie</td>\n",
       "      <td>1.80</td>\n",
       "      <td>Desserts</td>\n",
       "      <td>5</td>\n",
       "      <td>10</td>\n",
       "      <td>2018Q4</td>\n",
       "      <td>2018</td>\n",
       "      <td>2018-10-12</td>\n",
       "    </tr>\n",
       "    <tr>\n",
       "      <th>1907</th>\n",
       "      <td>McDonald's apple pie</td>\n",
       "      <td>1.00</td>\n",
       "      <td>Desserts</td>\n",
       "      <td>7</td>\n",
       "      <td>8</td>\n",
       "      <td>2017Q3</td>\n",
       "      <td>2017</td>\n",
       "      <td>2017-08-27</td>\n",
       "    </tr>\n",
       "    <tr>\n",
       "      <th>1932</th>\n",
       "      <td>McDonald's apple pie</td>\n",
       "      <td>1.00</td>\n",
       "      <td>Desserts</td>\n",
       "      <td>4</td>\n",
       "      <td>8</td>\n",
       "      <td>2017Q3</td>\n",
       "      <td>2017</td>\n",
       "      <td>2017-08-03</td>\n",
       "    </tr>\n",
       "    <tr>\n",
       "      <th>2016</th>\n",
       "      <td>McDonald's apple pie</td>\n",
       "      <td>1.00</td>\n",
       "      <td>Desserts</td>\n",
       "      <td>5</td>\n",
       "      <td>5</td>\n",
       "      <td>2017Q2</td>\n",
       "      <td>2017</td>\n",
       "      <td>2017-05-19</td>\n",
       "    </tr>\n",
       "  </tbody>\n",
       "</table>\n",
       "<p>216 rows × 8 columns</p>\n",
       "</div>"
      ],
      "text/plain": [
       "                               Notes  Amount  Category  Day  Month  \\\n",
       "ID                                                                   \n",
       "4844  McDonald's Filet O Fish Burger    2.00      Fish    7      4   \n",
       "4617  McDonald's Filet O Fish Burger    2.95      Fish    5      2   \n",
       "4584  McDonald's Filet O Fish Burger    2.80      Fish    2      1   \n",
       "4551  McDonald's Filet O Fish Burger    2.80      Fish    5      1   \n",
       "4497  McDonald's Filet O Fish Burger    2.80      Fish    5      1   \n",
       "...                              ...     ...       ...  ...    ...   \n",
       "330             McDonald's peach pie    1.40  Desserts    2      1   \n",
       "674      McDonald's herb chicken pie    1.80  Desserts    5     10   \n",
       "1907            McDonald's apple pie    1.00  Desserts    7      8   \n",
       "1932            McDonald's apple pie    1.00  Desserts    4      8   \n",
       "2016            McDonald's apple pie    1.00  Desserts    5      5   \n",
       "\n",
       "     Quarterly Period  Year       Date  \n",
       "ID                                      \n",
       "4844           2020Q2  2020 2020-04-05  \n",
       "4617           2020Q1  2020 2020-02-07  \n",
       "4584           2020Q1  2020 2020-01-28  \n",
       "4551           2020Q1  2020 2020-01-17  \n",
       "4497           2020Q1  2020 2020-01-03  \n",
       "...               ...   ...        ...  \n",
       "330            2019Q1  2019 2019-01-22  \n",
       "674            2018Q4  2018 2018-10-12  \n",
       "1907           2017Q3  2017 2017-08-27  \n",
       "1932           2017Q3  2017 2017-08-03  \n",
       "2016           2017Q2  2017 2017-05-19  \n",
       "\n",
       "[216 rows x 8 columns]"
      ]
     },
     "execution_count": 130,
     "metadata": {},
     "output_type": "execute_result"
    }
   ],
   "source": [
    "Combined_Food_Cat_test"
   ]
  },
  {
   "cell_type": "code",
   "execution_count": null,
   "metadata": {},
   "outputs": [],
   "source": []
  },
  {
   "cell_type": "markdown",
   "metadata": {},
   "source": [
    "Adding back the `non-duplicate_values` dataframe into `Combined_Food_Cat_test`"
   ]
  },
  {
   "cell_type": "code",
   "execution_count": 131,
   "metadata": {},
   "outputs": [],
   "source": [
    "Combined_Food_Cat_test = Combined_Food_Cat_test.append(non_duplicate_values, verify_integrity=True)"
   ]
  },
  {
   "cell_type": "markdown",
   "metadata": {},
   "source": [
    "Checking for total rows of `Combined_Food_Cat_test`"
   ]
  },
  {
   "cell_type": "code",
   "execution_count": 132,
   "metadata": {},
   "outputs": [
    {
     "name": "stdout",
     "output_type": "stream",
     "text": [
      "Total number of rows in Combined_Food_Cat_test: 223\n"
     ]
    }
   ],
   "source": [
    "print(\"Total number of rows in Combined_Food_Cat_test:\", len(Combined_Food_Cat_test))"
   ]
  },
  {
   "cell_type": "code",
   "execution_count": 133,
   "metadata": {},
   "outputs": [
    {
     "data": {
      "text/plain": [
       "Notes               McDonald's McChicken Burger meal with twister ...\n",
       "Amount                                                            5.7\n",
       "Category                                                      Chicken\n",
       "Day                                                                 2\n",
       "Month                                                               1\n",
       "Quarterly Period                                               2019Q1\n",
       "Year                                                             2019\n",
       "Date                                              2019-01-29 00:00:00\n",
       "Name: 307, dtype: object"
      ]
     },
     "execution_count": 133,
     "metadata": {},
     "output_type": "execute_result"
    }
   ],
   "source": [
    "Combined_Food_Cat_test.loc[307]"
   ]
  },
  {
   "cell_type": "markdown",
   "metadata": {},
   "source": [
    "Concatenates both data frames and drops the duplicates, leaving only the rows that are not common in `Combined_Food_Cat` and `McDonald_Exp`\n",
    "\n",
    "`Combined_Food_Cat_test` does not have the following food:"
   ]
  },
  {
   "cell_type": "code",
   "execution_count": 134,
   "metadata": {
    "scrolled": true
   },
   "outputs": [],
   "source": [
    "# pd.concat([Combined_Food_Cat_test,McDonald_Exp], join='inner').drop_duplicates(keep=False)[\"Notes\"].value_counts()"
   ]
  },
  {
   "cell_type": "markdown",
   "metadata": {},
   "source": [
    "Checking for duplicated values in Combined_Food_Cat_test"
   ]
  },
  {
   "cell_type": "code",
   "execution_count": 135,
   "metadata": {},
   "outputs": [
    {
     "data": {
      "text/html": [
       "<div>\n",
       "<style scoped>\n",
       "    .dataframe tbody tr th:only-of-type {\n",
       "        vertical-align: middle;\n",
       "    }\n",
       "\n",
       "    .dataframe tbody tr th {\n",
       "        vertical-align: top;\n",
       "    }\n",
       "\n",
       "    .dataframe thead th {\n",
       "        text-align: right;\n",
       "    }\n",
       "</style>\n",
       "<table border=\"1\" class=\"dataframe\">\n",
       "  <thead>\n",
       "    <tr style=\"text-align: right;\">\n",
       "      <th></th>\n",
       "      <th>Notes</th>\n",
       "      <th>Amount</th>\n",
       "      <th>Category</th>\n",
       "      <th>Day</th>\n",
       "      <th>Month</th>\n",
       "      <th>Quarterly Period</th>\n",
       "      <th>Year</th>\n",
       "      <th>Date</th>\n",
       "    </tr>\n",
       "    <tr>\n",
       "      <th>ID</th>\n",
       "      <th></th>\n",
       "      <th></th>\n",
       "      <th></th>\n",
       "      <th></th>\n",
       "      <th></th>\n",
       "      <th></th>\n",
       "      <th></th>\n",
       "      <th></th>\n",
       "    </tr>\n",
       "  </thead>\n",
       "  <tbody>\n",
       "  </tbody>\n",
       "</table>\n",
       "</div>"
      ],
      "text/plain": [
       "Empty DataFrame\n",
       "Columns: [Notes, Amount, Category, Day, Month, Quarterly Period, Year, Date]\n",
       "Index: []"
      ]
     },
     "execution_count": 135,
     "metadata": {},
     "output_type": "execute_result"
    }
   ],
   "source": [
    "Combined_Food_Cat_test[Combined_Food_Cat_test.index.duplicated(keep=False)]"
   ]
  },
  {
   "cell_type": "markdown",
   "metadata": {},
   "source": [
    "Checking for null values in `Combined_Food_Cat_test`"
   ]
  },
  {
   "cell_type": "code",
   "execution_count": 136,
   "metadata": {},
   "outputs": [
    {
     "data": {
      "text/html": [
       "<div>\n",
       "<style scoped>\n",
       "    .dataframe tbody tr th:only-of-type {\n",
       "        vertical-align: middle;\n",
       "    }\n",
       "\n",
       "    .dataframe tbody tr th {\n",
       "        vertical-align: top;\n",
       "    }\n",
       "\n",
       "    .dataframe thead th {\n",
       "        text-align: right;\n",
       "    }\n",
       "</style>\n",
       "<table border=\"1\" class=\"dataframe\">\n",
       "  <thead>\n",
       "    <tr style=\"text-align: right;\">\n",
       "      <th></th>\n",
       "      <th>Notes</th>\n",
       "      <th>Amount</th>\n",
       "      <th>Category</th>\n",
       "      <th>Day</th>\n",
       "      <th>Month</th>\n",
       "      <th>Quarterly Period</th>\n",
       "      <th>Year</th>\n",
       "      <th>Date</th>\n",
       "    </tr>\n",
       "    <tr>\n",
       "      <th>ID</th>\n",
       "      <th></th>\n",
       "      <th></th>\n",
       "      <th></th>\n",
       "      <th></th>\n",
       "      <th></th>\n",
       "      <th></th>\n",
       "      <th></th>\n",
       "      <th></th>\n",
       "    </tr>\n",
       "  </thead>\n",
       "  <tbody>\n",
       "  </tbody>\n",
       "</table>\n",
       "</div>"
      ],
      "text/plain": [
       "Empty DataFrame\n",
       "Columns: [Notes, Amount, Category, Day, Month, Quarterly Period, Year, Date]\n",
       "Index: []"
      ]
     },
     "execution_count": 136,
     "metadata": {},
     "output_type": "execute_result"
    }
   ],
   "source": [
    "Combined_Food_Cat_test[Combined_Food_Cat_test.isnull().values.any(axis=1)]"
   ]
  },
  {
   "cell_type": "markdown",
   "metadata": {},
   "source": [
    "Checking if the amount of `McDonald_Exp` and `Combined_Food_Cat_test` are the same"
   ]
  },
  {
   "cell_type": "code",
   "execution_count": 137,
   "metadata": {},
   "outputs": [
    {
     "data": {
      "text/plain": [
       "769.0999999999999"
      ]
     },
     "execution_count": 137,
     "metadata": {},
     "output_type": "execute_result"
    }
   ],
   "source": [
    "McDonald_Exp[\"Amount\"].sum()"
   ]
  },
  {
   "cell_type": "code",
   "execution_count": 138,
   "metadata": {},
   "outputs": [
    {
     "data": {
      "text/plain": [
       "769.0999999999999"
      ]
     },
     "execution_count": 138,
     "metadata": {},
     "output_type": "execute_result"
    }
   ],
   "source": [
    "Combined_Food_Cat_test[\"Amount\"].sum()"
   ]
  },
  {
   "cell_type": "code",
   "execution_count": null,
   "metadata": {},
   "outputs": [],
   "source": []
  },
  {
   "cell_type": "code",
   "execution_count": 139,
   "metadata": {},
   "outputs": [
    {
     "data": {
      "text/html": [
       "<div>\n",
       "<style scoped>\n",
       "    .dataframe tbody tr th:only-of-type {\n",
       "        vertical-align: middle;\n",
       "    }\n",
       "\n",
       "    .dataframe tbody tr th {\n",
       "        vertical-align: top;\n",
       "    }\n",
       "\n",
       "    .dataframe thead th {\n",
       "        text-align: right;\n",
       "    }\n",
       "</style>\n",
       "<table border=\"1\" class=\"dataframe\">\n",
       "  <thead>\n",
       "    <tr style=\"text-align: right;\">\n",
       "      <th></th>\n",
       "      <th>Notes</th>\n",
       "      <th>Amount</th>\n",
       "      <th>Food Category</th>\n",
       "      <th>Category</th>\n",
       "      <th>Day</th>\n",
       "      <th>Month</th>\n",
       "      <th>Quarterly Period</th>\n",
       "      <th>Year</th>\n",
       "      <th>Date</th>\n",
       "    </tr>\n",
       "    <tr>\n",
       "      <th>ID</th>\n",
       "      <th></th>\n",
       "      <th></th>\n",
       "      <th></th>\n",
       "      <th></th>\n",
       "      <th></th>\n",
       "      <th></th>\n",
       "      <th></th>\n",
       "      <th></th>\n",
       "      <th></th>\n",
       "    </tr>\n",
       "  </thead>\n",
       "  <tbody>\n",
       "    <tr>\n",
       "      <th>4844</th>\n",
       "      <td>McDonald's Filet O Fish Burger</td>\n",
       "      <td>2.00</td>\n",
       "      <td>Fish</td>\n",
       "      <td>Fish</td>\n",
       "      <td>7</td>\n",
       "      <td>4</td>\n",
       "      <td>2020Q2</td>\n",
       "      <td>2020</td>\n",
       "      <td>2020-04-05</td>\n",
       "    </tr>\n",
       "    <tr>\n",
       "      <th>4617</th>\n",
       "      <td>McDonald's Filet O Fish Burger</td>\n",
       "      <td>2.95</td>\n",
       "      <td>Fish</td>\n",
       "      <td>Fish</td>\n",
       "      <td>5</td>\n",
       "      <td>2</td>\n",
       "      <td>2020Q1</td>\n",
       "      <td>2020</td>\n",
       "      <td>2020-02-07</td>\n",
       "    </tr>\n",
       "    <tr>\n",
       "      <th>4584</th>\n",
       "      <td>McDonald's Filet O Fish Burger</td>\n",
       "      <td>2.80</td>\n",
       "      <td>Fish</td>\n",
       "      <td>Fish</td>\n",
       "      <td>2</td>\n",
       "      <td>1</td>\n",
       "      <td>2020Q1</td>\n",
       "      <td>2020</td>\n",
       "      <td>2020-01-28</td>\n",
       "    </tr>\n",
       "    <tr>\n",
       "      <th>4551</th>\n",
       "      <td>McDonald's Filet O Fish Burger</td>\n",
       "      <td>2.80</td>\n",
       "      <td>Fish</td>\n",
       "      <td>Fish</td>\n",
       "      <td>5</td>\n",
       "      <td>1</td>\n",
       "      <td>2020Q1</td>\n",
       "      <td>2020</td>\n",
       "      <td>2020-01-17</td>\n",
       "    </tr>\n",
       "    <tr>\n",
       "      <th>4497</th>\n",
       "      <td>McDonald's Filet O Fish Burger</td>\n",
       "      <td>2.80</td>\n",
       "      <td>Fish</td>\n",
       "      <td>Fish</td>\n",
       "      <td>5</td>\n",
       "      <td>1</td>\n",
       "      <td>2020Q1</td>\n",
       "      <td>2020</td>\n",
       "      <td>2020-01-03</td>\n",
       "    </tr>\n",
       "  </tbody>\n",
       "</table>\n",
       "</div>"
      ],
      "text/plain": [
       "                               Notes  Amount Food Category Category  Day  \\\n",
       "ID                                                                         \n",
       "4844  McDonald's Filet O Fish Burger    2.00          Fish     Fish    7   \n",
       "4617  McDonald's Filet O Fish Burger    2.95          Fish     Fish    5   \n",
       "4584  McDonald's Filet O Fish Burger    2.80          Fish     Fish    2   \n",
       "4551  McDonald's Filet O Fish Burger    2.80          Fish     Fish    5   \n",
       "4497  McDonald's Filet O Fish Burger    2.80          Fish     Fish    5   \n",
       "\n",
       "      Month Quarterly Period  Year       Date  \n",
       "ID                                             \n",
       "4844      4           2020Q2  2020 2020-04-05  \n",
       "4617      2           2020Q1  2020 2020-02-07  \n",
       "4584      1           2020Q1  2020 2020-01-28  \n",
       "4551      1           2020Q1  2020 2020-01-17  \n",
       "4497      1           2020Q1  2020 2020-01-03  "
      ]
     },
     "execution_count": 139,
     "metadata": {},
     "output_type": "execute_result"
    }
   ],
   "source": [
    "Combined_Food_Cat_test.insert(2, \"Food Category\", Combined_Food_Cat_test[\"Category\"])\n",
    "Combined_Food_Cat_test.head()"
   ]
  },
  {
   "cell_type": "markdown",
   "metadata": {},
   "source": [
    "Delete the `Category` and `Date` columns"
   ]
  },
  {
   "cell_type": "code",
   "execution_count": 140,
   "metadata": {},
   "outputs": [],
   "source": [
    "Combined_Food_Cat_test.drop([\"Category\", \"Date\"], axis=1, inplace=True)"
   ]
  },
  {
   "cell_type": "code",
   "execution_count": 141,
   "metadata": {
    "scrolled": true
   },
   "outputs": [
    {
     "data": {
      "text/html": [
       "<div>\n",
       "<style scoped>\n",
       "    .dataframe tbody tr th:only-of-type {\n",
       "        vertical-align: middle;\n",
       "    }\n",
       "\n",
       "    .dataframe tbody tr th {\n",
       "        vertical-align: top;\n",
       "    }\n",
       "\n",
       "    .dataframe thead th {\n",
       "        text-align: right;\n",
       "    }\n",
       "</style>\n",
       "<table border=\"1\" class=\"dataframe\">\n",
       "  <thead>\n",
       "    <tr style=\"text-align: right;\">\n",
       "      <th></th>\n",
       "      <th>Notes</th>\n",
       "      <th>Amount</th>\n",
       "      <th>Food Category</th>\n",
       "      <th>Day</th>\n",
       "      <th>Month</th>\n",
       "      <th>Quarterly Period</th>\n",
       "      <th>Year</th>\n",
       "    </tr>\n",
       "    <tr>\n",
       "      <th>ID</th>\n",
       "      <th></th>\n",
       "      <th></th>\n",
       "      <th></th>\n",
       "      <th></th>\n",
       "      <th></th>\n",
       "      <th></th>\n",
       "      <th></th>\n",
       "    </tr>\n",
       "  </thead>\n",
       "  <tbody>\n",
       "    <tr>\n",
       "      <th>4844</th>\n",
       "      <td>McDonald's Filet O Fish Burger</td>\n",
       "      <td>2.00</td>\n",
       "      <td>Fish</td>\n",
       "      <td>7</td>\n",
       "      <td>4</td>\n",
       "      <td>2020Q2</td>\n",
       "      <td>2020</td>\n",
       "    </tr>\n",
       "    <tr>\n",
       "      <th>4617</th>\n",
       "      <td>McDonald's Filet O Fish Burger</td>\n",
       "      <td>2.95</td>\n",
       "      <td>Fish</td>\n",
       "      <td>5</td>\n",
       "      <td>2</td>\n",
       "      <td>2020Q1</td>\n",
       "      <td>2020</td>\n",
       "    </tr>\n",
       "    <tr>\n",
       "      <th>4584</th>\n",
       "      <td>McDonald's Filet O Fish Burger</td>\n",
       "      <td>2.80</td>\n",
       "      <td>Fish</td>\n",
       "      <td>2</td>\n",
       "      <td>1</td>\n",
       "      <td>2020Q1</td>\n",
       "      <td>2020</td>\n",
       "    </tr>\n",
       "    <tr>\n",
       "      <th>4551</th>\n",
       "      <td>McDonald's Filet O Fish Burger</td>\n",
       "      <td>2.80</td>\n",
       "      <td>Fish</td>\n",
       "      <td>5</td>\n",
       "      <td>1</td>\n",
       "      <td>2020Q1</td>\n",
       "      <td>2020</td>\n",
       "    </tr>\n",
       "    <tr>\n",
       "      <th>4497</th>\n",
       "      <td>McDonald's Filet O Fish Burger</td>\n",
       "      <td>2.80</td>\n",
       "      <td>Fish</td>\n",
       "      <td>5</td>\n",
       "      <td>1</td>\n",
       "      <td>2020Q1</td>\n",
       "      <td>2020</td>\n",
       "    </tr>\n",
       "  </tbody>\n",
       "</table>\n",
       "</div>"
      ],
      "text/plain": [
       "                               Notes  Amount Food Category  Day  Month  \\\n",
       "ID                                                                       \n",
       "4844  McDonald's Filet O Fish Burger    2.00          Fish    7      4   \n",
       "4617  McDonald's Filet O Fish Burger    2.95          Fish    5      2   \n",
       "4584  McDonald's Filet O Fish Burger    2.80          Fish    2      1   \n",
       "4551  McDonald's Filet O Fish Burger    2.80          Fish    5      1   \n",
       "4497  McDonald's Filet O Fish Burger    2.80          Fish    5      1   \n",
       "\n",
       "     Quarterly Period  Year  \n",
       "ID                           \n",
       "4844           2020Q2  2020  \n",
       "4617           2020Q1  2020  \n",
       "4584           2020Q1  2020  \n",
       "4551           2020Q1  2020  \n",
       "4497           2020Q1  2020  "
      ]
     },
     "execution_count": 141,
     "metadata": {},
     "output_type": "execute_result"
    }
   ],
   "source": [
    "Combined_Food_Cat_test.head()"
   ]
  },
  {
   "cell_type": "markdown",
   "metadata": {},
   "source": [
    "Deleting the `Date` column"
   ]
  },
  {
   "cell_type": "code",
   "execution_count": 142,
   "metadata": {},
   "outputs": [],
   "source": [
    "# del Combined_Food_Cat_test[\"Date\"]"
   ]
  },
  {
   "cell_type": "code",
   "execution_count": 143,
   "metadata": {},
   "outputs": [
    {
     "data": {
      "text/plain": [
       "2019    64\n",
       "2016    52\n",
       "2018    34\n",
       "2017    31\n",
       "2020    19\n",
       "2014    17\n",
       "2015     6\n",
       "Name: Year, dtype: int64"
      ]
     },
     "execution_count": 143,
     "metadata": {},
     "output_type": "execute_result"
    }
   ],
   "source": [
    "Combined_Food_Cat_test[\"Year\"].value_counts()"
   ]
  },
  {
   "cell_type": "code",
   "execution_count": 144,
   "metadata": {},
   "outputs": [
    {
     "data": {
      "text/plain": [
       "array([Period('2020Q2', 'Q-DEC'), Period('2020Q1', 'Q-DEC'),\n",
       "       Period('2020Q1', 'Q-DEC'), Period('2020Q1', 'Q-DEC'),\n",
       "       Period('2020Q1', 'Q-DEC'), Period('2019Q4', 'Q-DEC')], dtype=object)"
      ]
     },
     "execution_count": 144,
     "metadata": {},
     "output_type": "execute_result"
    }
   ],
   "source": [
    "Combined_Food_Cat_test[\"Quarterly Period\"].values[:6]"
   ]
  },
  {
   "cell_type": "code",
   "execution_count": null,
   "metadata": {},
   "outputs": [],
   "source": []
  },
  {
   "cell_type": "code",
   "execution_count": null,
   "metadata": {},
   "outputs": [],
   "source": []
  },
  {
   "cell_type": "markdown",
   "metadata": {},
   "source": [
    "Next, split the strings with `with`, `and` (Extra)"
   ]
  },
  {
   "cell_type": "code",
   "execution_count": 145,
   "metadata": {},
   "outputs": [],
   "source": [
    "# new_duplicate_values[\"Notes\"].str.split(pat='with | and')"
   ]
  },
  {
   "cell_type": "markdown",
   "metadata": {},
   "source": [
    "# Checking for correlation between the features"
   ]
  },
  {
   "cell_type": "code",
   "execution_count": 146,
   "metadata": {},
   "outputs": [
    {
     "data": {
      "text/html": [
       "<div>\n",
       "<style scoped>\n",
       "    .dataframe tbody tr th:only-of-type {\n",
       "        vertical-align: middle;\n",
       "    }\n",
       "\n",
       "    .dataframe tbody tr th {\n",
       "        vertical-align: top;\n",
       "    }\n",
       "\n",
       "    .dataframe thead th {\n",
       "        text-align: right;\n",
       "    }\n",
       "</style>\n",
       "<table border=\"1\" class=\"dataframe\">\n",
       "  <thead>\n",
       "    <tr style=\"text-align: right;\">\n",
       "      <th></th>\n",
       "      <th>Amount</th>\n",
       "      <th>Day</th>\n",
       "      <th>Month</th>\n",
       "      <th>Year</th>\n",
       "    </tr>\n",
       "  </thead>\n",
       "  <tbody>\n",
       "    <tr>\n",
       "      <th>Amount</th>\n",
       "      <td>1.000000</td>\n",
       "      <td>0.196437</td>\n",
       "      <td>0.174216</td>\n",
       "      <td>-0.388178</td>\n",
       "    </tr>\n",
       "    <tr>\n",
       "      <th>Day</th>\n",
       "      <td>0.196437</td>\n",
       "      <td>1.000000</td>\n",
       "      <td>-0.088809</td>\n",
       "      <td>-0.133191</td>\n",
       "    </tr>\n",
       "    <tr>\n",
       "      <th>Month</th>\n",
       "      <td>0.174216</td>\n",
       "      <td>-0.088809</td>\n",
       "      <td>1.000000</td>\n",
       "      <td>-0.352534</td>\n",
       "    </tr>\n",
       "    <tr>\n",
       "      <th>Year</th>\n",
       "      <td>-0.388178</td>\n",
       "      <td>-0.133191</td>\n",
       "      <td>-0.352534</td>\n",
       "      <td>1.000000</td>\n",
       "    </tr>\n",
       "  </tbody>\n",
       "</table>\n",
       "</div>"
      ],
      "text/plain": [
       "          Amount       Day     Month      Year\n",
       "Amount  1.000000  0.196437  0.174216 -0.388178\n",
       "Day     0.196437  1.000000 -0.088809 -0.133191\n",
       "Month   0.174216 -0.088809  1.000000 -0.352534\n",
       "Year   -0.388178 -0.133191 -0.352534  1.000000"
      ]
     },
     "execution_count": 146,
     "metadata": {},
     "output_type": "execute_result"
    }
   ],
   "source": [
    "corr_matrix = Combined_Food_Cat_test.corr()\n",
    "corr_matrix"
   ]
  },
  {
   "cell_type": "code",
   "execution_count": 147,
   "metadata": {},
   "outputs": [
    {
     "data": {
      "text/plain": [
       "Amount    1.000000\n",
       "Day       0.196437\n",
       "Month     0.174216\n",
       "Year     -0.388178\n",
       "Name: Amount, dtype: float64"
      ]
     },
     "execution_count": 147,
     "metadata": {},
     "output_type": "execute_result"
    }
   ],
   "source": [
    "corr_matrix[\"Amount\"].sort_values(ascending=False)"
   ]
  },
  {
   "cell_type": "code",
   "execution_count": 148,
   "metadata": {},
   "outputs": [
    {
     "data": {
      "text/plain": [
       "Index(['Notes', 'Amount', 'Food Category', 'Day', 'Month', 'Quarterly Period',\n",
       "       'Year'],\n",
       "      dtype='object')"
      ]
     },
     "execution_count": 148,
     "metadata": {},
     "output_type": "execute_result"
    }
   ],
   "source": [
    "Combined_Food_Cat_test.columns"
   ]
  },
  {
   "cell_type": "code",
   "execution_count": null,
   "metadata": {},
   "outputs": [],
   "source": []
  },
  {
   "cell_type": "markdown",
   "metadata": {},
   "source": [
    "## Gaining insights on McDonald's data"
   ]
  },
  {
   "cell_type": "code",
   "execution_count": 149,
   "metadata": {},
   "outputs": [
    {
     "name": "stdout",
     "output_type": "stream",
     "text": [
      "How many null values: 0\n"
     ]
    }
   ],
   "source": [
    "print(\"How many null values:\",McDonald_Exp.isnull().any(axis=1).sum())"
   ]
  },
  {
   "cell_type": "code",
   "execution_count": 150,
   "metadata": {
    "scrolled": true
   },
   "outputs": [
    {
     "data": {
      "text/plain": [
       "McDonald's McChicken Burger                                        42\n",
       "McDonald's Filet O Fish Burger                                     28\n",
       "McDonald's double cheese Burger                                    13\n",
       "McDonald's mcwings                                                 11\n",
       "McDonald's 2pc mcwings                                             10\n",
       "                                                                   ..\n",
       "McDonald's ButterMilk Chicken Meal                                  1\n",
       "McDonald's mcdouble burger                                          1\n",
       "McDonald's nasi lemak burger                                        1\n",
       "McDonald's peach pie                                                1\n",
       "McDonald's sausage with egg muffin and small sized orange juice     1\n",
       "Name: Notes, Length: 70, dtype: int64"
      ]
     },
     "execution_count": 150,
     "metadata": {},
     "output_type": "execute_result"
    }
   ],
   "source": [
    "McDonald_Exp[\"Notes\"].value_counts()"
   ]
  },
  {
   "cell_type": "code",
   "execution_count": 151,
   "metadata": {},
   "outputs": [
    {
     "data": {
      "image/png": "[encoded data removed]",
      "text/plain": [
       "<Figure size 1440x1080 with 4 Axes>"
      ]
     },
     "metadata": {
      "needs_background": "light"
     },
     "output_type": "display_data"
    }
   ],
   "source": [
    "Combined_Food_Cat_test.hist(bins=50, figsize=(20,15))\n",
    "plt.show()"
   ]
  },
  {
   "cell_type": "code",
   "execution_count": null,
   "metadata": {},
   "outputs": [],
   "source": []
  },
  {
   "cell_type": "markdown",
   "metadata": {},
   "source": [
    "## Group by the Year"
   ]
  },
  {
   "cell_type": "code",
   "execution_count": 152,
   "metadata": {},
   "outputs": [
    {
     "data": {
      "text/html": [
       "<div>\n",
       "<style scoped>\n",
       "    .dataframe tbody tr th:only-of-type {\n",
       "        vertical-align: middle;\n",
       "    }\n",
       "\n",
       "    .dataframe tbody tr th {\n",
       "        vertical-align: top;\n",
       "    }\n",
       "\n",
       "    .dataframe thead th {\n",
       "        text-align: right;\n",
       "    }\n",
       "</style>\n",
       "<table border=\"1\" class=\"dataframe\">\n",
       "  <thead>\n",
       "    <tr style=\"text-align: right;\">\n",
       "      <th></th>\n",
       "      <th>Amount</th>\n",
       "    </tr>\n",
       "    <tr>\n",
       "      <th>Year</th>\n",
       "      <th></th>\n",
       "    </tr>\n",
       "  </thead>\n",
       "  <tbody>\n",
       "    <tr>\n",
       "      <th>2014</th>\n",
       "      <td>96.80</td>\n",
       "    </tr>\n",
       "    <tr>\n",
       "      <th>2015</th>\n",
       "      <td>35.60</td>\n",
       "    </tr>\n",
       "    <tr>\n",
       "      <th>2016</th>\n",
       "      <td>178.40</td>\n",
       "    </tr>\n",
       "    <tr>\n",
       "      <th>2017</th>\n",
       "      <td>108.00</td>\n",
       "    </tr>\n",
       "    <tr>\n",
       "      <th>2018</th>\n",
       "      <td>123.75</td>\n",
       "    </tr>\n",
       "    <tr>\n",
       "      <th>2019</th>\n",
       "      <td>168.40</td>\n",
       "    </tr>\n",
       "    <tr>\n",
       "      <th>2020</th>\n",
       "      <td>58.15</td>\n",
       "    </tr>\n",
       "  </tbody>\n",
       "</table>\n",
       "</div>"
      ],
      "text/plain": [
       "      Amount\n",
       "Year        \n",
       "2014   96.80\n",
       "2015   35.60\n",
       "2016  178.40\n",
       "2017  108.00\n",
       "2018  123.75\n",
       "2019  168.40\n",
       "2020   58.15"
      ]
     },
     "execution_count": 152,
     "metadata": {},
     "output_type": "execute_result"
    }
   ],
   "source": [
    "Yearly_train_set = Combined_Food_Cat_test[[\"Amount\", \"Year\"]].groupby(\"Year\").sum()\n",
    "Yearly_train_set"
   ]
  },
  {
   "cell_type": "code",
   "execution_count": 153,
   "metadata": {},
   "outputs": [
    {
     "data": {
      "text/plain": [
       "array([2014, 2015, 2016, 2017, 2018, 2019, 2020], dtype=int64)"
      ]
     },
     "execution_count": 153,
     "metadata": {},
     "output_type": "execute_result"
    }
   ],
   "source": [
    "np.array(Yearly_train_set.index)"
   ]
  },
  {
   "cell_type": "code",
   "execution_count": 154,
   "metadata": {},
   "outputs": [
    {
     "data": {
      "text/plain": [
       "array([ 96.8 ,  35.6 , 178.4 , 108.  , 123.75, 168.4 ,  58.15])"
      ]
     },
     "execution_count": 154,
     "metadata": {},
     "output_type": "execute_result"
    }
   ],
   "source": [
    "np.array(Yearly_train_set[\"Amount\"])"
   ]
  },
  {
   "cell_type": "code",
   "execution_count": 155,
   "metadata": {},
   "outputs": [
    {
     "data": {
      "text/plain": [
       "Int64Index([2014, 2015, 2016, 2017, 2018, 2019, 2020], dtype='int64', name='Year')"
      ]
     },
     "execution_count": 155,
     "metadata": {},
     "output_type": "execute_result"
    }
   ],
   "source": [
    "Yearly_train_set.index"
   ]
  },
  {
   "cell_type": "code",
   "execution_count": 156,
   "metadata": {},
   "outputs": [
    {
     "data": {
      "text/plain": [
       "Year\n",
       "2014     96.80\n",
       "2015     35.60\n",
       "2016    178.40\n",
       "2017    108.00\n",
       "2018    123.75\n",
       "2019    168.40\n",
       "2020     58.15\n",
       "Name: Amount, dtype: float64"
      ]
     },
     "execution_count": 156,
     "metadata": {},
     "output_type": "execute_result"
    }
   ],
   "source": [
    "Yearly_train_set[\"Amount\"]"
   ]
  },
  {
   "cell_type": "code",
   "execution_count": 157,
   "metadata": {},
   "outputs": [
    {
     "data": {
      "image/png": "[encoded data removed]",
      "text/plain": [
       "<Figure size 432x288 with 1 Axes>"
      ]
     },
     "metadata": {
      "needs_background": "light"
     },
     "output_type": "display_data"
    }
   ],
   "source": [
    "plt.scatter(x=Yearly_train_set.index, y=Yearly_train_set[\"Amount\"], color=\"r\")\n",
    "plt.plot(Yearly_train_set[\"Amount\"], color=\"r\")\n",
    "plt.xlabel(\"Year\")\n",
    "plt.ylabel(\"Amount\")\n",
    "plt.show()"
   ]
  },
  {
   "cell_type": "code",
   "execution_count": 158,
   "metadata": {},
   "outputs": [
    {
     "data": {
      "image/png": "[encoded data removed]",
      "text/plain": [
       "<Figure size 432x288 with 1 Axes>"
      ]
     },
     "metadata": {
      "needs_background": "light"
     },
     "output_type": "display_data"
    }
   ],
   "source": [
    "Yearly_train_set.plot(kind=\"bar\", color=\"g\")\n",
    "plt.ylabel(\"Amount\")\n",
    "plt.grid(True)\n",
    "plt.show()"
   ]
  },
  {
   "cell_type": "markdown",
   "metadata": {},
   "source": [
    "## Group by the Quarterly Period and Food Category"
   ]
  },
  {
   "cell_type": "code",
   "execution_count": 159,
   "metadata": {},
   "outputs": [
    {
     "data": {
      "text/html": [
       "<div>\n",
       "<style scoped>\n",
       "    .dataframe tbody tr th:only-of-type {\n",
       "        vertical-align: middle;\n",
       "    }\n",
       "\n",
       "    .dataframe tbody tr th {\n",
       "        vertical-align: top;\n",
       "    }\n",
       "\n",
       "    .dataframe thead th {\n",
       "        text-align: right;\n",
       "    }\n",
       "</style>\n",
       "<table border=\"1\" class=\"dataframe\">\n",
       "  <thead>\n",
       "    <tr style=\"text-align: right;\">\n",
       "      <th></th>\n",
       "      <th></th>\n",
       "      <th>Amount</th>\n",
       "    </tr>\n",
       "    <tr>\n",
       "      <th>Quarterly Period</th>\n",
       "      <th>Food Category</th>\n",
       "      <th></th>\n",
       "    </tr>\n",
       "  </thead>\n",
       "  <tbody>\n",
       "    <tr>\n",
       "      <th rowspan=\"3\" valign=\"top\">2014Q2</th>\n",
       "      <th>Beef</th>\n",
       "      <td>11.70</td>\n",
       "    </tr>\n",
       "    <tr>\n",
       "      <th>Chicken</th>\n",
       "      <td>3.90</td>\n",
       "    </tr>\n",
       "    <tr>\n",
       "      <th>Fish</th>\n",
       "      <td>6.95</td>\n",
       "    </tr>\n",
       "    <tr>\n",
       "      <th rowspan=\"3\" valign=\"top\">2014Q3</th>\n",
       "      <th>Beef</th>\n",
       "      <td>18.30</td>\n",
       "    </tr>\n",
       "    <tr>\n",
       "      <th>Chicken</th>\n",
       "      <td>7.80</td>\n",
       "    </tr>\n",
       "    <tr>\n",
       "      <th>Sausage</th>\n",
       "      <td>6.20</td>\n",
       "    </tr>\n",
       "    <tr>\n",
       "      <th rowspan=\"3\" valign=\"top\">2014Q4</th>\n",
       "      <th>Beef</th>\n",
       "      <td>18.80</td>\n",
       "    </tr>\n",
       "    <tr>\n",
       "      <th>Chicken</th>\n",
       "      <td>11.05</td>\n",
       "    </tr>\n",
       "    <tr>\n",
       "      <th>Sausage</th>\n",
       "      <td>12.10</td>\n",
       "    </tr>\n",
       "    <tr>\n",
       "      <th>2015Q1</th>\n",
       "      <th>Sausage</th>\n",
       "      <td>3.80</td>\n",
       "    </tr>\n",
       "  </tbody>\n",
       "</table>\n",
       "</div>"
      ],
      "text/plain": [
       "                                Amount\n",
       "Quarterly Period Food Category        \n",
       "2014Q2           Beef            11.70\n",
       "                 Chicken          3.90\n",
       "                 Fish             6.95\n",
       "2014Q3           Beef            18.30\n",
       "                 Chicken          7.80\n",
       "                 Sausage          6.20\n",
       "2014Q4           Beef            18.80\n",
       "                 Chicken         11.05\n",
       "                 Sausage         12.10\n",
       "2015Q1           Sausage          3.80"
      ]
     },
     "execution_count": 159,
     "metadata": {},
     "output_type": "execute_result"
    }
   ],
   "source": [
    "Quarterly_train_set =Combined_Food_Cat_test[[\"Food Category\",\"Amount\",\"Quarterly Period\"]].groupby([\"Quarterly Period\", \"Food Category\"]).sum()\n",
    "Quarterly_train_set.head(10)"
   ]
  },
  {
   "cell_type": "code",
   "execution_count": 160,
   "metadata": {},
   "outputs": [
    {
     "data": {
      "text/plain": [
       "MultiIndex([('2014Q2',    'Beef'),\n",
       "            ('2014Q2', 'Chicken'),\n",
       "            ('2014Q2',    'Fish'),\n",
       "            ('2014Q3',    'Beef'),\n",
       "            ('2014Q3', 'Chicken'),\n",
       "            ('2014Q3', 'Sausage'),\n",
       "            ('2014Q4',    'Beef'),\n",
       "            ('2014Q4', 'Chicken'),\n",
       "            ('2014Q4', 'Sausage'),\n",
       "            ('2015Q1', 'Sausage'),\n",
       "            ('2015Q2', 'Chicken')],\n",
       "           names=['Quarterly Period', 'Food Category'])"
      ]
     },
     "execution_count": 160,
     "metadata": {},
     "output_type": "execute_result"
    }
   ],
   "source": [
    "Quarterly_train_set.index[:11]"
   ]
  },
  {
   "cell_type": "code",
   "execution_count": 161,
   "metadata": {},
   "outputs": [
    {
     "data": {
      "text/plain": [
       "array([(Period('2014Q2', 'Q-DEC'), 'Beef'),\n",
       "       (Period('2014Q2', 'Q-DEC'), 'Chicken'),\n",
       "       (Period('2014Q2', 'Q-DEC'), 'Fish'),\n",
       "       (Period('2014Q3', 'Q-DEC'), 'Beef'),\n",
       "       (Period('2014Q3', 'Q-DEC'), 'Chicken'),\n",
       "       (Period('2014Q3', 'Q-DEC'), 'Sausage')], dtype=object)"
      ]
     },
     "execution_count": 161,
     "metadata": {},
     "output_type": "execute_result"
    }
   ],
   "source": [
    "pd.DataFrame(Quarterly_train_set[\"Amount\"]).index.values[:6]"
   ]
  },
  {
   "cell_type": "code",
   "execution_count": 162,
   "metadata": {},
   "outputs": [
    {
     "data": {
      "text/html": [
       "<div>\n",
       "<style scoped>\n",
       "    .dataframe tbody tr th:only-of-type {\n",
       "        vertical-align: middle;\n",
       "    }\n",
       "\n",
       "    .dataframe tbody tr th {\n",
       "        vertical-align: top;\n",
       "    }\n",
       "\n",
       "    .dataframe thead tr th {\n",
       "        text-align: left;\n",
       "    }\n",
       "\n",
       "    .dataframe thead tr:last-of-type th {\n",
       "        text-align: right;\n",
       "    }\n",
       "</style>\n",
       "<table border=\"1\" class=\"dataframe\">\n",
       "  <thead>\n",
       "    <tr>\n",
       "      <th></th>\n",
       "      <th colspan=\"21\" halign=\"left\">Amount</th>\n",
       "    </tr>\n",
       "    <tr>\n",
       "      <th>Quarterly Period</th>\n",
       "      <th>2014Q2</th>\n",
       "      <th>2014Q3</th>\n",
       "      <th>2014Q4</th>\n",
       "      <th>2015Q1</th>\n",
       "      <th>2015Q2</th>\n",
       "      <th>2015Q3</th>\n",
       "      <th>2016Q1</th>\n",
       "      <th>2016Q2</th>\n",
       "      <th>2016Q3</th>\n",
       "      <th>2016Q4</th>\n",
       "      <th>...</th>\n",
       "      <th>2018Q1</th>\n",
       "      <th>2018Q2</th>\n",
       "      <th>2018Q3</th>\n",
       "      <th>2018Q4</th>\n",
       "      <th>2019Q1</th>\n",
       "      <th>2019Q2</th>\n",
       "      <th>2019Q3</th>\n",
       "      <th>2019Q4</th>\n",
       "      <th>2020Q1</th>\n",
       "      <th>2020Q2</th>\n",
       "    </tr>\n",
       "    <tr>\n",
       "      <th>Food Category</th>\n",
       "      <th></th>\n",
       "      <th></th>\n",
       "      <th></th>\n",
       "      <th></th>\n",
       "      <th></th>\n",
       "      <th></th>\n",
       "      <th></th>\n",
       "      <th></th>\n",
       "      <th></th>\n",
       "      <th></th>\n",
       "      <th></th>\n",
       "      <th></th>\n",
       "      <th></th>\n",
       "      <th></th>\n",
       "      <th></th>\n",
       "      <th></th>\n",
       "      <th></th>\n",
       "      <th></th>\n",
       "      <th></th>\n",
       "      <th></th>\n",
       "      <th></th>\n",
       "    </tr>\n",
       "  </thead>\n",
       "  <tbody>\n",
       "    <tr>\n",
       "      <th>Beef</th>\n",
       "      <td>11.70</td>\n",
       "      <td>18.3</td>\n",
       "      <td>18.80</td>\n",
       "      <td>NaN</td>\n",
       "      <td>NaN</td>\n",
       "      <td>NaN</td>\n",
       "      <td>3.0</td>\n",
       "      <td>20.10</td>\n",
       "      <td>9.00</td>\n",
       "      <td>3.00</td>\n",
       "      <td>...</td>\n",
       "      <td>NaN</td>\n",
       "      <td>NaN</td>\n",
       "      <td>NaN</td>\n",
       "      <td>NaN</td>\n",
       "      <td>12.7</td>\n",
       "      <td>4.60</td>\n",
       "      <td>NaN</td>\n",
       "      <td>NaN</td>\n",
       "      <td>7.80</td>\n",
       "      <td>NaN</td>\n",
       "    </tr>\n",
       "    <tr>\n",
       "      <th>Chicken</th>\n",
       "      <td>3.90</td>\n",
       "      <td>7.8</td>\n",
       "      <td>11.05</td>\n",
       "      <td>NaN</td>\n",
       "      <td>17.3</td>\n",
       "      <td>NaN</td>\n",
       "      <td>10.6</td>\n",
       "      <td>27.05</td>\n",
       "      <td>34.25</td>\n",
       "      <td>31.55</td>\n",
       "      <td>...</td>\n",
       "      <td>16.0</td>\n",
       "      <td>16.00</td>\n",
       "      <td>26.3</td>\n",
       "      <td>NaN</td>\n",
       "      <td>31.9</td>\n",
       "      <td>18.60</td>\n",
       "      <td>12.00</td>\n",
       "      <td>3.00</td>\n",
       "      <td>3.00</td>\n",
       "      <td>NaN</td>\n",
       "    </tr>\n",
       "    <tr>\n",
       "      <th>Desserts</th>\n",
       "      <td>NaN</td>\n",
       "      <td>NaN</td>\n",
       "      <td>NaN</td>\n",
       "      <td>NaN</td>\n",
       "      <td>NaN</td>\n",
       "      <td>NaN</td>\n",
       "      <td>NaN</td>\n",
       "      <td>NaN</td>\n",
       "      <td>NaN</td>\n",
       "      <td>NaN</td>\n",
       "      <td>...</td>\n",
       "      <td>NaN</td>\n",
       "      <td>NaN</td>\n",
       "      <td>NaN</td>\n",
       "      <td>1.8</td>\n",
       "      <td>1.4</td>\n",
       "      <td>3.00</td>\n",
       "      <td>4.10</td>\n",
       "      <td>1.50</td>\n",
       "      <td>3.40</td>\n",
       "      <td>NaN</td>\n",
       "    </tr>\n",
       "    <tr>\n",
       "      <th>Fish</th>\n",
       "      <td>6.95</td>\n",
       "      <td>NaN</td>\n",
       "      <td>NaN</td>\n",
       "      <td>NaN</td>\n",
       "      <td>7.1</td>\n",
       "      <td>7.4</td>\n",
       "      <td>NaN</td>\n",
       "      <td>NaN</td>\n",
       "      <td>24.05</td>\n",
       "      <td>8.60</td>\n",
       "      <td>...</td>\n",
       "      <td>5.6</td>\n",
       "      <td>12.95</td>\n",
       "      <td>8.5</td>\n",
       "      <td>19.1</td>\n",
       "      <td>2.8</td>\n",
       "      <td>39.55</td>\n",
       "      <td>NaN</td>\n",
       "      <td>22.35</td>\n",
       "      <td>11.35</td>\n",
       "      <td>2.00</td>\n",
       "    </tr>\n",
       "    <tr>\n",
       "      <th>Sausage</th>\n",
       "      <td>NaN</td>\n",
       "      <td>6.2</td>\n",
       "      <td>12.10</td>\n",
       "      <td>3.8</td>\n",
       "      <td>NaN</td>\n",
       "      <td>NaN</td>\n",
       "      <td>3.0</td>\n",
       "      <td>NaN</td>\n",
       "      <td>4.20</td>\n",
       "      <td>NaN</td>\n",
       "      <td>...</td>\n",
       "      <td>11.5</td>\n",
       "      <td>NaN</td>\n",
       "      <td>3.0</td>\n",
       "      <td>3.0</td>\n",
       "      <td>NaN</td>\n",
       "      <td>4.25</td>\n",
       "      <td>6.65</td>\n",
       "      <td>NaN</td>\n",
       "      <td>22.45</td>\n",
       "      <td>8.15</td>\n",
       "    </tr>\n",
       "  </tbody>\n",
       "</table>\n",
       "<p>5 rows × 24 columns</p>\n",
       "</div>"
      ],
      "text/plain": [
       "                 Amount                                                   \\\n",
       "Quarterly Period 2014Q2 2014Q3 2014Q4 2015Q1 2015Q2 2015Q3 2016Q1 2016Q2   \n",
       "Food Category                                                              \n",
       "Beef              11.70   18.3  18.80    NaN    NaN    NaN    3.0  20.10   \n",
       "Chicken            3.90    7.8  11.05    NaN   17.3    NaN   10.6  27.05   \n",
       "Desserts            NaN    NaN    NaN    NaN    NaN    NaN    NaN    NaN   \n",
       "Fish               6.95    NaN    NaN    NaN    7.1    7.4    NaN    NaN   \n",
       "Sausage             NaN    6.2  12.10    3.8    NaN    NaN    3.0    NaN   \n",
       "\n",
       "                                ...                                            \\\n",
       "Quarterly Period 2016Q3 2016Q4  ... 2018Q1 2018Q2 2018Q3 2018Q4 2019Q1 2019Q2   \n",
       "Food Category                   ...                                             \n",
       "Beef               9.00   3.00  ...    NaN    NaN    NaN    NaN   12.7   4.60   \n",
       "Chicken           34.25  31.55  ...   16.0  16.00   26.3    NaN   31.9  18.60   \n",
       "Desserts            NaN    NaN  ...    NaN    NaN    NaN    1.8    1.4   3.00   \n",
       "Fish              24.05   8.60  ...    5.6  12.95    8.5   19.1    2.8  39.55   \n",
       "Sausage            4.20    NaN  ...   11.5    NaN    3.0    3.0    NaN   4.25   \n",
       "\n",
       "                                              \n",
       "Quarterly Period 2019Q3 2019Q4 2020Q1 2020Q2  \n",
       "Food Category                                 \n",
       "Beef                NaN    NaN   7.80    NaN  \n",
       "Chicken           12.00   3.00   3.00    NaN  \n",
       "Desserts           4.10   1.50   3.40    NaN  \n",
       "Fish                NaN  22.35  11.35   2.00  \n",
       "Sausage            6.65    NaN  22.45   8.15  \n",
       "\n",
       "[5 rows x 24 columns]"
      ]
     },
     "execution_count": 162,
     "metadata": {},
     "output_type": "execute_result"
    }
   ],
   "source": [
    "pd.DataFrame(Quarterly_train_set.unstack(level=0))"
   ]
  },
  {
   "cell_type": "code",
   "execution_count": 163,
   "metadata": {},
   "outputs": [
    {
     "data": {
      "text/html": [
       "<div>\n",
       "<style scoped>\n",
       "    .dataframe tbody tr th:only-of-type {\n",
       "        vertical-align: middle;\n",
       "    }\n",
       "\n",
       "    .dataframe tbody tr th {\n",
       "        vertical-align: top;\n",
       "    }\n",
       "\n",
       "    .dataframe thead th {\n",
       "        text-align: right;\n",
       "    }\n",
       "</style>\n",
       "<table border=\"1\" class=\"dataframe\">\n",
       "  <thead>\n",
       "    <tr style=\"text-align: right;\">\n",
       "      <th></th>\n",
       "      <th>Amount</th>\n",
       "    </tr>\n",
       "  </thead>\n",
       "  <tbody>\n",
       "    <tr>\n",
       "      <th>count</th>\n",
       "      <td>69.000000</td>\n",
       "    </tr>\n",
       "    <tr>\n",
       "      <th>mean</th>\n",
       "      <td>11.146377</td>\n",
       "    </tr>\n",
       "    <tr>\n",
       "      <th>std</th>\n",
       "      <td>9.313646</td>\n",
       "    </tr>\n",
       "    <tr>\n",
       "      <th>min</th>\n",
       "      <td>1.000000</td>\n",
       "    </tr>\n",
       "    <tr>\n",
       "      <th>25%</th>\n",
       "      <td>3.800000</td>\n",
       "    </tr>\n",
       "    <tr>\n",
       "      <th>50%</th>\n",
       "      <td>7.800000</td>\n",
       "    </tr>\n",
       "    <tr>\n",
       "      <th>75%</th>\n",
       "      <td>16.000000</td>\n",
       "    </tr>\n",
       "    <tr>\n",
       "      <th>max</th>\n",
       "      <td>39.550000</td>\n",
       "    </tr>\n",
       "  </tbody>\n",
       "</table>\n",
       "</div>"
      ],
      "text/plain": [
       "          Amount\n",
       "count  69.000000\n",
       "mean   11.146377\n",
       "std     9.313646\n",
       "min     1.000000\n",
       "25%     3.800000\n",
       "50%     7.800000\n",
       "75%    16.000000\n",
       "max    39.550000"
      ]
     },
     "execution_count": 163,
     "metadata": {},
     "output_type": "execute_result"
    }
   ],
   "source": [
    "Quarterly_train_set.describe()"
   ]
  },
  {
   "cell_type": "code",
   "execution_count": 164,
   "metadata": {},
   "outputs": [
    {
     "data": {
      "text/plain": [
       "Quarterly Period  Food Category\n",
       "2019Q2            Fish             39.55\n",
       "2016Q3            Chicken          34.25\n",
       "2019Q1            Chicken          31.90\n",
       "2016Q4            Chicken          31.55\n",
       "2017Q2            Chicken          30.45\n",
       "                                   ...  \n",
       "2020Q2            Fish              2.00\n",
       "2018Q4            Desserts          1.80\n",
       "2019Q4            Desserts          1.50\n",
       "2019Q1            Desserts          1.40\n",
       "2017Q2            Desserts          1.00\n",
       "Name: Amount, Length: 69, dtype: float64"
      ]
     },
     "execution_count": 164,
     "metadata": {},
     "output_type": "execute_result"
    }
   ],
   "source": [
    "Quarterly_train_set[\"Amount\"].sort_values(ascending=False)"
   ]
  },
  {
   "cell_type": "code",
   "execution_count": 165,
   "metadata": {},
   "outputs": [],
   "source": [
    "# plt.figure(figsize=(12,9))\n",
    "# Quarterly_train_set[\"Amount\"].plot(kind=\"bar\", subplots=True, color=\"g\")\n",
    "# plt.xlabel(\"Quarterly Period\")\n",
    "# plt.ylabel(\"Amount\")\n",
    "# plt.grid(True)\n",
    "# plt.tight_layout()\n",
    "# plt.show()"
   ]
  },
  {
   "cell_type": "code",
   "execution_count": 166,
   "metadata": {},
   "outputs": [
    {
     "data": {
      "text/html": [
       "<div>\n",
       "<style scoped>\n",
       "    .dataframe tbody tr th:only-of-type {\n",
       "        vertical-align: middle;\n",
       "    }\n",
       "\n",
       "    .dataframe tbody tr th {\n",
       "        vertical-align: top;\n",
       "    }\n",
       "\n",
       "    .dataframe thead tr th {\n",
       "        text-align: left;\n",
       "    }\n",
       "\n",
       "    .dataframe thead tr:last-of-type th {\n",
       "        text-align: right;\n",
       "    }\n",
       "</style>\n",
       "<table border=\"1\" class=\"dataframe\">\n",
       "  <thead>\n",
       "    <tr>\n",
       "      <th></th>\n",
       "      <th colspan=\"5\" halign=\"left\">Amount</th>\n",
       "    </tr>\n",
       "    <tr>\n",
       "      <th>Food Category</th>\n",
       "      <th>Beef</th>\n",
       "      <th>Chicken</th>\n",
       "      <th>Desserts</th>\n",
       "      <th>Fish</th>\n",
       "      <th>Sausage</th>\n",
       "    </tr>\n",
       "    <tr>\n",
       "      <th>Quarterly Period</th>\n",
       "      <th></th>\n",
       "      <th></th>\n",
       "      <th></th>\n",
       "      <th></th>\n",
       "      <th></th>\n",
       "    </tr>\n",
       "  </thead>\n",
       "  <tbody>\n",
       "    <tr>\n",
       "      <th>2014Q2</th>\n",
       "      <td>11.7</td>\n",
       "      <td>3.90</td>\n",
       "      <td>NaN</td>\n",
       "      <td>6.95</td>\n",
       "      <td>NaN</td>\n",
       "    </tr>\n",
       "    <tr>\n",
       "      <th>2014Q3</th>\n",
       "      <td>18.3</td>\n",
       "      <td>7.80</td>\n",
       "      <td>NaN</td>\n",
       "      <td>NaN</td>\n",
       "      <td>6.20</td>\n",
       "    </tr>\n",
       "    <tr>\n",
       "      <th>2014Q4</th>\n",
       "      <td>18.8</td>\n",
       "      <td>11.05</td>\n",
       "      <td>NaN</td>\n",
       "      <td>NaN</td>\n",
       "      <td>12.10</td>\n",
       "    </tr>\n",
       "    <tr>\n",
       "      <th>2015Q1</th>\n",
       "      <td>NaN</td>\n",
       "      <td>NaN</td>\n",
       "      <td>NaN</td>\n",
       "      <td>NaN</td>\n",
       "      <td>3.80</td>\n",
       "    </tr>\n",
       "    <tr>\n",
       "      <th>2015Q2</th>\n",
       "      <td>NaN</td>\n",
       "      <td>17.30</td>\n",
       "      <td>NaN</td>\n",
       "      <td>7.10</td>\n",
       "      <td>NaN</td>\n",
       "    </tr>\n",
       "    <tr>\n",
       "      <th>2015Q3</th>\n",
       "      <td>NaN</td>\n",
       "      <td>NaN</td>\n",
       "      <td>NaN</td>\n",
       "      <td>7.40</td>\n",
       "      <td>NaN</td>\n",
       "    </tr>\n",
       "    <tr>\n",
       "      <th>2016Q1</th>\n",
       "      <td>3.0</td>\n",
       "      <td>10.60</td>\n",
       "      <td>NaN</td>\n",
       "      <td>NaN</td>\n",
       "      <td>3.00</td>\n",
       "    </tr>\n",
       "    <tr>\n",
       "      <th>2016Q2</th>\n",
       "      <td>20.1</td>\n",
       "      <td>27.05</td>\n",
       "      <td>NaN</td>\n",
       "      <td>NaN</td>\n",
       "      <td>NaN</td>\n",
       "    </tr>\n",
       "    <tr>\n",
       "      <th>2016Q3</th>\n",
       "      <td>9.0</td>\n",
       "      <td>34.25</td>\n",
       "      <td>NaN</td>\n",
       "      <td>24.05</td>\n",
       "      <td>4.20</td>\n",
       "    </tr>\n",
       "    <tr>\n",
       "      <th>2016Q4</th>\n",
       "      <td>3.0</td>\n",
       "      <td>31.55</td>\n",
       "      <td>NaN</td>\n",
       "      <td>8.60</td>\n",
       "      <td>NaN</td>\n",
       "    </tr>\n",
       "    <tr>\n",
       "      <th>2017Q1</th>\n",
       "      <td>NaN</td>\n",
       "      <td>2.60</td>\n",
       "      <td>NaN</td>\n",
       "      <td>7.50</td>\n",
       "      <td>NaN</td>\n",
       "    </tr>\n",
       "    <tr>\n",
       "      <th>2017Q2</th>\n",
       "      <td>11.6</td>\n",
       "      <td>30.45</td>\n",
       "      <td>1.0</td>\n",
       "      <td>5.50</td>\n",
       "      <td>NaN</td>\n",
       "    </tr>\n",
       "    <tr>\n",
       "      <th>2017Q3</th>\n",
       "      <td>NaN</td>\n",
       "      <td>24.75</td>\n",
       "      <td>2.0</td>\n",
       "      <td>5.00</td>\n",
       "      <td>6.80</td>\n",
       "    </tr>\n",
       "    <tr>\n",
       "      <th>2017Q4</th>\n",
       "      <td>NaN</td>\n",
       "      <td>NaN</td>\n",
       "      <td>NaN</td>\n",
       "      <td>10.80</td>\n",
       "      <td>NaN</td>\n",
       "    </tr>\n",
       "    <tr>\n",
       "      <th>2018Q1</th>\n",
       "      <td>NaN</td>\n",
       "      <td>16.00</td>\n",
       "      <td>NaN</td>\n",
       "      <td>5.60</td>\n",
       "      <td>11.50</td>\n",
       "    </tr>\n",
       "    <tr>\n",
       "      <th>2018Q2</th>\n",
       "      <td>NaN</td>\n",
       "      <td>16.00</td>\n",
       "      <td>NaN</td>\n",
       "      <td>12.95</td>\n",
       "      <td>NaN</td>\n",
       "    </tr>\n",
       "    <tr>\n",
       "      <th>2018Q3</th>\n",
       "      <td>NaN</td>\n",
       "      <td>26.30</td>\n",
       "      <td>NaN</td>\n",
       "      <td>8.50</td>\n",
       "      <td>3.00</td>\n",
       "    </tr>\n",
       "    <tr>\n",
       "      <th>2018Q4</th>\n",
       "      <td>NaN</td>\n",
       "      <td>NaN</td>\n",
       "      <td>1.8</td>\n",
       "      <td>19.10</td>\n",
       "      <td>3.00</td>\n",
       "    </tr>\n",
       "    <tr>\n",
       "      <th>2019Q1</th>\n",
       "      <td>12.7</td>\n",
       "      <td>31.90</td>\n",
       "      <td>1.4</td>\n",
       "      <td>2.80</td>\n",
       "      <td>NaN</td>\n",
       "    </tr>\n",
       "    <tr>\n",
       "      <th>2019Q2</th>\n",
       "      <td>4.6</td>\n",
       "      <td>18.60</td>\n",
       "      <td>3.0</td>\n",
       "      <td>39.55</td>\n",
       "      <td>4.25</td>\n",
       "    </tr>\n",
       "    <tr>\n",
       "      <th>2019Q3</th>\n",
       "      <td>NaN</td>\n",
       "      <td>12.00</td>\n",
       "      <td>4.1</td>\n",
       "      <td>NaN</td>\n",
       "      <td>6.65</td>\n",
       "    </tr>\n",
       "    <tr>\n",
       "      <th>2019Q4</th>\n",
       "      <td>NaN</td>\n",
       "      <td>3.00</td>\n",
       "      <td>1.5</td>\n",
       "      <td>22.35</td>\n",
       "      <td>NaN</td>\n",
       "    </tr>\n",
       "    <tr>\n",
       "      <th>2020Q1</th>\n",
       "      <td>7.8</td>\n",
       "      <td>3.00</td>\n",
       "      <td>3.4</td>\n",
       "      <td>11.35</td>\n",
       "      <td>22.45</td>\n",
       "    </tr>\n",
       "    <tr>\n",
       "      <th>2020Q2</th>\n",
       "      <td>NaN</td>\n",
       "      <td>NaN</td>\n",
       "      <td>NaN</td>\n",
       "      <td>2.00</td>\n",
       "      <td>8.15</td>\n",
       "    </tr>\n",
       "  </tbody>\n",
       "</table>\n",
       "</div>"
      ],
      "text/plain": [
       "                 Amount                                \n",
       "Food Category      Beef Chicken Desserts   Fish Sausage\n",
       "Quarterly Period                                       \n",
       "2014Q2             11.7    3.90      NaN   6.95     NaN\n",
       "2014Q3             18.3    7.80      NaN    NaN    6.20\n",
       "2014Q4             18.8   11.05      NaN    NaN   12.10\n",
       "2015Q1              NaN     NaN      NaN    NaN    3.80\n",
       "2015Q2              NaN   17.30      NaN   7.10     NaN\n",
       "2015Q3              NaN     NaN      NaN   7.40     NaN\n",
       "2016Q1              3.0   10.60      NaN    NaN    3.00\n",
       "2016Q2             20.1   27.05      NaN    NaN     NaN\n",
       "2016Q3              9.0   34.25      NaN  24.05    4.20\n",
       "2016Q4              3.0   31.55      NaN   8.60     NaN\n",
       "2017Q1              NaN    2.60      NaN   7.50     NaN\n",
       "2017Q2             11.6   30.45      1.0   5.50     NaN\n",
       "2017Q3              NaN   24.75      2.0   5.00    6.80\n",
       "2017Q4              NaN     NaN      NaN  10.80     NaN\n",
       "2018Q1              NaN   16.00      NaN   5.60   11.50\n",
       "2018Q2              NaN   16.00      NaN  12.95     NaN\n",
       "2018Q3              NaN   26.30      NaN   8.50    3.00\n",
       "2018Q4              NaN     NaN      1.8  19.10    3.00\n",
       "2019Q1             12.7   31.90      1.4   2.80     NaN\n",
       "2019Q2              4.6   18.60      3.0  39.55    4.25\n",
       "2019Q3              NaN   12.00      4.1    NaN    6.65\n",
       "2019Q4              NaN    3.00      1.5  22.35     NaN\n",
       "2020Q1              7.8    3.00      3.4  11.35   22.45\n",
       "2020Q2              NaN     NaN      NaN   2.00    8.15"
      ]
     },
     "execution_count": 166,
     "metadata": {},
     "output_type": "execute_result"
    }
   ],
   "source": [
    "FoodCat_Quarterly = Quarterly_train_set.unstack(level=1)\n",
    "FoodCat_Quarterly"
   ]
  },
  {
   "cell_type": "code",
   "execution_count": 167,
   "metadata": {},
   "outputs": [
    {
     "name": "stdout",
     "output_type": "stream",
     "text": [
      "Saving figure Quartery McDonald Expense\n"
     ]
    },
    {
     "data": {
      "image/png": "[encoded data removed]",
      "text/plain": [
       "<Figure size 720x360 with 1 Axes>"
      ]
     },
     "metadata": {
      "needs_background": "light"
     },
     "output_type": "display_data"
    }
   ],
   "source": [
    "# plt.figure(figsize=(10,9))\n",
    "FoodCat_Quarterly.plot(kind=\"bar\", stacked=True, figsize=(10,5))\n",
    "plt.legend([\"Beef\", \"Chicken\", \"Desserts\", \"Fish\", \"Sausage\"])\n",
    "plt.title(\"Quarterly McDonald Expense\")\n",
    "plt.ylabel(\"Amount ($)\")\n",
    "plt.grid(True)\n",
    "save_fig(\"Quartery McDonald Expense\")\n",
    "plt.show()"
   ]
  },
  {
   "cell_type": "code",
   "execution_count": 168,
   "metadata": {
    "scrolled": true
   },
   "outputs": [
    {
     "data": {
      "text/plain": [
       "Quarterly Period  Food Category\n",
       "2014Q2            Beef                 (Period('2014Q2', 'Q-DEC'), 'Beef')\n",
       "                  Chicken           (Period('2014Q2', 'Q-DEC'), 'Chicken')\n",
       "                  Fish                 (Period('2014Q2', 'Q-DEC'), 'Fish')\n",
       "2014Q3            Beef                 (Period('2014Q3', 'Q-DEC'), 'Beef')\n",
       "                  Chicken           (Period('2014Q3', 'Q-DEC'), 'Chicken')\n",
       "                                                    ...                   \n",
       "2020Q1            Desserts         (Period('2020Q1', 'Q-DEC'), 'Desserts')\n",
       "                  Fish                 (Period('2020Q1', 'Q-DEC'), 'Fish')\n",
       "                  Sausage           (Period('2020Q1', 'Q-DEC'), 'Sausage')\n",
       "2020Q2            Fish                 (Period('2020Q2', 'Q-DEC'), 'Fish')\n",
       "                  Sausage           (Period('2020Q2', 'Q-DEC'), 'Sausage')\n",
       "Length: 69, dtype: object"
      ]
     },
     "execution_count": 168,
     "metadata": {},
     "output_type": "execute_result"
    }
   ],
   "source": [
    "# Converting the index to string\n",
    "Quarterly_Periods = Quarterly_train_set.index.to_series().astype(str)\n",
    "Quarterly_Periods"
   ]
  },
  {
   "cell_type": "code",
   "execution_count": 169,
   "metadata": {},
   "outputs": [
    {
     "name": "stdout",
     "output_type": "stream",
     "text": [
      "Shape of Quarterly Periods: (69,)\n"
     ]
    },
    {
     "data": {
      "text/html": [
       "<div>\n",
       "<style scoped>\n",
       "    .dataframe tbody tr th:only-of-type {\n",
       "        vertical-align: middle;\n",
       "    }\n",
       "\n",
       "    .dataframe tbody tr th {\n",
       "        vertical-align: top;\n",
       "    }\n",
       "\n",
       "    .dataframe thead th {\n",
       "        text-align: right;\n",
       "    }\n",
       "</style>\n",
       "<table border=\"1\" class=\"dataframe\">\n",
       "  <thead>\n",
       "    <tr style=\"text-align: right;\">\n",
       "      <th></th>\n",
       "      <th></th>\n",
       "      <th>0</th>\n",
       "    </tr>\n",
       "    <tr>\n",
       "      <th>Quarterly Period</th>\n",
       "      <th>Food Category</th>\n",
       "      <th></th>\n",
       "    </tr>\n",
       "  </thead>\n",
       "  <tbody>\n",
       "    <tr>\n",
       "      <th rowspan=\"3\" valign=\"top\">2014Q2</th>\n",
       "      <th>Beef</th>\n",
       "      <td>(Period('2014Q2', 'Q-DEC'), 'Beef')</td>\n",
       "    </tr>\n",
       "    <tr>\n",
       "      <th>Chicken</th>\n",
       "      <td>(Period('2014Q2', 'Q-DEC'), 'Chicken')</td>\n",
       "    </tr>\n",
       "    <tr>\n",
       "      <th>Fish</th>\n",
       "      <td>(Period('2014Q2', 'Q-DEC'), 'Fish')</td>\n",
       "    </tr>\n",
       "    <tr>\n",
       "      <th rowspan=\"2\" valign=\"top\">2014Q3</th>\n",
       "      <th>Beef</th>\n",
       "      <td>(Period('2014Q3', 'Q-DEC'), 'Beef')</td>\n",
       "    </tr>\n",
       "    <tr>\n",
       "      <th>Chicken</th>\n",
       "      <td>(Period('2014Q3', 'Q-DEC'), 'Chicken')</td>\n",
       "    </tr>\n",
       "    <tr>\n",
       "      <th>...</th>\n",
       "      <th>...</th>\n",
       "      <td>...</td>\n",
       "    </tr>\n",
       "    <tr>\n",
       "      <th rowspan=\"3\" valign=\"top\">2020Q1</th>\n",
       "      <th>Desserts</th>\n",
       "      <td>(Period('2020Q1', 'Q-DEC'), 'Desserts')</td>\n",
       "    </tr>\n",
       "    <tr>\n",
       "      <th>Fish</th>\n",
       "      <td>(Period('2020Q1', 'Q-DEC'), 'Fish')</td>\n",
       "    </tr>\n",
       "    <tr>\n",
       "      <th>Sausage</th>\n",
       "      <td>(Period('2020Q1', 'Q-DEC'), 'Sausage')</td>\n",
       "    </tr>\n",
       "    <tr>\n",
       "      <th rowspan=\"2\" valign=\"top\">2020Q2</th>\n",
       "      <th>Fish</th>\n",
       "      <td>(Period('2020Q2', 'Q-DEC'), 'Fish')</td>\n",
       "    </tr>\n",
       "    <tr>\n",
       "      <th>Sausage</th>\n",
       "      <td>(Period('2020Q2', 'Q-DEC'), 'Sausage')</td>\n",
       "    </tr>\n",
       "  </tbody>\n",
       "</table>\n",
       "<p>69 rows × 1 columns</p>\n",
       "</div>"
      ],
      "text/plain": [
       "                                                                      0\n",
       "Quarterly Period Food Category                                         \n",
       "2014Q2           Beef               (Period('2014Q2', 'Q-DEC'), 'Beef')\n",
       "                 Chicken         (Period('2014Q2', 'Q-DEC'), 'Chicken')\n",
       "                 Fish               (Period('2014Q2', 'Q-DEC'), 'Fish')\n",
       "2014Q3           Beef               (Period('2014Q3', 'Q-DEC'), 'Beef')\n",
       "                 Chicken         (Period('2014Q3', 'Q-DEC'), 'Chicken')\n",
       "...                                                                 ...\n",
       "2020Q1           Desserts       (Period('2020Q1', 'Q-DEC'), 'Desserts')\n",
       "                 Fish               (Period('2020Q1', 'Q-DEC'), 'Fish')\n",
       "                 Sausage         (Period('2020Q1', 'Q-DEC'), 'Sausage')\n",
       "2020Q2           Fish               (Period('2020Q2', 'Q-DEC'), 'Fish')\n",
       "                 Sausage         (Period('2020Q2', 'Q-DEC'), 'Sausage')\n",
       "\n",
       "[69 rows x 1 columns]"
      ]
     },
     "execution_count": 169,
     "metadata": {},
     "output_type": "execute_result"
    }
   ],
   "source": [
    "# X-axis\n",
    "print(\"Shape of Quarterly Periods:\",Quarterly_Periods.index.shape)\n",
    "pd.DataFrame(Quarterly_Periods)"
   ]
  },
  {
   "cell_type": "code",
   "execution_count": 170,
   "metadata": {},
   "outputs": [
    {
     "name": "stdout",
     "output_type": "stream",
     "text": [
      "Quarterly_train_set for amount (69, 1)\n"
     ]
    },
    {
     "data": {
      "text/html": [
       "<div>\n",
       "<style scoped>\n",
       "    .dataframe tbody tr th:only-of-type {\n",
       "        vertical-align: middle;\n",
       "    }\n",
       "\n",
       "    .dataframe tbody tr th {\n",
       "        vertical-align: top;\n",
       "    }\n",
       "\n",
       "    .dataframe thead th {\n",
       "        text-align: right;\n",
       "    }\n",
       "</style>\n",
       "<table border=\"1\" class=\"dataframe\">\n",
       "  <thead>\n",
       "    <tr style=\"text-align: right;\">\n",
       "      <th></th>\n",
       "      <th></th>\n",
       "      <th>Amount</th>\n",
       "    </tr>\n",
       "    <tr>\n",
       "      <th>Quarterly Period</th>\n",
       "      <th>Food Category</th>\n",
       "      <th></th>\n",
       "    </tr>\n",
       "  </thead>\n",
       "  <tbody>\n",
       "    <tr>\n",
       "      <th rowspan=\"3\" valign=\"top\">2014Q2</th>\n",
       "      <th>Beef</th>\n",
       "      <td>11.70</td>\n",
       "    </tr>\n",
       "    <tr>\n",
       "      <th>Chicken</th>\n",
       "      <td>3.90</td>\n",
       "    </tr>\n",
       "    <tr>\n",
       "      <th>Fish</th>\n",
       "      <td>6.95</td>\n",
       "    </tr>\n",
       "    <tr>\n",
       "      <th rowspan=\"2\" valign=\"top\">2014Q3</th>\n",
       "      <th>Beef</th>\n",
       "      <td>18.30</td>\n",
       "    </tr>\n",
       "    <tr>\n",
       "      <th>Chicken</th>\n",
       "      <td>7.80</td>\n",
       "    </tr>\n",
       "    <tr>\n",
       "      <th>...</th>\n",
       "      <th>...</th>\n",
       "      <td>...</td>\n",
       "    </tr>\n",
       "    <tr>\n",
       "      <th rowspan=\"3\" valign=\"top\">2020Q1</th>\n",
       "      <th>Desserts</th>\n",
       "      <td>3.40</td>\n",
       "    </tr>\n",
       "    <tr>\n",
       "      <th>Fish</th>\n",
       "      <td>11.35</td>\n",
       "    </tr>\n",
       "    <tr>\n",
       "      <th>Sausage</th>\n",
       "      <td>22.45</td>\n",
       "    </tr>\n",
       "    <tr>\n",
       "      <th rowspan=\"2\" valign=\"top\">2020Q2</th>\n",
       "      <th>Fish</th>\n",
       "      <td>2.00</td>\n",
       "    </tr>\n",
       "    <tr>\n",
       "      <th>Sausage</th>\n",
       "      <td>8.15</td>\n",
       "    </tr>\n",
       "  </tbody>\n",
       "</table>\n",
       "<p>69 rows × 1 columns</p>\n",
       "</div>"
      ],
      "text/plain": [
       "                                Amount\n",
       "Quarterly Period Food Category        \n",
       "2014Q2           Beef            11.70\n",
       "                 Chicken          3.90\n",
       "                 Fish             6.95\n",
       "2014Q3           Beef            18.30\n",
       "                 Chicken          7.80\n",
       "...                                ...\n",
       "2020Q1           Desserts         3.40\n",
       "                 Fish            11.35\n",
       "                 Sausage         22.45\n",
       "2020Q2           Fish             2.00\n",
       "                 Sausage          8.15\n",
       "\n",
       "[69 rows x 1 columns]"
      ]
     },
     "execution_count": 170,
     "metadata": {},
     "output_type": "execute_result"
    }
   ],
   "source": [
    "# Y-axis\n",
    "print(\"Quarterly_train_set for amount\",Quarterly_train_set.shape)\n",
    "Quarterly_train_set"
   ]
  },
  {
   "cell_type": "code",
   "execution_count": 171,
   "metadata": {},
   "outputs": [
    {
     "data": {
      "image/png": "[encoded data removed]",
      "text/plain": [
       "<Figure size 1008x432 with 1 Axes>"
      ]
     },
     "metadata": {
      "needs_background": "light"
     },
     "output_type": "display_data"
    }
   ],
   "source": [
    "plt.figure(figsize=(14,6))\n",
    "plt.scatter(x=Quarterly_Periods, y=Quarterly_train_set, color=\"r\")\n",
    "plt.xticks(np.arange(len(Quarterly_Periods)), Quarterly_Periods, fontsize=10, rotation=90)\n",
    "plt.title(\"Scatter plot for Amount spent for each Quarterly period per Food Category\", fontsize=14)\n",
    "plt.xlabel(\"Period followed by Food Category\")\n",
    "plt.ylabel(\"Amount\")\n",
    "plt.show()\n",
    "\n",
    "# Quarterly_train_set[\"Amount\"]"
   ]
  },
  {
   "cell_type": "code",
   "execution_count": 172,
   "metadata": {},
   "outputs": [
    {
     "data": {
      "text/plain": [
       "MultiIndex([('2014Q2',    'Beef'),\n",
       "            ('2014Q2', 'Chicken'),\n",
       "            ('2014Q2',    'Fish'),\n",
       "            ('2014Q3',    'Beef'),\n",
       "            ('2014Q3', 'Chicken'),\n",
       "            ('2014Q3', 'Sausage'),\n",
       "            ('2014Q4',    'Beef'),\n",
       "            ('2014Q4', 'Chicken'),\n",
       "            ('2014Q4', 'Sausage'),\n",
       "            ('2015Q1', 'Sausage'),\n",
       "            ('2015Q2', 'Chicken'),\n",
       "            ('2015Q2',    'Fish'),\n",
       "            ('2015Q3',    'Fish')],\n",
       "           names=['Quarterly Period', 'Food Category'])"
      ]
     },
     "execution_count": 172,
     "metadata": {},
     "output_type": "execute_result"
    }
   ],
   "source": [
    "Quarterly_Periods.index[:13]"
   ]
  },
  {
   "cell_type": "code",
   "execution_count": null,
   "metadata": {},
   "outputs": [],
   "source": []
  },
  {
   "cell_type": "markdown",
   "metadata": {},
   "source": [
    "## Group by Monthly periods"
   ]
  },
  {
   "cell_type": "code",
   "execution_count": 173,
   "metadata": {},
   "outputs": [],
   "source": [
    "months = [\"Jan\", \"Feb\", \"Mar\", \"Apr\", \"May\", \"Jun\", \"Jul\", \"Aug\", \"Sep\", \"Oct\", \"Nov\", \"Dec\"]"
   ]
  },
  {
   "cell_type": "code",
   "execution_count": 174,
   "metadata": {},
   "outputs": [
    {
     "data": {
      "text/html": [
       "<div>\n",
       "<style scoped>\n",
       "    .dataframe tbody tr th:only-of-type {\n",
       "        vertical-align: middle;\n",
       "    }\n",
       "\n",
       "    .dataframe tbody tr th {\n",
       "        vertical-align: top;\n",
       "    }\n",
       "\n",
       "    .dataframe thead th {\n",
       "        text-align: right;\n",
       "    }\n",
       "</style>\n",
       "<table border=\"1\" class=\"dataframe\">\n",
       "  <thead>\n",
       "    <tr style=\"text-align: right;\">\n",
       "      <th></th>\n",
       "      <th></th>\n",
       "      <th>Amount</th>\n",
       "    </tr>\n",
       "    <tr>\n",
       "      <th>Month</th>\n",
       "      <th>Food Category</th>\n",
       "      <th></th>\n",
       "    </tr>\n",
       "  </thead>\n",
       "  <tbody>\n",
       "    <tr>\n",
       "      <th rowspan=\"4\" valign=\"top\">1</th>\n",
       "      <th>Beef</th>\n",
       "      <td>3.90</td>\n",
       "    </tr>\n",
       "    <tr>\n",
       "      <th>Chicken</th>\n",
       "      <td>12.30</td>\n",
       "    </tr>\n",
       "    <tr>\n",
       "      <th>Desserts</th>\n",
       "      <td>2.90</td>\n",
       "    </tr>\n",
       "    <tr>\n",
       "      <th>Fish</th>\n",
       "      <td>8.40</td>\n",
       "    </tr>\n",
       "    <tr>\n",
       "      <th rowspan=\"5\" valign=\"top\">2</th>\n",
       "      <th>Beef</th>\n",
       "      <td>4.60</td>\n",
       "    </tr>\n",
       "    <tr>\n",
       "      <th>Chicken</th>\n",
       "      <td>29.00</td>\n",
       "    </tr>\n",
       "    <tr>\n",
       "      <th>Desserts</th>\n",
       "      <td>1.90</td>\n",
       "    </tr>\n",
       "    <tr>\n",
       "      <th>Fish</th>\n",
       "      <td>13.85</td>\n",
       "    </tr>\n",
       "    <tr>\n",
       "      <th>Sausage</th>\n",
       "      <td>22.70</td>\n",
       "    </tr>\n",
       "    <tr>\n",
       "      <th rowspan=\"4\" valign=\"top\">3</th>\n",
       "      <th>Beef</th>\n",
       "      <td>15.00</td>\n",
       "    </tr>\n",
       "    <tr>\n",
       "      <th>Chicken</th>\n",
       "      <td>22.80</td>\n",
       "    </tr>\n",
       "    <tr>\n",
       "      <th>Fish</th>\n",
       "      <td>5.00</td>\n",
       "    </tr>\n",
       "    <tr>\n",
       "      <th>Sausage</th>\n",
       "      <td>18.05</td>\n",
       "    </tr>\n",
       "    <tr>\n",
       "      <th rowspan=\"5\" valign=\"top\">4</th>\n",
       "      <th>Beef</th>\n",
       "      <td>21.90</td>\n",
       "    </tr>\n",
       "    <tr>\n",
       "      <th>Chicken</th>\n",
       "      <td>32.10</td>\n",
       "    </tr>\n",
       "    <tr>\n",
       "      <th>Desserts</th>\n",
       "      <td>1.50</td>\n",
       "    </tr>\n",
       "    <tr>\n",
       "      <th>Fish</th>\n",
       "      <td>24.10</td>\n",
       "    </tr>\n",
       "    <tr>\n",
       "      <th>Sausage</th>\n",
       "      <td>7.75</td>\n",
       "    </tr>\n",
       "    <tr>\n",
       "      <th rowspan=\"5\" valign=\"top\">5</th>\n",
       "      <th>Beef</th>\n",
       "      <td>17.60</td>\n",
       "    </tr>\n",
       "    <tr>\n",
       "      <th>Chicken</th>\n",
       "      <td>59.30</td>\n",
       "    </tr>\n",
       "    <tr>\n",
       "      <th>Desserts</th>\n",
       "      <td>2.50</td>\n",
       "    </tr>\n",
       "    <tr>\n",
       "      <th>Fish</th>\n",
       "      <td>26.50</td>\n",
       "    </tr>\n",
       "    <tr>\n",
       "      <th>Sausage</th>\n",
       "      <td>4.65</td>\n",
       "    </tr>\n",
       "    <tr>\n",
       "      <th rowspan=\"3\" valign=\"top\">6</th>\n",
       "      <th>Beef</th>\n",
       "      <td>8.50</td>\n",
       "    </tr>\n",
       "    <tr>\n",
       "      <th>Chicken</th>\n",
       "      <td>21.90</td>\n",
       "    </tr>\n",
       "    <tr>\n",
       "      <th>Fish</th>\n",
       "      <td>23.45</td>\n",
       "    </tr>\n",
       "    <tr>\n",
       "      <th rowspan=\"4\" valign=\"top\">7</th>\n",
       "      <th>Beef</th>\n",
       "      <td>6.00</td>\n",
       "    </tr>\n",
       "    <tr>\n",
       "      <th>Chicken</th>\n",
       "      <td>29.65</td>\n",
       "    </tr>\n",
       "    <tr>\n",
       "      <th>Fish</th>\n",
       "      <td>9.65</td>\n",
       "    </tr>\n",
       "    <tr>\n",
       "      <th>Sausage</th>\n",
       "      <td>16.45</td>\n",
       "    </tr>\n",
       "    <tr>\n",
       "      <th rowspan=\"5\" valign=\"top\">8</th>\n",
       "      <th>Beef</th>\n",
       "      <td>8.00</td>\n",
       "    </tr>\n",
       "    <tr>\n",
       "      <th>Chicken</th>\n",
       "      <td>38.25</td>\n",
       "    </tr>\n",
       "    <tr>\n",
       "      <th>Desserts</th>\n",
       "      <td>5.30</td>\n",
       "    </tr>\n",
       "    <tr>\n",
       "      <th>Fish</th>\n",
       "      <td>18.40</td>\n",
       "    </tr>\n",
       "    <tr>\n",
       "      <th>Sausage</th>\n",
       "      <td>4.20</td>\n",
       "    </tr>\n",
       "    <tr>\n",
       "      <th rowspan=\"5\" valign=\"top\">9</th>\n",
       "      <th>Beef</th>\n",
       "      <td>13.30</td>\n",
       "    </tr>\n",
       "    <tr>\n",
       "      <th>Chicken</th>\n",
       "      <td>37.20</td>\n",
       "    </tr>\n",
       "    <tr>\n",
       "      <th>Desserts</th>\n",
       "      <td>0.80</td>\n",
       "    </tr>\n",
       "    <tr>\n",
       "      <th>Fish</th>\n",
       "      <td>16.90</td>\n",
       "    </tr>\n",
       "    <tr>\n",
       "      <th>Sausage</th>\n",
       "      <td>6.20</td>\n",
       "    </tr>\n",
       "    <tr>\n",
       "      <th rowspan=\"5\" valign=\"top\">10</th>\n",
       "      <th>Beef</th>\n",
       "      <td>13.80</td>\n",
       "    </tr>\n",
       "    <tr>\n",
       "      <th>Chicken</th>\n",
       "      <td>28.45</td>\n",
       "    </tr>\n",
       "    <tr>\n",
       "      <th>Desserts</th>\n",
       "      <td>3.30</td>\n",
       "    </tr>\n",
       "    <tr>\n",
       "      <th>Fish</th>\n",
       "      <td>19.30</td>\n",
       "    </tr>\n",
       "    <tr>\n",
       "      <th>Sausage</th>\n",
       "      <td>6.20</td>\n",
       "    </tr>\n",
       "    <tr>\n",
       "      <th rowspan=\"3\" valign=\"top\">11</th>\n",
       "      <th>Chicken</th>\n",
       "      <td>12.70</td>\n",
       "    </tr>\n",
       "    <tr>\n",
       "      <th>Fish</th>\n",
       "      <td>13.95</td>\n",
       "    </tr>\n",
       "    <tr>\n",
       "      <th>Sausage</th>\n",
       "      <td>8.90</td>\n",
       "    </tr>\n",
       "    <tr>\n",
       "      <th rowspan=\"3\" valign=\"top\">12</th>\n",
       "      <th>Beef</th>\n",
       "      <td>8.00</td>\n",
       "    </tr>\n",
       "    <tr>\n",
       "      <th>Chicken</th>\n",
       "      <td>4.45</td>\n",
       "    </tr>\n",
       "    <tr>\n",
       "      <th>Fish</th>\n",
       "      <td>27.60</td>\n",
       "    </tr>\n",
       "  </tbody>\n",
       "</table>\n",
       "</div>"
      ],
      "text/plain": [
       "                     Amount\n",
       "Month Food Category        \n",
       "1     Beef             3.90\n",
       "      Chicken         12.30\n",
       "      Desserts         2.90\n",
       "      Fish             8.40\n",
       "2     Beef             4.60\n",
       "      Chicken         29.00\n",
       "      Desserts         1.90\n",
       "      Fish            13.85\n",
       "      Sausage         22.70\n",
       "3     Beef            15.00\n",
       "      Chicken         22.80\n",
       "      Fish             5.00\n",
       "      Sausage         18.05\n",
       "4     Beef            21.90\n",
       "      Chicken         32.10\n",
       "      Desserts         1.50\n",
       "      Fish            24.10\n",
       "      Sausage          7.75\n",
       "5     Beef            17.60\n",
       "      Chicken         59.30\n",
       "      Desserts         2.50\n",
       "      Fish            26.50\n",
       "      Sausage          4.65\n",
       "6     Beef             8.50\n",
       "      Chicken         21.90\n",
       "      Fish            23.45\n",
       "7     Beef             6.00\n",
       "      Chicken         29.65\n",
       "      Fish             9.65\n",
       "      Sausage         16.45\n",
       "8     Beef             8.00\n",
       "      Chicken         38.25\n",
       "      Desserts         5.30\n",
       "      Fish            18.40\n",
       "      Sausage          4.20\n",
       "9     Beef            13.30\n",
       "      Chicken         37.20\n",
       "      Desserts         0.80\n",
       "      Fish            16.90\n",
       "      Sausage          6.20\n",
       "10    Beef            13.80\n",
       "      Chicken         28.45\n",
       "      Desserts         3.30\n",
       "      Fish            19.30\n",
       "      Sausage          6.20\n",
       "11    Chicken         12.70\n",
       "      Fish            13.95\n",
       "      Sausage          8.90\n",
       "12    Beef             8.00\n",
       "      Chicken          4.45\n",
       "      Fish            27.60"
      ]
     },
     "execution_count": 174,
     "metadata": {},
     "output_type": "execute_result"
    }
   ],
   "source": [
    "Monthly_McDonald_exp = Combined_Food_Cat_test[[\"Notes\", \"Food Category\", \"Amount\", \"Month\"]].groupby([\"Month\", \"Food Category\"]).sum()\n",
    "Monthly_McDonald_exp"
   ]
  },
  {
   "cell_type": "code",
   "execution_count": 175,
   "metadata": {},
   "outputs": [
    {
     "data": {
      "text/plain": [
       "MultiIndex([( 1,     'Beef'),\n",
       "            ( 1,  'Chicken'),\n",
       "            ( 1, 'Desserts'),\n",
       "            ( 1,     'Fish'),\n",
       "            ( 2,     'Beef'),\n",
       "            ( 2,  'Chicken'),\n",
       "            ( 2, 'Desserts'),\n",
       "            ( 2,     'Fish'),\n",
       "            ( 2,  'Sausage'),\n",
       "            ( 3,     'Beef'),\n",
       "            ( 3,  'Chicken'),\n",
       "            ( 3,     'Fish'),\n",
       "            ( 3,  'Sausage'),\n",
       "            ( 4,     'Beef'),\n",
       "            ( 4,  'Chicken'),\n",
       "            ( 4, 'Desserts'),\n",
       "            ( 4,     'Fish'),\n",
       "            ( 4,  'Sausage'),\n",
       "            ( 5,     'Beef'),\n",
       "            ( 5,  'Chicken'),\n",
       "            ( 5, 'Desserts'),\n",
       "            ( 5,     'Fish'),\n",
       "            ( 5,  'Sausage'),\n",
       "            ( 6,     'Beef'),\n",
       "            ( 6,  'Chicken'),\n",
       "            ( 6,     'Fish'),\n",
       "            ( 7,     'Beef'),\n",
       "            ( 7,  'Chicken'),\n",
       "            ( 7,     'Fish'),\n",
       "            ( 7,  'Sausage'),\n",
       "            ( 8,     'Beef'),\n",
       "            ( 8,  'Chicken'),\n",
       "            ( 8, 'Desserts'),\n",
       "            ( 8,     'Fish'),\n",
       "            ( 8,  'Sausage'),\n",
       "            ( 9,     'Beef'),\n",
       "            ( 9,  'Chicken'),\n",
       "            ( 9, 'Desserts'),\n",
       "            ( 9,     'Fish'),\n",
       "            ( 9,  'Sausage'),\n",
       "            (10,     'Beef'),\n",
       "            (10,  'Chicken'),\n",
       "            (10, 'Desserts'),\n",
       "            (10,     'Fish'),\n",
       "            (10,  'Sausage'),\n",
       "            (11,  'Chicken'),\n",
       "            (11,     'Fish'),\n",
       "            (11,  'Sausage'),\n",
       "            (12,     'Beef'),\n",
       "            (12,  'Chicken'),\n",
       "            (12,     'Fish')],\n",
       "           names=['Month', 'Food Category'])"
      ]
     },
     "execution_count": 175,
     "metadata": {},
     "output_type": "execute_result"
    }
   ],
   "source": [
    "Monthly_McDonald_exp.index"
   ]
  },
  {
   "cell_type": "code",
   "execution_count": 176,
   "metadata": {},
   "outputs": [
    {
     "data": {
      "text/plain": [
       "array(['Beef', 'Chicken', 'Desserts', 'Fish', 'Sausage'], dtype='<U8')"
      ]
     },
     "execution_count": 176,
     "metadata": {},
     "output_type": "execute_result"
    }
   ],
   "source": [
    "# Getting the Food Category from the index\n",
    "month_list = []\n",
    "foodcat_list = []\n",
    "for month,foodcat in Monthly_McDonald_exp.index:\n",
    "    month_list.append(month)\n",
    "    foodcat_list.append(foodcat)\n",
    "\n",
    "# foodcat_list[:5]\n",
    "np.unique(foodcat_list)"
   ]
  },
  {
   "cell_type": "code",
   "execution_count": 177,
   "metadata": {},
   "outputs": [
    {
     "data": {
      "text/plain": [
       "range(0, 51)"
      ]
     },
     "execution_count": 177,
     "metadata": {},
     "output_type": "execute_result"
    }
   ],
   "source": [
    "range(len(month_list))"
   ]
  },
  {
   "cell_type": "markdown",
   "metadata": {},
   "source": [
    "Converting the int to months"
   ]
  },
  {
   "cell_type": "code",
   "execution_count": 178,
   "metadata": {},
   "outputs": [],
   "source": [
    "# for i in range(len(month_list)):\n",
    "#     for no in month_list:\n",
    "#         if no == 1:\n",
    "#             month_list[i] = \"January\"\n",
    "#             i += 1\n",
    "#         elif no == 2:\n",
    "#             month_list[i] = \"February\"\n",
    "#         elif no == 3:\n",
    "#             month_list[i] = \"March\"\n",
    "#         elif no\n",
    "\n",
    "# month_list"
   ]
  },
  {
   "cell_type": "code",
   "execution_count": 179,
   "metadata": {
    "scrolled": true
   },
   "outputs": [
    {
     "data": {
      "text/plain": [
       "\"(1, 'Beef')\""
      ]
     },
     "execution_count": 179,
     "metadata": {},
     "output_type": "execute_result"
    }
   ],
   "source": [
    "# Converting the index from int to string format\n",
    "Monthly_Periods = Monthly_McDonald_exp.index.to_series().astype(\"str\")\n",
    "Monthly_Periods[0]"
   ]
  },
  {
   "cell_type": "code",
   "execution_count": 180,
   "metadata": {},
   "outputs": [
    {
     "name": "stdout",
     "output_type": "stream",
     "text": [
      "Shape of Monthly_Periods: (51,)\n",
      "Shape of Monthly_McDonald_exp: (51, 1)\n"
     ]
    }
   ],
   "source": [
    "# Checking the shape of Monthly_Periods and Monthly_McDonald_exp\n",
    "print(\"Shape of Monthly_Periods:\",Monthly_Periods.shape)\n",
    "print(\"Shape of Monthly_McDonald_exp:\", Monthly_McDonald_exp.shape)"
   ]
  },
  {
   "cell_type": "code",
   "execution_count": 181,
   "metadata": {},
   "outputs": [
    {
     "data": {
      "text/plain": [
       "Month  Food Category\n",
       "1      Beef             (1, 'Beef')\n",
       "dtype: object"
      ]
     },
     "execution_count": 181,
     "metadata": {},
     "output_type": "execute_result"
    }
   ],
   "source": [
    "# Checking the tuples of the multi index\n",
    "# Monthly_Periods values are strings\n",
    "Monthly_Periods.iloc[:1]"
   ]
  },
  {
   "cell_type": "code",
   "execution_count": 182,
   "metadata": {},
   "outputs": [
    {
     "data": {
      "image/png": "[encoded data removed]",
      "text/plain": [
       "<Figure size 1080x432 with 1 Axes>"
      ]
     },
     "metadata": {
      "needs_background": "light"
     },
     "output_type": "display_data"
    }
   ],
   "source": [
    "# Plotting the scatter plot for Monthly_McDonald_exp\n",
    "plt.figure(figsize=(15,6))\n",
    "plt.scatter(x=Monthly_Periods, y=Monthly_McDonald_exp, color=\"r\")\n",
    "plt.xticks(np.arange(len(Monthly_Periods)), foodcat_list, fontsize=14, rotation=90)\n",
    "\n",
    "plt.xlabel(\"Month followed by Food Category\", fontsize=19)\n",
    "plt.ylabel(\"Amount ($)\", fontsize=19)\n",
    "plt.show()"
   ]
  },
  {
   "cell_type": "code",
   "execution_count": 183,
   "metadata": {
    "scrolled": false
   },
   "outputs": [
    {
     "data": {
      "image/png": "[encoded data removed]",
      "text/plain": [
       "<Figure size 1080x504 with 2 Axes>"
      ]
     },
     "metadata": {
      "needs_background": "light"
     },
     "output_type": "display_data"
    }
   ],
   "source": [
    "# Plotting the scatter plot for Monthly_McDonald_exp\n",
    "fig = plt.figure(figsize=(15,7))\n",
    "ax1 = fig.add_subplot(111)\n",
    "ax2 = ax1.twiny()\n",
    "\n",
    "# Add some extra space for the second axis at the bottom\n",
    "fig.subplots_adjust(bottom=0.1)\n",
    "\n",
    "ax1.plot(Monthly_Periods,Monthly_McDonald_exp)\n",
    "ax1.set_xticklabels(foodcat_list,fontsize=14, rotation=90)\n",
    "ax1.set_xlabel(r\"Food Category\")\n",
    "\n",
    "# location of x-ticks for the secondary axis\n",
    "new_tick_locations = np.arange(1,13)\n",
    "\n",
    "# Move twinned axis ticks and label from top to bottom\n",
    "ax2.xaxis.set_ticks_position(\"bottom\")\n",
    "ax2.xaxis.set_label_position(\"bottom\")\n",
    "\n",
    "# Offset the twin axis below the host\n",
    "# My Notes: Increases the space between the first and second axis\n",
    "ax2.spines[\"bottom\"].set_position((\"axes\", -0.27))\n",
    "\n",
    "# Turn on the frame for the twin axes, but then hide all\n",
    "# but the bottom spine\n",
    "ax2.set_frame_on(True)\n",
    "ax2.patch.set_visible(False)\n",
    "\n",
    "for sp in ax2.spines.values():\n",
    "    sp.set_visible(False)\n",
    "ax2.spines[\"bottom\"].set_visible(True)\n",
    "\n",
    "ax2.set_xticks(new_tick_locations)\n",
    "ax2.set_xticklabels(months)\n",
    "ax2.set_xlabel(r\"Months\")\n",
    "plt.show()\n",
    "\n",
    "# plt.scatter(x=Monthly_Periods, y=Monthly_McDonald_exp, color=\"r\")\n",
    "# plt.xticks(np.arange(len(Monthly_Periods)), foodcat_list, fontsize=14, rotation=90)\n",
    "\n",
    "# plt.xlabel(\"Month followed by Food Category\", fontsize=19)\n",
    "# plt.ylabel(\"Amount ($)\", fontsize=19)\n",
    "# plt.show()"
   ]
  },
  {
   "cell_type": "code",
   "execution_count": 184,
   "metadata": {},
   "outputs": [
    {
     "data": {
      "text/html": [
       "<div>\n",
       "<style scoped>\n",
       "    .dataframe tbody tr th:only-of-type {\n",
       "        vertical-align: middle;\n",
       "    }\n",
       "\n",
       "    .dataframe tbody tr th {\n",
       "        vertical-align: top;\n",
       "    }\n",
       "\n",
       "    .dataframe thead tr th {\n",
       "        text-align: left;\n",
       "    }\n",
       "\n",
       "    .dataframe thead tr:last-of-type th {\n",
       "        text-align: right;\n",
       "    }\n",
       "</style>\n",
       "<table border=\"1\" class=\"dataframe\">\n",
       "  <thead>\n",
       "    <tr>\n",
       "      <th></th>\n",
       "      <th colspan=\"5\" halign=\"left\">Amount</th>\n",
       "    </tr>\n",
       "    <tr>\n",
       "      <th>Food Category</th>\n",
       "      <th>Beef</th>\n",
       "      <th>Chicken</th>\n",
       "      <th>Desserts</th>\n",
       "      <th>Fish</th>\n",
       "      <th>Sausage</th>\n",
       "    </tr>\n",
       "    <tr>\n",
       "      <th>Month</th>\n",
       "      <th></th>\n",
       "      <th></th>\n",
       "      <th></th>\n",
       "      <th></th>\n",
       "      <th></th>\n",
       "    </tr>\n",
       "  </thead>\n",
       "  <tbody>\n",
       "    <tr>\n",
       "      <th>1</th>\n",
       "      <td>3.9</td>\n",
       "      <td>12.30</td>\n",
       "      <td>2.9</td>\n",
       "      <td>8.40</td>\n",
       "      <td>NaN</td>\n",
       "    </tr>\n",
       "    <tr>\n",
       "      <th>2</th>\n",
       "      <td>4.6</td>\n",
       "      <td>29.00</td>\n",
       "      <td>1.9</td>\n",
       "      <td>13.85</td>\n",
       "      <td>22.70</td>\n",
       "    </tr>\n",
       "    <tr>\n",
       "      <th>3</th>\n",
       "      <td>15.0</td>\n",
       "      <td>22.80</td>\n",
       "      <td>NaN</td>\n",
       "      <td>5.00</td>\n",
       "      <td>18.05</td>\n",
       "    </tr>\n",
       "    <tr>\n",
       "      <th>4</th>\n",
       "      <td>21.9</td>\n",
       "      <td>32.10</td>\n",
       "      <td>1.5</td>\n",
       "      <td>24.10</td>\n",
       "      <td>7.75</td>\n",
       "    </tr>\n",
       "    <tr>\n",
       "      <th>5</th>\n",
       "      <td>17.6</td>\n",
       "      <td>59.30</td>\n",
       "      <td>2.5</td>\n",
       "      <td>26.50</td>\n",
       "      <td>4.65</td>\n",
       "    </tr>\n",
       "    <tr>\n",
       "      <th>6</th>\n",
       "      <td>8.5</td>\n",
       "      <td>21.90</td>\n",
       "      <td>NaN</td>\n",
       "      <td>23.45</td>\n",
       "      <td>NaN</td>\n",
       "    </tr>\n",
       "    <tr>\n",
       "      <th>7</th>\n",
       "      <td>6.0</td>\n",
       "      <td>29.65</td>\n",
       "      <td>NaN</td>\n",
       "      <td>9.65</td>\n",
       "      <td>16.45</td>\n",
       "    </tr>\n",
       "    <tr>\n",
       "      <th>8</th>\n",
       "      <td>8.0</td>\n",
       "      <td>38.25</td>\n",
       "      <td>5.3</td>\n",
       "      <td>18.40</td>\n",
       "      <td>4.20</td>\n",
       "    </tr>\n",
       "    <tr>\n",
       "      <th>9</th>\n",
       "      <td>13.3</td>\n",
       "      <td>37.20</td>\n",
       "      <td>0.8</td>\n",
       "      <td>16.90</td>\n",
       "      <td>6.20</td>\n",
       "    </tr>\n",
       "    <tr>\n",
       "      <th>10</th>\n",
       "      <td>13.8</td>\n",
       "      <td>28.45</td>\n",
       "      <td>3.3</td>\n",
       "      <td>19.30</td>\n",
       "      <td>6.20</td>\n",
       "    </tr>\n",
       "    <tr>\n",
       "      <th>11</th>\n",
       "      <td>NaN</td>\n",
       "      <td>12.70</td>\n",
       "      <td>NaN</td>\n",
       "      <td>13.95</td>\n",
       "      <td>8.90</td>\n",
       "    </tr>\n",
       "    <tr>\n",
       "      <th>12</th>\n",
       "      <td>8.0</td>\n",
       "      <td>4.45</td>\n",
       "      <td>NaN</td>\n",
       "      <td>27.60</td>\n",
       "      <td>NaN</td>\n",
       "    </tr>\n",
       "  </tbody>\n",
       "</table>\n",
       "</div>"
      ],
      "text/plain": [
       "              Amount                                \n",
       "Food Category   Beef Chicken Desserts   Fish Sausage\n",
       "Month                                               \n",
       "1                3.9   12.30      2.9   8.40     NaN\n",
       "2                4.6   29.00      1.9  13.85   22.70\n",
       "3               15.0   22.80      NaN   5.00   18.05\n",
       "4               21.9   32.10      1.5  24.10    7.75\n",
       "5               17.6   59.30      2.5  26.50    4.65\n",
       "6                8.5   21.90      NaN  23.45     NaN\n",
       "7                6.0   29.65      NaN   9.65   16.45\n",
       "8                8.0   38.25      5.3  18.40    4.20\n",
       "9               13.3   37.20      0.8  16.90    6.20\n",
       "10              13.8   28.45      3.3  19.30    6.20\n",
       "11               NaN   12.70      NaN  13.95    8.90\n",
       "12               8.0    4.45      NaN  27.60     NaN"
      ]
     },
     "execution_count": 184,
     "metadata": {},
     "output_type": "execute_result"
    }
   ],
   "source": [
    "Monthly_FoodCat = Monthly_McDonald_exp.unstack(level=1)\n",
    "Monthly_FoodCat"
   ]
  },
  {
   "cell_type": "code",
   "execution_count": 185,
   "metadata": {},
   "outputs": [
    {
     "data": {
      "text/plain": [
       "Int64Index([1, 2, 3, 4, 5, 6, 7, 8, 9, 10, 11, 12], dtype='int64', name='Month')"
      ]
     },
     "execution_count": 185,
     "metadata": {},
     "output_type": "execute_result"
    }
   ],
   "source": [
    "# Index\n",
    "Monthly_FoodCat.index"
   ]
  },
  {
   "cell_type": "code",
   "execution_count": 186,
   "metadata": {},
   "outputs": [
    {
     "data": {
      "text/plain": [
       "MultiIndex([('Amount',     'Beef'),\n",
       "            ('Amount',  'Chicken'),\n",
       "            ('Amount', 'Desserts'),\n",
       "            ('Amount',     'Fish'),\n",
       "            ('Amount',  'Sausage')],\n",
       "           names=[None, 'Food Category'])"
      ]
     },
     "execution_count": 186,
     "metadata": {},
     "output_type": "execute_result"
    }
   ],
   "source": [
    "# Columns\n",
    "Monthly_FoodCat.columns"
   ]
  },
  {
   "cell_type": "code",
   "execution_count": 187,
   "metadata": {},
   "outputs": [
    {
     "data": {
      "text/html": [
       "<div>\n",
       "<style scoped>\n",
       "    .dataframe tbody tr th:only-of-type {\n",
       "        vertical-align: middle;\n",
       "    }\n",
       "\n",
       "    .dataframe tbody tr th {\n",
       "        vertical-align: top;\n",
       "    }\n",
       "\n",
       "    .dataframe thead tr th {\n",
       "        text-align: left;\n",
       "    }\n",
       "\n",
       "    .dataframe thead tr:last-of-type th {\n",
       "        text-align: right;\n",
       "    }\n",
       "</style>\n",
       "<table border=\"1\" class=\"dataframe\">\n",
       "  <thead>\n",
       "    <tr>\n",
       "      <th></th>\n",
       "      <th colspan=\"2\" halign=\"left\">Amount</th>\n",
       "    </tr>\n",
       "    <tr>\n",
       "      <th>Food Category</th>\n",
       "      <th>Chicken</th>\n",
       "      <th>Fish</th>\n",
       "    </tr>\n",
       "    <tr>\n",
       "      <th>Month</th>\n",
       "      <th></th>\n",
       "      <th></th>\n",
       "    </tr>\n",
       "  </thead>\n",
       "  <tbody>\n",
       "    <tr>\n",
       "      <th>1</th>\n",
       "      <td>12.30</td>\n",
       "      <td>8.40</td>\n",
       "    </tr>\n",
       "    <tr>\n",
       "      <th>2</th>\n",
       "      <td>29.00</td>\n",
       "      <td>13.85</td>\n",
       "    </tr>\n",
       "    <tr>\n",
       "      <th>3</th>\n",
       "      <td>22.80</td>\n",
       "      <td>5.00</td>\n",
       "    </tr>\n",
       "    <tr>\n",
       "      <th>4</th>\n",
       "      <td>32.10</td>\n",
       "      <td>24.10</td>\n",
       "    </tr>\n",
       "    <tr>\n",
       "      <th>5</th>\n",
       "      <td>59.30</td>\n",
       "      <td>26.50</td>\n",
       "    </tr>\n",
       "    <tr>\n",
       "      <th>6</th>\n",
       "      <td>21.90</td>\n",
       "      <td>23.45</td>\n",
       "    </tr>\n",
       "    <tr>\n",
       "      <th>7</th>\n",
       "      <td>29.65</td>\n",
       "      <td>9.65</td>\n",
       "    </tr>\n",
       "    <tr>\n",
       "      <th>8</th>\n",
       "      <td>38.25</td>\n",
       "      <td>18.40</td>\n",
       "    </tr>\n",
       "    <tr>\n",
       "      <th>9</th>\n",
       "      <td>37.20</td>\n",
       "      <td>16.90</td>\n",
       "    </tr>\n",
       "    <tr>\n",
       "      <th>10</th>\n",
       "      <td>28.45</td>\n",
       "      <td>19.30</td>\n",
       "    </tr>\n",
       "    <tr>\n",
       "      <th>11</th>\n",
       "      <td>12.70</td>\n",
       "      <td>13.95</td>\n",
       "    </tr>\n",
       "    <tr>\n",
       "      <th>12</th>\n",
       "      <td>4.45</td>\n",
       "      <td>27.60</td>\n",
       "    </tr>\n",
       "  </tbody>\n",
       "</table>\n",
       "</div>"
      ],
      "text/plain": [
       "               Amount       \n",
       "Food Category Chicken   Fish\n",
       "Month                       \n",
       "1               12.30   8.40\n",
       "2               29.00  13.85\n",
       "3               22.80   5.00\n",
       "4               32.10  24.10\n",
       "5               59.30  26.50\n",
       "6               21.90  23.45\n",
       "7               29.65   9.65\n",
       "8               38.25  18.40\n",
       "9               37.20  16.90\n",
       "10              28.45  19.30\n",
       "11              12.70  13.95\n",
       "12               4.45  27.60"
      ]
     },
     "execution_count": 187,
     "metadata": {},
     "output_type": "execute_result"
    }
   ],
   "source": [
    "# Getting a specified column for each Food Category \n",
    "Monthly_FoodCat[[('Amount', 'Chicken'), ('Amount', 'Fish')]]"
   ]
  },
  {
   "cell_type": "code",
   "execution_count": null,
   "metadata": {},
   "outputs": [],
   "source": []
  },
  {
   "cell_type": "code",
   "execution_count": null,
   "metadata": {},
   "outputs": [],
   "source": []
  },
  {
   "cell_type": "code",
   "execution_count": 188,
   "metadata": {},
   "outputs": [
    {
     "name": "stdout",
     "output_type": "stream",
     "text": [
      "Saving figure Monthly expense for each Month and Food Category in McDonald\n"
     ]
    },
    {
     "data": {
      "image/png": "[encoded data removed]",
      "text/plain": [
       "<Figure size 864x432 with 1 Axes>"
      ]
     },
     "metadata": {
      "needs_background": "light"
     },
     "output_type": "display_data"
    }
   ],
   "source": [
    "# plt.figure(figsize=(100,100))\n",
    "Monthly_FoodCat.plot(kind=\"bar\", stacked=True, figsize=(12,6), color=[\"m\", \"orange\", \"Purple\", \"blue\", \"brown\"])\n",
    "plt.legend([\"Beef\", \"Chicken\", \"Desserts\", \"Fish\", \"Sausage\"], loc='best', title=\"Food Category\", fontsize=12)\n",
    "plt.xticks(np.arange(len(Monthly_FoodCat.index)), months, fontsize=15, color=\"b\")\n",
    "plt.yticks(np.arange(0,120, 10), color=\"b\")\n",
    "plt.title(\"Monthly expense for each Month and Food Category in McDonald\", fontsize=19, color=\"blue\")\n",
    "plt.xlabel(\"Month\",fontsize=17, color=\"b\")\n",
    "plt.ylabel(\"Amount ($)\", fontsize=17, color=\"b\")\n",
    "save_fig(\"Monthly expense for each Month and Food Category in McDonald\")\n",
    "plt.show()"
   ]
  },
  {
   "cell_type": "code",
   "execution_count": 189,
   "metadata": {},
   "outputs": [
    {
     "data": {
      "text/plain": [
       "Index(['1', '2', '3', '4', '5', '6', '7', '8', '9', '10', '11', '12'], dtype='object', name='Month')"
      ]
     },
     "execution_count": 189,
     "metadata": {},
     "output_type": "execute_result"
    }
   ],
   "source": [
    "# Converting MonthlyFood_Cat index from int to string\n",
    "Monthly_FoodCat_Index_Str = Monthly_FoodCat.index.astype(\"str\")\n",
    "Monthly_FoodCat_test = Monthly_FoodCat.set_index(Monthly_FoodCat_Index_Str)\n",
    "Monthly_FoodCat_test.index"
   ]
  },
  {
   "cell_type": "code",
   "execution_count": 190,
   "metadata": {},
   "outputs": [
    {
     "data": {
      "text/plain": [
       "(12,)"
      ]
     },
     "execution_count": 190,
     "metadata": {},
     "output_type": "execute_result"
    }
   ],
   "source": [
    "Monthly_FoodCat.index.shape"
   ]
  },
  {
   "cell_type": "code",
   "execution_count": 191,
   "metadata": {},
   "outputs": [
    {
     "data": {
      "text/plain": [
       "(12, 5)"
      ]
     },
     "execution_count": 191,
     "metadata": {},
     "output_type": "execute_result"
    }
   ],
   "source": [
    "# Shape of Monthly_FoodCat\n",
    "Monthly_FoodCat.shape"
   ]
  },
  {
   "cell_type": "code",
   "execution_count": 192,
   "metadata": {},
   "outputs": [
    {
     "data": {
      "text/plain": [
       "MultiIndex([( 1,     'Beef'),\n",
       "            ( 1,  'Chicken'),\n",
       "            ( 1, 'Desserts'),\n",
       "            ( 1,     'Fish'),\n",
       "            ( 2,     'Beef'),\n",
       "            ( 2,  'Chicken'),\n",
       "            ( 2, 'Desserts'),\n",
       "            ( 2,     'Fish'),\n",
       "            ( 2,  'Sausage'),\n",
       "            ( 3,     'Beef'),\n",
       "            ( 3,  'Chicken'),\n",
       "            ( 3,     'Fish'),\n",
       "            ( 3,  'Sausage'),\n",
       "            ( 4,     'Beef'),\n",
       "            ( 4,  'Chicken'),\n",
       "            ( 4, 'Desserts'),\n",
       "            ( 4,     'Fish'),\n",
       "            ( 4,  'Sausage'),\n",
       "            ( 5,     'Beef'),\n",
       "            ( 5,  'Chicken'),\n",
       "            ( 5, 'Desserts'),\n",
       "            ( 5,     'Fish'),\n",
       "            ( 5,  'Sausage'),\n",
       "            ( 6,     'Beef'),\n",
       "            ( 6,  'Chicken'),\n",
       "            ( 6,     'Fish'),\n",
       "            ( 7,     'Beef'),\n",
       "            ( 7,  'Chicken'),\n",
       "            ( 7,     'Fish'),\n",
       "            ( 7,  'Sausage'),\n",
       "            ( 8,     'Beef'),\n",
       "            ( 8,  'Chicken'),\n",
       "            ( 8, 'Desserts'),\n",
       "            ( 8,     'Fish'),\n",
       "            ( 8,  'Sausage'),\n",
       "            ( 9,     'Beef'),\n",
       "            ( 9,  'Chicken'),\n",
       "            ( 9, 'Desserts'),\n",
       "            ( 9,     'Fish'),\n",
       "            ( 9,  'Sausage'),\n",
       "            (10,     'Beef'),\n",
       "            (10,  'Chicken'),\n",
       "            (10, 'Desserts'),\n",
       "            (10,     'Fish'),\n",
       "            (10,  'Sausage'),\n",
       "            (11,  'Chicken'),\n",
       "            (11,     'Fish'),\n",
       "            (11,  'Sausage'),\n",
       "            (12,     'Beef'),\n",
       "            (12,  'Chicken'),\n",
       "            (12,     'Fish')],\n",
       "           names=['Month', 'Food Category'])"
      ]
     },
     "execution_count": 192,
     "metadata": {},
     "output_type": "execute_result"
    }
   ],
   "source": [
    "Monthly_Periods.index"
   ]
  },
  {
   "cell_type": "code",
   "execution_count": 193,
   "metadata": {
    "scrolled": true
   },
   "outputs": [],
   "source": [
    "# Monthly_FoodCat.plot(kind=\"scatter\",x=('Amount', 'Chicken'), y=Monthly_FoodCat.index,figsize=(6,5))\n",
    "# plt.legend([\"Beef\", \"Chicken\", \"Desserts\", \"Fish\", \"Sausage\"])\n",
    "# # plt.xticks(np.arange(len(Monthly_FoodCat.index)), Monthly_FoodCat.index)\n",
    "# plt.xlabel(\"Month\")\n",
    "# plt.ylabel(\"Amount ($)\")\n",
    "# plt.show()"
   ]
  },
  {
   "cell_type": "code",
   "execution_count": 194,
   "metadata": {},
   "outputs": [],
   "source": [
    "# months_col = pd.date_range(\"1/01/12\", freq=\"M\", periods=12)\n",
    "# months_col = months_col.month_name()\n",
    "# months_col"
   ]
  },
  {
   "cell_type": "code",
   "execution_count": 195,
   "metadata": {},
   "outputs": [],
   "source": [
    "# Monthly_McDonald_exp.set_index(months_col, inplace=True)"
   ]
  },
  {
   "cell_type": "code",
   "execution_count": 196,
   "metadata": {},
   "outputs": [],
   "source": [
    "# Monthly_McDonald_exp"
   ]
  },
  {
   "cell_type": "code",
   "execution_count": 197,
   "metadata": {},
   "outputs": [],
   "source": [
    "# Monthly_McDonald_exp.describe()"
   ]
  },
  {
   "cell_type": "code",
   "execution_count": 198,
   "metadata": {},
   "outputs": [],
   "source": [
    "# Monthly_McDonald_exp[\"Amount\"].sort_values(ascending=False)"
   ]
  },
  {
   "cell_type": "code",
   "execution_count": 199,
   "metadata": {},
   "outputs": [],
   "source": [
    "# Monthly_McDonald_exp[\"Amount\"].plot(kind=\"bar\")\n",
    "# plt.grid(True)\n",
    "# plt.show()"
   ]
  },
  {
   "cell_type": "markdown",
   "metadata": {},
   "source": [
    "## Group by Daily period"
   ]
  },
  {
   "cell_type": "code",
   "execution_count": 200,
   "metadata": {},
   "outputs": [
    {
     "data": {
      "text/html": [
       "<div>\n",
       "<style scoped>\n",
       "    .dataframe tbody tr th:only-of-type {\n",
       "        vertical-align: middle;\n",
       "    }\n",
       "\n",
       "    .dataframe tbody tr th {\n",
       "        vertical-align: top;\n",
       "    }\n",
       "\n",
       "    .dataframe thead th {\n",
       "        text-align: right;\n",
       "    }\n",
       "</style>\n",
       "<table border=\"1\" class=\"dataframe\">\n",
       "  <thead>\n",
       "    <tr style=\"text-align: right;\">\n",
       "      <th></th>\n",
       "      <th>Amount</th>\n",
       "    </tr>\n",
       "    <tr>\n",
       "      <th>Day</th>\n",
       "      <th></th>\n",
       "    </tr>\n",
       "  </thead>\n",
       "  <tbody>\n",
       "    <tr>\n",
       "      <th>1</th>\n",
       "      <td>124.50</td>\n",
       "    </tr>\n",
       "    <tr>\n",
       "      <th>2</th>\n",
       "      <td>125.35</td>\n",
       "    </tr>\n",
       "    <tr>\n",
       "      <th>3</th>\n",
       "      <td>107.30</td>\n",
       "    </tr>\n",
       "    <tr>\n",
       "      <th>4</th>\n",
       "      <td>104.05</td>\n",
       "    </tr>\n",
       "    <tr>\n",
       "      <th>5</th>\n",
       "      <td>166.35</td>\n",
       "    </tr>\n",
       "    <tr>\n",
       "      <th>6</th>\n",
       "      <td>69.55</td>\n",
       "    </tr>\n",
       "    <tr>\n",
       "      <th>7</th>\n",
       "      <td>72.00</td>\n",
       "    </tr>\n",
       "  </tbody>\n",
       "</table>\n",
       "</div>"
      ],
      "text/plain": [
       "     Amount\n",
       "Day        \n",
       "1    124.50\n",
       "2    125.35\n",
       "3    107.30\n",
       "4    104.05\n",
       "5    166.35\n",
       "6     69.55\n",
       "7     72.00"
      ]
     },
     "execution_count": 200,
     "metadata": {},
     "output_type": "execute_result"
    }
   ],
   "source": [
    "McDonald_Exp_Daily = Combined_Food_Cat_test[[\"Food Category\", \"Day\", \"Amount\"]].groupby([\"Day\"]).sum()\n",
    "McDonald_Exp_Daily"
   ]
  },
  {
   "cell_type": "code",
   "execution_count": 201,
   "metadata": {},
   "outputs": [],
   "source": [
    "McDonald_Exp_Daily.set_index([[\"Monday\", \"Tuesday\", \"Wednesday\", \"Thursday\", \"Friday\", \"Saturday\", \"Sunday\"]], inplace=True)"
   ]
  },
  {
   "cell_type": "code",
   "execution_count": 202,
   "metadata": {},
   "outputs": [
    {
     "data": {
      "text/plain": [
       "Friday       166.35\n",
       "Tuesday      125.35\n",
       "Monday       124.50\n",
       "Wednesday    107.30\n",
       "Thursday     104.05\n",
       "Sunday        72.00\n",
       "Saturday      69.55\n",
       "Name: Amount, dtype: float64"
      ]
     },
     "execution_count": 202,
     "metadata": {},
     "output_type": "execute_result"
    }
   ],
   "source": [
    "McDonald_Exp_Daily[\"Amount\"].sort_values(ascending=False)"
   ]
  },
  {
   "cell_type": "code",
   "execution_count": 203,
   "metadata": {},
   "outputs": [
    {
     "data": {
      "image/png": "[encoded data removed]",
      "text/plain": [
       "<Figure size 432x288 with 1 Axes>"
      ]
     },
     "metadata": {
      "needs_background": "light"
     },
     "output_type": "display_data"
    }
   ],
   "source": [
    "McDonald_Exp_Daily[\"Amount\"].plot(kind=\"bar\", color=[\"m\", \"orange\", \"Purple\", \"blue\", \"g\", \"cyan\", \"pink\"])\n",
    "plt.xlabel(\"Day\")\n",
    "plt.ylabel(\"Amount\")\n",
    "plt.grid(True)\n",
    "plt.show()"
   ]
  },
  {
   "cell_type": "markdown",
   "metadata": {},
   "source": [
    "My Notes: Most Likely to spend on Fridays and Mondays and Tuesday"
   ]
  },
  {
   "cell_type": "markdown",
   "metadata": {},
   "source": [
    "# Group by the Food Cat category"
   ]
  },
  {
   "cell_type": "code",
   "execution_count": 204,
   "metadata": {},
   "outputs": [
    {
     "data": {
      "text/html": [
       "<div>\n",
       "<style scoped>\n",
       "    .dataframe tbody tr th:only-of-type {\n",
       "        vertical-align: middle;\n",
       "    }\n",
       "\n",
       "    .dataframe tbody tr th {\n",
       "        vertical-align: top;\n",
       "    }\n",
       "\n",
       "    .dataframe thead th {\n",
       "        text-align: right;\n",
       "    }\n",
       "</style>\n",
       "<table border=\"1\" class=\"dataframe\">\n",
       "  <thead>\n",
       "    <tr style=\"text-align: right;\">\n",
       "      <th></th>\n",
       "      <th>Amount</th>\n",
       "    </tr>\n",
       "    <tr>\n",
       "      <th>Food Category</th>\n",
       "      <th></th>\n",
       "    </tr>\n",
       "  </thead>\n",
       "  <tbody>\n",
       "    <tr>\n",
       "      <th>Chicken</th>\n",
       "      <td>42.660252</td>\n",
       "    </tr>\n",
       "    <tr>\n",
       "      <th>Fish</th>\n",
       "      <td>26.927578</td>\n",
       "    </tr>\n",
       "    <tr>\n",
       "      <th>Beef</th>\n",
       "      <td>15.680666</td>\n",
       "    </tr>\n",
       "    <tr>\n",
       "      <th>Sausage</th>\n",
       "      <td>12.365102</td>\n",
       "    </tr>\n",
       "    <tr>\n",
       "      <th>Desserts</th>\n",
       "      <td>2.366402</td>\n",
       "    </tr>\n",
       "  </tbody>\n",
       "</table>\n",
       "</div>"
      ],
      "text/plain": [
       "                  Amount\n",
       "Food Category           \n",
       "Chicken        42.660252\n",
       "Fish           26.927578\n",
       "Beef           15.680666\n",
       "Sausage        12.365102\n",
       "Desserts        2.366402"
      ]
     },
     "execution_count": 204,
     "metadata": {},
     "output_type": "execute_result"
    }
   ],
   "source": [
    "Food_Cat = Combined_Food_Cat_test[[\"Food Category\", \"Amount\"]].groupby([\"Food Category\"]).sum().sort_values(by=\"Amount\", ascending=False)\n",
    "Food_Cat_percentage = Food_Cat / Food_Cat[\"Amount\"].sum() *100\n",
    "# train_set_notes\n",
    "Food_Cat_Groupby = pd.DataFrame(Combined_Food_Cat_test[\"Amount\"].sort_values(ascending=False))[:5]\n",
    "Food_Cat_percentage"
   ]
  },
  {
   "cell_type": "code",
   "execution_count": 205,
   "metadata": {},
   "outputs": [
    {
     "data": {
      "image/png": "[encoded data removed]",
      "text/plain": [
       "<Figure size 432x288 with 1 Axes>"
      ]
     },
     "metadata": {
      "needs_background": "light"
     },
     "output_type": "display_data"
    }
   ],
   "source": [
    "Food_Cat_percentage.plot(kind=\"bar\", color=\"g\")\n",
    "plt.ylabel(\"Percentage composition (%)\")\n",
    "plt.grid(True)\n",
    "plt.show()"
   ]
  },
  {
   "cell_type": "markdown",
   "metadata": {},
   "source": [
    "## Group by Food Category and Month in 2018"
   ]
  },
  {
   "cell_type": "code",
   "execution_count": 206,
   "metadata": {},
   "outputs": [
    {
     "data": {
      "text/html": [
       "<div>\n",
       "<style scoped>\n",
       "    .dataframe tbody tr th:only-of-type {\n",
       "        vertical-align: middle;\n",
       "    }\n",
       "\n",
       "    .dataframe tbody tr th {\n",
       "        vertical-align: top;\n",
       "    }\n",
       "\n",
       "    .dataframe thead th {\n",
       "        text-align: right;\n",
       "    }\n",
       "</style>\n",
       "<table border=\"1\" class=\"dataframe\">\n",
       "  <thead>\n",
       "    <tr style=\"text-align: right;\">\n",
       "      <th></th>\n",
       "      <th>Year</th>\n",
       "    </tr>\n",
       "    <tr>\n",
       "      <th>Food Category</th>\n",
       "      <th></th>\n",
       "    </tr>\n",
       "  </thead>\n",
       "  <tbody>\n",
       "    <tr>\n",
       "      <th>Beef</th>\n",
       "      <td>2016.548387</td>\n",
       "    </tr>\n",
       "    <tr>\n",
       "      <th>Chicken</th>\n",
       "      <td>2017.298077</td>\n",
       "    </tr>\n",
       "    <tr>\n",
       "      <th>Desserts</th>\n",
       "      <td>2018.642857</td>\n",
       "    </tr>\n",
       "    <tr>\n",
       "      <th>Fish</th>\n",
       "      <td>2017.862745</td>\n",
       "    </tr>\n",
       "    <tr>\n",
       "      <th>Sausage</th>\n",
       "      <td>2017.869565</td>\n",
       "    </tr>\n",
       "  </tbody>\n",
       "</table>\n",
       "</div>"
      ],
      "text/plain": [
       "                      Year\n",
       "Food Category             \n",
       "Beef           2016.548387\n",
       "Chicken        2017.298077\n",
       "Desserts       2018.642857\n",
       "Fish           2017.862745\n",
       "Sausage        2017.869565"
      ]
     },
     "execution_count": 206,
     "metadata": {},
     "output_type": "execute_result"
    }
   ],
   "source": [
    "Combined_Food_Cat_test[[\"Year\", \"Food Category\"]].groupby(\"Food Category\").mean()\n",
    "# .sort_values(by=\"Month\")"
   ]
  },
  {
   "cell_type": "code",
   "execution_count": null,
   "metadata": {},
   "outputs": [],
   "source": []
  },
  {
   "cell_type": "code",
   "execution_count": 207,
   "metadata": {},
   "outputs": [
    {
     "data": {
      "text/html": [
       "<div>\n",
       "<style scoped>\n",
       "    .dataframe tbody tr th:only-of-type {\n",
       "        vertical-align: middle;\n",
       "    }\n",
       "\n",
       "    .dataframe tbody tr th {\n",
       "        vertical-align: top;\n",
       "    }\n",
       "\n",
       "    .dataframe thead th {\n",
       "        text-align: right;\n",
       "    }\n",
       "</style>\n",
       "<table border=\"1\" class=\"dataframe\">\n",
       "  <thead>\n",
       "    <tr style=\"text-align: right;\">\n",
       "      <th></th>\n",
       "      <th>Notes</th>\n",
       "      <th>Amount</th>\n",
       "      <th>Food Category</th>\n",
       "      <th>Day</th>\n",
       "      <th>Month</th>\n",
       "      <th>Quarterly Period</th>\n",
       "      <th>Year</th>\n",
       "    </tr>\n",
       "    <tr>\n",
       "      <th>ID</th>\n",
       "      <th></th>\n",
       "      <th></th>\n",
       "      <th></th>\n",
       "      <th></th>\n",
       "      <th></th>\n",
       "      <th></th>\n",
       "      <th></th>\n",
       "    </tr>\n",
       "  </thead>\n",
       "  <tbody>\n",
       "    <tr>\n",
       "      <th>1497</th>\n",
       "      <td>McDonald's chicken prosperity meal</td>\n",
       "      <td>9.00</td>\n",
       "      <td>Chicken</td>\n",
       "      <td>4</td>\n",
       "      <td>2</td>\n",
       "      <td>2018Q1</td>\n",
       "      <td>2018</td>\n",
       "    </tr>\n",
       "    <tr>\n",
       "      <th>1036</th>\n",
       "      <td>McDonald's Double Filet O Fish meal</td>\n",
       "      <td>7.35</td>\n",
       "      <td>Fish</td>\n",
       "      <td>5</td>\n",
       "      <td>6</td>\n",
       "      <td>2018Q2</td>\n",
       "      <td>2018</td>\n",
       "    </tr>\n",
       "    <tr>\n",
       "      <th>860</th>\n",
       "      <td>McDonald's Ha Ha Special + green tea</td>\n",
       "      <td>7.25</td>\n",
       "      <td>Chicken</td>\n",
       "      <td>2</td>\n",
       "      <td>8</td>\n",
       "      <td>2018Q3</td>\n",
       "      <td>2018</td>\n",
       "    </tr>\n",
       "    <tr>\n",
       "      <th>1007</th>\n",
       "      <td>McDonald's Ha Ha Cheong Gai Burger</td>\n",
       "      <td>6.05</td>\n",
       "      <td>Chicken</td>\n",
       "      <td>3</td>\n",
       "      <td>7</td>\n",
       "      <td>2018Q3</td>\n",
       "      <td>2018</td>\n",
       "    </tr>\n",
       "    <tr>\n",
       "      <th>841</th>\n",
       "      <td>McDonald's Filet O Fish meal with criss cut fries</td>\n",
       "      <td>5.70</td>\n",
       "      <td>Fish</td>\n",
       "      <td>6</td>\n",
       "      <td>8</td>\n",
       "      <td>2018Q3</td>\n",
       "      <td>2018</td>\n",
       "    </tr>\n",
       "  </tbody>\n",
       "</table>\n",
       "</div>"
      ],
      "text/plain": [
       "                                                  Notes  Amount Food Category  \\\n",
       "ID                                                                              \n",
       "1497                 McDonald's chicken prosperity meal    9.00       Chicken   \n",
       "1036                McDonald's Double Filet O Fish meal    7.35          Fish   \n",
       "860                McDonald's Ha Ha Special + green tea    7.25       Chicken   \n",
       "1007                 McDonald's Ha Ha Cheong Gai Burger    6.05       Chicken   \n",
       "841   McDonald's Filet O Fish meal with criss cut fries    5.70          Fish   \n",
       "\n",
       "      Day  Month Quarterly Period  Year  \n",
       "ID                                       \n",
       "1497    4      2           2018Q1  2018  \n",
       "1036    5      6           2018Q2  2018  \n",
       "860     2      8           2018Q3  2018  \n",
       "1007    3      7           2018Q3  2018  \n",
       "841     6      8           2018Q3  2018  "
      ]
     },
     "execution_count": 207,
     "metadata": {},
     "output_type": "execute_result"
    }
   ],
   "source": [
    "Year = Combined_Food_Cat_test[\"Year\"]\n",
    "McDonald_Exp_2018= Combined_Food_Cat_test.query(\"@Year == 2018\", engine=\"numexpr\").sort_values(by=\"Amount\", ascending=False)\n",
    "McDonald_Exp_2018.head()"
   ]
  },
  {
   "cell_type": "code",
   "execution_count": 208,
   "metadata": {},
   "outputs": [
    {
     "data": {
      "image/png": "[encoded data removed]",
      "text/plain": [
       "<Figure size 432x288 with 1 Axes>"
      ]
     },
     "metadata": {
      "needs_background": "light"
     },
     "output_type": "display_data"
    }
   ],
   "source": [
    "McDonald_Exp_2018[\"Food Category\"].value_counts().plot(kind=\"bar\")\n",
    "plt.grid(True)\n",
    "plt.show()"
   ]
  },
  {
   "cell_type": "code",
   "execution_count": null,
   "metadata": {},
   "outputs": [],
   "source": []
  },
  {
   "cell_type": "code",
   "execution_count": 209,
   "metadata": {},
   "outputs": [],
   "source": [
    "# Food_Cat_percentage.plot(kind=\"bar\", title=\"Consumption levels of each Food Categories\")\n",
    "# plt.show()"
   ]
  },
  {
   "cell_type": "markdown",
   "metadata": {},
   "source": [
    "## Split the dataset into Training and Test sets (Extra)"
   ]
  },
  {
   "cell_type": "markdown",
   "metadata": {},
   "source": [
    "80% into training set, 20% into test set"
   ]
  },
  {
   "cell_type": "code",
   "execution_count": 210,
   "metadata": {},
   "outputs": [],
   "source": [
    "# from sklearn.model_selection import train_test_split\n",
    "\n",
    "# train_set, test_set = train_test_split(McDonald_Exp, test_size=0.2, shuffle=True)"
   ]
  },
  {
   "cell_type": "code",
   "execution_count": 211,
   "metadata": {},
   "outputs": [],
   "source": [
    "# print(\"Number of training sets:\",len(train_set))\n",
    "# print(\"Number of test sets:\", len(test_set))"
   ]
  },
  {
   "cell_type": "code",
   "execution_count": 212,
   "metadata": {
    "scrolled": false
   },
   "outputs": [],
   "source": [
    "# train_set.head()"
   ]
  },
  {
   "cell_type": "code",
   "execution_count": 213,
   "metadata": {},
   "outputs": [],
   "source": [
    "# test_set.head()"
   ]
  },
  {
   "cell_type": "markdown",
   "metadata": {},
   "source": [
    "## Stratified Shuffle Split"
   ]
  },
  {
   "cell_type": "markdown",
   "metadata": {},
   "source": [
    "Need to split between the food categories for the training and test sets. The ratios of the food categories for the training and test sets need to be the same."
   ]
  },
  {
   "cell_type": "code",
   "execution_count": 214,
   "metadata": {
    "scrolled": true
   },
   "outputs": [
    {
     "name": "stdout",
     "output_type": "stream",
     "text": [
      "Train_index: [179 160  56 182 105  74 222 207  18  70  72 206 187 138 205 152  27 161\n",
      "  37 176  76 135 171  54 193  59   5  26 198  96 212  97 122 124  30   1\n",
      " 125  86  67  49 131 214 208  28   0 189 100 106 116 107  61  93 156 130\n",
      "  32  34   8  64 180 170  85  78  71  45 120 126  53  39  57 188 196  10\n",
      "  50 151 144  80  58 163 101 115 217  62  75  13  91 197  82 114  88 165\n",
      " 119 172  77  19 195 174  42 192 184  92 162   9 145 118  94 216 104 150\n",
      " 142  44 203 173 155 191 211 134 220   7 136  21 166  81 141 168 137 153\n",
      " 157 117  40  65  17   2 169 183 123 127   6 186 213 139 209  46 200  83\n",
      "  60 175  23 132  79  68  16 221 133  35 218 111  20  24 194 102 113  43\n",
      "  98  25  33  84 210  73 201 129  11  15  89 148  14 158 109   4]\n",
      "\n",
      "Test_index: [ 29 140  48  47 108 219 121 143 202 204 147   3 181 167  90 128 178  69\n",
      "  66  41  12 103 146  87  99  55 112  95  31  63 185 149 215  22 159 199\n",
      " 190  52  36  38  51 177 154 164 110]\n"
     ]
    }
   ],
   "source": [
    "from sklearn.model_selection import StratifiedShuffleSplit\n",
    "\n",
    "split = StratifiedShuffleSplit(n_splits=1, test_size=0.2, random_state=42)\n",
    "for train_index, test_index in split.split(Combined_Food_Cat_test, Combined_Food_Cat_test[\"Food Category\"]):\n",
    "    print(\"Train_index:\",train_index)\n",
    "    print()\n",
    "    print(\"Test_index:\",test_index)\n",
    "    strat_train_set = Combined_Food_Cat_test.iloc[train_index]\n",
    "    strat_test_set = Combined_Food_Cat_test.iloc[test_index]"
   ]
  },
  {
   "cell_type": "markdown",
   "metadata": {},
   "source": [
    "## Checking if the Food Category ratios are the same"
   ]
  },
  {
   "cell_type": "code",
   "execution_count": 215,
   "metadata": {},
   "outputs": [
    {
     "data": {
      "text/plain": [
       "Chicken     0.466292\n",
       "Fish        0.230337\n",
       "Beef        0.140449\n",
       "Sausage     0.101124\n",
       "Desserts    0.061798\n",
       "Name: Food Category, dtype: float64"
      ]
     },
     "execution_count": 215,
     "metadata": {},
     "output_type": "execute_result"
    }
   ],
   "source": [
    "strat_train_set[\"Food Category\"].value_counts() / len(strat_train_set)"
   ]
  },
  {
   "cell_type": "code",
   "execution_count": 216,
   "metadata": {},
   "outputs": [
    {
     "data": {
      "text/plain": [
       "Chicken     0.466667\n",
       "Fish        0.222222\n",
       "Beef        0.133333\n",
       "Sausage     0.111111\n",
       "Desserts    0.066667\n",
       "Name: Food Category, dtype: float64"
      ]
     },
     "execution_count": 216,
     "metadata": {},
     "output_type": "execute_result"
    }
   ],
   "source": [
    "strat_test_set[\"Food Category\"].value_counts() / len(strat_test_set)"
   ]
  },
  {
   "cell_type": "code",
   "execution_count": 217,
   "metadata": {},
   "outputs": [
    {
     "data": {
      "text/plain": [
       "Chicken     0.466368\n",
       "Fish        0.228700\n",
       "Beef        0.139013\n",
       "Sausage     0.103139\n",
       "Desserts    0.062780\n",
       "Name: Food Category, dtype: float64"
      ]
     },
     "execution_count": 217,
     "metadata": {},
     "output_type": "execute_result"
    }
   ],
   "source": [
    "Combined_Food_Cat_test[\"Food Category\"].value_counts() / len(Combined_Food_Cat_test)"
   ]
  },
  {
   "cell_type": "code",
   "execution_count": null,
   "metadata": {},
   "outputs": [],
   "source": []
  },
  {
   "cell_type": "code",
   "execution_count": 218,
   "metadata": {},
   "outputs": [
    {
     "data": {
      "text/html": [
       "<div>\n",
       "<style scoped>\n",
       "    .dataframe tbody tr th:only-of-type {\n",
       "        vertical-align: middle;\n",
       "    }\n",
       "\n",
       "    .dataframe tbody tr th {\n",
       "        vertical-align: top;\n",
       "    }\n",
       "\n",
       "    .dataframe thead th {\n",
       "        text-align: right;\n",
       "    }\n",
       "</style>\n",
       "<table border=\"1\" class=\"dataframe\">\n",
       "  <thead>\n",
       "    <tr style=\"text-align: right;\">\n",
       "      <th></th>\n",
       "      <th>Notes</th>\n",
       "      <th>Amount</th>\n",
       "      <th>Food Category</th>\n",
       "      <th>Day</th>\n",
       "      <th>Month</th>\n",
       "      <th>Quarterly Period</th>\n",
       "      <th>Year</th>\n",
       "    </tr>\n",
       "    <tr>\n",
       "      <th>ID</th>\n",
       "      <th></th>\n",
       "      <th></th>\n",
       "      <th></th>\n",
       "      <th></th>\n",
       "      <th></th>\n",
       "      <th></th>\n",
       "      <th></th>\n",
       "    </tr>\n",
       "  </thead>\n",
       "  <tbody>\n",
       "    <tr>\n",
       "      <th>284</th>\n",
       "      <td>McDonald's cheese burger</td>\n",
       "      <td>2.3</td>\n",
       "      <td>Beef</td>\n",
       "      <td>5</td>\n",
       "      <td>2</td>\n",
       "      <td>2019Q1</td>\n",
       "      <td>2019</td>\n",
       "    </tr>\n",
       "    <tr>\n",
       "      <th>1408</th>\n",
       "      <td>McDonald's sausage mcmuffin</td>\n",
       "      <td>3.0</td>\n",
       "      <td>Sausage</td>\n",
       "      <td>3</td>\n",
       "      <td>3</td>\n",
       "      <td>2018Q1</td>\n",
       "      <td>2018</td>\n",
       "    </tr>\n",
       "    <tr>\n",
       "      <th>4006</th>\n",
       "      <td>McDonald's McChicken Burger</td>\n",
       "      <td>2.0</td>\n",
       "      <td>Chicken</td>\n",
       "      <td>2</td>\n",
       "      <td>8</td>\n",
       "      <td>2019Q3</td>\n",
       "      <td>2019</td>\n",
       "    </tr>\n",
       "    <tr>\n",
       "      <th>2022</th>\n",
       "      <td>McDonald's mcdouble burger</td>\n",
       "      <td>2.6</td>\n",
       "      <td>Beef</td>\n",
       "      <td>6</td>\n",
       "      <td>5</td>\n",
       "      <td>2017Q2</td>\n",
       "      <td>2017</td>\n",
       "    </tr>\n",
       "    <tr>\n",
       "      <th>2026</th>\n",
       "      <td>McDonald's 4pc mcwings</td>\n",
       "      <td>4.0</td>\n",
       "      <td>Chicken</td>\n",
       "      <td>4</td>\n",
       "      <td>5</td>\n",
       "      <td>2017Q2</td>\n",
       "      <td>2017</td>\n",
       "    </tr>\n",
       "  </tbody>\n",
       "</table>\n",
       "</div>"
      ],
      "text/plain": [
       "                            Notes  Amount Food Category  Day  Month  \\\n",
       "ID                                                                    \n",
       "284      McDonald's cheese burger     2.3          Beef    5      2   \n",
       "1408  McDonald's sausage mcmuffin     3.0       Sausage    3      3   \n",
       "4006  McDonald's McChicken Burger     2.0       Chicken    2      8   \n",
       "2022   McDonald's mcdouble burger     2.6          Beef    6      5   \n",
       "2026       McDonald's 4pc mcwings     4.0       Chicken    4      5   \n",
       "\n",
       "     Quarterly Period  Year  \n",
       "ID                           \n",
       "284            2019Q1  2019  \n",
       "1408           2018Q1  2018  \n",
       "4006           2019Q3  2019  \n",
       "2022           2017Q2  2017  \n",
       "2026           2017Q2  2017  "
      ]
     },
     "execution_count": 218,
     "metadata": {},
     "output_type": "execute_result"
    }
   ],
   "source": [
    "strat_train_set.head()"
   ]
  },
  {
   "cell_type": "markdown",
   "metadata": {},
   "source": [
    "# Stopped here 13/6/2020"
   ]
  },
  {
   "cell_type": "markdown",
   "metadata": {},
   "source": [
    "# Getting only Months and Amount"
   ]
  },
  {
   "cell_type": "code",
   "execution_count": null,
   "metadata": {},
   "outputs": [],
   "source": [
    "# strat_train_set_test = strat_train_set[[ \"Month\",\"Food Category\",\"Amount\"]]\n",
    "# strat_train_set_test"
   ]
  },
  {
   "cell_type": "code",
   "execution_count": null,
   "metadata": {},
   "outputs": [],
   "source": []
  },
  {
   "cell_type": "markdown",
   "metadata": {},
   "source": [
    "# Creating the predictors and labels"
   ]
  },
  {
   "cell_type": "markdown",
   "metadata": {},
   "source": [
    "## Predictors"
   ]
  },
  {
   "cell_type": "markdown",
   "metadata": {},
   "source": [
    "Predictor `Month`"
   ]
  },
  {
   "cell_type": "code",
   "execution_count": 273,
   "metadata": {
    "scrolled": false
   },
   "outputs": [
    {
     "data": {
      "text/plain": [
       "array([[2019],\n",
       "       [2018],\n",
       "       [2019],\n",
       "       [2017],\n",
       "       [2017],\n",
       "       [2019]], dtype=int64)"
      ]
     },
     "execution_count": 273,
     "metadata": {},
     "output_type": "execute_result"
    }
   ],
   "source": [
    "# McDonald_Exp_Predictors = strat_train_set_test[\"Month\"].values.reshape(-1,1).astype('float64')\n",
    "McDonald_Exp_Predictors = strat_train_set[\"Year\"].values.reshape(-1,1)\n",
    "McDonald_Exp_Predictors[:6]"
   ]
  },
  {
   "cell_type": "markdown",
   "metadata": {},
   "source": [
    "Shape of `McDonald_Exp_Predictors`"
   ]
  },
  {
   "cell_type": "code",
   "execution_count": 274,
   "metadata": {},
   "outputs": [
    {
     "data": {
      "text/plain": [
       "(178, 1)"
      ]
     },
     "execution_count": 274,
     "metadata": {},
     "output_type": "execute_result"
    }
   ],
   "source": [
    "McDonald_Exp_Predictors.shape"
   ]
  },
  {
   "cell_type": "markdown",
   "metadata": {},
   "source": [
    "## Labels\n",
    "\n",
    "Changing the `Amount` to an array with 178,1 shape"
   ]
  },
  {
   "cell_type": "code",
   "execution_count": 222,
   "metadata": {
    "scrolled": true
   },
   "outputs": [
    {
     "data": {
      "text/plain": [
       "dtype('float64')"
      ]
     },
     "execution_count": 222,
     "metadata": {},
     "output_type": "execute_result"
    }
   ],
   "source": [
    "# McDonald_Exp_Labels_raw = strat_train_set[\"Amount\"].copy().values.reshape(-1,1)\n",
    "McDonald_Exp_Labels_raw = strat_train_set[\"Amount\"].values.reshape(-1,1)\n",
    "McDonald_Exp_Labels_raw.dtype"
   ]
  },
  {
   "cell_type": "markdown",
   "metadata": {},
   "source": [
    "Shape of `McDonald_Exp_Labels_raw`"
   ]
  },
  {
   "cell_type": "code",
   "execution_count": 223,
   "metadata": {},
   "outputs": [
    {
     "data": {
      "text/plain": [
       "(178, 1)"
      ]
     },
     "execution_count": 223,
     "metadata": {},
     "output_type": "execute_result"
    }
   ],
   "source": [
    "McDonald_Exp_Labels_raw.shape"
   ]
  },
  {
   "cell_type": "code",
   "execution_count": 224,
   "metadata": {},
   "outputs": [
    {
     "data": {
      "text/plain": [
       "array([[2.3],\n",
       "       [3. ],\n",
       "       [2. ],\n",
       "       [2.6],\n",
       "       [4. ]])"
      ]
     },
     "execution_count": 224,
     "metadata": {},
     "output_type": "execute_result"
    }
   ],
   "source": [
    "McDonald_Exp_Labels_raw[:5]"
   ]
  },
  {
   "cell_type": "code",
   "execution_count": 383,
   "metadata": {},
   "outputs": [
    {
     "name": "stdout",
     "output_type": "stream",
     "text": [
      "Max value: [9.]\n",
      "Min value: [0.4]\n"
     ]
    }
   ],
   "source": [
    "print(\"Max value:\",McDonald_Exp_Labels_raw.max(axis=0))\n",
    "print(\"Min value:\", McDonald_Exp_Labels_raw.min(axis=0))"
   ]
  },
  {
   "cell_type": "markdown",
   "metadata": {},
   "source": [
    "# Creating the Pipeline to transform the dataset"
   ]
  },
  {
   "cell_type": "markdown",
   "metadata": {},
   "source": [
    "1) Need to *Center the data* on `amount` column\n",
    "\n",
    "2) Transform `Day`,`Month`,`Quarterly Period` and `Year` columns using one hot encoding "
   ]
  },
  {
   "cell_type": "markdown",
   "metadata": {},
   "source": [
    "Numerical Attributes:\n",
    "\n",
    "1) `Amount`\n",
    "\n",
    "Categorical Attributes:\n",
    "\n",
    "1) `Day`\n",
    "\n",
    "2) `Month`\n",
    "\n",
    "3) `Quarterly Period`\n",
    "\n",
    "4) `Year`\n",
    "\n",
    "5) `Food Category`"
   ]
  },
  {
   "cell_type": "markdown",
   "metadata": {},
   "source": [
    "## Creating the numerical attributes pipeline"
   ]
  },
  {
   "cell_type": "markdown",
   "metadata": {},
   "source": [
    "Numerical Attribute is `Amount`"
   ]
  },
  {
   "cell_type": "code",
   "execution_count": null,
   "metadata": {
    "scrolled": true
   },
   "outputs": [],
   "source": [
    "# num_attr = strat_train_set[\"Amount\"].values.reshape(-1,1)\n",
    "# num_attr.shape"
   ]
  },
  {
   "cell_type": "markdown",
   "metadata": {},
   "source": [
    "Alternatively, using min_max scaler"
   ]
  },
  {
   "cell_type": "code",
   "execution_count": 388,
   "metadata": {},
   "outputs": [],
   "source": [
    "from sklearn.pipeline import Pipeline\n",
    "from sklearn.preprocessing import MinMaxScaler\n",
    "\n",
    "min_max_num_pipeline = Pipeline([\n",
    "    ('min_max_scaler', MinMaxScaler(feature_range=(0.4,9.0)))\n",
    "])"
   ]
  },
  {
   "cell_type": "code",
   "execution_count": 225,
   "metadata": {},
   "outputs": [],
   "source": [
    "from sklearn.pipeline import Pipeline\n",
    "from sklearn.preprocessing import StandardScaler\n",
    "\n",
    "num_pipeline = Pipeline([\n",
    "    ('std_scaler', StandardScaler()),\n",
    "])"
   ]
  },
  {
   "cell_type": "code",
   "execution_count": 226,
   "metadata": {},
   "outputs": [
    {
     "data": {
      "text/plain": [
       "(178, 1)"
      ]
     },
     "execution_count": 226,
     "metadata": {},
     "output_type": "execute_result"
    }
   ],
   "source": [
    "# Eg:\n",
    "McDonald_Exp_Labels_raw.shape"
   ]
  },
  {
   "cell_type": "code",
   "execution_count": 227,
   "metadata": {},
   "outputs": [
    {
     "data": {
      "text/plain": [
       "array([[2.3],\n",
       "       [3. ],\n",
       "       [2. ],\n",
       "       [2.6],\n",
       "       [4. ],\n",
       "       [2.2]])"
      ]
     },
     "execution_count": 227,
     "metadata": {},
     "output_type": "execute_result"
    }
   ],
   "source": [
    "McDonald_Exp_Labels_raw[:6]"
   ]
  },
  {
   "cell_type": "code",
   "execution_count": 333,
   "metadata": {},
   "outputs": [
    {
     "data": {
      "text/plain": [
       "array([9.])"
      ]
     },
     "execution_count": 333,
     "metadata": {},
     "output_type": "execute_result"
    }
   ],
   "source": [
    "McDonald_Exp_Labels_raw.max(axis=0)"
   ]
  },
  {
   "cell_type": "markdown",
   "metadata": {},
   "source": [
    "For Standardization of `amount`"
   ]
  },
  {
   "cell_type": "code",
   "execution_count": 228,
   "metadata": {},
   "outputs": [
    {
     "data": {
      "text/plain": [
       "(178, 1)"
      ]
     },
     "execution_count": 228,
     "metadata": {},
     "output_type": "execute_result"
    }
   ],
   "source": [
    "McDonald_Exp_Labels_Transform = num_pipeline.fit_transform(McDonald_Exp_Labels_raw)\n",
    "McDonald_Exp_Labels_Transform.shape"
   ]
  },
  {
   "cell_type": "markdown",
   "metadata": {},
   "source": [
    "For Min_Max scaling of `amount`"
   ]
  },
  {
   "cell_type": "code",
   "execution_count": 389,
   "metadata": {},
   "outputs": [
    {
     "data": {
      "text/plain": [
       "(178, 1)"
      ]
     },
     "execution_count": 389,
     "metadata": {},
     "output_type": "execute_result"
    }
   ],
   "source": [
    "McDonald_Exp_Labels_Transform_minmax = min_max_num_pipeline.fit_transform(McDonald_Exp_Labels_raw)\n",
    "McDonald_Exp_Labels_Transform_minmax.shape"
   ]
  },
  {
   "cell_type": "code",
   "execution_count": 229,
   "metadata": {},
   "outputs": [
    {
     "data": {
      "text/plain": [
       "array([[-0.63176115],\n",
       "       [-0.25376624],\n",
       "       [-0.79375896],\n",
       "       [-0.46976333],\n",
       "       [ 0.28622648],\n",
       "       [-0.68576042]])"
      ]
     },
     "execution_count": 229,
     "metadata": {},
     "output_type": "execute_result"
    }
   ],
   "source": [
    "McDonald_Exp_Labels_Transform[:6]"
   ]
  },
  {
   "cell_type": "code",
   "execution_count": 390,
   "metadata": {},
   "outputs": [
    {
     "data": {
      "text/plain": [
       "array([[2.3],\n",
       "       [3. ],\n",
       "       [2. ],\n",
       "       [2.6],\n",
       "       [4. ],\n",
       "       [2.2]])"
      ]
     },
     "execution_count": 390,
     "metadata": {},
     "output_type": "execute_result"
    }
   ],
   "source": [
    "McDonald_Exp_Labels_Transform_minmax[:6]"
   ]
  },
  {
   "cell_type": "markdown",
   "metadata": {},
   "source": [
    "## Creating the Categorical Attributes pipeline"
   ]
  },
  {
   "cell_type": "markdown",
   "metadata": {},
   "source": [
    "Categorical attribute is `Month`"
   ]
  },
  {
   "cell_type": "code",
   "execution_count": 230,
   "metadata": {},
   "outputs": [
    {
     "data": {
      "text/plain": [
       "(178,)"
      ]
     },
     "execution_count": 230,
     "metadata": {},
     "output_type": "execute_result"
    }
   ],
   "source": [
    "McDonald_Exp_Predictors.shape"
   ]
  },
  {
   "cell_type": "code",
   "execution_count": 275,
   "metadata": {},
   "outputs": [
    {
     "data": {
      "text/plain": [
       "<178x7 sparse matrix of type '<class 'numpy.float64'>'\n",
       "\twith 178 stored elements in Compressed Sparse Row format>"
      ]
     },
     "execution_count": 275,
     "metadata": {},
     "output_type": "execute_result"
    }
   ],
   "source": [
    "from sklearn.preprocessing import OneHotEncoder\n",
    "cat_encoder = OneHotEncoder()\n",
    "McDonald_exp_cat_1hot = cat_encoder.fit_transform(McDonald_Exp_Predictors)\n",
    "McDonald_exp_cat_1hot"
   ]
  },
  {
   "cell_type": "code",
   "execution_count": 276,
   "metadata": {},
   "outputs": [
    {
     "data": {
      "text/plain": [
       "[array([2014, 2015, 2016, 2017, 2018, 2019, 2020], dtype=int64)]"
      ]
     },
     "execution_count": 276,
     "metadata": {},
     "output_type": "execute_result"
    }
   ],
   "source": [
    "cat_encoder.categories_"
   ]
  },
  {
   "cell_type": "code",
   "execution_count": 277,
   "metadata": {},
   "outputs": [
    {
     "data": {
      "text/plain": [
       "array([0., 0., 0., 0., 0., 1., 0.])"
      ]
     },
     "execution_count": 277,
     "metadata": {},
     "output_type": "execute_result"
    }
   ],
   "source": [
    "McDonald_exp_cat_1hot.toarray()[0]"
   ]
  },
  {
   "cell_type": "code",
   "execution_count": null,
   "metadata": {},
   "outputs": [],
   "source": []
  },
  {
   "cell_type": "markdown",
   "metadata": {},
   "source": [
    "# Creating the full pipeline (Extra)"
   ]
  },
  {
   "cell_type": "markdown",
   "metadata": {},
   "source": [
    "Getting the list of `num_attribs` and `cat_attribs`"
   ]
  },
  {
   "cell_type": "code",
   "execution_count": null,
   "metadata": {},
   "outputs": [],
   "source": [
    "num_attribs = list(McDonald_Exp_Labels_raw)\n",
    "num_attribs[:5]"
   ]
  },
  {
   "cell_type": "code",
   "execution_count": null,
   "metadata": {},
   "outputs": [],
   "source": [
    "# cat_attribs = list(McDonald_exp_cat)\n",
    "# cat_attribs[:5]"
   ]
  },
  {
   "cell_type": "code",
   "execution_count": null,
   "metadata": {},
   "outputs": [],
   "source": []
  },
  {
   "cell_type": "code",
   "execution_count": null,
   "metadata": {},
   "outputs": [],
   "source": [
    "from sklearn.compose import ColumnTransformer\n",
    "\n",
    "full_pipeline = ColumnTransformer([\n",
    "    (\"num\", num_pipeline,[\"Amount\"]),\n",
    "    (\"cat\", OneHotEncoder(), [\"Month\"])\n",
    "])"
   ]
  },
  {
   "cell_type": "code",
   "execution_count": null,
   "metadata": {
    "scrolled": true
   },
   "outputs": [],
   "source": [
    "McDonald_Exp_Labels_raw.dtype"
   ]
  },
  {
   "cell_type": "code",
   "execution_count": null,
   "metadata": {},
   "outputs": [],
   "source": [
    "McDonald_Exp_prepared = full_pipeline.fit_transform(strat_train_set)"
   ]
  },
  {
   "cell_type": "code",
   "execution_count": null,
   "metadata": {},
   "outputs": [],
   "source": [
    "McDonald_Exp_prepared.toarray()[:1]"
   ]
  },
  {
   "cell_type": "code",
   "execution_count": null,
   "metadata": {},
   "outputs": [],
   "source": [
    "len(McDonald_Exp_prepared.toarray())"
   ]
  },
  {
   "cell_type": "code",
   "execution_count": null,
   "metadata": {},
   "outputs": [],
   "source": [
    "strat_train_set.iloc[:,2:5][:5]"
   ]
  },
  {
   "cell_type": "code",
   "execution_count": null,
   "metadata": {},
   "outputs": [],
   "source": [
    "strat_train_set"
   ]
  },
  {
   "cell_type": "markdown",
   "metadata": {},
   "source": [
    "# Select and train a model"
   ]
  },
  {
   "cell_type": "markdown",
   "metadata": {},
   "source": [
    "## Using Linear Regression"
   ]
  },
  {
   "cell_type": "markdown",
   "metadata": {},
   "source": [
    "Using `Food Category` and `Month` as predictors to predict the `amount`"
   ]
  },
  {
   "cell_type": "code",
   "execution_count": 391,
   "metadata": {},
   "outputs": [
    {
     "data": {
      "text/plain": [
       "LinearRegression()"
      ]
     },
     "execution_count": 391,
     "metadata": {},
     "output_type": "execute_result"
    }
   ],
   "source": [
    "from sklearn.linear_model import LinearRegression\n",
    "\n",
    "lin_reg = LinearRegression()\n",
    "lin_reg.fit(McDonald_exp_cat_1hot, McDonald_Exp_Labels_Transform_minmax)\n",
    "# lin_reg.fit(McDonald_exp_cat_1hot, McDonald_Exp_Labels_Transform.ravel())"
   ]
  },
  {
   "cell_type": "code",
   "execution_count": 392,
   "metadata": {},
   "outputs": [
    {
     "name": "stdout",
     "output_type": "stream",
     "text": [
      "Linear Regression intercept: [4.11640814]\n",
      "Linear Regression Coefficients: [[ 1.72589955  2.35025852 -0.65049905 -0.51640814 -0.43069386 -1.43214888\n",
      "  -1.04640814]]\n"
     ]
    }
   ],
   "source": [
    "print(\"Linear Regression intercept:\",lin_reg.intercept_)\n",
    "print(\"Linear Regression Coefficients:\",lin_reg.coef_)"
   ]
  },
  {
   "cell_type": "code",
   "execution_count": 393,
   "metadata": {},
   "outputs": [
    {
     "data": {
      "text/plain": [
       "array([[0., 0., 0., 0., 0., 1., 0.],\n",
       "       [0., 0., 0., 0., 1., 0., 0.],\n",
       "       [0., 0., 0., 0., 0., 1., 0.],\n",
       "       [0., 0., 0., 1., 0., 0., 0.],\n",
       "       [0., 0., 0., 1., 0., 0., 0.]])"
      ]
     },
     "execution_count": 393,
     "metadata": {},
     "output_type": "execute_result"
    }
   ],
   "source": [
    "some_data = McDonald_exp_cat_1hot[:5]\n",
    "some_data.toarray()"
   ]
  },
  {
   "cell_type": "code",
   "execution_count": 394,
   "metadata": {},
   "outputs": [
    {
     "data": {
      "text/plain": [
       "array([[2.3],\n",
       "       [3. ],\n",
       "       [2. ],\n",
       "       [2.6],\n",
       "       [4. ]])"
      ]
     },
     "execution_count": 394,
     "metadata": {},
     "output_type": "execute_result"
    }
   ],
   "source": [
    "some_labels = McDonald_Exp_Labels_Transform_minmax[:5]\n",
    "some_labels"
   ]
  },
  {
   "cell_type": "code",
   "execution_count": 316,
   "metadata": {},
   "outputs": [],
   "source": [
    "# some_data_prepared = full_pipeline.transform(some_data)"
   ]
  },
  {
   "cell_type": "code",
   "execution_count": 395,
   "metadata": {},
   "outputs": [
    {
     "name": "stdout",
     "output_type": "stream",
     "text": [
      "Predictions: [[2.68425926]\n",
      " [3.68571429]\n",
      " [2.68425926]\n",
      " [3.6       ]\n",
      " [3.6       ]]\n"
     ]
    }
   ],
   "source": [
    "print(\"Predictions:\", lin_reg.predict(some_data))"
   ]
  },
  {
   "cell_type": "code",
   "execution_count": 396,
   "metadata": {},
   "outputs": [
    {
     "name": "stdout",
     "output_type": "stream",
     "text": [
      "Labels: [[2.3]\n",
      " [3. ]\n",
      " [2. ]\n",
      " [2.6]\n",
      " [4. ]]\n"
     ]
    }
   ],
   "source": [
    "print(\"Labels:\", some_labels)"
   ]
  },
  {
   "cell_type": "code",
   "execution_count": 397,
   "metadata": {},
   "outputs": [],
   "source": [
    "def display_scores(scores):\n",
    "    print(\"Scores:\", scores)\n",
    "    print(\"Mean scores:\", scores.mean())\n",
    "    print(\"Standard Deviation of scores:\", scores.std())"
   ]
  },
  {
   "cell_type": "markdown",
   "metadata": {},
   "source": [
    "# Plotting the graph of the model"
   ]
  },
  {
   "cell_type": "code",
   "execution_count": null,
   "metadata": {},
   "outputs": [],
   "source": [
    "np.unique(strat_train_set_test.Month)"
   ]
  },
  {
   "cell_type": "code",
   "execution_count": null,
   "metadata": {},
   "outputs": [],
   "source": [
    "np.unique(strat_train_set_test[\"Food Category\"])"
   ]
  },
  {
   "cell_type": "code",
   "execution_count": null,
   "metadata": {},
   "outputs": [],
   "source": [
    "# plt.scatter(kind=\"scatter\",x=Monthly_Periods, y=McDonald_Exp_predictions)\n",
    "# plt.show()"
   ]
  },
  {
   "cell_type": "code",
   "execution_count": null,
   "metadata": {},
   "outputs": [],
   "source": [
    "# Linear Regression Coefficients\n",
    "lin_reg.coef_.T.shape"
   ]
  },
  {
   "cell_type": "code",
   "execution_count": null,
   "metadata": {},
   "outputs": [],
   "source": [
    "Monthly_Periods[1]"
   ]
  },
  {
   "cell_type": "code",
   "execution_count": null,
   "metadata": {},
   "outputs": [],
   "source": [
    "Monthly_Periods.shape"
   ]
  },
  {
   "cell_type": "code",
   "execution_count": null,
   "metadata": {},
   "outputs": [],
   "source": [
    "# X-axis, \n",
    "Monthly_McDonald_exp[:5]"
   ]
  },
  {
   "cell_type": "code",
   "execution_count": null,
   "metadata": {},
   "outputs": [],
   "source": [
    "len(McDonald_exp_cat_1hot.toarray())"
   ]
  },
  {
   "cell_type": "code",
   "execution_count": null,
   "metadata": {},
   "outputs": [],
   "source": [
    "McDonald_exp_cat_1hot.shape"
   ]
  },
  {
   "cell_type": "code",
   "execution_count": null,
   "metadata": {},
   "outputs": [],
   "source": [
    "# y-axis, Predicted Values\n",
    "lin_pred = lin_reg.predict(McDonald_exp_cat_1hot)\n",
    "lin_pred.shape"
   ]
  },
  {
   "cell_type": "markdown",
   "metadata": {},
   "source": [
    "Drawing the plots for the coefficients"
   ]
  },
  {
   "cell_type": "code",
   "execution_count": 310,
   "metadata": {},
   "outputs": [
    {
     "data": {
      "text/plain": [
       "['Jan',\n",
       " 'Feb',\n",
       " 'Mar',\n",
       " 'Apr',\n",
       " 'May',\n",
       " 'Jun',\n",
       " 'Jul',\n",
       " 'Aug',\n",
       " 'Sep',\n",
       " 'Oct',\n",
       " 'Nov',\n",
       " 'Dec']"
      ]
     },
     "execution_count": 310,
     "metadata": {},
     "output_type": "execute_result"
    }
   ],
   "source": [
    "months"
   ]
  },
  {
   "cell_type": "code",
   "execution_count": null,
   "metadata": {},
   "outputs": [],
   "source": [
    "np.unique(foodcat_list)"
   ]
  },
  {
   "cell_type": "markdown",
   "metadata": {},
   "source": [
    "[array(['Beef', 'Chicken', 'Desserts', 'Fish', 'Sausage']"
   ]
  },
  {
   "cell_type": "code",
   "execution_count": null,
   "metadata": {},
   "outputs": [],
   "source": [
    "lin_reg.coef_.T.shape"
   ]
  },
  {
   "cell_type": "code",
   "execution_count": null,
   "metadata": {},
   "outputs": [],
   "source": [
    "np.arange(len(lin_reg.coef_.T)).reshape(-1,1).shape"
   ]
  },
  {
   "cell_type": "code",
   "execution_count": 467,
   "metadata": {},
   "outputs": [
    {
     "data": {
      "image/png": "[encoded data removed]",
      "text/plain": [
       "<Figure size 864x432 with 1 Axes>"
      ]
     },
     "metadata": {
      "needs_background": "light"
     },
     "output_type": "display_data"
    }
   ],
   "source": [
    "# Scatter plots for the coefficients\n",
    "plt.figure(figsize=(12,6))\n",
    "plt.scatter(x=np.arange(len(lin_reg.coef_.T)).reshape(-1,1), y=lin_reg.coef_.T)\n",
    "plt.plot(lin_reg.coef_.T)\n",
    "\n",
    "plt.xticks(np.arange(0,7),[\"2014\",\"2015\",\"2016\",\"2017\",\"2018\",\"2019\",\"2020\"], rotation=90)\n",
    "plt.title(\"Plotting the coefficient of the Linear Regression Model\", fontsize=14)\n",
    "plt.show()"
   ]
  },
  {
   "cell_type": "code",
   "execution_count": null,
   "metadata": {},
   "outputs": [],
   "source": [
    "lin_reg.coef_.T"
   ]
  },
  {
   "cell_type": "markdown",
   "metadata": {},
   "source": [
    "Drawing the plots for the prediction values"
   ]
  },
  {
   "cell_type": "code",
   "execution_count": 447,
   "metadata": {},
   "outputs": [
    {
     "data": {
      "image/png": "[encoded data removed]",
      "text/plain": [
       "<Figure size 1152x432 with 1 Axes>"
      ]
     },
     "metadata": {
      "needs_background": "light"
     },
     "output_type": "display_data"
    }
   ],
   "source": [
    "plt.figure(figsize=(16,6))\n",
    "plt.plot(np.arange(len(lin_pred)), lin_pred, color=\"r\", linewidth=1)\n",
    "plt.xlabel(\"Instances\")\n",
    "plt.ylabel(\"Amount\")\n",
    "plt.show()"
   ]
  },
  {
   "cell_type": "code",
   "execution_count": 446,
   "metadata": {},
   "outputs": [
    {
     "data": {
      "image/png": "[encoded data removed]",
      "text/plain": [
       "<Figure size 576x432 with 1 Axes>"
      ]
     },
     "metadata": {
      "needs_background": "light"
     },
     "output_type": "display_data"
    }
   ],
   "source": [
    "plt.figure(figsize=(8,6))\n",
    "plt.scatter(x=np.arange(len(lin_pred)), y=lin_pred, color=\"r\")\n",
    "plt.xlabel(\"Instances\")\n",
    "plt.ylabel(\"Amount\")\n",
    "plt.show()"
   ]
  },
  {
   "cell_type": "code",
   "execution_count": null,
   "metadata": {},
   "outputs": [],
   "source": []
  },
  {
   "cell_type": "code",
   "execution_count": null,
   "metadata": {},
   "outputs": [],
   "source": [
    "np.arange(1,len(lin_reg.coef_.T)+1)"
   ]
  },
  {
   "cell_type": "code",
   "execution_count": null,
   "metadata": {},
   "outputs": [],
   "source": [
    "a = zip(month_list,foodcat_list)\n",
    "list(a)[:6]"
   ]
  },
  {
   "cell_type": "code",
   "execution_count": 494,
   "metadata": {},
   "outputs": [
    {
     "data": {
      "image/png": "[encoded data removed]",
      "text/plain": [
       "<Figure size 432x288 with 1 Axes>"
      ]
     },
     "metadata": {
      "needs_background": "light"
     },
     "output_type": "display_data"
    }
   ],
   "source": [
    "Years = strat_train_set[\"Year\"]\n",
    "Year_2019 = pd.DataFrame(strat_train_set[[\"Amount\",\"Year\"]]).query(\"@Years == 2019\")\n",
    "plt.scatter(x=Year_2019[\"Year\"], y=Year_2019[\"Amount\"])\n",
    "plt.show()"
   ]
  },
  {
   "cell_type": "code",
   "execution_count": 464,
   "metadata": {},
   "outputs": [
    {
     "data": {
      "text/plain": [
       "178"
      ]
     },
     "execution_count": 464,
     "metadata": {},
     "output_type": "execute_result"
    }
   ],
   "source": [
    "len(strat_train_set[\"Amount\"])"
   ]
  },
  {
   "cell_type": "code",
   "execution_count": 466,
   "metadata": {
    "scrolled": false
   },
   "outputs": [
    {
     "data": {
      "image/png": "[encoded data removed]",
      "text/plain": [
       "<Figure size 1080x432 with 1 Axes>"
      ]
     },
     "metadata": {
      "needs_background": "light"
     },
     "output_type": "display_data"
    }
   ],
   "source": [
    "# Plotting the scatter plot for Monthly_McDonald_exp\n",
    "plt.figure(figsize=(15,6))\n",
    "plt.scatter(x=strat_train_set[\"Year\"], y=strat_train_set[\"Amount\"], color=\"r\")\n",
    "# plt.plot(Monthly_McDonald_exp.values, color=\"red\")\n",
    "# plt.xticks(np.arange(len(Year.index)), Monthly_Periods.values, fontsize=14, rotation=90)\n",
    "\n",
    "plt.xlabel(\"Month followed by Food Category\", fontsize=19)\n",
    "plt.ylabel(\"Amount ($)\", fontsize=19)\n",
    "plt.show()"
   ]
  },
  {
   "cell_type": "code",
   "execution_count": null,
   "metadata": {},
   "outputs": [],
   "source": []
  },
  {
   "cell_type": "code",
   "execution_count": null,
   "metadata": {},
   "outputs": [],
   "source": [
    "# strat_train_set_test[\"Month\"].values.reshape(-1,1)"
   ]
  },
  {
   "cell_type": "code",
   "execution_count": null,
   "metadata": {},
   "outputs": [],
   "source": []
  },
  {
   "cell_type": "code",
   "execution_count": null,
   "metadata": {},
   "outputs": [],
   "source": []
  },
  {
   "cell_type": "markdown",
   "metadata": {},
   "source": [
    "## Evaluating with RMSE"
   ]
  },
  {
   "cell_type": "markdown",
   "metadata": {},
   "source": [
    "Evaluating the training set"
   ]
  },
  {
   "cell_type": "code",
   "execution_count": 398,
   "metadata": {},
   "outputs": [],
   "source": [
    "from sklearn.metrics import mean_squared_error\n",
    "McDonald_Exp_predictions = lin_reg.predict(McDonald_exp_cat_1hot)"
   ]
  },
  {
   "cell_type": "code",
   "execution_count": 399,
   "metadata": {},
   "outputs": [
    {
     "data": {
      "text/plain": [
       "1.6300240695074697"
      ]
     },
     "execution_count": 399,
     "metadata": {},
     "output_type": "execute_result"
    }
   ],
   "source": [
    "lin_mse =mean_squared_error(McDonald_Exp_Labels_Transform_minmax, McDonald_Exp_predictions)\n",
    "lin_rmse = np.sqrt(lin_mse)\n",
    "lin_rmse"
   ]
  },
  {
   "cell_type": "markdown",
   "metadata": {},
   "source": [
    "## Alternative"
   ]
  },
  {
   "cell_type": "code",
   "execution_count": null,
   "metadata": {},
   "outputs": [],
   "source": [
    "# lin_rmse_1 = mean_squared_error(McDonald_Exp_Labels, McDonald_Exp_predictions, squared=False)\n",
    "# lin_rmse_1"
   ]
  },
  {
   "cell_type": "markdown",
   "metadata": {},
   "source": [
    "## Evaluating linear regression RMSE scores using Cross-Validation"
   ]
  },
  {
   "cell_type": "code",
   "execution_count": 400,
   "metadata": {},
   "outputs": [],
   "source": [
    "from sklearn.model_selection import cross_val_score\n",
    "lin_scores = cross_val_score(lin_reg, X =McDonald_exp_cat_1hot, y =McDonald_Exp_Labels_Transform_minmax,\n",
    "                            scoring=\"neg_mean_squared_error\", cv=10)"
   ]
  },
  {
   "cell_type": "code",
   "execution_count": 401,
   "metadata": {},
   "outputs": [],
   "source": [
    "lin_rmse_scores = np.sqrt(-lin_scores)"
   ]
  },
  {
   "cell_type": "code",
   "execution_count": 402,
   "metadata": {},
   "outputs": [
    {
     "name": "stdout",
     "output_type": "stream",
     "text": [
      "Scores: [1.37538371 2.15961029 1.84100356 1.8904205  1.42860402 1.56724097\n",
      " 1.36479126 1.48299561 1.96431193 1.78706258]\n",
      "Mean scores: 1.686142442233986\n",
      "Standard Deviation of scores: 0.2643891531455028\n"
     ]
    }
   ],
   "source": [
    "display_scores(lin_rmse_scores)"
   ]
  },
  {
   "cell_type": "markdown",
   "metadata": {},
   "source": [
    "\n",
    "# Calculating R^2 scores"
   ]
  },
  {
   "cell_type": "code",
   "execution_count": 443,
   "metadata": {},
   "outputs": [
    {
     "data": {
      "text/plain": [
       "0.22524596928392626"
      ]
     },
     "execution_count": 443,
     "metadata": {},
     "output_type": "execute_result"
    }
   ],
   "source": [
    "from sklearn.metrics import r2_score\n",
    "lin = LinearRegression()\n",
    "lin_reg_2 = lin.fit(McDonald_exp_cat_1hot,McDonald_Exp_Labels_Transform_minmax)\n",
    "lin_pred = lin_reg_2.predict(McDonald_exp_cat_1hot)\n",
    "R_2_lin = r2_score(McDonald_Exp_Labels_Transform_minmax, lin_pred)\n",
    "R_2_lin"
   ]
  },
  {
   "cell_type": "code",
   "execution_count": null,
   "metadata": {},
   "outputs": [],
   "source": [
    "McDonald_exp_cat_1hot.toarray().shape"
   ]
  },
  {
   "cell_type": "code",
   "execution_count": null,
   "metadata": {},
   "outputs": [],
   "source": [
    "McDonald_Exp_predictions.shape"
   ]
  },
  {
   "cell_type": "code",
   "execution_count": 445,
   "metadata": {},
   "outputs": [
    {
     "name": "stdout",
     "output_type": "stream",
     "text": [
      "Scores: [ 0.21750898  0.28409682 -0.87196009  0.33812847  0.20941178  0.2060978\n",
      "  0.33211243  0.26579325  0.01007874 -0.25377831]\n",
      "Mean: 0.07374898684276424\n",
      "Standard Deviation: 0.3577787884830631\n"
     ]
    }
   ],
   "source": [
    "# Evaluate with cross validating using r2_score\n",
    "lin_reg_1 = LinearRegression()\n",
    "# lin_r2_score = cross_val_score(lin_reg_1, np.array(McDonald_Exp_Labels_Transform_minmax).reshape(-1, 1), McDonald_Exp_predictions.reshape(-1, 1), \n",
    "#                               scoring=\"r2\", cv=10)\n",
    "lin_r2_score = cross_val_score(lin_reg_1, McDonald_Exp_Labels_Transform_minmax, McDonald_Exp_predictions, \n",
    "                              scoring=\"r2\", cv=10)\n",
    "display_scores(lin_r2_score)"
   ]
  },
  {
   "cell_type": "markdown",
   "metadata": {},
   "source": [
    "## Evaluating Adjusted R^2 scores (Extra)"
   ]
  },
  {
   "attachments": {
    "image.png": {
     "image/png": "[encoded data removed]"
    }
   },
   "cell_type": "markdown",
   "metadata": {},
   "source": [
    "![image.png](attachment:image.png)"
   ]
  },
  {
   "cell_type": "markdown",
   "metadata": {},
   "source": [
    "where n is number of observations in sample and p is number of independent variables in model"
   ]
  },
  {
   "cell_type": "code",
   "execution_count": null,
   "metadata": {},
   "outputs": [],
   "source": [
    "n = len(McDonald_Exp_new)\n",
    "p = len(McDonald_Exp_new.columns) -1\n",
    "\n",
    "print(\"p:\", p)\n",
    "print(\"n:\", n)"
   ]
  },
  {
   "cell_type": "code",
   "execution_count": null,
   "metadata": {},
   "outputs": [],
   "source": [
    "def Adjusted_R_2(r2_score,n,p):\n",
    "    x = 1 - (1-r2_score) * (n-1) / (n-p-1)\n",
    "    return x"
   ]
  },
  {
   "cell_type": "code",
   "execution_count": null,
   "metadata": {},
   "outputs": [],
   "source": [
    "lin_Adjusted_R_2 = Adjusted_R_2(lin_r2_score,n,p)"
   ]
  },
  {
   "cell_type": "code",
   "execution_count": null,
   "metadata": {},
   "outputs": [],
   "source": [
    "display_scores(lin_Adjusted_R_2)"
   ]
  },
  {
   "cell_type": "markdown",
   "metadata": {},
   "source": [
    "## Plotting the learning curve in Linear Regression"
   ]
  },
  {
   "cell_type": "code",
   "execution_count": 404,
   "metadata": {},
   "outputs": [],
   "source": [
    "# Plotting the errors for each training and validation instances\n",
    "from sklearn.model_selection import train_test_split\n",
    "\n",
    "def plot_learning_curve(model, X, y):\n",
    "    X = X.toarray()\n",
    "#     sss_1 = StratifiedShuffleSplit(n_splits=1, test_size=0.2, random_state=42)\n",
    "#     for train_index, val_index in sss_1.split(X, y):\n",
    "#         X_train, X_val = X[train_index], X[val_index]\n",
    "#         y_train, y_val = y.iloc[train_index], y.iloc[val_index]\n",
    "    X_train, X_val, y_train, y_val = train_test_split(X, y, random_state=42)\n",
    "    train_errors, val_errors = [], []\n",
    "    for m in (1, len(X_train)): # Getting the total length of the training set\n",
    "        model.fit(X_train[:m], y_train[:m]) # Fit the model using the training set\n",
    "        y_train_predict = model.predict(X_train[:m]) # Making predictions using the training set\n",
    "        y_val_predict = model.predict(X_val)\n",
    "        train_errors.append(mean_squared_error(y_train[:m], y_train_predict))\n",
    "        val_errors.append(mean_squared_error(y_val, y_val_predict))\n",
    "    \n",
    "    plt.plot(np.sqrt(train_errors), \"r-+\", linewidth=2, label=\"train\")\n",
    "    plt.plot(np.sqrt(val_errors), \"b-\", linewidth=2, label=\"val\")\n",
    "#     plt.plot(train_errors, \"r-+\", linewidth=2, label=\"train\")\n",
    "#     plt.plot(val_errors, \"b-\", linewidth=2, label=\"val\")\n",
    "    plt.legend(loc=\"upper right\", fontsize=14)\n",
    "    plt.xlabel(\"Training set size\", fontsize=14)\n",
    "    plt.ylabel(\"RMSE\", fontsize=14)\n"
   ]
  },
  {
   "cell_type": "code",
   "execution_count": 405,
   "metadata": {},
   "outputs": [
    {
     "data": {
      "image/png": "[encoded data removed]",
      "text/plain": [
       "<Figure size 432x288 with 1 Axes>"
      ]
     },
     "metadata": {
      "needs_background": "light"
     },
     "output_type": "display_data"
    }
   ],
   "source": [
    "lin_reg_eg = LinearRegression()\n",
    "plot_learning_curve(lin_reg_eg, McDonald_exp_cat_1hot, McDonald_Exp_Labels_Transform_minmax)\n",
    "plt.grid(True)"
   ]
  },
  {
   "cell_type": "markdown",
   "metadata": {},
   "source": [
    "For the validation set, as the model is constantly seeing the **entire validation set** instead of each instances for every loop, the error rate continues to decrease over time as the model is learning"
   ]
  },
  {
   "cell_type": "markdown",
   "metadata": {},
   "source": [
    "For the training set, in the beginning there's only one training instance, so the model fits perfectly. As the instances are being added, the error rate increases."
   ]
  },
  {
   "cell_type": "markdown",
   "metadata": {},
   "source": [
    "## Plotting the Graph"
   ]
  },
  {
   "cell_type": "code",
   "execution_count": null,
   "metadata": {},
   "outputs": [],
   "source": [
    "# plt.boxplot(McDonald_Exp_new[\"Amount\"])\n",
    "# plt.xlabel(\"Amount\")\n",
    "# plt.ylabel(\"Amount\")\n",
    "# plt.show()"
   ]
  },
  {
   "cell_type": "markdown",
   "metadata": {},
   "source": [
    "Testing out stratifieid shuffle split\n",
    "\n",
    "Split between `predictor` X = McDonald_Exp_new and `label` y = McDOnald_Exp_Labels"
   ]
  },
  {
   "cell_type": "code",
   "execution_count": null,
   "metadata": {},
   "outputs": [],
   "source": [
    "# sss_1 = StratifiedShuffleSplit(n_splits=1, test_size=0.2, random_state=42)\n",
    "# for train_index, val_index in sss_1.split(McDonald_Exp_new, McDonald_Exp_Labels):\n",
    "#     X_train, X_val = McDonald_Exp_new.iloc[train_index], McDonald_Exp_new.iloc[val_index]\n",
    "#     y_train, y_val = McDonald_Exp_Labels.iloc[train_index], McDonald_Exp_Labels.iloc[val_index]"
   ]
  },
  {
   "cell_type": "code",
   "execution_count": null,
   "metadata": {},
   "outputs": [],
   "source": [
    "# print(\"X_train\",len(X_train))\n",
    "# print(\"X_test\", len(X_val))\n",
    "# print(\"y_train\", len(y_train))\n",
    "# print(\"y_test\", len(y_val))"
   ]
  },
  {
   "cell_type": "code",
   "execution_count": null,
   "metadata": {},
   "outputs": [],
   "source": [
    "# X_train.iloc[:3]"
   ]
  },
  {
   "cell_type": "code",
   "execution_count": null,
   "metadata": {},
   "outputs": [],
   "source": [
    "# y_train.iloc[:3]"
   ]
  },
  {
   "cell_type": "code",
   "execution_count": null,
   "metadata": {},
   "outputs": [],
   "source": []
  },
  {
   "cell_type": "markdown",
   "metadata": {},
   "source": [
    "## Using Decision Trees"
   ]
  },
  {
   "cell_type": "code",
   "execution_count": 406,
   "metadata": {},
   "outputs": [
    {
     "data": {
      "text/plain": [
       "DecisionTreeRegressor()"
      ]
     },
     "execution_count": 406,
     "metadata": {},
     "output_type": "execute_result"
    }
   ],
   "source": [
    "from sklearn.tree import DecisionTreeRegressor\n",
    "\n",
    "tree_reg = DecisionTreeRegressor()\n",
    "tree_reg.fit(McDonald_exp_cat_1hot, McDonald_Exp_Labels_Transform_minmax)"
   ]
  },
  {
   "cell_type": "markdown",
   "metadata": {},
   "source": [
    "## Evaluating with RMSE"
   ]
  },
  {
   "cell_type": "code",
   "execution_count": 407,
   "metadata": {},
   "outputs": [
    {
     "data": {
      "text/plain": [
       "<5x7 sparse matrix of type '<class 'numpy.float64'>'\n",
       "\twith 5 stored elements in Compressed Sparse Row format>"
      ]
     },
     "execution_count": 407,
     "metadata": {},
     "output_type": "execute_result"
    }
   ],
   "source": [
    "tree_some_data = McDonald_exp_cat_1hot[:5]\n",
    "tree_some_data"
   ]
  },
  {
   "cell_type": "code",
   "execution_count": 408,
   "metadata": {},
   "outputs": [
    {
     "data": {
      "text/plain": [
       "array([[2.3],\n",
       "       [3. ],\n",
       "       [2. ],\n",
       "       [2.6],\n",
       "       [4. ]])"
      ]
     },
     "execution_count": 408,
     "metadata": {},
     "output_type": "execute_result"
    }
   ],
   "source": [
    "tree_some_labels = McDonald_Exp_Labels_Transform_minmax[:5]\n",
    "tree_some_labels"
   ]
  },
  {
   "cell_type": "code",
   "execution_count": 409,
   "metadata": {},
   "outputs": [
    {
     "data": {
      "text/plain": [
       "0.6702342864761783"
      ]
     },
     "execution_count": 409,
     "metadata": {},
     "output_type": "execute_result"
    }
   ],
   "source": [
    "McDonald_Exp_predictions_tree = tree_reg.predict(tree_some_data)\n",
    "tree_mse = mean_squared_error(tree_some_labels, McDonald_Exp_predictions_tree)\n",
    "tree_rmse = np.sqrt(tree_mse)\n",
    "tree_rmse"
   ]
  },
  {
   "cell_type": "markdown",
   "metadata": {},
   "source": [
    "## Evaluating decision trees using Cross-Validation"
   ]
  },
  {
   "cell_type": "code",
   "execution_count": 257,
   "metadata": {},
   "outputs": [
    {
     "data": {
      "text/plain": [
       "(178, 12)"
      ]
     },
     "execution_count": 257,
     "metadata": {},
     "output_type": "execute_result"
    }
   ],
   "source": [
    "McDonald_exp_cat_1hot.toarray().shape"
   ]
  },
  {
   "cell_type": "code",
   "execution_count": 258,
   "metadata": {},
   "outputs": [
    {
     "data": {
      "text/plain": [
       "(178, 1)"
      ]
     },
     "execution_count": 258,
     "metadata": {},
     "output_type": "execute_result"
    }
   ],
   "source": [
    "McDonald_Exp_Labels_Transform.shape"
   ]
  },
  {
   "cell_type": "code",
   "execution_count": 410,
   "metadata": {},
   "outputs": [],
   "source": [
    "from sklearn.model_selection import cross_val_score\n",
    "scores = cross_val_score(tree_reg, McDonald_exp_cat_1hot, McDonald_Exp_Labels_Transform_minmax,\n",
    "                        scoring=\"neg_mean_squared_error\", cv=10)"
   ]
  },
  {
   "cell_type": "code",
   "execution_count": 411,
   "metadata": {},
   "outputs": [],
   "source": [
    "tree_rmse_scores = np.sqrt(-scores)"
   ]
  },
  {
   "cell_type": "code",
   "execution_count": 412,
   "metadata": {},
   "outputs": [],
   "source": [
    "def display_scores(scores):\n",
    "    print(\"Scores:\", scores)\n",
    "    print(\"Mean:\", scores.mean())\n",
    "    print(\"Standard Deviation:\", scores.std())"
   ]
  },
  {
   "cell_type": "code",
   "execution_count": 413,
   "metadata": {},
   "outputs": [
    {
     "name": "stdout",
     "output_type": "stream",
     "text": [
      "Scores: [1.37538371 2.15961029 1.84100356 1.8904205  1.42860402 1.56724097\n",
      " 1.36479126 1.48299561 1.96431193 1.78706258]\n",
      "Mean: 1.6861424422339855\n",
      "Standard Deviation: 0.26438915314550276\n"
     ]
    }
   ],
   "source": [
    "display_scores(tree_rmse_scores)"
   ]
  },
  {
   "cell_type": "markdown",
   "metadata": {},
   "source": [
    "The average root mean squared error of the **Cross Validation Sets** for *Linear regression* is **0.9479** is lower compared to the root mean squared error for *Decision tree* score of **1.0511**.\n",
    "\n",
    "The *Decision tree* model is overfitting  badly as initally the first value was **0.269**, but upon testing with Cross-Validation sets, the value is **1.01**."
   ]
  },
  {
   "cell_type": "markdown",
   "metadata": {},
   "source": [
    "## Plotting the curve using Decision Tree"
   ]
  },
  {
   "cell_type": "code",
   "execution_count": 414,
   "metadata": {},
   "outputs": [
    {
     "data": {
      "image/png": "[encoded data removed]",
      "text/plain": [
       "<Figure size 432x288 with 1 Axes>"
      ]
     },
     "metadata": {
      "needs_background": "light"
     },
     "output_type": "display_data"
    }
   ],
   "source": [
    "from sklearn.tree import DecisionTreeRegressor\n",
    "\n",
    "tree_reg_eg = DecisionTreeRegressor()\n",
    "plot_learning_curve(tree_reg_eg, McDonald_exp_cat_1hot, McDonald_Exp_Labels_Transform_minmax)\n",
    "plt.grid(True)"
   ]
  },
  {
   "cell_type": "markdown",
   "metadata": {},
   "source": [
    "## Using Random Forest"
   ]
  },
  {
   "cell_type": "code",
   "execution_count": 415,
   "metadata": {},
   "outputs": [
    {
     "data": {
      "text/plain": [
       "RandomForestRegressor()"
      ]
     },
     "execution_count": 415,
     "metadata": {},
     "output_type": "execute_result"
    }
   ],
   "source": [
    "from sklearn.ensemble import RandomForestRegressor\n",
    "forest_reg = RandomForestRegressor()\n",
    "forest_reg.fit(McDonald_exp_cat_1hot, McDonald_Exp_Labels_Transform_minmax.ravel())"
   ]
  },
  {
   "cell_type": "code",
   "execution_count": 420,
   "metadata": {},
   "outputs": [
    {
     "data": {
      "text/plain": [
       "(178,)"
      ]
     },
     "execution_count": 420,
     "metadata": {},
     "output_type": "execute_result"
    }
   ],
   "source": [
    "McDonald_Exp_Labels_Transform_minmax.ravel().shape"
   ]
  },
  {
   "cell_type": "markdown",
   "metadata": {},
   "source": [
    "## Evaluating with RMSE"
   ]
  },
  {
   "cell_type": "code",
   "execution_count": 421,
   "metadata": {},
   "outputs": [
    {
     "data": {
      "text/plain": [
       "1.6304361497034898"
      ]
     },
     "execution_count": 421,
     "metadata": {},
     "output_type": "execute_result"
    }
   ],
   "source": [
    "McDonald_Exp_predictions_forest = forest_reg.predict(McDonald_exp_cat_1hot)\n",
    "forest_mse = mean_squared_error(McDonald_Exp_Labels_Transform_minmax, McDonald_Exp_predictions_forest)\n",
    "forest_rmse = np.sqrt(forest_mse)\n",
    "forest_rmse"
   ]
  },
  {
   "cell_type": "code",
   "execution_count": null,
   "metadata": {},
   "outputs": [],
   "source": []
  },
  {
   "cell_type": "markdown",
   "metadata": {},
   "source": [
    "## Evaluating Random Forest with cross validation sets "
   ]
  },
  {
   "cell_type": "code",
   "execution_count": 422,
   "metadata": {},
   "outputs": [],
   "source": [
    "from sklearn.model_selection import cross_val_score\n",
    "\n",
    "random_forest_scores = cross_val_score(forest_reg, McDonald_exp_cat_1hot, McDonald_Exp_Labels_Transform_minmax.ravel(),\n",
    "                                      scoring=\"neg_mean_squared_error\", cv=10)"
   ]
  },
  {
   "cell_type": "code",
   "execution_count": 423,
   "metadata": {},
   "outputs": [],
   "source": [
    "random_forest_rmse_scores = np.sqrt(-random_forest_scores)"
   ]
  },
  {
   "cell_type": "code",
   "execution_count": 424,
   "metadata": {},
   "outputs": [
    {
     "name": "stdout",
     "output_type": "stream",
     "text": [
      "Scores: [1.37524882 2.16291792 1.84429093 1.89040551 1.38477002 1.56687652\n",
      " 1.48096102 1.47898237 1.96681822 1.79972909]\n",
      "Mean: 1.695100041095691\n",
      "Standard Deviation: 0.25916151142536425\n"
     ]
    }
   ],
   "source": [
    "display_scores(random_forest_rmse_scores)"
   ]
  },
  {
   "cell_type": "code",
   "execution_count": null,
   "metadata": {},
   "outputs": [],
   "source": []
  },
  {
   "cell_type": "markdown",
   "metadata": {},
   "source": [
    "## Plotting the curve using Random Forest"
   ]
  },
  {
   "cell_type": "code",
   "execution_count": 379,
   "metadata": {},
   "outputs": [
    {
     "data": {
      "image/png": "[encoded data removed]",
      "text/plain": [
       "<Figure size 432x288 with 1 Axes>"
      ]
     },
     "metadata": {
      "needs_background": "light"
     },
     "output_type": "display_data"
    }
   ],
   "source": [
    "forest_reg_1 = RandomForestRegressor()\n",
    "plot_learning_curve(forest_reg_1, McDonald_exp_cat_1hot, McDonald_Exp_Labels_Transform_minmax.ravel())\n",
    "plt.grid(True)"
   ]
  },
  {
   "cell_type": "code",
   "execution_count": null,
   "metadata": {},
   "outputs": [],
   "source": []
  },
  {
   "cell_type": "markdown",
   "metadata": {},
   "source": [
    "## Complete RMSE scores for the models"
   ]
  },
  {
   "cell_type": "code",
   "execution_count": 425,
   "metadata": {},
   "outputs": [
    {
     "name": "stdout",
     "output_type": "stream",
     "text": [
      "RMSE scores for Linear Regression: 1.63\n",
      "RMSE scores for Decision Trees: 0.6702\n",
      "RMSE scores for Random Forest: 1.6304\n"
     ]
    }
   ],
   "source": [
    "print(\"RMSE scores for Linear Regression:\", np.around(lin_rmse,4))\n",
    "print(\"RMSE scores for Decision Trees:\", np.around(tree_rmse,4))\n",
    "print(\"RMSE scores for Random Forest:\", np.around(forest_rmse,4))"
   ]
  },
  {
   "cell_type": "markdown",
   "metadata": {},
   "source": [
    "## Complete Cross validation RMSE scores for the models"
   ]
  },
  {
   "cell_type": "code",
   "execution_count": 307,
   "metadata": {},
   "outputs": [],
   "source": [
    "a = \"Mean Cross validation RMSE scores for \""
   ]
  },
  {
   "cell_type": "code",
   "execution_count": 426,
   "metadata": {},
   "outputs": [
    {
     "name": "stdout",
     "output_type": "stream",
     "text": [
      "Mean Cross validation RMSE scores for Linear Regression 1.6861\n",
      "Mean Cross validation RMSE scores for Decision Trees: 1.6861\n",
      "Mean Cross validation RMSE scores for Random Forest: 1.6951\n"
     ]
    }
   ],
   "source": [
    "print(a+\"Linear Regression\", np.around(lin_rmse_scores.mean(),4))\n",
    "print(a+\"Decision Trees:\", np.around(tree_rmse_scores.mean(),4))\n",
    "print(a+\"Random Forest:\", np.around(random_forest_rmse_scores.mean(),4))"
   ]
  },
  {
   "cell_type": "code",
   "execution_count": null,
   "metadata": {},
   "outputs": [],
   "source": []
  },
  {
   "cell_type": "markdown",
   "metadata": {},
   "source": [
    "## Calculating the difference in % between RMSE scores and Cross Validation RMSE scores"
   ]
  },
  {
   "cell_type": "code",
   "execution_count": 427,
   "metadata": {},
   "outputs": [
    {
     "data": {
      "text/plain": [
       "3.442794114290166"
      ]
     },
     "execution_count": 427,
     "metadata": {},
     "output_type": "execute_result"
    }
   ],
   "source": [
    "(lin_rmse_scores.mean() - lin_rmse) / lin_rmse * 100"
   ]
  },
  {
   "cell_type": "code",
   "execution_count": 428,
   "metadata": {},
   "outputs": [
    {
     "data": {
      "text/plain": [
       "151.57507997674108"
      ]
     },
     "execution_count": 428,
     "metadata": {},
     "output_type": "execute_result"
    }
   ],
   "source": [
    "(tree_rmse_scores.mean() - tree_rmse) / tree_rmse * 100"
   ]
  },
  {
   "cell_type": "code",
   "execution_count": 429,
   "metadata": {},
   "outputs": [
    {
     "data": {
      "text/plain": [
       "3.9660486799167707"
      ]
     },
     "execution_count": 429,
     "metadata": {},
     "output_type": "execute_result"
    }
   ],
   "source": [
    "(random_forest_rmse_scores.mean() - forest_rmse) / forest_rmse * 100"
   ]
  },
  {
   "cell_type": "code",
   "execution_count": null,
   "metadata": {},
   "outputs": [],
   "source": []
  },
  {
   "cell_type": "markdown",
   "metadata": {},
   "source": [
    "|Model Type|RMSE Scores| Cross_val RMSE Scores|Difference in %|Cross_val R^2 scores|Cross_val Adjusted R^2 scores|\n",
    "|------------------|-------|--------------------------------------|----------------------|-------------|------------------------|\n",
    "|Linear Regression|1.518|1.9504|28.48| 0.16|0.14|\n",
    "|Decision Trees|0.0|0.5506|55|NA|NA|\n",
    "|Random Forest|1.8825|101.16|101.16|NA|NA|"
   ]
  },
  {
   "cell_type": "markdown",
   "metadata": {},
   "source": [
    "The average root mean squared error of the **Cross Validation Sets** for *Linear regression* is **0.9479** is higher compared to the root mean squared error for *Linear regression* score of **0.6919**.\n",
    "\n",
    "The *Decision tree* model is overfitting  badly as initally the first value was **0.269**, but upon testing with Cross-Validation sets, the value is **1.01**."
   ]
  },
  {
   "cell_type": "markdown",
   "metadata": {},
   "source": [
    "**7/06/2020**\n",
    "\n",
    "The models are overfitting. I'm only selecting Decision Trees as it has the lowest score among the model.\n",
    "\n",
    "Need to simplify the model with fewer attributes/parameters, or constraining the model (Regularization)\n",
    "\n",
    "Drop two features: \n",
    "\n",
    "`Quarterly Period`\n",
    "`Year`"
   ]
  },
  {
   "cell_type": "code",
   "execution_count": null,
   "metadata": {},
   "outputs": [],
   "source": []
  },
  {
   "cell_type": "code",
   "execution_count": null,
   "metadata": {},
   "outputs": [],
   "source": []
  },
  {
   "cell_type": "markdown",
   "metadata": {},
   "source": [
    "Getting the various types of scores"
   ]
  },
  {
   "cell_type": "code",
   "execution_count": null,
   "metadata": {},
   "outputs": [],
   "source": [
    "import sklearn.metrics\n",
    "sorted(sklearn.metrics.SCORERS.keys())"
   ]
  },
  {
   "cell_type": "code",
   "execution_count": null,
   "metadata": {},
   "outputs": [],
   "source": []
  },
  {
   "cell_type": "code",
   "execution_count": null,
   "metadata": {},
   "outputs": [],
   "source": []
  },
  {
   "cell_type": "code",
   "execution_count": null,
   "metadata": {},
   "outputs": [],
   "source": []
  },
  {
   "cell_type": "code",
   "execution_count": null,
   "metadata": {},
   "outputs": [],
   "source": []
  },
  {
   "cell_type": "code",
   "execution_count": null,
   "metadata": {},
   "outputs": [],
   "source": []
  },
  {
   "cell_type": "markdown",
   "metadata": {},
   "source": [
    "## Other notes"
   ]
  },
  {
   "cell_type": "code",
   "execution_count": 31,
   "metadata": {},
   "outputs": [
    {
     "name": "stdout",
     "output_type": "stream",
     "text": [
      "Total number of values: 20\n"
     ]
    }
   ],
   "source": [
    "a = [8, 12, 12, 16, 32, 39, 39, 45, 47, 50, 51, 59, 61, 74, 75, 87, 87, 87, 92, 93]\n",
    "print(\"Total number of values:\",len(a))"
   ]
  },
  {
   "cell_type": "code",
   "execution_count": 48,
   "metadata": {},
   "outputs": [],
   "source": [
    "n = len(a)\n",
    "p = 0"
   ]
  },
  {
   "cell_type": "code",
   "execution_count": 49,
   "metadata": {},
   "outputs": [
    {
     "name": "stdout",
     "output_type": "stream",
     "text": [
      "[12, 12, 16, 32, 39, 39, 45, 47, 50, 51, 59, 61, 74, 75, 87, 87, 87, 92, 93]\n",
      "Total number of values: 19\n",
      "Total sum of values: 1058\n"
     ]
    }
   ],
   "source": [
    "num_values = []\n",
    "for i in range(p+1,n-p):\n",
    "    num_values.append(a[i])\n",
    "\n",
    "print(num_values)\n",
    "print(\"Total number of values:\", len(num_values))\n",
    "print(\"Total sum of values:\",sum(num_values))"
   ]
  },
  {
   "cell_type": "code",
   "execution_count": 50,
   "metadata": {},
   "outputs": [
    {
     "data": {
      "text/plain": [
       "20"
      ]
     },
     "execution_count": 50,
     "metadata": {},
     "output_type": "execute_result"
    }
   ],
   "source": [
    "n - 2*p"
   ]
  },
  {
   "cell_type": "code",
   "execution_count": 51,
   "metadata": {},
   "outputs": [
    {
     "name": "stdout",
     "output_type": "stream",
     "text": [
      "Trimmed mean: 52.9\n"
     ]
    }
   ],
   "source": [
    "print(\"Trimmed mean:\", sum(num_values)/n-2*p)"
   ]
  },
  {
   "cell_type": "code",
   "execution_count": null,
   "metadata": {},
   "outputs": [],
   "source": []
  },
  {
   "cell_type": "code",
   "execution_count": null,
   "metadata": {},
   "outputs": [],
   "source": []
  },
  {
   "cell_type": "code",
   "execution_count": null,
   "metadata": {},
   "outputs": [],
   "source": []
  }
 ],
 "metadata": {
  "kernelspec": {
   "display_name": "Python 3",
   "language": "python",
   "name": "python3"
  },
  "language_info": {
   "codemirror_mode": {
    "name": "ipython",
    "version": 3
   },
   "file_extension": ".py",
   "mimetype": "text/x-python",
   "name": "python",
   "nbconvert_exporter": "python",
   "pygments_lexer": "ipython3",
   "version": "3.7.6"
  }
 },
 "nbformat": 4,
 "nbformat_minor": 4
}
